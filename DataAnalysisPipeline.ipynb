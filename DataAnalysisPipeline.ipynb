{
 "cells": [
  {
   "attachments": {},
   "cell_type": "markdown",
   "metadata": {},
   "source": [
    "# Data Viz 2023: Les-Derniers-Vainqueurs"
   ]
  },
  {
   "cell_type": "code",
   "execution_count": 1,
   "metadata": {
    "pycharm": {
     "name": "#%%\n"
    }
   },
   "outputs": [
    {
     "name": "stdout",
     "output_type": "stream",
     "text": [
      "Package import test successful!\n"
     ]
    }
   ],
   "source": [
    "import os\n",
    "import gzip\n",
    "import random\n",
    "import pickle\n",
    "import re\n",
    "import itertools\n",
    "import collections\n",
    "import operator\n",
    "import requests\n",
    "from urllib.parse import *\n",
    "from datetime import *\n",
    "from dateutil.parser import parse\n",
    "\n",
    "import math\n",
    "import sklearn\n",
    "import pandas as pd\n",
    "import numpy as np\n",
    "from scipy import stats\n",
    "import statsmodels.api as sm\n",
    "import statsmodels.formula.api as smf\n",
    "from statsmodels.stats import *\n",
    "\n",
    "import ast\n",
    "import gensim\n",
    "import string\n",
    "import nltk\n",
    "import codecs\n",
    "import json\n",
    "import vaderSentiment\n",
    "import spacy\n",
    "from empath import Empath\n",
    "from bs4 import BeautifulSoup\n",
    "\n",
    "import networkx as nx\n",
    "\n",
    "from IPython.display import Image\n",
    "%matplotlib inline\n",
    "import matplotlib.pyplot as plt\n",
    "import seaborn as sns\n",
    "import plotly.express as px\n",
    "\n",
    "import warnings\n",
    "warnings.simplefilter('ignore')\n",
    "warnings.filterwarnings('ignore')\n",
    "\n",
    "data_folder = \"./data/\"\n",
    "\n",
    "print(\"Package import test successful!\")"
   ]
  },
  {
   "attachments": {},
   "cell_type": "markdown",
   "metadata": {},
   "source": [
    "#### The data\n",
    "Our data are retrieved from \n",
    "- [Pokemon All Status Data (Gen1 to 9)](https://www.kaggle.com/datasets/takamasakato/pokemon-all-status-data) \n",
    "- [Complete Competitive Pokemon Dataset](https://www.kaggle.com/datasets/n2cholas/competitive-pokemon-dataset)\n",
    "- [The Complete Pokemon Dataset](https://www.kaggle.com/datasets/rounakbanik/pokemon)\n",
    "\n",
    "The data are pre-downloaded into our ```./data``` folder"
   ]
  },
  {
   "attachments": {},
   "cell_type": "markdown",
   "metadata": {},
   "source": [
    "#### Loading the data"
   ]
  },
  {
   "cell_type": "code",
   "execution_count": 2,
   "metadata": {},
   "outputs": [],
   "source": [
    "pokemon_data1_name = \"Pokedex_Ver_SV1.csv\"\n",
    "pokemon_data2_name = \"pokemon-data.csv\"\n",
    "pokemon_data3_name = \"pokemon.csv\"\n",
    "pokemon_move_data_name = \"move-data.csv\"\n",
    "\n",
    "# pokemon_data1: Gen1-9 data\n",
    "# pokemon_data2: competition\n",
    "# pokemon_data3: Gen1-7 data\n",
    "\n",
    "pokemon_data1 = pd.read_csv(data_folder + pokemon_data1_name)\n",
    "pokemon_data2 = pd.read_csv(data_folder + pokemon_data2_name, sep = \";\")\n",
    "pokemon_data3 = pd.read_csv(data_folder + pokemon_data3_name)\n",
    "pokemon_move_data = pd.read_csv(data_folder + pokemon_move_data_name)"
   ]
  },
  {
   "attachments": {},
   "cell_type": "markdown",
   "metadata": {},
   "source": [
    "#### Looking at the data\n",
    "We will now take a glimpse of the data to see what they are like."
   ]
  },
  {
   "cell_type": "code",
   "execution_count": 3,
   "metadata": {},
   "outputs": [
    {
     "data": {
      "text/plain": [
       "Index(['No', 'Original_Name', 'Name', 'Generation', 'Height', 'Weight',\n",
       "       'Type1', 'Type2', 'Ability1', 'Ability2', 'Ability_Hidden', 'Color',\n",
       "       'Gender_Male', 'Gender_Female', 'Gender_Unknown', 'Egg_Steps',\n",
       "       'Egg_Group1', 'Egg_Group2', 'Get_Rate', 'Base_Experience',\n",
       "       'Experience_Type', 'Category', 'Mega_Evolution_Flag', 'Region_Form',\n",
       "       'HP', 'Attack', 'Defense', 'SP_Attack', 'SP_Defense', 'Speed', 'Total',\n",
       "       'E_HP', 'E_Attack', 'E_Defense', 'E_SP_Attack', 'E_SP_Defense',\n",
       "       'E_Speed'],\n",
       "      dtype='object')"
      ]
     },
     "execution_count": 3,
     "metadata": {},
     "output_type": "execute_result"
    }
   ],
   "source": [
    "pokemon_data1.columns"
   ]
  },
  {
   "cell_type": "code",
   "execution_count": 4,
   "metadata": {},
   "outputs": [
    {
     "data": {
      "text/html": [
       "<div>\n",
       "<style scoped>\n",
       "    .dataframe tbody tr th:only-of-type {\n",
       "        vertical-align: middle;\n",
       "    }\n",
       "\n",
       "    .dataframe tbody tr th {\n",
       "        vertical-align: top;\n",
       "    }\n",
       "\n",
       "    .dataframe thead th {\n",
       "        text-align: right;\n",
       "    }\n",
       "</style>\n",
       "<table border=\"1\" class=\"dataframe\">\n",
       "  <thead>\n",
       "    <tr style=\"text-align: right;\">\n",
       "      <th></th>\n",
       "      <th>No</th>\n",
       "      <th>Original_Name</th>\n",
       "      <th>Name</th>\n",
       "      <th>Generation</th>\n",
       "      <th>Height</th>\n",
       "      <th>Weight</th>\n",
       "      <th>Type1</th>\n",
       "      <th>Type2</th>\n",
       "      <th>Ability1</th>\n",
       "      <th>Ability2</th>\n",
       "      <th>...</th>\n",
       "      <th>SP_Attack</th>\n",
       "      <th>SP_Defense</th>\n",
       "      <th>Speed</th>\n",
       "      <th>Total</th>\n",
       "      <th>E_HP</th>\n",
       "      <th>E_Attack</th>\n",
       "      <th>E_Defense</th>\n",
       "      <th>E_SP_Attack</th>\n",
       "      <th>E_SP_Defense</th>\n",
       "      <th>E_Speed</th>\n",
       "    </tr>\n",
       "  </thead>\n",
       "  <tbody>\n",
       "    <tr>\n",
       "      <th>0</th>\n",
       "      <td>1</td>\n",
       "      <td>Bulbasaur</td>\n",
       "      <td>Bulbasaur</td>\n",
       "      <td>1</td>\n",
       "      <td>0.7m</td>\n",
       "      <td>6.9kg</td>\n",
       "      <td>Grass</td>\n",
       "      <td>Poison</td>\n",
       "      <td>Overgrow</td>\n",
       "      <td>NaN</td>\n",
       "      <td>...</td>\n",
       "      <td>65</td>\n",
       "      <td>65</td>\n",
       "      <td>45</td>\n",
       "      <td>318</td>\n",
       "      <td>0</td>\n",
       "      <td>0</td>\n",
       "      <td>0</td>\n",
       "      <td>1</td>\n",
       "      <td>0</td>\n",
       "      <td>0</td>\n",
       "    </tr>\n",
       "    <tr>\n",
       "      <th>1</th>\n",
       "      <td>2</td>\n",
       "      <td>Ivysaur</td>\n",
       "      <td>Ivysaur</td>\n",
       "      <td>1</td>\n",
       "      <td>1.0m</td>\n",
       "      <td>13.0kg</td>\n",
       "      <td>Grass</td>\n",
       "      <td>Poison</td>\n",
       "      <td>Overgrow</td>\n",
       "      <td>NaN</td>\n",
       "      <td>...</td>\n",
       "      <td>80</td>\n",
       "      <td>80</td>\n",
       "      <td>60</td>\n",
       "      <td>405</td>\n",
       "      <td>0</td>\n",
       "      <td>0</td>\n",
       "      <td>0</td>\n",
       "      <td>1</td>\n",
       "      <td>1</td>\n",
       "      <td>0</td>\n",
       "    </tr>\n",
       "    <tr>\n",
       "      <th>2</th>\n",
       "      <td>3</td>\n",
       "      <td>Venusaur</td>\n",
       "      <td>Venusaur</td>\n",
       "      <td>1</td>\n",
       "      <td>2.0m</td>\n",
       "      <td>100.0kg</td>\n",
       "      <td>Grass</td>\n",
       "      <td>Poison</td>\n",
       "      <td>Overgrow</td>\n",
       "      <td>NaN</td>\n",
       "      <td>...</td>\n",
       "      <td>100</td>\n",
       "      <td>100</td>\n",
       "      <td>80</td>\n",
       "      <td>525</td>\n",
       "      <td>0</td>\n",
       "      <td>0</td>\n",
       "      <td>0</td>\n",
       "      <td>2</td>\n",
       "      <td>1</td>\n",
       "      <td>0</td>\n",
       "    </tr>\n",
       "    <tr>\n",
       "      <th>3</th>\n",
       "      <td>3</td>\n",
       "      <td>Venusaur</td>\n",
       "      <td>Mega Venusaur</td>\n",
       "      <td>1</td>\n",
       "      <td>2.4m</td>\n",
       "      <td>155.5kg</td>\n",
       "      <td>Grass</td>\n",
       "      <td>Poison</td>\n",
       "      <td>Thick Fat</td>\n",
       "      <td>NaN</td>\n",
       "      <td>...</td>\n",
       "      <td>122</td>\n",
       "      <td>120</td>\n",
       "      <td>80</td>\n",
       "      <td>625</td>\n",
       "      <td>0</td>\n",
       "      <td>0</td>\n",
       "      <td>0</td>\n",
       "      <td>2</td>\n",
       "      <td>1</td>\n",
       "      <td>0</td>\n",
       "    </tr>\n",
       "    <tr>\n",
       "      <th>4</th>\n",
       "      <td>4</td>\n",
       "      <td>Charmander</td>\n",
       "      <td>Charmander</td>\n",
       "      <td>1</td>\n",
       "      <td>0.6m</td>\n",
       "      <td>8.5kg</td>\n",
       "      <td>Fire</td>\n",
       "      <td>NaN</td>\n",
       "      <td>Blaze</td>\n",
       "      <td>NaN</td>\n",
       "      <td>...</td>\n",
       "      <td>60</td>\n",
       "      <td>50</td>\n",
       "      <td>65</td>\n",
       "      <td>309</td>\n",
       "      <td>0</td>\n",
       "      <td>0</td>\n",
       "      <td>0</td>\n",
       "      <td>0</td>\n",
       "      <td>0</td>\n",
       "      <td>1</td>\n",
       "    </tr>\n",
       "  </tbody>\n",
       "</table>\n",
       "<p>5 rows × 37 columns</p>\n",
       "</div>"
      ],
      "text/plain": [
       "   No Original_Name           Name  Generation Height   Weight  Type1   Type2  \\\n",
       "0   1     Bulbasaur      Bulbasaur           1   0.7m    6.9kg  Grass  Poison   \n",
       "1   2       Ivysaur        Ivysaur           1   1.0m   13.0kg  Grass  Poison   \n",
       "2   3      Venusaur       Venusaur           1   2.0m  100.0kg  Grass  Poison   \n",
       "3   3      Venusaur  Mega Venusaur           1   2.4m  155.5kg  Grass  Poison   \n",
       "4   4    Charmander     Charmander           1   0.6m    8.5kg   Fire     NaN   \n",
       "\n",
       "    Ability1 Ability2  ... SP_Attack SP_Defense  Speed  Total  E_HP  E_Attack  \\\n",
       "0   Overgrow      NaN  ...        65         65     45    318     0         0   \n",
       "1   Overgrow      NaN  ...        80         80     60    405     0         0   \n",
       "2   Overgrow      NaN  ...       100        100     80    525     0         0   \n",
       "3  Thick Fat      NaN  ...       122        120     80    625     0         0   \n",
       "4      Blaze      NaN  ...        60         50     65    309     0         0   \n",
       "\n",
       "  E_Defense E_SP_Attack  E_SP_Defense  E_Speed  \n",
       "0         0           1             0        0  \n",
       "1         0           1             1        0  \n",
       "2         0           2             1        0  \n",
       "3         0           2             1        0  \n",
       "4         0           0             0        1  \n",
       "\n",
       "[5 rows x 37 columns]"
      ]
     },
     "execution_count": 4,
     "metadata": {},
     "output_type": "execute_result"
    }
   ],
   "source": [
    "pokemon_data1.head(5)"
   ]
  },
  {
   "cell_type": "code",
   "execution_count": 5,
   "metadata": {},
   "outputs": [
    {
     "data": {
      "text/plain": [
       "Index(['Name', 'Types', 'Abilities', 'Tier', 'HP', 'Attack', 'Defense',\n",
       "       'Special Attack', 'Special Defense', 'Speed', 'Next Evolution(s)',\n",
       "       'Moves'],\n",
       "      dtype='object')"
      ]
     },
     "execution_count": 5,
     "metadata": {},
     "output_type": "execute_result"
    }
   ],
   "source": [
    "pokemon_data2.columns"
   ]
  },
  {
   "cell_type": "code",
   "execution_count": 6,
   "metadata": {},
   "outputs": [
    {
     "data": {
      "text/html": [
       "<div>\n",
       "<style scoped>\n",
       "    .dataframe tbody tr th:only-of-type {\n",
       "        vertical-align: middle;\n",
       "    }\n",
       "\n",
       "    .dataframe tbody tr th {\n",
       "        vertical-align: top;\n",
       "    }\n",
       "\n",
       "    .dataframe thead th {\n",
       "        text-align: right;\n",
       "    }\n",
       "</style>\n",
       "<table border=\"1\" class=\"dataframe\">\n",
       "  <thead>\n",
       "    <tr style=\"text-align: right;\">\n",
       "      <th></th>\n",
       "      <th>Name</th>\n",
       "      <th>Types</th>\n",
       "      <th>Abilities</th>\n",
       "      <th>Tier</th>\n",
       "      <th>HP</th>\n",
       "      <th>Attack</th>\n",
       "      <th>Defense</th>\n",
       "      <th>Special Attack</th>\n",
       "      <th>Special Defense</th>\n",
       "      <th>Speed</th>\n",
       "      <th>Next Evolution(s)</th>\n",
       "      <th>Moves</th>\n",
       "    </tr>\n",
       "  </thead>\n",
       "  <tbody>\n",
       "    <tr>\n",
       "      <th>0</th>\n",
       "      <td>Abomasnow</td>\n",
       "      <td>['Grass', 'Ice']</td>\n",
       "      <td>['Snow Warning', 'Soundproof']</td>\n",
       "      <td>PU</td>\n",
       "      <td>90</td>\n",
       "      <td>92</td>\n",
       "      <td>75</td>\n",
       "      <td>92</td>\n",
       "      <td>85</td>\n",
       "      <td>60</td>\n",
       "      <td>[]</td>\n",
       "      <td>['Ice Punch', 'Powder Snow', 'Leer', 'Razor Le...</td>\n",
       "    </tr>\n",
       "    <tr>\n",
       "      <th>1</th>\n",
       "      <td>Abomasnow-Mega</td>\n",
       "      <td>['Grass', 'Ice']</td>\n",
       "      <td>['Snow Warning']</td>\n",
       "      <td>NUBL</td>\n",
       "      <td>90</td>\n",
       "      <td>132</td>\n",
       "      <td>105</td>\n",
       "      <td>132</td>\n",
       "      <td>105</td>\n",
       "      <td>30</td>\n",
       "      <td>[]</td>\n",
       "      <td>['Ice Punch', 'Powder Snow', 'Leer', 'Razor Le...</td>\n",
       "    </tr>\n",
       "    <tr>\n",
       "      <th>2</th>\n",
       "      <td>Abra</td>\n",
       "      <td>['Psychic']</td>\n",
       "      <td>['Inner Focus', 'Magic Guard', 'Synchronize']</td>\n",
       "      <td>LC</td>\n",
       "      <td>25</td>\n",
       "      <td>20</td>\n",
       "      <td>15</td>\n",
       "      <td>105</td>\n",
       "      <td>55</td>\n",
       "      <td>90</td>\n",
       "      <td>['Kadabra']</td>\n",
       "      <td>['Teleport', 'Ally Switch', 'Barrier', 'Encore...</td>\n",
       "    </tr>\n",
       "    <tr>\n",
       "      <th>3</th>\n",
       "      <td>Absol</td>\n",
       "      <td>['Dark']</td>\n",
       "      <td>['Justified', 'Pressure', 'Super Luck']</td>\n",
       "      <td>PU</td>\n",
       "      <td>65</td>\n",
       "      <td>130</td>\n",
       "      <td>60</td>\n",
       "      <td>75</td>\n",
       "      <td>60</td>\n",
       "      <td>75</td>\n",
       "      <td>[]</td>\n",
       "      <td>['Perish Song', 'Future Sight', 'Me First', 'R...</td>\n",
       "    </tr>\n",
       "    <tr>\n",
       "      <th>4</th>\n",
       "      <td>Absol-Mega</td>\n",
       "      <td>['Dark']</td>\n",
       "      <td>['Magic Bounce']</td>\n",
       "      <td>RUBL</td>\n",
       "      <td>65</td>\n",
       "      <td>150</td>\n",
       "      <td>60</td>\n",
       "      <td>115</td>\n",
       "      <td>60</td>\n",
       "      <td>115</td>\n",
       "      <td>[]</td>\n",
       "      <td>['Perish Song', 'Future Sight', 'Me First', 'R...</td>\n",
       "    </tr>\n",
       "  </tbody>\n",
       "</table>\n",
       "</div>"
      ],
      "text/plain": [
       "             Name             Types  \\\n",
       "0       Abomasnow  ['Grass', 'Ice']   \n",
       "1  Abomasnow-Mega  ['Grass', 'Ice']   \n",
       "2            Abra       ['Psychic']   \n",
       "3           Absol          ['Dark']   \n",
       "4      Absol-Mega          ['Dark']   \n",
       "\n",
       "                                       Abilities  Tier  HP  Attack  Defense  \\\n",
       "0                 ['Snow Warning', 'Soundproof']    PU  90      92       75   \n",
       "1                               ['Snow Warning']  NUBL  90     132      105   \n",
       "2  ['Inner Focus', 'Magic Guard', 'Synchronize']    LC  25      20       15   \n",
       "3        ['Justified', 'Pressure', 'Super Luck']    PU  65     130       60   \n",
       "4                               ['Magic Bounce']  RUBL  65     150       60   \n",
       "\n",
       "   Special Attack  Special Defense  Speed Next Evolution(s)  \\\n",
       "0              92               85     60                []   \n",
       "1             132              105     30                []   \n",
       "2             105               55     90       ['Kadabra']   \n",
       "3              75               60     75                []   \n",
       "4             115               60    115                []   \n",
       "\n",
       "                                               Moves  \n",
       "0  ['Ice Punch', 'Powder Snow', 'Leer', 'Razor Le...  \n",
       "1  ['Ice Punch', 'Powder Snow', 'Leer', 'Razor Le...  \n",
       "2  ['Teleport', 'Ally Switch', 'Barrier', 'Encore...  \n",
       "3  ['Perish Song', 'Future Sight', 'Me First', 'R...  \n",
       "4  ['Perish Song', 'Future Sight', 'Me First', 'R...  "
      ]
     },
     "execution_count": 6,
     "metadata": {},
     "output_type": "execute_result"
    }
   ],
   "source": [
    "pokemon_data2.head(5)"
   ]
  },
  {
   "cell_type": "code",
   "execution_count": 7,
   "metadata": {},
   "outputs": [
    {
     "data": {
      "text/plain": [
       "Index(['Index', 'Name', 'Type', 'Category', 'Contest', 'PP', 'Power',\n",
       "       'Accuracy', 'Generation'],\n",
       "      dtype='object')"
      ]
     },
     "execution_count": 7,
     "metadata": {},
     "output_type": "execute_result"
    }
   ],
   "source": [
    "pokemon_move_data.columns"
   ]
  },
  {
   "cell_type": "code",
   "execution_count": 8,
   "metadata": {},
   "outputs": [
    {
     "data": {
      "text/html": [
       "<div>\n",
       "<style scoped>\n",
       "    .dataframe tbody tr th:only-of-type {\n",
       "        vertical-align: middle;\n",
       "    }\n",
       "\n",
       "    .dataframe tbody tr th {\n",
       "        vertical-align: top;\n",
       "    }\n",
       "\n",
       "    .dataframe thead th {\n",
       "        text-align: right;\n",
       "    }\n",
       "</style>\n",
       "<table border=\"1\" class=\"dataframe\">\n",
       "  <thead>\n",
       "    <tr style=\"text-align: right;\">\n",
       "      <th></th>\n",
       "      <th>Index</th>\n",
       "      <th>Name</th>\n",
       "      <th>Type</th>\n",
       "      <th>Category</th>\n",
       "      <th>Contest</th>\n",
       "      <th>PP</th>\n",
       "      <th>Power</th>\n",
       "      <th>Accuracy</th>\n",
       "      <th>Generation</th>\n",
       "    </tr>\n",
       "  </thead>\n",
       "  <tbody>\n",
       "    <tr>\n",
       "      <th>0</th>\n",
       "      <td>1</td>\n",
       "      <td>Pound</td>\n",
       "      <td>Normal</td>\n",
       "      <td>Physical</td>\n",
       "      <td>Tough</td>\n",
       "      <td>35</td>\n",
       "      <td>40</td>\n",
       "      <td>100</td>\n",
       "      <td>1</td>\n",
       "    </tr>\n",
       "    <tr>\n",
       "      <th>1</th>\n",
       "      <td>2</td>\n",
       "      <td>Karate Chop</td>\n",
       "      <td>Fighting</td>\n",
       "      <td>Physical</td>\n",
       "      <td>Tough</td>\n",
       "      <td>25</td>\n",
       "      <td>50</td>\n",
       "      <td>100</td>\n",
       "      <td>1</td>\n",
       "    </tr>\n",
       "    <tr>\n",
       "      <th>2</th>\n",
       "      <td>3</td>\n",
       "      <td>Double Slap</td>\n",
       "      <td>Normal</td>\n",
       "      <td>Physical</td>\n",
       "      <td>Cute</td>\n",
       "      <td>10</td>\n",
       "      <td>15</td>\n",
       "      <td>85</td>\n",
       "      <td>1</td>\n",
       "    </tr>\n",
       "    <tr>\n",
       "      <th>3</th>\n",
       "      <td>4</td>\n",
       "      <td>Comet Punch</td>\n",
       "      <td>Normal</td>\n",
       "      <td>Physical</td>\n",
       "      <td>Tough</td>\n",
       "      <td>15</td>\n",
       "      <td>18</td>\n",
       "      <td>85</td>\n",
       "      <td>1</td>\n",
       "    </tr>\n",
       "    <tr>\n",
       "      <th>4</th>\n",
       "      <td>5</td>\n",
       "      <td>Mega Punch</td>\n",
       "      <td>Normal</td>\n",
       "      <td>Physical</td>\n",
       "      <td>Tough</td>\n",
       "      <td>20</td>\n",
       "      <td>80</td>\n",
       "      <td>85</td>\n",
       "      <td>1</td>\n",
       "    </tr>\n",
       "  </tbody>\n",
       "</table>\n",
       "</div>"
      ],
      "text/plain": [
       "   Index         Name      Type  Category Contest  PP Power Accuracy  \\\n",
       "0      1        Pound    Normal  Physical   Tough  35    40      100   \n",
       "1      2  Karate Chop  Fighting  Physical   Tough  25    50      100   \n",
       "2      3  Double Slap    Normal  Physical    Cute  10    15       85   \n",
       "3      4  Comet Punch    Normal  Physical   Tough  15    18       85   \n",
       "4      5   Mega Punch    Normal  Physical   Tough  20    80       85   \n",
       "\n",
       "   Generation  \n",
       "0           1  \n",
       "1           1  \n",
       "2           1  \n",
       "3           1  \n",
       "4           1  "
      ]
     },
     "execution_count": 8,
     "metadata": {},
     "output_type": "execute_result"
    }
   ],
   "source": [
    "pokemon_move_data.head(5)"
   ]
  },
  {
   "cell_type": "code",
   "execution_count": 9,
   "metadata": {},
   "outputs": [
    {
     "data": {
      "text/plain": [
       "Index(['abilities', 'against_bug', 'against_dark', 'against_dragon',\n",
       "       'against_electric', 'against_fairy', 'against_fight', 'against_fire',\n",
       "       'against_flying', 'against_ghost', 'against_grass', 'against_ground',\n",
       "       'against_ice', 'against_normal', 'against_poison', 'against_psychic',\n",
       "       'against_rock', 'against_steel', 'against_water', 'attack',\n",
       "       'base_egg_steps', 'base_happiness', 'base_total', 'capture_rate',\n",
       "       'classfication', 'defense', 'experience_growth', 'height_m', 'hp',\n",
       "       'japanese_name', 'name', 'percentage_male', 'pokedex_number',\n",
       "       'sp_attack', 'sp_defense', 'speed', 'type1', 'type2', 'weight_kg',\n",
       "       'generation', 'is_legendary'],\n",
       "      dtype='object')"
      ]
     },
     "execution_count": 9,
     "metadata": {},
     "output_type": "execute_result"
    }
   ],
   "source": [
    "pokemon_data3.columns"
   ]
  },
  {
   "cell_type": "code",
   "execution_count": 10,
   "metadata": {},
   "outputs": [
    {
     "data": {
      "text/html": [
       "<div>\n",
       "<style scoped>\n",
       "    .dataframe tbody tr th:only-of-type {\n",
       "        vertical-align: middle;\n",
       "    }\n",
       "\n",
       "    .dataframe tbody tr th {\n",
       "        vertical-align: top;\n",
       "    }\n",
       "\n",
       "    .dataframe thead th {\n",
       "        text-align: right;\n",
       "    }\n",
       "</style>\n",
       "<table border=\"1\" class=\"dataframe\">\n",
       "  <thead>\n",
       "    <tr style=\"text-align: right;\">\n",
       "      <th></th>\n",
       "      <th>abilities</th>\n",
       "      <th>against_bug</th>\n",
       "      <th>against_dark</th>\n",
       "      <th>against_dragon</th>\n",
       "      <th>against_electric</th>\n",
       "      <th>against_fairy</th>\n",
       "      <th>against_fight</th>\n",
       "      <th>against_fire</th>\n",
       "      <th>against_flying</th>\n",
       "      <th>against_ghost</th>\n",
       "      <th>...</th>\n",
       "      <th>percentage_male</th>\n",
       "      <th>pokedex_number</th>\n",
       "      <th>sp_attack</th>\n",
       "      <th>sp_defense</th>\n",
       "      <th>speed</th>\n",
       "      <th>type1</th>\n",
       "      <th>type2</th>\n",
       "      <th>weight_kg</th>\n",
       "      <th>generation</th>\n",
       "      <th>is_legendary</th>\n",
       "    </tr>\n",
       "  </thead>\n",
       "  <tbody>\n",
       "    <tr>\n",
       "      <th>0</th>\n",
       "      <td>['Overgrow', 'Chlorophyll']</td>\n",
       "      <td>1.0</td>\n",
       "      <td>1.0</td>\n",
       "      <td>1.0</td>\n",
       "      <td>0.5</td>\n",
       "      <td>0.5</td>\n",
       "      <td>0.5</td>\n",
       "      <td>2.0</td>\n",
       "      <td>2.0</td>\n",
       "      <td>1.0</td>\n",
       "      <td>...</td>\n",
       "      <td>88.1</td>\n",
       "      <td>1</td>\n",
       "      <td>65</td>\n",
       "      <td>65</td>\n",
       "      <td>45</td>\n",
       "      <td>grass</td>\n",
       "      <td>poison</td>\n",
       "      <td>6.9</td>\n",
       "      <td>1</td>\n",
       "      <td>0</td>\n",
       "    </tr>\n",
       "    <tr>\n",
       "      <th>1</th>\n",
       "      <td>['Overgrow', 'Chlorophyll']</td>\n",
       "      <td>1.0</td>\n",
       "      <td>1.0</td>\n",
       "      <td>1.0</td>\n",
       "      <td>0.5</td>\n",
       "      <td>0.5</td>\n",
       "      <td>0.5</td>\n",
       "      <td>2.0</td>\n",
       "      <td>2.0</td>\n",
       "      <td>1.0</td>\n",
       "      <td>...</td>\n",
       "      <td>88.1</td>\n",
       "      <td>2</td>\n",
       "      <td>80</td>\n",
       "      <td>80</td>\n",
       "      <td>60</td>\n",
       "      <td>grass</td>\n",
       "      <td>poison</td>\n",
       "      <td>13.0</td>\n",
       "      <td>1</td>\n",
       "      <td>0</td>\n",
       "    </tr>\n",
       "    <tr>\n",
       "      <th>2</th>\n",
       "      <td>['Overgrow', 'Chlorophyll']</td>\n",
       "      <td>1.0</td>\n",
       "      <td>1.0</td>\n",
       "      <td>1.0</td>\n",
       "      <td>0.5</td>\n",
       "      <td>0.5</td>\n",
       "      <td>0.5</td>\n",
       "      <td>2.0</td>\n",
       "      <td>2.0</td>\n",
       "      <td>1.0</td>\n",
       "      <td>...</td>\n",
       "      <td>88.1</td>\n",
       "      <td>3</td>\n",
       "      <td>122</td>\n",
       "      <td>120</td>\n",
       "      <td>80</td>\n",
       "      <td>grass</td>\n",
       "      <td>poison</td>\n",
       "      <td>100.0</td>\n",
       "      <td>1</td>\n",
       "      <td>0</td>\n",
       "    </tr>\n",
       "    <tr>\n",
       "      <th>3</th>\n",
       "      <td>['Blaze', 'Solar Power']</td>\n",
       "      <td>0.5</td>\n",
       "      <td>1.0</td>\n",
       "      <td>1.0</td>\n",
       "      <td>1.0</td>\n",
       "      <td>0.5</td>\n",
       "      <td>1.0</td>\n",
       "      <td>0.5</td>\n",
       "      <td>1.0</td>\n",
       "      <td>1.0</td>\n",
       "      <td>...</td>\n",
       "      <td>88.1</td>\n",
       "      <td>4</td>\n",
       "      <td>60</td>\n",
       "      <td>50</td>\n",
       "      <td>65</td>\n",
       "      <td>fire</td>\n",
       "      <td>NaN</td>\n",
       "      <td>8.5</td>\n",
       "      <td>1</td>\n",
       "      <td>0</td>\n",
       "    </tr>\n",
       "    <tr>\n",
       "      <th>4</th>\n",
       "      <td>['Blaze', 'Solar Power']</td>\n",
       "      <td>0.5</td>\n",
       "      <td>1.0</td>\n",
       "      <td>1.0</td>\n",
       "      <td>1.0</td>\n",
       "      <td>0.5</td>\n",
       "      <td>1.0</td>\n",
       "      <td>0.5</td>\n",
       "      <td>1.0</td>\n",
       "      <td>1.0</td>\n",
       "      <td>...</td>\n",
       "      <td>88.1</td>\n",
       "      <td>5</td>\n",
       "      <td>80</td>\n",
       "      <td>65</td>\n",
       "      <td>80</td>\n",
       "      <td>fire</td>\n",
       "      <td>NaN</td>\n",
       "      <td>19.0</td>\n",
       "      <td>1</td>\n",
       "      <td>0</td>\n",
       "    </tr>\n",
       "  </tbody>\n",
       "</table>\n",
       "<p>5 rows × 41 columns</p>\n",
       "</div>"
      ],
      "text/plain": [
       "                     abilities  against_bug  against_dark  against_dragon  \\\n",
       "0  ['Overgrow', 'Chlorophyll']          1.0           1.0             1.0   \n",
       "1  ['Overgrow', 'Chlorophyll']          1.0           1.0             1.0   \n",
       "2  ['Overgrow', 'Chlorophyll']          1.0           1.0             1.0   \n",
       "3     ['Blaze', 'Solar Power']          0.5           1.0             1.0   \n",
       "4     ['Blaze', 'Solar Power']          0.5           1.0             1.0   \n",
       "\n",
       "   against_electric  against_fairy  against_fight  against_fire  \\\n",
       "0               0.5            0.5            0.5           2.0   \n",
       "1               0.5            0.5            0.5           2.0   \n",
       "2               0.5            0.5            0.5           2.0   \n",
       "3               1.0            0.5            1.0           0.5   \n",
       "4               1.0            0.5            1.0           0.5   \n",
       "\n",
       "   against_flying  against_ghost  ...  percentage_male  pokedex_number  \\\n",
       "0             2.0            1.0  ...             88.1               1   \n",
       "1             2.0            1.0  ...             88.1               2   \n",
       "2             2.0            1.0  ...             88.1               3   \n",
       "3             1.0            1.0  ...             88.1               4   \n",
       "4             1.0            1.0  ...             88.1               5   \n",
       "\n",
       "   sp_attack  sp_defense  speed  type1   type2  weight_kg  generation  \\\n",
       "0         65          65     45  grass  poison        6.9           1   \n",
       "1         80          80     60  grass  poison       13.0           1   \n",
       "2        122         120     80  grass  poison      100.0           1   \n",
       "3         60          50     65   fire     NaN        8.5           1   \n",
       "4         80          65     80   fire     NaN       19.0           1   \n",
       "\n",
       "   is_legendary  \n",
       "0             0  \n",
       "1             0  \n",
       "2             0  \n",
       "3             0  \n",
       "4             0  \n",
       "\n",
       "[5 rows x 41 columns]"
      ]
     },
     "execution_count": 10,
     "metadata": {},
     "output_type": "execute_result"
    }
   ],
   "source": [
    "pokemon_data3.head(5)"
   ]
  },
  {
   "attachments": {},
   "cell_type": "markdown",
   "metadata": {},
   "source": [
    "There are some missing values in data1, it is by design of the game."
   ]
  },
  {
   "cell_type": "code",
   "execution_count": 11,
   "metadata": {},
   "outputs": [
    {
     "name": "stdout",
     "output_type": "stream",
     "text": [
      "<class 'pandas.core.frame.DataFrame'>\n",
      "RangeIndex: 1193 entries, 0 to 1192\n",
      "Data columns (total 37 columns):\n",
      " #   Column               Non-Null Count  Dtype  \n",
      "---  ------               --------------  -----  \n",
      " 0   No                   1193 non-null   int64  \n",
      " 1   Original_Name        1193 non-null   object \n",
      " 2   Name                 1193 non-null   object \n",
      " 3   Generation           1193 non-null   int64  \n",
      " 4   Height               1193 non-null   object \n",
      " 5   Weight               1193 non-null   object \n",
      " 6   Type1                1193 non-null   object \n",
      " 7   Type2                655 non-null    object \n",
      " 8   Ability1             1193 non-null   object \n",
      " 9   Ability2             583 non-null    object \n",
      " 10  Ability_Hidden       925 non-null    object \n",
      " 11  Color                1193 non-null   object \n",
      " 12  Gender_Male          1193 non-null   float64\n",
      " 13  Gender_Female        1193 non-null   float64\n",
      " 14  Gender_Unknown       1193 non-null   int64  \n",
      " 15  Egg_Steps            1193 non-null   int64  \n",
      " 16  Egg_Group1           1193 non-null   object \n",
      " 17  Egg_Group2           309 non-null    object \n",
      " 18  Get_Rate             1193 non-null   int64  \n",
      " 19  Base_Experience      1193 non-null   int64  \n",
      " 20  Experience_Type      1193 non-null   int64  \n",
      " 21  Category             1193 non-null   object \n",
      " 22  Mega_Evolution_Flag  48 non-null     object \n",
      " 23  Region_Form          58 non-null     object \n",
      " 24  HP                   1193 non-null   int64  \n",
      " 25  Attack               1193 non-null   int64  \n",
      " 26  Defense              1193 non-null   int64  \n",
      " 27  SP_Attack            1193 non-null   int64  \n",
      " 28  SP_Defense           1193 non-null   int64  \n",
      " 29  Speed                1193 non-null   int64  \n",
      " 30  Total                1193 non-null   int64  \n",
      " 31  E_HP                 1193 non-null   int64  \n",
      " 32  E_Attack             1193 non-null   int64  \n",
      " 33  E_Defense            1193 non-null   int64  \n",
      " 34  E_SP_Attack          1193 non-null   int64  \n",
      " 35  E_SP_Defense         1193 non-null   int64  \n",
      " 36  E_Speed              1193 non-null   int64  \n",
      "dtypes: float64(2), int64(20), object(15)\n",
      "memory usage: 345.0+ KB\n"
     ]
    }
   ],
   "source": [
    "pokemon_data1.info()"
   ]
  },
  {
   "attachments": {},
   "cell_type": "markdown",
   "metadata": {},
   "source": [
    "Some data in ```Tier``` are missing"
   ]
  },
  {
   "cell_type": "code",
   "execution_count": 12,
   "metadata": {},
   "outputs": [
    {
     "name": "stdout",
     "output_type": "stream",
     "text": [
      "<class 'pandas.core.frame.DataFrame'>\n",
      "RangeIndex: 918 entries, 0 to 917\n",
      "Data columns (total 12 columns):\n",
      " #   Column             Non-Null Count  Dtype \n",
      "---  ------             --------------  ----- \n",
      " 0   Name               918 non-null    object\n",
      " 1   Types              918 non-null    object\n",
      " 2   Abilities          918 non-null    object\n",
      " 3   Tier               820 non-null    object\n",
      " 4   HP                 918 non-null    int64 \n",
      " 5   Attack             918 non-null    int64 \n",
      " 6   Defense            918 non-null    int64 \n",
      " 7   Special Attack     918 non-null    int64 \n",
      " 8   Special Defense    918 non-null    int64 \n",
      " 9   Speed              918 non-null    int64 \n",
      " 10  Next Evolution(s)  918 non-null    object\n",
      " 11  Moves              918 non-null    object\n",
      "dtypes: int64(6), object(6)\n",
      "memory usage: 86.2+ KB\n"
     ]
    }
   ],
   "source": [
    "pokemon_data2.info()"
   ]
  },
  {
   "attachments": {},
   "cell_type": "markdown",
   "metadata": {},
   "source": [
    "No missing value in the third (Gen 1-7) data as well."
   ]
  },
  {
   "cell_type": "code",
   "execution_count": 13,
   "metadata": {},
   "outputs": [
    {
     "name": "stdout",
     "output_type": "stream",
     "text": [
      "<class 'pandas.core.frame.DataFrame'>\n",
      "RangeIndex: 801 entries, 0 to 800\n",
      "Data columns (total 41 columns):\n",
      " #   Column             Non-Null Count  Dtype  \n",
      "---  ------             --------------  -----  \n",
      " 0   abilities          801 non-null    object \n",
      " 1   against_bug        801 non-null    float64\n",
      " 2   against_dark       801 non-null    float64\n",
      " 3   against_dragon     801 non-null    float64\n",
      " 4   against_electric   801 non-null    float64\n",
      " 5   against_fairy      801 non-null    float64\n",
      " 6   against_fight      801 non-null    float64\n",
      " 7   against_fire       801 non-null    float64\n",
      " 8   against_flying     801 non-null    float64\n",
      " 9   against_ghost      801 non-null    float64\n",
      " 10  against_grass      801 non-null    float64\n",
      " 11  against_ground     801 non-null    float64\n",
      " 12  against_ice        801 non-null    float64\n",
      " 13  against_normal     801 non-null    float64\n",
      " 14  against_poison     801 non-null    float64\n",
      " 15  against_psychic    801 non-null    float64\n",
      " 16  against_rock       801 non-null    float64\n",
      " 17  against_steel      801 non-null    float64\n",
      " 18  against_water      801 non-null    float64\n",
      " 19  attack             801 non-null    int64  \n",
      " 20  base_egg_steps     801 non-null    int64  \n",
      " 21  base_happiness     801 non-null    int64  \n",
      " 22  base_total         801 non-null    int64  \n",
      " 23  capture_rate       801 non-null    object \n",
      " 24  classfication      801 non-null    object \n",
      " 25  defense            801 non-null    int64  \n",
      " 26  experience_growth  801 non-null    int64  \n",
      " 27  height_m           781 non-null    float64\n",
      " 28  hp                 801 non-null    int64  \n",
      " 29  japanese_name      801 non-null    object \n",
      " 30  name               801 non-null    object \n",
      " 31  percentage_male    703 non-null    float64\n",
      " 32  pokedex_number     801 non-null    int64  \n",
      " 33  sp_attack          801 non-null    int64  \n",
      " 34  sp_defense         801 non-null    int64  \n",
      " 35  speed              801 non-null    int64  \n",
      " 36  type1              801 non-null    object \n",
      " 37  type2              417 non-null    object \n",
      " 38  weight_kg          781 non-null    float64\n",
      " 39  generation         801 non-null    int64  \n",
      " 40  is_legendary       801 non-null    int64  \n",
      "dtypes: float64(21), int64(13), object(7)\n",
      "memory usage: 256.7+ KB\n"
     ]
    }
   ],
   "source": [
    "pokemon_data3.info()"
   ]
  },
  {
   "attachments": {},
   "cell_type": "markdown",
   "metadata": {},
   "source": [
    "#### Proprocessing"
   ]
  },
  {
   "attachments": {},
   "cell_type": "markdown",
   "metadata": {},
   "source": [
    "We will replace the missing values as 'NO INFO'\n",
    "\n",
    "Starting from Generation 8, all mega pokemon are removed from the game, so we will remove all mega-pokemons."
   ]
  },
  {
   "cell_type": "code",
   "execution_count": 14,
   "metadata": {},
   "outputs": [],
   "source": [
    "def remove_mega(pokemon_data, name):\n",
    "    pokemon_data['lower_name'] = pokemon_data[name].str.lower()\n",
    "    pokemon_data['lower_name'] = pokemon_data.lower_name.apply(lambda x: 1 if \"mega\" in x else 0)\n",
    "    keep_rows = pokemon_data['lower_name'] != 1\n",
    "    result = pokemon_data[keep_rows]\n",
    "    result.drop(columns = ['lower_name'], inplace = True)\n",
    "    print(\"removed\", len(pokemon_data) - len(result), \"rows\")\n",
    "    return result"
   ]
  },
  {
   "cell_type": "code",
   "execution_count": 15,
   "metadata": {},
   "outputs": [
    {
     "name": "stdout",
     "output_type": "stream",
     "text": [
      "removed 50 rows\n",
      "removed 50 rows\n",
      "removed 2 rows\n"
     ]
    }
   ],
   "source": [
    "# replacing missing values in pokemon_data1\n",
    "pokemon_data1.Type2.fillna(value='NO INFO', inplace=True)\n",
    "pokemon_data1.Ability2.fillna(value='NO INFO', inplace=True)\n",
    "pokemon_data1.Ability_Hidden.fillna(value='NO INFO', inplace=True)\n",
    "pokemon_data1.Egg_Group2.fillna(value='NO INFO', inplace=True)\n",
    "pokemon_data2.Tier.fillna(value='NO INFO', inplace=True)\n",
    "\n",
    "# removing mega pokemon\n",
    "pokemon_data1 = remove_mega(pokemon_data1, 'Name')\n",
    "pokemon_data2 = remove_mega(pokemon_data2, 'Name')\n",
    "pokemon_data3 = remove_mega(pokemon_data3, 'name')\n"
   ]
  },
  {
   "attachments": {},
   "cell_type": "markdown",
   "metadata": {},
   "source": [
    "Writing cleaned data into the data folder"
   ]
  },
  {
   "cell_type": "code",
   "execution_count": 16,
   "metadata": {},
   "outputs": [],
   "source": [
    "if not os.path.isfile(data_folder + \"pokemon_data1_clean.csv\"):\n",
    "    pokemon_data1.to_csv(data_folder + \"pokemon_data1_clean.csv\", index=False)\n",
    "if not os.path.isfile(data_folder + \"pokemon_data2_clean.csv\"):\n",
    "    pokemon_data2.to_csv(data_folder + \"pokemon_data2_clean.csv\", index=False)\n",
    "if not os.path.isfile(data_folder + \"pokemon_data3_clean.csv\"):\n",
    "    pokemon_data3.to_csv(data_folder + \"pokemon_data3_clean.csv\", index=False)"
   ]
  },
  {
   "attachments": {},
   "cell_type": "markdown",
   "metadata": {},
   "source": [
    "#### Exploratory data analysis\n",
    "\n",
    "##### pokemon_data1"
   ]
  },
  {
   "cell_type": "code",
   "execution_count": 17,
   "metadata": {},
   "outputs": [
    {
     "data": {
      "text/plain": [
       "Index(['No', 'Original_Name', 'Name', 'Generation', 'Height', 'Weight',\n",
       "       'Type1', 'Type2', 'Ability1', 'Ability2', 'Ability_Hidden', 'Color',\n",
       "       'Gender_Male', 'Gender_Female', 'Gender_Unknown', 'Egg_Steps',\n",
       "       'Egg_Group1', 'Egg_Group2', 'Get_Rate', 'Base_Experience',\n",
       "       'Experience_Type', 'Category', 'Mega_Evolution_Flag', 'Region_Form',\n",
       "       'HP', 'Attack', 'Defense', 'SP_Attack', 'SP_Defense', 'Speed', 'Total',\n",
       "       'E_HP', 'E_Attack', 'E_Defense', 'E_SP_Attack', 'E_SP_Defense',\n",
       "       'E_Speed'],\n",
       "      dtype='object')"
      ]
     },
     "execution_count": 17,
     "metadata": {},
     "output_type": "execute_result"
    }
   ],
   "source": [
    "pokemon_data1.columns"
   ]
  },
  {
   "attachments": {},
   "cell_type": "markdown",
   "metadata": {},
   "source": [
    "**Converting height data in pokemon_data1 into float numbers and visualizing them.**"
   ]
  },
  {
   "cell_type": "code",
   "execution_count": 18,
   "metadata": {},
   "outputs": [
    {
     "data": {
      "application/vnd.plotly.v1+json": {
       "config": {
        "plotlyServerURL": "https://plot.ly"
       },
       "data": [
        {
         "alignmentgroup": "True",
         "hovertemplate": "Name=%{x}<br>Height=%{marker.color}<extra></extra>",
         "legendgroup": "",
         "marker": {
          "color": [
           100,
           20,
           14.5,
           12,
           10.9,
           9.8,
           9.2,
           9.2,
           8.8,
           8.2,
           7.5,
           7,
           7,
           6.9,
           6.5,
           6.5,
           6.3,
           6.2,
           5.8,
           5.5,
           5.5,
           5.4,
           5.2,
           5,
           5,
           4.5,
           4.5,
           4.5,
           4.5,
           4.2,
           4.2,
           4,
           4,
           3.9,
           3.8,
           3.8,
           3.8,
           3.8,
           3.7,
           3.6,
           3.6,
           3.6,
           3.5,
           3.5,
           3.5,
           3.4,
           3.3,
           3.3,
           3.2,
           3.2
          ],
          "coloraxis": "coloraxis"
         },
         "name": "",
         "offsetgroup": "",
         "orientation": "v",
         "showlegend": false,
         "textposition": "auto",
         "type": "bar",
         "x": [
          "Eternamax Eternatus",
          "Eternatus",
          "Wailord",
          "Dondozo",
          "Alolan Exeggutor",
          "Primal Kyogre",
          "Celesteela",
          "Steelix",
          "Onix",
          "Wishiwashi School Form",
          "Ultra Necrozma",
          "Dialga Origin Form",
          "Rayquaza",
          "Giratina Origin Form",
          "Gyarados",
          "Unbound Hoopa",
          "Palkia Origin Form",
          "Milotic",
          "Yveltal",
          "Guzzlord",
          "Stakataka",
          "Dialga",
          "Lugia",
          "Primal Groudon",
          "Zygarde 50% Form",
          "Cetitan",
          "Giratina",
          "Zygarde Complete Form",
          "Kyogre",
          "Palkia",
          "Dawn Wings Necrozma",
          "Lunala",
          "Dragonair",
          "Dhelmise",
          "Xurkitree",
          "Ho-Oh",
          "Dusk Mane Necrozma",
          "Sandaconda",
          "Regigigas",
          "Naganadel",
          "White Kyurem",
          "Dudunsparce",
          "Arbok",
          "Miraidon",
          "Groudon",
          "Solgaleo",
          "Serperior",
          "Black Kyurem",
          "Reshiram",
          "Farigiraf"
         ],
         "xaxis": "x",
         "y": [
          100,
          20,
          14.5,
          12,
          10.9,
          9.8,
          9.2,
          9.2,
          8.8,
          8.2,
          7.5,
          7,
          7,
          6.9,
          6.5,
          6.5,
          6.3,
          6.2,
          5.8,
          5.5,
          5.5,
          5.4,
          5.2,
          5,
          5,
          4.5,
          4.5,
          4.5,
          4.5,
          4.2,
          4.2,
          4,
          4,
          3.9,
          3.8,
          3.8,
          3.8,
          3.8,
          3.7,
          3.6,
          3.6,
          3.6,
          3.5,
          3.5,
          3.5,
          3.4,
          3.3,
          3.3,
          3.2,
          3.2
         ],
         "yaxis": "y"
        }
       ],
       "layout": {
        "barmode": "relative",
        "coloraxis": {
         "colorbar": {
          "title": {
           "text": "Height"
          }
         },
         "colorscale": [
          [
           0,
           "#0d0887"
          ],
          [
           0.1111111111111111,
           "#46039f"
          ],
          [
           0.2222222222222222,
           "#7201a8"
          ],
          [
           0.3333333333333333,
           "#9c179e"
          ],
          [
           0.4444444444444444,
           "#bd3786"
          ],
          [
           0.5555555555555556,
           "#d8576b"
          ],
          [
           0.6666666666666666,
           "#ed7953"
          ],
          [
           0.7777777777777778,
           "#fb9f3a"
          ],
          [
           0.8888888888888888,
           "#fdca26"
          ],
          [
           1,
           "#f0f921"
          ]
         ]
        },
        "height": 600,
        "legend": {
         "tracegroupgap": 0
        },
        "template": {
         "data": {
          "bar": [
           {
            "error_x": {
             "color": "#2a3f5f"
            },
            "error_y": {
             "color": "#2a3f5f"
            },
            "marker": {
             "line": {
              "color": "#E5ECF6",
              "width": 0.5
             }
            },
            "type": "bar"
           }
          ],
          "barpolar": [
           {
            "marker": {
             "line": {
              "color": "#E5ECF6",
              "width": 0.5
             }
            },
            "type": "barpolar"
           }
          ],
          "carpet": [
           {
            "aaxis": {
             "endlinecolor": "#2a3f5f",
             "gridcolor": "white",
             "linecolor": "white",
             "minorgridcolor": "white",
             "startlinecolor": "#2a3f5f"
            },
            "baxis": {
             "endlinecolor": "#2a3f5f",
             "gridcolor": "white",
             "linecolor": "white",
             "minorgridcolor": "white",
             "startlinecolor": "#2a3f5f"
            },
            "type": "carpet"
           }
          ],
          "choropleth": [
           {
            "colorbar": {
             "outlinewidth": 0,
             "ticks": ""
            },
            "type": "choropleth"
           }
          ],
          "contour": [
           {
            "colorbar": {
             "outlinewidth": 0,
             "ticks": ""
            },
            "colorscale": [
             [
              0,
              "#0d0887"
             ],
             [
              0.1111111111111111,
              "#46039f"
             ],
             [
              0.2222222222222222,
              "#7201a8"
             ],
             [
              0.3333333333333333,
              "#9c179e"
             ],
             [
              0.4444444444444444,
              "#bd3786"
             ],
             [
              0.5555555555555556,
              "#d8576b"
             ],
             [
              0.6666666666666666,
              "#ed7953"
             ],
             [
              0.7777777777777778,
              "#fb9f3a"
             ],
             [
              0.8888888888888888,
              "#fdca26"
             ],
             [
              1,
              "#f0f921"
             ]
            ],
            "type": "contour"
           }
          ],
          "contourcarpet": [
           {
            "colorbar": {
             "outlinewidth": 0,
             "ticks": ""
            },
            "type": "contourcarpet"
           }
          ],
          "heatmap": [
           {
            "colorbar": {
             "outlinewidth": 0,
             "ticks": ""
            },
            "colorscale": [
             [
              0,
              "#0d0887"
             ],
             [
              0.1111111111111111,
              "#46039f"
             ],
             [
              0.2222222222222222,
              "#7201a8"
             ],
             [
              0.3333333333333333,
              "#9c179e"
             ],
             [
              0.4444444444444444,
              "#bd3786"
             ],
             [
              0.5555555555555556,
              "#d8576b"
             ],
             [
              0.6666666666666666,
              "#ed7953"
             ],
             [
              0.7777777777777778,
              "#fb9f3a"
             ],
             [
              0.8888888888888888,
              "#fdca26"
             ],
             [
              1,
              "#f0f921"
             ]
            ],
            "type": "heatmap"
           }
          ],
          "heatmapgl": [
           {
            "colorbar": {
             "outlinewidth": 0,
             "ticks": ""
            },
            "colorscale": [
             [
              0,
              "#0d0887"
             ],
             [
              0.1111111111111111,
              "#46039f"
             ],
             [
              0.2222222222222222,
              "#7201a8"
             ],
             [
              0.3333333333333333,
              "#9c179e"
             ],
             [
              0.4444444444444444,
              "#bd3786"
             ],
             [
              0.5555555555555556,
              "#d8576b"
             ],
             [
              0.6666666666666666,
              "#ed7953"
             ],
             [
              0.7777777777777778,
              "#fb9f3a"
             ],
             [
              0.8888888888888888,
              "#fdca26"
             ],
             [
              1,
              "#f0f921"
             ]
            ],
            "type": "heatmapgl"
           }
          ],
          "histogram": [
           {
            "marker": {
             "colorbar": {
              "outlinewidth": 0,
              "ticks": ""
             }
            },
            "type": "histogram"
           }
          ],
          "histogram2d": [
           {
            "colorbar": {
             "outlinewidth": 0,
             "ticks": ""
            },
            "colorscale": [
             [
              0,
              "#0d0887"
             ],
             [
              0.1111111111111111,
              "#46039f"
             ],
             [
              0.2222222222222222,
              "#7201a8"
             ],
             [
              0.3333333333333333,
              "#9c179e"
             ],
             [
              0.4444444444444444,
              "#bd3786"
             ],
             [
              0.5555555555555556,
              "#d8576b"
             ],
             [
              0.6666666666666666,
              "#ed7953"
             ],
             [
              0.7777777777777778,
              "#fb9f3a"
             ],
             [
              0.8888888888888888,
              "#fdca26"
             ],
             [
              1,
              "#f0f921"
             ]
            ],
            "type": "histogram2d"
           }
          ],
          "histogram2dcontour": [
           {
            "colorbar": {
             "outlinewidth": 0,
             "ticks": ""
            },
            "colorscale": [
             [
              0,
              "#0d0887"
             ],
             [
              0.1111111111111111,
              "#46039f"
             ],
             [
              0.2222222222222222,
              "#7201a8"
             ],
             [
              0.3333333333333333,
              "#9c179e"
             ],
             [
              0.4444444444444444,
              "#bd3786"
             ],
             [
              0.5555555555555556,
              "#d8576b"
             ],
             [
              0.6666666666666666,
              "#ed7953"
             ],
             [
              0.7777777777777778,
              "#fb9f3a"
             ],
             [
              0.8888888888888888,
              "#fdca26"
             ],
             [
              1,
              "#f0f921"
             ]
            ],
            "type": "histogram2dcontour"
           }
          ],
          "mesh3d": [
           {
            "colorbar": {
             "outlinewidth": 0,
             "ticks": ""
            },
            "type": "mesh3d"
           }
          ],
          "parcoords": [
           {
            "line": {
             "colorbar": {
              "outlinewidth": 0,
              "ticks": ""
             }
            },
            "type": "parcoords"
           }
          ],
          "pie": [
           {
            "automargin": true,
            "type": "pie"
           }
          ],
          "scatter": [
           {
            "marker": {
             "colorbar": {
              "outlinewidth": 0,
              "ticks": ""
             }
            },
            "type": "scatter"
           }
          ],
          "scatter3d": [
           {
            "line": {
             "colorbar": {
              "outlinewidth": 0,
              "ticks": ""
             }
            },
            "marker": {
             "colorbar": {
              "outlinewidth": 0,
              "ticks": ""
             }
            },
            "type": "scatter3d"
           }
          ],
          "scattercarpet": [
           {
            "marker": {
             "colorbar": {
              "outlinewidth": 0,
              "ticks": ""
             }
            },
            "type": "scattercarpet"
           }
          ],
          "scattergeo": [
           {
            "marker": {
             "colorbar": {
              "outlinewidth": 0,
              "ticks": ""
             }
            },
            "type": "scattergeo"
           }
          ],
          "scattergl": [
           {
            "marker": {
             "colorbar": {
              "outlinewidth": 0,
              "ticks": ""
             }
            },
            "type": "scattergl"
           }
          ],
          "scattermapbox": [
           {
            "marker": {
             "colorbar": {
              "outlinewidth": 0,
              "ticks": ""
             }
            },
            "type": "scattermapbox"
           }
          ],
          "scatterpolar": [
           {
            "marker": {
             "colorbar": {
              "outlinewidth": 0,
              "ticks": ""
             }
            },
            "type": "scatterpolar"
           }
          ],
          "scatterpolargl": [
           {
            "marker": {
             "colorbar": {
              "outlinewidth": 0,
              "ticks": ""
             }
            },
            "type": "scatterpolargl"
           }
          ],
          "scatterternary": [
           {
            "marker": {
             "colorbar": {
              "outlinewidth": 0,
              "ticks": ""
             }
            },
            "type": "scatterternary"
           }
          ],
          "surface": [
           {
            "colorbar": {
             "outlinewidth": 0,
             "ticks": ""
            },
            "colorscale": [
             [
              0,
              "#0d0887"
             ],
             [
              0.1111111111111111,
              "#46039f"
             ],
             [
              0.2222222222222222,
              "#7201a8"
             ],
             [
              0.3333333333333333,
              "#9c179e"
             ],
             [
              0.4444444444444444,
              "#bd3786"
             ],
             [
              0.5555555555555556,
              "#d8576b"
             ],
             [
              0.6666666666666666,
              "#ed7953"
             ],
             [
              0.7777777777777778,
              "#fb9f3a"
             ],
             [
              0.8888888888888888,
              "#fdca26"
             ],
             [
              1,
              "#f0f921"
             ]
            ],
            "type": "surface"
           }
          ],
          "table": [
           {
            "cells": {
             "fill": {
              "color": "#EBF0F8"
             },
             "line": {
              "color": "white"
             }
            },
            "header": {
             "fill": {
              "color": "#C8D4E3"
             },
             "line": {
              "color": "white"
             }
            },
            "type": "table"
           }
          ]
         },
         "layout": {
          "annotationdefaults": {
           "arrowcolor": "#2a3f5f",
           "arrowhead": 0,
           "arrowwidth": 1
          },
          "autotypenumbers": "strict",
          "coloraxis": {
           "colorbar": {
            "outlinewidth": 0,
            "ticks": ""
           }
          },
          "colorscale": {
           "diverging": [
            [
             0,
             "#8e0152"
            ],
            [
             0.1,
             "#c51b7d"
            ],
            [
             0.2,
             "#de77ae"
            ],
            [
             0.3,
             "#f1b6da"
            ],
            [
             0.4,
             "#fde0ef"
            ],
            [
             0.5,
             "#f7f7f7"
            ],
            [
             0.6,
             "#e6f5d0"
            ],
            [
             0.7,
             "#b8e186"
            ],
            [
             0.8,
             "#7fbc41"
            ],
            [
             0.9,
             "#4d9221"
            ],
            [
             1,
             "#276419"
            ]
           ],
           "sequential": [
            [
             0,
             "#0d0887"
            ],
            [
             0.1111111111111111,
             "#46039f"
            ],
            [
             0.2222222222222222,
             "#7201a8"
            ],
            [
             0.3333333333333333,
             "#9c179e"
            ],
            [
             0.4444444444444444,
             "#bd3786"
            ],
            [
             0.5555555555555556,
             "#d8576b"
            ],
            [
             0.6666666666666666,
             "#ed7953"
            ],
            [
             0.7777777777777778,
             "#fb9f3a"
            ],
            [
             0.8888888888888888,
             "#fdca26"
            ],
            [
             1,
             "#f0f921"
            ]
           ],
           "sequentialminus": [
            [
             0,
             "#0d0887"
            ],
            [
             0.1111111111111111,
             "#46039f"
            ],
            [
             0.2222222222222222,
             "#7201a8"
            ],
            [
             0.3333333333333333,
             "#9c179e"
            ],
            [
             0.4444444444444444,
             "#bd3786"
            ],
            [
             0.5555555555555556,
             "#d8576b"
            ],
            [
             0.6666666666666666,
             "#ed7953"
            ],
            [
             0.7777777777777778,
             "#fb9f3a"
            ],
            [
             0.8888888888888888,
             "#fdca26"
            ],
            [
             1,
             "#f0f921"
            ]
           ]
          },
          "colorway": [
           "#636efa",
           "#EF553B",
           "#00cc96",
           "#ab63fa",
           "#FFA15A",
           "#19d3f3",
           "#FF6692",
           "#B6E880",
           "#FF97FF",
           "#FECB52"
          ],
          "font": {
           "color": "#2a3f5f"
          },
          "geo": {
           "bgcolor": "white",
           "lakecolor": "white",
           "landcolor": "#E5ECF6",
           "showlakes": true,
           "showland": true,
           "subunitcolor": "white"
          },
          "hoverlabel": {
           "align": "left"
          },
          "hovermode": "closest",
          "mapbox": {
           "style": "light"
          },
          "paper_bgcolor": "white",
          "plot_bgcolor": "#E5ECF6",
          "polar": {
           "angularaxis": {
            "gridcolor": "white",
            "linecolor": "white",
            "ticks": ""
           },
           "bgcolor": "#E5ECF6",
           "radialaxis": {
            "gridcolor": "white",
            "linecolor": "white",
            "ticks": ""
           }
          },
          "scene": {
           "xaxis": {
            "backgroundcolor": "#E5ECF6",
            "gridcolor": "white",
            "gridwidth": 2,
            "linecolor": "white",
            "showbackground": true,
            "ticks": "",
            "zerolinecolor": "white"
           },
           "yaxis": {
            "backgroundcolor": "#E5ECF6",
            "gridcolor": "white",
            "gridwidth": 2,
            "linecolor": "white",
            "showbackground": true,
            "ticks": "",
            "zerolinecolor": "white"
           },
           "zaxis": {
            "backgroundcolor": "#E5ECF6",
            "gridcolor": "white",
            "gridwidth": 2,
            "linecolor": "white",
            "showbackground": true,
            "ticks": "",
            "zerolinecolor": "white"
           }
          },
          "shapedefaults": {
           "line": {
            "color": "#2a3f5f"
           }
          },
          "ternary": {
           "aaxis": {
            "gridcolor": "white",
            "linecolor": "white",
            "ticks": ""
           },
           "baxis": {
            "gridcolor": "white",
            "linecolor": "white",
            "ticks": ""
           },
           "bgcolor": "#E5ECF6",
           "caxis": {
            "gridcolor": "white",
            "linecolor": "white",
            "ticks": ""
           }
          },
          "title": {
           "x": 0.05
          },
          "xaxis": {
           "automargin": true,
           "gridcolor": "white",
           "linecolor": "white",
           "ticks": "",
           "title": {
            "standoff": 15
           },
           "zerolinecolor": "white",
           "zerolinewidth": 2
          },
          "yaxis": {
           "automargin": true,
           "gridcolor": "white",
           "linecolor": "white",
           "ticks": "",
           "title": {
            "standoff": 15
           },
           "zerolinecolor": "white",
           "zerolinewidth": 2
          }
         }
        },
        "title": {
         "text": "Top 50 Pokemon Height"
        },
        "xaxis": {
         "anchor": "y",
         "domain": [
          0,
          1
         ],
         "title": {
          "text": "Name"
         }
        },
        "yaxis": {
         "anchor": "x",
         "domain": [
          0,
          1
         ],
         "title": {
          "text": "Height"
         }
        }
       }
      }
     },
     "metadata": {},
     "output_type": "display_data"
    }
   ],
   "source": [
    "pokemon_height = pokemon_data1[[\"Name\", \"Height\"]]\n",
    "pokemon_height['Height'] = pokemon_height.Height.apply(lambda x: x.replace(\"m\",\"\"))\n",
    "pokemon_height = pokemon_height.astype({\"Height\": float})\n",
    "pokemon_height = pokemon_height.sort_values(by = \"Height\", ascending = False)\n",
    "pokemon_height_top50 = pokemon_height.head(50)\n",
    "fig = px.bar(pokemon_height_top50, x = \"Name\", y = \"Height\", title = \"Top 50 Pokemon Height\",color='Height', height=600)\n",
    "fig.show()"
   ]
  },
  {
   "attachments": {},
   "cell_type": "markdown",
   "metadata": {},
   "source": [
    "**Converting weight data in pokemon_data1 into float numbers and visualizing them.**"
   ]
  },
  {
   "cell_type": "code",
   "execution_count": 19,
   "metadata": {},
   "outputs": [
    {
     "data": {
      "application/vnd.plotly.v1+json": {
       "config": {
        "plotlyServerURL": "https://plot.ly"
       },
       "data": [
        {
         "alignmentgroup": "True",
         "hovertemplate": "Name=%{x}<br>Weight=%{marker.color}<extra></extra>",
         "legendgroup": "",
         "marker": {
          "color": [
           999.9,
           999.9,
           999.7,
           950,
           950,
           920,
           888,
           850,
           820,
           809.1,
           800,
           800,
           785,
           750,
           700,
           699.7,
           683,
           660,
           650,
           650,
           610,
           550,
           520,
           505,
           490,
           460,
           460,
           430,
           430,
           420,
           415.6,
           400,
           398,
           380.7,
           380,
           360,
           355,
           352,
           350,
           345,
           340,
           336,
           334.1,
           333.6,
           330,
           330,
           326.5,
           325,
           325,
           325
          ],
          "coloraxis": "coloraxis"
         },
         "name": "",
         "offsetgroup": "",
         "orientation": "v",
         "showlegend": false,
         "textposition": "auto",
         "type": "bar",
         "x": [
          "Celesteela",
          "Cosmoem",
          "Primal Groudon",
          "Eternatus",
          "Groudon",
          "Mudsdale",
          "Guzzlord",
          "Dialga Origin Form",
          "Stakataka",
          "Calyrex Ice Rider",
          "Melmetal",
          "Glastrier",
          "Zamazenta Crowned Shield",
          "Giratina",
          "Cetitan",
          "Ting-Lu",
          "Dialga",
          "Palkia Origin Form",
          "Giratina Origin Form",
          "Copperajah",
          "Zygarde Complete Form",
          "Metagross",
          "Stonjourner",
          "Avalugg",
          "Unbound Hoopa",
          "Snorlax",
          "Dusk Mane Necrozma",
          "Heatran",
          "Primal Kyogre",
          "Regigigas",
          "Alolan Exeggutor",
          "Steelix",
          "Wailord",
          "Iron Hands",
          "Roaring Moon",
          "Aggron",
          "Zacian Crowned Sword",
          "Kyogre",
          "Dawn Wings Necrozma",
          "Zekrom",
          "Probopass",
          "Palkia",
          "Hisuian Goodra",
          "Buzzwole",
          "Golurk",
          "Reshiram",
          "Skeledirge",
          "White Kyurem",
          "Black Kyurem",
          "Kyurem"
         ],
         "xaxis": "x",
         "y": [
          999.9,
          999.9,
          999.7,
          950,
          950,
          920,
          888,
          850,
          820,
          809.1,
          800,
          800,
          785,
          750,
          700,
          699.7,
          683,
          660,
          650,
          650,
          610,
          550,
          520,
          505,
          490,
          460,
          460,
          430,
          430,
          420,
          415.6,
          400,
          398,
          380.7,
          380,
          360,
          355,
          352,
          350,
          345,
          340,
          336,
          334.1,
          333.6,
          330,
          330,
          326.5,
          325,
          325,
          325
         ],
         "yaxis": "y"
        }
       ],
       "layout": {
        "barmode": "relative",
        "coloraxis": {
         "colorbar": {
          "title": {
           "text": "Weight"
          }
         },
         "colorscale": [
          [
           0,
           "#0d0887"
          ],
          [
           0.1111111111111111,
           "#46039f"
          ],
          [
           0.2222222222222222,
           "#7201a8"
          ],
          [
           0.3333333333333333,
           "#9c179e"
          ],
          [
           0.4444444444444444,
           "#bd3786"
          ],
          [
           0.5555555555555556,
           "#d8576b"
          ],
          [
           0.6666666666666666,
           "#ed7953"
          ],
          [
           0.7777777777777778,
           "#fb9f3a"
          ],
          [
           0.8888888888888888,
           "#fdca26"
          ],
          [
           1,
           "#f0f921"
          ]
         ]
        },
        "height": 600,
        "legend": {
         "tracegroupgap": 0
        },
        "template": {
         "data": {
          "bar": [
           {
            "error_x": {
             "color": "#2a3f5f"
            },
            "error_y": {
             "color": "#2a3f5f"
            },
            "marker": {
             "line": {
              "color": "#E5ECF6",
              "width": 0.5
             }
            },
            "type": "bar"
           }
          ],
          "barpolar": [
           {
            "marker": {
             "line": {
              "color": "#E5ECF6",
              "width": 0.5
             }
            },
            "type": "barpolar"
           }
          ],
          "carpet": [
           {
            "aaxis": {
             "endlinecolor": "#2a3f5f",
             "gridcolor": "white",
             "linecolor": "white",
             "minorgridcolor": "white",
             "startlinecolor": "#2a3f5f"
            },
            "baxis": {
             "endlinecolor": "#2a3f5f",
             "gridcolor": "white",
             "linecolor": "white",
             "minorgridcolor": "white",
             "startlinecolor": "#2a3f5f"
            },
            "type": "carpet"
           }
          ],
          "choropleth": [
           {
            "colorbar": {
             "outlinewidth": 0,
             "ticks": ""
            },
            "type": "choropleth"
           }
          ],
          "contour": [
           {
            "colorbar": {
             "outlinewidth": 0,
             "ticks": ""
            },
            "colorscale": [
             [
              0,
              "#0d0887"
             ],
             [
              0.1111111111111111,
              "#46039f"
             ],
             [
              0.2222222222222222,
              "#7201a8"
             ],
             [
              0.3333333333333333,
              "#9c179e"
             ],
             [
              0.4444444444444444,
              "#bd3786"
             ],
             [
              0.5555555555555556,
              "#d8576b"
             ],
             [
              0.6666666666666666,
              "#ed7953"
             ],
             [
              0.7777777777777778,
              "#fb9f3a"
             ],
             [
              0.8888888888888888,
              "#fdca26"
             ],
             [
              1,
              "#f0f921"
             ]
            ],
            "type": "contour"
           }
          ],
          "contourcarpet": [
           {
            "colorbar": {
             "outlinewidth": 0,
             "ticks": ""
            },
            "type": "contourcarpet"
           }
          ],
          "heatmap": [
           {
            "colorbar": {
             "outlinewidth": 0,
             "ticks": ""
            },
            "colorscale": [
             [
              0,
              "#0d0887"
             ],
             [
              0.1111111111111111,
              "#46039f"
             ],
             [
              0.2222222222222222,
              "#7201a8"
             ],
             [
              0.3333333333333333,
              "#9c179e"
             ],
             [
              0.4444444444444444,
              "#bd3786"
             ],
             [
              0.5555555555555556,
              "#d8576b"
             ],
             [
              0.6666666666666666,
              "#ed7953"
             ],
             [
              0.7777777777777778,
              "#fb9f3a"
             ],
             [
              0.8888888888888888,
              "#fdca26"
             ],
             [
              1,
              "#f0f921"
             ]
            ],
            "type": "heatmap"
           }
          ],
          "heatmapgl": [
           {
            "colorbar": {
             "outlinewidth": 0,
             "ticks": ""
            },
            "colorscale": [
             [
              0,
              "#0d0887"
             ],
             [
              0.1111111111111111,
              "#46039f"
             ],
             [
              0.2222222222222222,
              "#7201a8"
             ],
             [
              0.3333333333333333,
              "#9c179e"
             ],
             [
              0.4444444444444444,
              "#bd3786"
             ],
             [
              0.5555555555555556,
              "#d8576b"
             ],
             [
              0.6666666666666666,
              "#ed7953"
             ],
             [
              0.7777777777777778,
              "#fb9f3a"
             ],
             [
              0.8888888888888888,
              "#fdca26"
             ],
             [
              1,
              "#f0f921"
             ]
            ],
            "type": "heatmapgl"
           }
          ],
          "histogram": [
           {
            "marker": {
             "colorbar": {
              "outlinewidth": 0,
              "ticks": ""
             }
            },
            "type": "histogram"
           }
          ],
          "histogram2d": [
           {
            "colorbar": {
             "outlinewidth": 0,
             "ticks": ""
            },
            "colorscale": [
             [
              0,
              "#0d0887"
             ],
             [
              0.1111111111111111,
              "#46039f"
             ],
             [
              0.2222222222222222,
              "#7201a8"
             ],
             [
              0.3333333333333333,
              "#9c179e"
             ],
             [
              0.4444444444444444,
              "#bd3786"
             ],
             [
              0.5555555555555556,
              "#d8576b"
             ],
             [
              0.6666666666666666,
              "#ed7953"
             ],
             [
              0.7777777777777778,
              "#fb9f3a"
             ],
             [
              0.8888888888888888,
              "#fdca26"
             ],
             [
              1,
              "#f0f921"
             ]
            ],
            "type": "histogram2d"
           }
          ],
          "histogram2dcontour": [
           {
            "colorbar": {
             "outlinewidth": 0,
             "ticks": ""
            },
            "colorscale": [
             [
              0,
              "#0d0887"
             ],
             [
              0.1111111111111111,
              "#46039f"
             ],
             [
              0.2222222222222222,
              "#7201a8"
             ],
             [
              0.3333333333333333,
              "#9c179e"
             ],
             [
              0.4444444444444444,
              "#bd3786"
             ],
             [
              0.5555555555555556,
              "#d8576b"
             ],
             [
              0.6666666666666666,
              "#ed7953"
             ],
             [
              0.7777777777777778,
              "#fb9f3a"
             ],
             [
              0.8888888888888888,
              "#fdca26"
             ],
             [
              1,
              "#f0f921"
             ]
            ],
            "type": "histogram2dcontour"
           }
          ],
          "mesh3d": [
           {
            "colorbar": {
             "outlinewidth": 0,
             "ticks": ""
            },
            "type": "mesh3d"
           }
          ],
          "parcoords": [
           {
            "line": {
             "colorbar": {
              "outlinewidth": 0,
              "ticks": ""
             }
            },
            "type": "parcoords"
           }
          ],
          "pie": [
           {
            "automargin": true,
            "type": "pie"
           }
          ],
          "scatter": [
           {
            "marker": {
             "colorbar": {
              "outlinewidth": 0,
              "ticks": ""
             }
            },
            "type": "scatter"
           }
          ],
          "scatter3d": [
           {
            "line": {
             "colorbar": {
              "outlinewidth": 0,
              "ticks": ""
             }
            },
            "marker": {
             "colorbar": {
              "outlinewidth": 0,
              "ticks": ""
             }
            },
            "type": "scatter3d"
           }
          ],
          "scattercarpet": [
           {
            "marker": {
             "colorbar": {
              "outlinewidth": 0,
              "ticks": ""
             }
            },
            "type": "scattercarpet"
           }
          ],
          "scattergeo": [
           {
            "marker": {
             "colorbar": {
              "outlinewidth": 0,
              "ticks": ""
             }
            },
            "type": "scattergeo"
           }
          ],
          "scattergl": [
           {
            "marker": {
             "colorbar": {
              "outlinewidth": 0,
              "ticks": ""
             }
            },
            "type": "scattergl"
           }
          ],
          "scattermapbox": [
           {
            "marker": {
             "colorbar": {
              "outlinewidth": 0,
              "ticks": ""
             }
            },
            "type": "scattermapbox"
           }
          ],
          "scatterpolar": [
           {
            "marker": {
             "colorbar": {
              "outlinewidth": 0,
              "ticks": ""
             }
            },
            "type": "scatterpolar"
           }
          ],
          "scatterpolargl": [
           {
            "marker": {
             "colorbar": {
              "outlinewidth": 0,
              "ticks": ""
             }
            },
            "type": "scatterpolargl"
           }
          ],
          "scatterternary": [
           {
            "marker": {
             "colorbar": {
              "outlinewidth": 0,
              "ticks": ""
             }
            },
            "type": "scatterternary"
           }
          ],
          "surface": [
           {
            "colorbar": {
             "outlinewidth": 0,
             "ticks": ""
            },
            "colorscale": [
             [
              0,
              "#0d0887"
             ],
             [
              0.1111111111111111,
              "#46039f"
             ],
             [
              0.2222222222222222,
              "#7201a8"
             ],
             [
              0.3333333333333333,
              "#9c179e"
             ],
             [
              0.4444444444444444,
              "#bd3786"
             ],
             [
              0.5555555555555556,
              "#d8576b"
             ],
             [
              0.6666666666666666,
              "#ed7953"
             ],
             [
              0.7777777777777778,
              "#fb9f3a"
             ],
             [
              0.8888888888888888,
              "#fdca26"
             ],
             [
              1,
              "#f0f921"
             ]
            ],
            "type": "surface"
           }
          ],
          "table": [
           {
            "cells": {
             "fill": {
              "color": "#EBF0F8"
             },
             "line": {
              "color": "white"
             }
            },
            "header": {
             "fill": {
              "color": "#C8D4E3"
             },
             "line": {
              "color": "white"
             }
            },
            "type": "table"
           }
          ]
         },
         "layout": {
          "annotationdefaults": {
           "arrowcolor": "#2a3f5f",
           "arrowhead": 0,
           "arrowwidth": 1
          },
          "autotypenumbers": "strict",
          "coloraxis": {
           "colorbar": {
            "outlinewidth": 0,
            "ticks": ""
           }
          },
          "colorscale": {
           "diverging": [
            [
             0,
             "#8e0152"
            ],
            [
             0.1,
             "#c51b7d"
            ],
            [
             0.2,
             "#de77ae"
            ],
            [
             0.3,
             "#f1b6da"
            ],
            [
             0.4,
             "#fde0ef"
            ],
            [
             0.5,
             "#f7f7f7"
            ],
            [
             0.6,
             "#e6f5d0"
            ],
            [
             0.7,
             "#b8e186"
            ],
            [
             0.8,
             "#7fbc41"
            ],
            [
             0.9,
             "#4d9221"
            ],
            [
             1,
             "#276419"
            ]
           ],
           "sequential": [
            [
             0,
             "#0d0887"
            ],
            [
             0.1111111111111111,
             "#46039f"
            ],
            [
             0.2222222222222222,
             "#7201a8"
            ],
            [
             0.3333333333333333,
             "#9c179e"
            ],
            [
             0.4444444444444444,
             "#bd3786"
            ],
            [
             0.5555555555555556,
             "#d8576b"
            ],
            [
             0.6666666666666666,
             "#ed7953"
            ],
            [
             0.7777777777777778,
             "#fb9f3a"
            ],
            [
             0.8888888888888888,
             "#fdca26"
            ],
            [
             1,
             "#f0f921"
            ]
           ],
           "sequentialminus": [
            [
             0,
             "#0d0887"
            ],
            [
             0.1111111111111111,
             "#46039f"
            ],
            [
             0.2222222222222222,
             "#7201a8"
            ],
            [
             0.3333333333333333,
             "#9c179e"
            ],
            [
             0.4444444444444444,
             "#bd3786"
            ],
            [
             0.5555555555555556,
             "#d8576b"
            ],
            [
             0.6666666666666666,
             "#ed7953"
            ],
            [
             0.7777777777777778,
             "#fb9f3a"
            ],
            [
             0.8888888888888888,
             "#fdca26"
            ],
            [
             1,
             "#f0f921"
            ]
           ]
          },
          "colorway": [
           "#636efa",
           "#EF553B",
           "#00cc96",
           "#ab63fa",
           "#FFA15A",
           "#19d3f3",
           "#FF6692",
           "#B6E880",
           "#FF97FF",
           "#FECB52"
          ],
          "font": {
           "color": "#2a3f5f"
          },
          "geo": {
           "bgcolor": "white",
           "lakecolor": "white",
           "landcolor": "#E5ECF6",
           "showlakes": true,
           "showland": true,
           "subunitcolor": "white"
          },
          "hoverlabel": {
           "align": "left"
          },
          "hovermode": "closest",
          "mapbox": {
           "style": "light"
          },
          "paper_bgcolor": "white",
          "plot_bgcolor": "#E5ECF6",
          "polar": {
           "angularaxis": {
            "gridcolor": "white",
            "linecolor": "white",
            "ticks": ""
           },
           "bgcolor": "#E5ECF6",
           "radialaxis": {
            "gridcolor": "white",
            "linecolor": "white",
            "ticks": ""
           }
          },
          "scene": {
           "xaxis": {
            "backgroundcolor": "#E5ECF6",
            "gridcolor": "white",
            "gridwidth": 2,
            "linecolor": "white",
            "showbackground": true,
            "ticks": "",
            "zerolinecolor": "white"
           },
           "yaxis": {
            "backgroundcolor": "#E5ECF6",
            "gridcolor": "white",
            "gridwidth": 2,
            "linecolor": "white",
            "showbackground": true,
            "ticks": "",
            "zerolinecolor": "white"
           },
           "zaxis": {
            "backgroundcolor": "#E5ECF6",
            "gridcolor": "white",
            "gridwidth": 2,
            "linecolor": "white",
            "showbackground": true,
            "ticks": "",
            "zerolinecolor": "white"
           }
          },
          "shapedefaults": {
           "line": {
            "color": "#2a3f5f"
           }
          },
          "ternary": {
           "aaxis": {
            "gridcolor": "white",
            "linecolor": "white",
            "ticks": ""
           },
           "baxis": {
            "gridcolor": "white",
            "linecolor": "white",
            "ticks": ""
           },
           "bgcolor": "#E5ECF6",
           "caxis": {
            "gridcolor": "white",
            "linecolor": "white",
            "ticks": ""
           }
          },
          "title": {
           "x": 0.05
          },
          "xaxis": {
           "automargin": true,
           "gridcolor": "white",
           "linecolor": "white",
           "ticks": "",
           "title": {
            "standoff": 15
           },
           "zerolinecolor": "white",
           "zerolinewidth": 2
          },
          "yaxis": {
           "automargin": true,
           "gridcolor": "white",
           "linecolor": "white",
           "ticks": "",
           "title": {
            "standoff": 15
           },
           "zerolinecolor": "white",
           "zerolinewidth": 2
          }
         }
        },
        "title": {
         "text": "Top 50 Pokemon Weight"
        },
        "xaxis": {
         "anchor": "y",
         "domain": [
          0,
          1
         ],
         "title": {
          "text": "Name"
         }
        },
        "yaxis": {
         "anchor": "x",
         "domain": [
          0,
          1
         ],
         "title": {
          "text": "Weight"
         }
        }
       }
      }
     },
     "metadata": {},
     "output_type": "display_data"
    }
   ],
   "source": [
    "pokemon_weight = pokemon_data1[[\"Name\", \"Weight\"]]\n",
    "pokemon_weight['Weight'] = pokemon_weight.Weight.apply(lambda x: x.replace(\"kg\",\"\"))\n",
    "pokemon_weight = pokemon_weight.astype({\"Weight\": float})\n",
    "pokemon_weight = pokemon_weight.sort_values(by = \"Weight\", ascending = False)\n",
    "pokemon_weight_top50 = pokemon_weight.head(50)\n",
    "px.bar(pokemon_weight_top50, x = \"Name\", y = \"Weight\", title = \"Top 50 Pokemon Weight\",color='Weight', height=600)"
   ]
  },
  {
   "attachments": {},
   "cell_type": "markdown",
   "metadata": {},
   "source": [
    "**Plotting average total ability by generation**"
   ]
  },
  {
   "attachments": {},
   "cell_type": "markdown",
   "metadata": {},
   "source": [
    "In many games that last for years, there is often an issue called \"data exploation\", which means as newer versions of game comes out, data of the previous generations become relatively weaker. However in pokemon this is not the case."
   ]
  },
  {
   "cell_type": "code",
   "execution_count": 20,
   "metadata": {},
   "outputs": [
    {
     "data": {
      "application/vnd.plotly.v1+json": {
       "config": {
        "plotlyServerURL": "https://plot.ly"
       },
       "data": [
        {
         "alignmentgroup": "True",
         "error_y": {
          "array": [
           7.272472910886722,
           10.917273561968758,
           10.244177282047689,
           10.982314160598639,
           7.962378408537059,
           12.360245797807757,
           11.604500741836965,
           13.190207003885638,
           11.425624238427694
          ]
         },
         "hovertemplate": "Generation=%{x}<br>Total=%{marker.color}<extra></extra>",
         "legendgroup": "",
         "marker": {
          "color": [
           411.28877005347596,
           406.73333333333335,
           412.15862068965515,
           450.38524590163934,
           434.0223463687151,
           441.8735632183908,
           463.9428571428571,
           459.19444444444446,
           445.5238095238095
          ],
          "coloraxis": "coloraxis"
         },
         "name": "",
         "offsetgroup": "",
         "orientation": "v",
         "showlegend": false,
         "textposition": "auto",
         "type": "bar",
         "x": [
          1,
          2,
          3,
          4,
          5,
          6,
          7,
          8,
          9
         ],
         "xaxis": "x",
         "y": [
          411.28877005347596,
          406.73333333333335,
          412.15862068965515,
          450.38524590163934,
          434.0223463687151,
          441.8735632183908,
          463.9428571428571,
          459.19444444444446,
          445.5238095238095
         ],
         "yaxis": "y"
        }
       ],
       "layout": {
        "barmode": "relative",
        "coloraxis": {
         "colorbar": {
          "title": {
           "text": "Total"
          }
         },
         "colorscale": [
          [
           0,
           "#0d0887"
          ],
          [
           0.1111111111111111,
           "#46039f"
          ],
          [
           0.2222222222222222,
           "#7201a8"
          ],
          [
           0.3333333333333333,
           "#9c179e"
          ],
          [
           0.4444444444444444,
           "#bd3786"
          ],
          [
           0.5555555555555556,
           "#d8576b"
          ],
          [
           0.6666666666666666,
           "#ed7953"
          ],
          [
           0.7777777777777778,
           "#fb9f3a"
          ],
          [
           0.8888888888888888,
           "#fdca26"
          ],
          [
           1,
           "#f0f921"
          ]
         ]
        },
        "height": 600,
        "legend": {
         "tracegroupgap": 0
        },
        "template": {
         "data": {
          "bar": [
           {
            "error_x": {
             "color": "#2a3f5f"
            },
            "error_y": {
             "color": "#2a3f5f"
            },
            "marker": {
             "line": {
              "color": "#E5ECF6",
              "width": 0.5
             }
            },
            "type": "bar"
           }
          ],
          "barpolar": [
           {
            "marker": {
             "line": {
              "color": "#E5ECF6",
              "width": 0.5
             }
            },
            "type": "barpolar"
           }
          ],
          "carpet": [
           {
            "aaxis": {
             "endlinecolor": "#2a3f5f",
             "gridcolor": "white",
             "linecolor": "white",
             "minorgridcolor": "white",
             "startlinecolor": "#2a3f5f"
            },
            "baxis": {
             "endlinecolor": "#2a3f5f",
             "gridcolor": "white",
             "linecolor": "white",
             "minorgridcolor": "white",
             "startlinecolor": "#2a3f5f"
            },
            "type": "carpet"
           }
          ],
          "choropleth": [
           {
            "colorbar": {
             "outlinewidth": 0,
             "ticks": ""
            },
            "type": "choropleth"
           }
          ],
          "contour": [
           {
            "colorbar": {
             "outlinewidth": 0,
             "ticks": ""
            },
            "colorscale": [
             [
              0,
              "#0d0887"
             ],
             [
              0.1111111111111111,
              "#46039f"
             ],
             [
              0.2222222222222222,
              "#7201a8"
             ],
             [
              0.3333333333333333,
              "#9c179e"
             ],
             [
              0.4444444444444444,
              "#bd3786"
             ],
             [
              0.5555555555555556,
              "#d8576b"
             ],
             [
              0.6666666666666666,
              "#ed7953"
             ],
             [
              0.7777777777777778,
              "#fb9f3a"
             ],
             [
              0.8888888888888888,
              "#fdca26"
             ],
             [
              1,
              "#f0f921"
             ]
            ],
            "type": "contour"
           }
          ],
          "contourcarpet": [
           {
            "colorbar": {
             "outlinewidth": 0,
             "ticks": ""
            },
            "type": "contourcarpet"
           }
          ],
          "heatmap": [
           {
            "colorbar": {
             "outlinewidth": 0,
             "ticks": ""
            },
            "colorscale": [
             [
              0,
              "#0d0887"
             ],
             [
              0.1111111111111111,
              "#46039f"
             ],
             [
              0.2222222222222222,
              "#7201a8"
             ],
             [
              0.3333333333333333,
              "#9c179e"
             ],
             [
              0.4444444444444444,
              "#bd3786"
             ],
             [
              0.5555555555555556,
              "#d8576b"
             ],
             [
              0.6666666666666666,
              "#ed7953"
             ],
             [
              0.7777777777777778,
              "#fb9f3a"
             ],
             [
              0.8888888888888888,
              "#fdca26"
             ],
             [
              1,
              "#f0f921"
             ]
            ],
            "type": "heatmap"
           }
          ],
          "heatmapgl": [
           {
            "colorbar": {
             "outlinewidth": 0,
             "ticks": ""
            },
            "colorscale": [
             [
              0,
              "#0d0887"
             ],
             [
              0.1111111111111111,
              "#46039f"
             ],
             [
              0.2222222222222222,
              "#7201a8"
             ],
             [
              0.3333333333333333,
              "#9c179e"
             ],
             [
              0.4444444444444444,
              "#bd3786"
             ],
             [
              0.5555555555555556,
              "#d8576b"
             ],
             [
              0.6666666666666666,
              "#ed7953"
             ],
             [
              0.7777777777777778,
              "#fb9f3a"
             ],
             [
              0.8888888888888888,
              "#fdca26"
             ],
             [
              1,
              "#f0f921"
             ]
            ],
            "type": "heatmapgl"
           }
          ],
          "histogram": [
           {
            "marker": {
             "colorbar": {
              "outlinewidth": 0,
              "ticks": ""
             }
            },
            "type": "histogram"
           }
          ],
          "histogram2d": [
           {
            "colorbar": {
             "outlinewidth": 0,
             "ticks": ""
            },
            "colorscale": [
             [
              0,
              "#0d0887"
             ],
             [
              0.1111111111111111,
              "#46039f"
             ],
             [
              0.2222222222222222,
              "#7201a8"
             ],
             [
              0.3333333333333333,
              "#9c179e"
             ],
             [
              0.4444444444444444,
              "#bd3786"
             ],
             [
              0.5555555555555556,
              "#d8576b"
             ],
             [
              0.6666666666666666,
              "#ed7953"
             ],
             [
              0.7777777777777778,
              "#fb9f3a"
             ],
             [
              0.8888888888888888,
              "#fdca26"
             ],
             [
              1,
              "#f0f921"
             ]
            ],
            "type": "histogram2d"
           }
          ],
          "histogram2dcontour": [
           {
            "colorbar": {
             "outlinewidth": 0,
             "ticks": ""
            },
            "colorscale": [
             [
              0,
              "#0d0887"
             ],
             [
              0.1111111111111111,
              "#46039f"
             ],
             [
              0.2222222222222222,
              "#7201a8"
             ],
             [
              0.3333333333333333,
              "#9c179e"
             ],
             [
              0.4444444444444444,
              "#bd3786"
             ],
             [
              0.5555555555555556,
              "#d8576b"
             ],
             [
              0.6666666666666666,
              "#ed7953"
             ],
             [
              0.7777777777777778,
              "#fb9f3a"
             ],
             [
              0.8888888888888888,
              "#fdca26"
             ],
             [
              1,
              "#f0f921"
             ]
            ],
            "type": "histogram2dcontour"
           }
          ],
          "mesh3d": [
           {
            "colorbar": {
             "outlinewidth": 0,
             "ticks": ""
            },
            "type": "mesh3d"
           }
          ],
          "parcoords": [
           {
            "line": {
             "colorbar": {
              "outlinewidth": 0,
              "ticks": ""
             }
            },
            "type": "parcoords"
           }
          ],
          "pie": [
           {
            "automargin": true,
            "type": "pie"
           }
          ],
          "scatter": [
           {
            "marker": {
             "colorbar": {
              "outlinewidth": 0,
              "ticks": ""
             }
            },
            "type": "scatter"
           }
          ],
          "scatter3d": [
           {
            "line": {
             "colorbar": {
              "outlinewidth": 0,
              "ticks": ""
             }
            },
            "marker": {
             "colorbar": {
              "outlinewidth": 0,
              "ticks": ""
             }
            },
            "type": "scatter3d"
           }
          ],
          "scattercarpet": [
           {
            "marker": {
             "colorbar": {
              "outlinewidth": 0,
              "ticks": ""
             }
            },
            "type": "scattercarpet"
           }
          ],
          "scattergeo": [
           {
            "marker": {
             "colorbar": {
              "outlinewidth": 0,
              "ticks": ""
             }
            },
            "type": "scattergeo"
           }
          ],
          "scattergl": [
           {
            "marker": {
             "colorbar": {
              "outlinewidth": 0,
              "ticks": ""
             }
            },
            "type": "scattergl"
           }
          ],
          "scattermapbox": [
           {
            "marker": {
             "colorbar": {
              "outlinewidth": 0,
              "ticks": ""
             }
            },
            "type": "scattermapbox"
           }
          ],
          "scatterpolar": [
           {
            "marker": {
             "colorbar": {
              "outlinewidth": 0,
              "ticks": ""
             }
            },
            "type": "scatterpolar"
           }
          ],
          "scatterpolargl": [
           {
            "marker": {
             "colorbar": {
              "outlinewidth": 0,
              "ticks": ""
             }
            },
            "type": "scatterpolargl"
           }
          ],
          "scatterternary": [
           {
            "marker": {
             "colorbar": {
              "outlinewidth": 0,
              "ticks": ""
             }
            },
            "type": "scatterternary"
           }
          ],
          "surface": [
           {
            "colorbar": {
             "outlinewidth": 0,
             "ticks": ""
            },
            "colorscale": [
             [
              0,
              "#0d0887"
             ],
             [
              0.1111111111111111,
              "#46039f"
             ],
             [
              0.2222222222222222,
              "#7201a8"
             ],
             [
              0.3333333333333333,
              "#9c179e"
             ],
             [
              0.4444444444444444,
              "#bd3786"
             ],
             [
              0.5555555555555556,
              "#d8576b"
             ],
             [
              0.6666666666666666,
              "#ed7953"
             ],
             [
              0.7777777777777778,
              "#fb9f3a"
             ],
             [
              0.8888888888888888,
              "#fdca26"
             ],
             [
              1,
              "#f0f921"
             ]
            ],
            "type": "surface"
           }
          ],
          "table": [
           {
            "cells": {
             "fill": {
              "color": "#EBF0F8"
             },
             "line": {
              "color": "white"
             }
            },
            "header": {
             "fill": {
              "color": "#C8D4E3"
             },
             "line": {
              "color": "white"
             }
            },
            "type": "table"
           }
          ]
         },
         "layout": {
          "annotationdefaults": {
           "arrowcolor": "#2a3f5f",
           "arrowhead": 0,
           "arrowwidth": 1
          },
          "autotypenumbers": "strict",
          "coloraxis": {
           "colorbar": {
            "outlinewidth": 0,
            "ticks": ""
           }
          },
          "colorscale": {
           "diverging": [
            [
             0,
             "#8e0152"
            ],
            [
             0.1,
             "#c51b7d"
            ],
            [
             0.2,
             "#de77ae"
            ],
            [
             0.3,
             "#f1b6da"
            ],
            [
             0.4,
             "#fde0ef"
            ],
            [
             0.5,
             "#f7f7f7"
            ],
            [
             0.6,
             "#e6f5d0"
            ],
            [
             0.7,
             "#b8e186"
            ],
            [
             0.8,
             "#7fbc41"
            ],
            [
             0.9,
             "#4d9221"
            ],
            [
             1,
             "#276419"
            ]
           ],
           "sequential": [
            [
             0,
             "#0d0887"
            ],
            [
             0.1111111111111111,
             "#46039f"
            ],
            [
             0.2222222222222222,
             "#7201a8"
            ],
            [
             0.3333333333333333,
             "#9c179e"
            ],
            [
             0.4444444444444444,
             "#bd3786"
            ],
            [
             0.5555555555555556,
             "#d8576b"
            ],
            [
             0.6666666666666666,
             "#ed7953"
            ],
            [
             0.7777777777777778,
             "#fb9f3a"
            ],
            [
             0.8888888888888888,
             "#fdca26"
            ],
            [
             1,
             "#f0f921"
            ]
           ],
           "sequentialminus": [
            [
             0,
             "#0d0887"
            ],
            [
             0.1111111111111111,
             "#46039f"
            ],
            [
             0.2222222222222222,
             "#7201a8"
            ],
            [
             0.3333333333333333,
             "#9c179e"
            ],
            [
             0.4444444444444444,
             "#bd3786"
            ],
            [
             0.5555555555555556,
             "#d8576b"
            ],
            [
             0.6666666666666666,
             "#ed7953"
            ],
            [
             0.7777777777777778,
             "#fb9f3a"
            ],
            [
             0.8888888888888888,
             "#fdca26"
            ],
            [
             1,
             "#f0f921"
            ]
           ]
          },
          "colorway": [
           "#636efa",
           "#EF553B",
           "#00cc96",
           "#ab63fa",
           "#FFA15A",
           "#19d3f3",
           "#FF6692",
           "#B6E880",
           "#FF97FF",
           "#FECB52"
          ],
          "font": {
           "color": "#2a3f5f"
          },
          "geo": {
           "bgcolor": "white",
           "lakecolor": "white",
           "landcolor": "#E5ECF6",
           "showlakes": true,
           "showland": true,
           "subunitcolor": "white"
          },
          "hoverlabel": {
           "align": "left"
          },
          "hovermode": "closest",
          "mapbox": {
           "style": "light"
          },
          "paper_bgcolor": "white",
          "plot_bgcolor": "#E5ECF6",
          "polar": {
           "angularaxis": {
            "gridcolor": "white",
            "linecolor": "white",
            "ticks": ""
           },
           "bgcolor": "#E5ECF6",
           "radialaxis": {
            "gridcolor": "white",
            "linecolor": "white",
            "ticks": ""
           }
          },
          "scene": {
           "xaxis": {
            "backgroundcolor": "#E5ECF6",
            "gridcolor": "white",
            "gridwidth": 2,
            "linecolor": "white",
            "showbackground": true,
            "ticks": "",
            "zerolinecolor": "white"
           },
           "yaxis": {
            "backgroundcolor": "#E5ECF6",
            "gridcolor": "white",
            "gridwidth": 2,
            "linecolor": "white",
            "showbackground": true,
            "ticks": "",
            "zerolinecolor": "white"
           },
           "zaxis": {
            "backgroundcolor": "#E5ECF6",
            "gridcolor": "white",
            "gridwidth": 2,
            "linecolor": "white",
            "showbackground": true,
            "ticks": "",
            "zerolinecolor": "white"
           }
          },
          "shapedefaults": {
           "line": {
            "color": "#2a3f5f"
           }
          },
          "ternary": {
           "aaxis": {
            "gridcolor": "white",
            "linecolor": "white",
            "ticks": ""
           },
           "baxis": {
            "gridcolor": "white",
            "linecolor": "white",
            "ticks": ""
           },
           "bgcolor": "#E5ECF6",
           "caxis": {
            "gridcolor": "white",
            "linecolor": "white",
            "ticks": ""
           }
          },
          "title": {
           "x": 0.05
          },
          "xaxis": {
           "automargin": true,
           "gridcolor": "white",
           "linecolor": "white",
           "ticks": "",
           "title": {
            "standoff": 15
           },
           "zerolinecolor": "white",
           "zerolinewidth": 2
          },
          "yaxis": {
           "automargin": true,
           "gridcolor": "white",
           "linecolor": "white",
           "ticks": "",
           "title": {
            "standoff": 15
           },
           "zerolinecolor": "white",
           "zerolinewidth": 2
          }
         }
        },
        "title": {
         "text": "Average Total Ability by Generation "
        },
        "xaxis": {
         "anchor": "y",
         "domain": [
          0,
          1
         ],
         "title": {
          "text": "Generation"
         }
        },
        "yaxis": {
         "anchor": "x",
         "domain": [
          0,
          1
         ],
         "title": {
          "text": "Total"
         }
        }
       }
      }
     },
     "metadata": {},
     "output_type": "display_data"
    }
   ],
   "source": [
    "pokemon_total = pokemon_data1[[\"Total\", \"Generation\"]]\n",
    "# mean of total by generation\n",
    "pokemon_total_mean_by_gen = pokemon_total.groupby(\"Generation\")['Total'].mean().reset_index()\n",
    "# standard error of total by generation, this is used to plot error bar\n",
    "# SE = s / sqrt(n), s is standard deviation, n is sample size\n",
    "pokemon_total_se_by_gen = pokemon_total.groupby('Generation')['Total'].agg(np.std) / np.sqrt(pokemon_total.groupby('Generation')['Total'].count())\n",
    "px.bar(pokemon_total_mean_by_gen, x = \"Generation\", y = \"Total\", error_y = pokemon_total_se_by_gen, title = \"Average Total Ability by Generation \",color='Total', height=600)"
   ]
  },
  {
   "attachments": {},
   "cell_type": "markdown",
   "metadata": {},
   "source": [
    "**Plotting get rate information**\n",
    "\n",
    "- What is the most hard-to-catch pokemon?\n",
    "- Is get rate changing among different generations?"
   ]
  },
  {
   "cell_type": "code",
   "execution_count": 21,
   "metadata": {},
   "outputs": [],
   "source": [
    "pokemon_get_rate = pokemon_data1[['Generation','Name','Get_Rate']]"
   ]
  },
  {
   "attachments": {},
   "cell_type": "markdown",
   "metadata": {},
   "source": [
    "Starting from Generation 5, we see a stable decreasing get rate."
   ]
  },
  {
   "cell_type": "code",
   "execution_count": 22,
   "metadata": {},
   "outputs": [
    {
     "data": {
      "application/vnd.plotly.v1+json": {
       "config": {
        "plotlyServerURL": "https://plot.ly"
       },
       "data": [
        {
         "alignmentgroup": "True",
         "error_y": {
          "array": [
           5.727779744515934,
           7.0315627413635235,
           7.037674553850034,
           6.107734056262368,
           5.699302730417464,
           7.471203709169176,
           7.978873858392696,
           7.8837920293747095,
           6.698537763069289
          ]
         },
         "hovertemplate": "Generation=%{x}<br>Get_Rate=%{marker.color}<extra></extra>",
         "legendgroup": "",
         "marker": {
          "color": [
           107.67379679144385,
           92.19047619047619,
           108.95172413793104,
           76.69672131147541,
           98.26815642458101,
           92.96551724137932,
           93.42857142857143,
           87.94444444444444,
           84.85714285714286
          ],
          "coloraxis": "coloraxis"
         },
         "name": "",
         "offsetgroup": "",
         "orientation": "v",
         "showlegend": false,
         "textposition": "auto",
         "type": "bar",
         "x": [
          1,
          2,
          3,
          4,
          5,
          6,
          7,
          8,
          9
         ],
         "xaxis": "x",
         "y": [
          107.67379679144385,
          92.19047619047619,
          108.95172413793104,
          76.69672131147541,
          98.26815642458101,
          92.96551724137932,
          93.42857142857143,
          87.94444444444444,
          84.85714285714286
         ],
         "yaxis": "y"
        }
       ],
       "layout": {
        "barmode": "relative",
        "coloraxis": {
         "colorbar": {
          "title": {
           "text": "Get_Rate"
          }
         },
         "colorscale": [
          [
           0,
           "#0d0887"
          ],
          [
           0.1111111111111111,
           "#46039f"
          ],
          [
           0.2222222222222222,
           "#7201a8"
          ],
          [
           0.3333333333333333,
           "#9c179e"
          ],
          [
           0.4444444444444444,
           "#bd3786"
          ],
          [
           0.5555555555555556,
           "#d8576b"
          ],
          [
           0.6666666666666666,
           "#ed7953"
          ],
          [
           0.7777777777777778,
           "#fb9f3a"
          ],
          [
           0.8888888888888888,
           "#fdca26"
          ],
          [
           1,
           "#f0f921"
          ]
         ]
        },
        "height": 600,
        "legend": {
         "tracegroupgap": 0
        },
        "template": {
         "data": {
          "bar": [
           {
            "error_x": {
             "color": "#2a3f5f"
            },
            "error_y": {
             "color": "#2a3f5f"
            },
            "marker": {
             "line": {
              "color": "#E5ECF6",
              "width": 0.5
             }
            },
            "type": "bar"
           }
          ],
          "barpolar": [
           {
            "marker": {
             "line": {
              "color": "#E5ECF6",
              "width": 0.5
             }
            },
            "type": "barpolar"
           }
          ],
          "carpet": [
           {
            "aaxis": {
             "endlinecolor": "#2a3f5f",
             "gridcolor": "white",
             "linecolor": "white",
             "minorgridcolor": "white",
             "startlinecolor": "#2a3f5f"
            },
            "baxis": {
             "endlinecolor": "#2a3f5f",
             "gridcolor": "white",
             "linecolor": "white",
             "minorgridcolor": "white",
             "startlinecolor": "#2a3f5f"
            },
            "type": "carpet"
           }
          ],
          "choropleth": [
           {
            "colorbar": {
             "outlinewidth": 0,
             "ticks": ""
            },
            "type": "choropleth"
           }
          ],
          "contour": [
           {
            "colorbar": {
             "outlinewidth": 0,
             "ticks": ""
            },
            "colorscale": [
             [
              0,
              "#0d0887"
             ],
             [
              0.1111111111111111,
              "#46039f"
             ],
             [
              0.2222222222222222,
              "#7201a8"
             ],
             [
              0.3333333333333333,
              "#9c179e"
             ],
             [
              0.4444444444444444,
              "#bd3786"
             ],
             [
              0.5555555555555556,
              "#d8576b"
             ],
             [
              0.6666666666666666,
              "#ed7953"
             ],
             [
              0.7777777777777778,
              "#fb9f3a"
             ],
             [
              0.8888888888888888,
              "#fdca26"
             ],
             [
              1,
              "#f0f921"
             ]
            ],
            "type": "contour"
           }
          ],
          "contourcarpet": [
           {
            "colorbar": {
             "outlinewidth": 0,
             "ticks": ""
            },
            "type": "contourcarpet"
           }
          ],
          "heatmap": [
           {
            "colorbar": {
             "outlinewidth": 0,
             "ticks": ""
            },
            "colorscale": [
             [
              0,
              "#0d0887"
             ],
             [
              0.1111111111111111,
              "#46039f"
             ],
             [
              0.2222222222222222,
              "#7201a8"
             ],
             [
              0.3333333333333333,
              "#9c179e"
             ],
             [
              0.4444444444444444,
              "#bd3786"
             ],
             [
              0.5555555555555556,
              "#d8576b"
             ],
             [
              0.6666666666666666,
              "#ed7953"
             ],
             [
              0.7777777777777778,
              "#fb9f3a"
             ],
             [
              0.8888888888888888,
              "#fdca26"
             ],
             [
              1,
              "#f0f921"
             ]
            ],
            "type": "heatmap"
           }
          ],
          "heatmapgl": [
           {
            "colorbar": {
             "outlinewidth": 0,
             "ticks": ""
            },
            "colorscale": [
             [
              0,
              "#0d0887"
             ],
             [
              0.1111111111111111,
              "#46039f"
             ],
             [
              0.2222222222222222,
              "#7201a8"
             ],
             [
              0.3333333333333333,
              "#9c179e"
             ],
             [
              0.4444444444444444,
              "#bd3786"
             ],
             [
              0.5555555555555556,
              "#d8576b"
             ],
             [
              0.6666666666666666,
              "#ed7953"
             ],
             [
              0.7777777777777778,
              "#fb9f3a"
             ],
             [
              0.8888888888888888,
              "#fdca26"
             ],
             [
              1,
              "#f0f921"
             ]
            ],
            "type": "heatmapgl"
           }
          ],
          "histogram": [
           {
            "marker": {
             "colorbar": {
              "outlinewidth": 0,
              "ticks": ""
             }
            },
            "type": "histogram"
           }
          ],
          "histogram2d": [
           {
            "colorbar": {
             "outlinewidth": 0,
             "ticks": ""
            },
            "colorscale": [
             [
              0,
              "#0d0887"
             ],
             [
              0.1111111111111111,
              "#46039f"
             ],
             [
              0.2222222222222222,
              "#7201a8"
             ],
             [
              0.3333333333333333,
              "#9c179e"
             ],
             [
              0.4444444444444444,
              "#bd3786"
             ],
             [
              0.5555555555555556,
              "#d8576b"
             ],
             [
              0.6666666666666666,
              "#ed7953"
             ],
             [
              0.7777777777777778,
              "#fb9f3a"
             ],
             [
              0.8888888888888888,
              "#fdca26"
             ],
             [
              1,
              "#f0f921"
             ]
            ],
            "type": "histogram2d"
           }
          ],
          "histogram2dcontour": [
           {
            "colorbar": {
             "outlinewidth": 0,
             "ticks": ""
            },
            "colorscale": [
             [
              0,
              "#0d0887"
             ],
             [
              0.1111111111111111,
              "#46039f"
             ],
             [
              0.2222222222222222,
              "#7201a8"
             ],
             [
              0.3333333333333333,
              "#9c179e"
             ],
             [
              0.4444444444444444,
              "#bd3786"
             ],
             [
              0.5555555555555556,
              "#d8576b"
             ],
             [
              0.6666666666666666,
              "#ed7953"
             ],
             [
              0.7777777777777778,
              "#fb9f3a"
             ],
             [
              0.8888888888888888,
              "#fdca26"
             ],
             [
              1,
              "#f0f921"
             ]
            ],
            "type": "histogram2dcontour"
           }
          ],
          "mesh3d": [
           {
            "colorbar": {
             "outlinewidth": 0,
             "ticks": ""
            },
            "type": "mesh3d"
           }
          ],
          "parcoords": [
           {
            "line": {
             "colorbar": {
              "outlinewidth": 0,
              "ticks": ""
             }
            },
            "type": "parcoords"
           }
          ],
          "pie": [
           {
            "automargin": true,
            "type": "pie"
           }
          ],
          "scatter": [
           {
            "marker": {
             "colorbar": {
              "outlinewidth": 0,
              "ticks": ""
             }
            },
            "type": "scatter"
           }
          ],
          "scatter3d": [
           {
            "line": {
             "colorbar": {
              "outlinewidth": 0,
              "ticks": ""
             }
            },
            "marker": {
             "colorbar": {
              "outlinewidth": 0,
              "ticks": ""
             }
            },
            "type": "scatter3d"
           }
          ],
          "scattercarpet": [
           {
            "marker": {
             "colorbar": {
              "outlinewidth": 0,
              "ticks": ""
             }
            },
            "type": "scattercarpet"
           }
          ],
          "scattergeo": [
           {
            "marker": {
             "colorbar": {
              "outlinewidth": 0,
              "ticks": ""
             }
            },
            "type": "scattergeo"
           }
          ],
          "scattergl": [
           {
            "marker": {
             "colorbar": {
              "outlinewidth": 0,
              "ticks": ""
             }
            },
            "type": "scattergl"
           }
          ],
          "scattermapbox": [
           {
            "marker": {
             "colorbar": {
              "outlinewidth": 0,
              "ticks": ""
             }
            },
            "type": "scattermapbox"
           }
          ],
          "scatterpolar": [
           {
            "marker": {
             "colorbar": {
              "outlinewidth": 0,
              "ticks": ""
             }
            },
            "type": "scatterpolar"
           }
          ],
          "scatterpolargl": [
           {
            "marker": {
             "colorbar": {
              "outlinewidth": 0,
              "ticks": ""
             }
            },
            "type": "scatterpolargl"
           }
          ],
          "scatterternary": [
           {
            "marker": {
             "colorbar": {
              "outlinewidth": 0,
              "ticks": ""
             }
            },
            "type": "scatterternary"
           }
          ],
          "surface": [
           {
            "colorbar": {
             "outlinewidth": 0,
             "ticks": ""
            },
            "colorscale": [
             [
              0,
              "#0d0887"
             ],
             [
              0.1111111111111111,
              "#46039f"
             ],
             [
              0.2222222222222222,
              "#7201a8"
             ],
             [
              0.3333333333333333,
              "#9c179e"
             ],
             [
              0.4444444444444444,
              "#bd3786"
             ],
             [
              0.5555555555555556,
              "#d8576b"
             ],
             [
              0.6666666666666666,
              "#ed7953"
             ],
             [
              0.7777777777777778,
              "#fb9f3a"
             ],
             [
              0.8888888888888888,
              "#fdca26"
             ],
             [
              1,
              "#f0f921"
             ]
            ],
            "type": "surface"
           }
          ],
          "table": [
           {
            "cells": {
             "fill": {
              "color": "#EBF0F8"
             },
             "line": {
              "color": "white"
             }
            },
            "header": {
             "fill": {
              "color": "#C8D4E3"
             },
             "line": {
              "color": "white"
             }
            },
            "type": "table"
           }
          ]
         },
         "layout": {
          "annotationdefaults": {
           "arrowcolor": "#2a3f5f",
           "arrowhead": 0,
           "arrowwidth": 1
          },
          "autotypenumbers": "strict",
          "coloraxis": {
           "colorbar": {
            "outlinewidth": 0,
            "ticks": ""
           }
          },
          "colorscale": {
           "diverging": [
            [
             0,
             "#8e0152"
            ],
            [
             0.1,
             "#c51b7d"
            ],
            [
             0.2,
             "#de77ae"
            ],
            [
             0.3,
             "#f1b6da"
            ],
            [
             0.4,
             "#fde0ef"
            ],
            [
             0.5,
             "#f7f7f7"
            ],
            [
             0.6,
             "#e6f5d0"
            ],
            [
             0.7,
             "#b8e186"
            ],
            [
             0.8,
             "#7fbc41"
            ],
            [
             0.9,
             "#4d9221"
            ],
            [
             1,
             "#276419"
            ]
           ],
           "sequential": [
            [
             0,
             "#0d0887"
            ],
            [
             0.1111111111111111,
             "#46039f"
            ],
            [
             0.2222222222222222,
             "#7201a8"
            ],
            [
             0.3333333333333333,
             "#9c179e"
            ],
            [
             0.4444444444444444,
             "#bd3786"
            ],
            [
             0.5555555555555556,
             "#d8576b"
            ],
            [
             0.6666666666666666,
             "#ed7953"
            ],
            [
             0.7777777777777778,
             "#fb9f3a"
            ],
            [
             0.8888888888888888,
             "#fdca26"
            ],
            [
             1,
             "#f0f921"
            ]
           ],
           "sequentialminus": [
            [
             0,
             "#0d0887"
            ],
            [
             0.1111111111111111,
             "#46039f"
            ],
            [
             0.2222222222222222,
             "#7201a8"
            ],
            [
             0.3333333333333333,
             "#9c179e"
            ],
            [
             0.4444444444444444,
             "#bd3786"
            ],
            [
             0.5555555555555556,
             "#d8576b"
            ],
            [
             0.6666666666666666,
             "#ed7953"
            ],
            [
             0.7777777777777778,
             "#fb9f3a"
            ],
            [
             0.8888888888888888,
             "#fdca26"
            ],
            [
             1,
             "#f0f921"
            ]
           ]
          },
          "colorway": [
           "#636efa",
           "#EF553B",
           "#00cc96",
           "#ab63fa",
           "#FFA15A",
           "#19d3f3",
           "#FF6692",
           "#B6E880",
           "#FF97FF",
           "#FECB52"
          ],
          "font": {
           "color": "#2a3f5f"
          },
          "geo": {
           "bgcolor": "white",
           "lakecolor": "white",
           "landcolor": "#E5ECF6",
           "showlakes": true,
           "showland": true,
           "subunitcolor": "white"
          },
          "hoverlabel": {
           "align": "left"
          },
          "hovermode": "closest",
          "mapbox": {
           "style": "light"
          },
          "paper_bgcolor": "white",
          "plot_bgcolor": "#E5ECF6",
          "polar": {
           "angularaxis": {
            "gridcolor": "white",
            "linecolor": "white",
            "ticks": ""
           },
           "bgcolor": "#E5ECF6",
           "radialaxis": {
            "gridcolor": "white",
            "linecolor": "white",
            "ticks": ""
           }
          },
          "scene": {
           "xaxis": {
            "backgroundcolor": "#E5ECF6",
            "gridcolor": "white",
            "gridwidth": 2,
            "linecolor": "white",
            "showbackground": true,
            "ticks": "",
            "zerolinecolor": "white"
           },
           "yaxis": {
            "backgroundcolor": "#E5ECF6",
            "gridcolor": "white",
            "gridwidth": 2,
            "linecolor": "white",
            "showbackground": true,
            "ticks": "",
            "zerolinecolor": "white"
           },
           "zaxis": {
            "backgroundcolor": "#E5ECF6",
            "gridcolor": "white",
            "gridwidth": 2,
            "linecolor": "white",
            "showbackground": true,
            "ticks": "",
            "zerolinecolor": "white"
           }
          },
          "shapedefaults": {
           "line": {
            "color": "#2a3f5f"
           }
          },
          "ternary": {
           "aaxis": {
            "gridcolor": "white",
            "linecolor": "white",
            "ticks": ""
           },
           "baxis": {
            "gridcolor": "white",
            "linecolor": "white",
            "ticks": ""
           },
           "bgcolor": "#E5ECF6",
           "caxis": {
            "gridcolor": "white",
            "linecolor": "white",
            "ticks": ""
           }
          },
          "title": {
           "x": 0.05
          },
          "xaxis": {
           "automargin": true,
           "gridcolor": "white",
           "linecolor": "white",
           "ticks": "",
           "title": {
            "standoff": 15
           },
           "zerolinecolor": "white",
           "zerolinewidth": 2
          },
          "yaxis": {
           "automargin": true,
           "gridcolor": "white",
           "linecolor": "white",
           "ticks": "",
           "title": {
            "standoff": 15
           },
           "zerolinecolor": "white",
           "zerolinewidth": 2
          }
         }
        },
        "title": {
         "text": "Average Get Rate by Generation "
        },
        "xaxis": {
         "anchor": "y",
         "domain": [
          0,
          1
         ],
         "title": {
          "text": "Generation"
         }
        },
        "yaxis": {
         "anchor": "x",
         "domain": [
          0,
          1
         ],
         "title": {
          "text": "Get_Rate"
         }
        }
       }
      }
     },
     "metadata": {},
     "output_type": "display_data"
    }
   ],
   "source": [
    "# mean of total by generation\n",
    "pokemon_rate_mean_by_gen = pokemon_get_rate.groupby(\"Generation\")['Get_Rate'].mean().reset_index()\n",
    "# standard error of total by generation, this is used to plot error bar\n",
    "# SE = s / sqrt(n), s is standard deviation, n is sample size\n",
    "pokemon_rate_se_by_gen = pokemon_get_rate.groupby('Generation')['Get_Rate'].agg(np.std) / np.sqrt(pokemon_get_rate.groupby('Generation')['Get_Rate'].count())\n",
    "px.bar(pokemon_rate_mean_by_gen, x = \"Generation\", y = \"Get_Rate\", error_y = pokemon_rate_se_by_gen, title = \"Average Get Rate by Generation \",color='Get_Rate', height=600)"
   ]
  },
  {
   "attachments": {},
   "cell_type": "markdown",
   "metadata": {},
   "source": [
    "To further emphasize the effct, we can do a t-test to examine the significance.\n",
    "\n",
    "We see that Gen5 has a higher get rate than gen 9, however with rather low significance."
   ]
  },
  {
   "cell_type": "code",
   "execution_count": 23,
   "metadata": {},
   "outputs": [
    {
     "data": {
      "text/plain": [
       "Ttest_indResult(statistic=1.4836227481546966, pvalue=0.1390258110612133)"
      ]
     },
     "execution_count": 23,
     "metadata": {},
     "output_type": "execute_result"
    }
   ],
   "source": [
    "pokemon_rate_gen5 = pokemon_get_rate[pokemon_get_rate['Generation'] == 5]\n",
    "pokemon_rate_gen9 = pokemon_get_rate[pokemon_get_rate['Generation'] == 9]\n",
    "stats.ttest_ind(pokemon_rate_gen5['Get_Rate'], pokemon_rate_gen9['Get_Rate'])"
   ]
  },
  {
   "attachments": {},
   "cell_type": "markdown",
   "metadata": {},
   "source": [
    "We now look at the hardest-to-catch pokemon, and which generation are they from."
   ]
  },
  {
   "cell_type": "code",
   "execution_count": 24,
   "metadata": {},
   "outputs": [
    {
     "data": {
      "application/vnd.plotly.v1+json": {
       "config": {
        "plotlyServerURL": "https://plot.ly"
       },
       "data": [
        {
         "alignmentgroup": "True",
         "hovertemplate": "Generation=%{x}<br>Name=%{marker.color}<extra></extra>",
         "legendgroup": "",
         "marker": {
          "color": [
           7,
           5,
           17,
           15,
           20,
           7,
           11,
           13,
           2
          ],
          "coloraxis": "coloraxis"
         },
         "name": "",
         "offsetgroup": "",
         "orientation": "v",
         "showlegend": false,
         "textposition": "auto",
         "type": "bar",
         "x": [
          1,
          2,
          3,
          4,
          5,
          6,
          7,
          8,
          9
         ],
         "xaxis": "x",
         "y": [
          7,
          5,
          17,
          15,
          20,
          7,
          11,
          13,
          2
         ],
         "yaxis": "y"
        }
       ],
       "layout": {
        "barmode": "relative",
        "coloraxis": {
         "colorbar": {
          "title": {
           "text": "Name"
          }
         },
         "colorscale": [
          [
           0,
           "#0d0887"
          ],
          [
           0.1111111111111111,
           "#46039f"
          ],
          [
           0.2222222222222222,
           "#7201a8"
          ],
          [
           0.3333333333333333,
           "#9c179e"
          ],
          [
           0.4444444444444444,
           "#bd3786"
          ],
          [
           0.5555555555555556,
           "#d8576b"
          ],
          [
           0.6666666666666666,
           "#ed7953"
          ],
          [
           0.7777777777777778,
           "#fb9f3a"
          ],
          [
           0.8888888888888888,
           "#fdca26"
          ],
          [
           1,
           "#f0f921"
          ]
         ]
        },
        "height": 600,
        "legend": {
         "tracegroupgap": 0
        },
        "template": {
         "data": {
          "bar": [
           {
            "error_x": {
             "color": "#2a3f5f"
            },
            "error_y": {
             "color": "#2a3f5f"
            },
            "marker": {
             "line": {
              "color": "#E5ECF6",
              "width": 0.5
             }
            },
            "type": "bar"
           }
          ],
          "barpolar": [
           {
            "marker": {
             "line": {
              "color": "#E5ECF6",
              "width": 0.5
             }
            },
            "type": "barpolar"
           }
          ],
          "carpet": [
           {
            "aaxis": {
             "endlinecolor": "#2a3f5f",
             "gridcolor": "white",
             "linecolor": "white",
             "minorgridcolor": "white",
             "startlinecolor": "#2a3f5f"
            },
            "baxis": {
             "endlinecolor": "#2a3f5f",
             "gridcolor": "white",
             "linecolor": "white",
             "minorgridcolor": "white",
             "startlinecolor": "#2a3f5f"
            },
            "type": "carpet"
           }
          ],
          "choropleth": [
           {
            "colorbar": {
             "outlinewidth": 0,
             "ticks": ""
            },
            "type": "choropleth"
           }
          ],
          "contour": [
           {
            "colorbar": {
             "outlinewidth": 0,
             "ticks": ""
            },
            "colorscale": [
             [
              0,
              "#0d0887"
             ],
             [
              0.1111111111111111,
              "#46039f"
             ],
             [
              0.2222222222222222,
              "#7201a8"
             ],
             [
              0.3333333333333333,
              "#9c179e"
             ],
             [
              0.4444444444444444,
              "#bd3786"
             ],
             [
              0.5555555555555556,
              "#d8576b"
             ],
             [
              0.6666666666666666,
              "#ed7953"
             ],
             [
              0.7777777777777778,
              "#fb9f3a"
             ],
             [
              0.8888888888888888,
              "#fdca26"
             ],
             [
              1,
              "#f0f921"
             ]
            ],
            "type": "contour"
           }
          ],
          "contourcarpet": [
           {
            "colorbar": {
             "outlinewidth": 0,
             "ticks": ""
            },
            "type": "contourcarpet"
           }
          ],
          "heatmap": [
           {
            "colorbar": {
             "outlinewidth": 0,
             "ticks": ""
            },
            "colorscale": [
             [
              0,
              "#0d0887"
             ],
             [
              0.1111111111111111,
              "#46039f"
             ],
             [
              0.2222222222222222,
              "#7201a8"
             ],
             [
              0.3333333333333333,
              "#9c179e"
             ],
             [
              0.4444444444444444,
              "#bd3786"
             ],
             [
              0.5555555555555556,
              "#d8576b"
             ],
             [
              0.6666666666666666,
              "#ed7953"
             ],
             [
              0.7777777777777778,
              "#fb9f3a"
             ],
             [
              0.8888888888888888,
              "#fdca26"
             ],
             [
              1,
              "#f0f921"
             ]
            ],
            "type": "heatmap"
           }
          ],
          "heatmapgl": [
           {
            "colorbar": {
             "outlinewidth": 0,
             "ticks": ""
            },
            "colorscale": [
             [
              0,
              "#0d0887"
             ],
             [
              0.1111111111111111,
              "#46039f"
             ],
             [
              0.2222222222222222,
              "#7201a8"
             ],
             [
              0.3333333333333333,
              "#9c179e"
             ],
             [
              0.4444444444444444,
              "#bd3786"
             ],
             [
              0.5555555555555556,
              "#d8576b"
             ],
             [
              0.6666666666666666,
              "#ed7953"
             ],
             [
              0.7777777777777778,
              "#fb9f3a"
             ],
             [
              0.8888888888888888,
              "#fdca26"
             ],
             [
              1,
              "#f0f921"
             ]
            ],
            "type": "heatmapgl"
           }
          ],
          "histogram": [
           {
            "marker": {
             "colorbar": {
              "outlinewidth": 0,
              "ticks": ""
             }
            },
            "type": "histogram"
           }
          ],
          "histogram2d": [
           {
            "colorbar": {
             "outlinewidth": 0,
             "ticks": ""
            },
            "colorscale": [
             [
              0,
              "#0d0887"
             ],
             [
              0.1111111111111111,
              "#46039f"
             ],
             [
              0.2222222222222222,
              "#7201a8"
             ],
             [
              0.3333333333333333,
              "#9c179e"
             ],
             [
              0.4444444444444444,
              "#bd3786"
             ],
             [
              0.5555555555555556,
              "#d8576b"
             ],
             [
              0.6666666666666666,
              "#ed7953"
             ],
             [
              0.7777777777777778,
              "#fb9f3a"
             ],
             [
              0.8888888888888888,
              "#fdca26"
             ],
             [
              1,
              "#f0f921"
             ]
            ],
            "type": "histogram2d"
           }
          ],
          "histogram2dcontour": [
           {
            "colorbar": {
             "outlinewidth": 0,
             "ticks": ""
            },
            "colorscale": [
             [
              0,
              "#0d0887"
             ],
             [
              0.1111111111111111,
              "#46039f"
             ],
             [
              0.2222222222222222,
              "#7201a8"
             ],
             [
              0.3333333333333333,
              "#9c179e"
             ],
             [
              0.4444444444444444,
              "#bd3786"
             ],
             [
              0.5555555555555556,
              "#d8576b"
             ],
             [
              0.6666666666666666,
              "#ed7953"
             ],
             [
              0.7777777777777778,
              "#fb9f3a"
             ],
             [
              0.8888888888888888,
              "#fdca26"
             ],
             [
              1,
              "#f0f921"
             ]
            ],
            "type": "histogram2dcontour"
           }
          ],
          "mesh3d": [
           {
            "colorbar": {
             "outlinewidth": 0,
             "ticks": ""
            },
            "type": "mesh3d"
           }
          ],
          "parcoords": [
           {
            "line": {
             "colorbar": {
              "outlinewidth": 0,
              "ticks": ""
             }
            },
            "type": "parcoords"
           }
          ],
          "pie": [
           {
            "automargin": true,
            "type": "pie"
           }
          ],
          "scatter": [
           {
            "marker": {
             "colorbar": {
              "outlinewidth": 0,
              "ticks": ""
             }
            },
            "type": "scatter"
           }
          ],
          "scatter3d": [
           {
            "line": {
             "colorbar": {
              "outlinewidth": 0,
              "ticks": ""
             }
            },
            "marker": {
             "colorbar": {
              "outlinewidth": 0,
              "ticks": ""
             }
            },
            "type": "scatter3d"
           }
          ],
          "scattercarpet": [
           {
            "marker": {
             "colorbar": {
              "outlinewidth": 0,
              "ticks": ""
             }
            },
            "type": "scattercarpet"
           }
          ],
          "scattergeo": [
           {
            "marker": {
             "colorbar": {
              "outlinewidth": 0,
              "ticks": ""
             }
            },
            "type": "scattergeo"
           }
          ],
          "scattergl": [
           {
            "marker": {
             "colorbar": {
              "outlinewidth": 0,
              "ticks": ""
             }
            },
            "type": "scattergl"
           }
          ],
          "scattermapbox": [
           {
            "marker": {
             "colorbar": {
              "outlinewidth": 0,
              "ticks": ""
             }
            },
            "type": "scattermapbox"
           }
          ],
          "scatterpolar": [
           {
            "marker": {
             "colorbar": {
              "outlinewidth": 0,
              "ticks": ""
             }
            },
            "type": "scatterpolar"
           }
          ],
          "scatterpolargl": [
           {
            "marker": {
             "colorbar": {
              "outlinewidth": 0,
              "ticks": ""
             }
            },
            "type": "scatterpolargl"
           }
          ],
          "scatterternary": [
           {
            "marker": {
             "colorbar": {
              "outlinewidth": 0,
              "ticks": ""
             }
            },
            "type": "scatterternary"
           }
          ],
          "surface": [
           {
            "colorbar": {
             "outlinewidth": 0,
             "ticks": ""
            },
            "colorscale": [
             [
              0,
              "#0d0887"
             ],
             [
              0.1111111111111111,
              "#46039f"
             ],
             [
              0.2222222222222222,
              "#7201a8"
             ],
             [
              0.3333333333333333,
              "#9c179e"
             ],
             [
              0.4444444444444444,
              "#bd3786"
             ],
             [
              0.5555555555555556,
              "#d8576b"
             ],
             [
              0.6666666666666666,
              "#ed7953"
             ],
             [
              0.7777777777777778,
              "#fb9f3a"
             ],
             [
              0.8888888888888888,
              "#fdca26"
             ],
             [
              1,
              "#f0f921"
             ]
            ],
            "type": "surface"
           }
          ],
          "table": [
           {
            "cells": {
             "fill": {
              "color": "#EBF0F8"
             },
             "line": {
              "color": "white"
             }
            },
            "header": {
             "fill": {
              "color": "#C8D4E3"
             },
             "line": {
              "color": "white"
             }
            },
            "type": "table"
           }
          ]
         },
         "layout": {
          "annotationdefaults": {
           "arrowcolor": "#2a3f5f",
           "arrowhead": 0,
           "arrowwidth": 1
          },
          "autotypenumbers": "strict",
          "coloraxis": {
           "colorbar": {
            "outlinewidth": 0,
            "ticks": ""
           }
          },
          "colorscale": {
           "diverging": [
            [
             0,
             "#8e0152"
            ],
            [
             0.1,
             "#c51b7d"
            ],
            [
             0.2,
             "#de77ae"
            ],
            [
             0.3,
             "#f1b6da"
            ],
            [
             0.4,
             "#fde0ef"
            ],
            [
             0.5,
             "#f7f7f7"
            ],
            [
             0.6,
             "#e6f5d0"
            ],
            [
             0.7,
             "#b8e186"
            ],
            [
             0.8,
             "#7fbc41"
            ],
            [
             0.9,
             "#4d9221"
            ],
            [
             1,
             "#276419"
            ]
           ],
           "sequential": [
            [
             0,
             "#0d0887"
            ],
            [
             0.1111111111111111,
             "#46039f"
            ],
            [
             0.2222222222222222,
             "#7201a8"
            ],
            [
             0.3333333333333333,
             "#9c179e"
            ],
            [
             0.4444444444444444,
             "#bd3786"
            ],
            [
             0.5555555555555556,
             "#d8576b"
            ],
            [
             0.6666666666666666,
             "#ed7953"
            ],
            [
             0.7777777777777778,
             "#fb9f3a"
            ],
            [
             0.8888888888888888,
             "#fdca26"
            ],
            [
             1,
             "#f0f921"
            ]
           ],
           "sequentialminus": [
            [
             0,
             "#0d0887"
            ],
            [
             0.1111111111111111,
             "#46039f"
            ],
            [
             0.2222222222222222,
             "#7201a8"
            ],
            [
             0.3333333333333333,
             "#9c179e"
            ],
            [
             0.4444444444444444,
             "#bd3786"
            ],
            [
             0.5555555555555556,
             "#d8576b"
            ],
            [
             0.6666666666666666,
             "#ed7953"
            ],
            [
             0.7777777777777778,
             "#fb9f3a"
            ],
            [
             0.8888888888888888,
             "#fdca26"
            ],
            [
             1,
             "#f0f921"
            ]
           ]
          },
          "colorway": [
           "#636efa",
           "#EF553B",
           "#00cc96",
           "#ab63fa",
           "#FFA15A",
           "#19d3f3",
           "#FF6692",
           "#B6E880",
           "#FF97FF",
           "#FECB52"
          ],
          "font": {
           "color": "#2a3f5f"
          },
          "geo": {
           "bgcolor": "white",
           "lakecolor": "white",
           "landcolor": "#E5ECF6",
           "showlakes": true,
           "showland": true,
           "subunitcolor": "white"
          },
          "hoverlabel": {
           "align": "left"
          },
          "hovermode": "closest",
          "mapbox": {
           "style": "light"
          },
          "paper_bgcolor": "white",
          "plot_bgcolor": "#E5ECF6",
          "polar": {
           "angularaxis": {
            "gridcolor": "white",
            "linecolor": "white",
            "ticks": ""
           },
           "bgcolor": "#E5ECF6",
           "radialaxis": {
            "gridcolor": "white",
            "linecolor": "white",
            "ticks": ""
           }
          },
          "scene": {
           "xaxis": {
            "backgroundcolor": "#E5ECF6",
            "gridcolor": "white",
            "gridwidth": 2,
            "linecolor": "white",
            "showbackground": true,
            "ticks": "",
            "zerolinecolor": "white"
           },
           "yaxis": {
            "backgroundcolor": "#E5ECF6",
            "gridcolor": "white",
            "gridwidth": 2,
            "linecolor": "white",
            "showbackground": true,
            "ticks": "",
            "zerolinecolor": "white"
           },
           "zaxis": {
            "backgroundcolor": "#E5ECF6",
            "gridcolor": "white",
            "gridwidth": 2,
            "linecolor": "white",
            "showbackground": true,
            "ticks": "",
            "zerolinecolor": "white"
           }
          },
          "shapedefaults": {
           "line": {
            "color": "#2a3f5f"
           }
          },
          "ternary": {
           "aaxis": {
            "gridcolor": "white",
            "linecolor": "white",
            "ticks": ""
           },
           "baxis": {
            "gridcolor": "white",
            "linecolor": "white",
            "ticks": ""
           },
           "bgcolor": "#E5ECF6",
           "caxis": {
            "gridcolor": "white",
            "linecolor": "white",
            "ticks": ""
           }
          },
          "title": {
           "x": 0.05
          },
          "xaxis": {
           "automargin": true,
           "gridcolor": "white",
           "linecolor": "white",
           "ticks": "",
           "title": {
            "standoff": 15
           },
           "zerolinecolor": "white",
           "zerolinewidth": 2
          },
          "yaxis": {
           "automargin": true,
           "gridcolor": "white",
           "linecolor": "white",
           "ticks": "",
           "title": {
            "standoff": 15
           },
           "zerolinecolor": "white",
           "zerolinewidth": 2
          }
         }
        },
        "title": {
         "text": "Number of Pokemon with Get Rate 3 by Generation "
        },
        "xaxis": {
         "anchor": "y",
         "domain": [
          0,
          1
         ],
         "title": {
          "text": "Generation"
         }
        },
        "yaxis": {
         "anchor": "x",
         "domain": [
          0,
          1
         ],
         "title": {
          "text": "Number of Pokemon"
         }
        }
       }
      }
     },
     "metadata": {},
     "output_type": "display_data"
    }
   ],
   "source": [
    "pokemon_rate3 = pokemon_get_rate[pokemon_get_rate['Get_Rate'] == 3]\n",
    "pokemon_rate3_bygen = pokemon_rate3.groupby('Generation')['Name'].count().reset_index()\n",
    "fig = px.bar(pokemon_rate3_bygen, x = \"Generation\", y = \"Name\", title = \"Number of Pokemon with Get Rate 3 by Generation \",color='Name', height=600)\n",
    "fig.update_layout(xaxis_title=\"Generation\", yaxis_title=\"Number of Pokemon\")\n",
    "fig.show()"
   ]
  },
  {
   "attachments": {},
   "cell_type": "markdown",
   "metadata": {},
   "source": [
    "**We look at the count of differnt types of pokemon**"
   ]
  },
  {
   "cell_type": "code",
   "execution_count": 25,
   "metadata": {},
   "outputs": [
    {
     "data": {
      "application/vnd.plotly.v1+json": {
       "config": {
        "plotlyServerURL": "https://plot.ly"
       },
       "data": [
        {
         "branchvalues": "total",
         "customdata": [
          [
           9,
           "Grass",
           "0.4m",
           "4.1kg",
           "Grass"
          ],
          [
           5,
           "Grass",
           "1.0m",
           "110.0kg",
           "Grass"
          ],
          [
           8,
           "Psychic",
           "0.6m",
           "4.8kg",
           "Psychic"
          ],
          [
           8,
           "Psychic",
           "2.1m",
           "5.1kg",
           "Psychic"
          ],
          [
           7,
           "Bug",
           "0.5m",
           "10.5kg",
           "Bug"
          ],
          [
           4,
           "Grass",
           "0.5m",
           "9.3kg",
           "Grass"
          ],
          [
           8,
           "Poison",
           "20.0m",
           "950.0kg",
           "Poison"
          ],
          [
           9,
           "Fairy",
           "0.3m",
           "10.9kg",
           "Fairy"
          ],
          [
           8,
           "Poison",
           "100.0m",
           "0.0kg",
           "Poison"
          ],
          [
           2,
           "Psychic",
           "0.9m",
           "26.5kg",
           "Psychic"
          ],
          [
           1,
           "Fire",
           "1.3m",
           "44.5kg",
           "Fire"
          ],
          [
           4,
           "Fire",
           "1.6m",
           "68.0kg",
           "Fire"
          ],
          [
           1,
           "Electric",
           "0.3m",
           "6.0kg",
           "Electric"
          ],
          [
           9,
           "Psychic",
           "1.9m",
           "90.0kg",
           "Psychic"
          ],
          [
           3,
           "Psychic",
           "0.7m",
           "30.6kg",
           "Psychic"
          ],
          [
           6,
           "Psychic",
           "0.3m",
           "3.5kg",
           "Psychic"
          ],
          [
           4,
           "Ghost",
           "1.0m",
           "108.0kg",
           "Ghost"
          ],
          [
           3,
           "Grass",
           "0.5m",
           "5.0kg",
           "Grass"
          ],
          [
           4,
           "Ground",
           "0.8m",
           "49.5kg",
           "Ground"
          ],
          [
           8,
           "Grass",
           "0.3m",
           "1.0kg",
           "Grass"
          ],
          [
           1,
           "Electric",
           "1.2m",
           "71.0kg",
           "Electric"
          ],
          [
           7,
           "Grass",
           "1.6m",
           "37.0kg",
           "Grass"
          ],
          [
           5,
           "Ice",
           "1.1m",
           "41.0kg",
           "Ice"
          ],
          [
           4,
           "Psychic",
           "0.3m",
           "0.3kg",
           "Psychic"
          ],
          [
           8,
           "Fighting",
           "1.9m",
           "105.0kg",
           "Fighting"
          ],
          [
           5,
           "Normal",
           "0.9m",
           "14.7kg",
           "Normal"
          ],
          [
           8,
           "Fighting",
           "1.9m",
           "105.0kg",
           "Fighting"
          ],
          [
           8,
           "Ground",
           "2.4m",
           "290.0kg",
           "Ground"
          ],
          [
           5,
           "Psychic",
           "1.7m",
           "43.4kg",
           "Psychic"
          ],
          [
           5,
           "Water",
           "1.0m",
           "18.0kg",
           "Water"
          ],
          [
           6,
           "Ice",
           "1.4m",
           "262.4kg",
           "Ice"
          ],
          [
           1,
           "Fire",
           "2.0m",
           "168.0kg",
           "Fire"
          ],
          [
           4,
           "Ground",
           "2.0m",
           "300.0kg",
           "Ground"
          ],
          [
           2,
           "Normal",
           "1.8m",
           "125.8kg",
           "Normal"
          ],
          [
           1,
           "Fire",
           "0.9m",
           "25.0kg",
           "Fire"
          ],
          [
           1,
           "Electric",
           "1.0m",
           "60.0kg",
           "Electric"
          ],
          [
           3,
           "Fighting",
           "1.0m",
           "86.4kg",
           "Fighting"
          ],
          [
           7,
           "Ghost",
           "3.9m",
           "210.0kg",
           "Ghost"
          ],
          [
           4,
           "Steel",
           "5.4m",
           "683.0kg",
           "Steel"
          ],
          [
           1,
           "Ground",
           "0.6m",
           "12.0kg",
           "Ground"
          ],
          [
           5,
           "Ground",
           "0.7m",
           "15.2kg",
           "Ground"
          ],
          [
           9,
           "Grass",
           "0.6m",
           "11.9kg",
           "Grass"
          ],
          [
           9,
           "Water",
           "12.0m",
           "220.0kg",
           "Water"
          ],
          [
           4,
           "Electric",
           "0.3m",
           "0.3kg",
           "Electric"
          ],
          [
           2,
           "Ground",
           "1.1m",
           "120.0kg",
           "Ground"
          ],
          [
           1,
           "Poison",
           "0.8m",
           "20.0kg",
           "Poison"
          ],
          [
           8,
           "Ground",
           "1.6m",
           "66.6kg",
           "Ground"
          ],
          [
           5,
           "Normal",
           "0.5m",
           "10.5kg",
           "Normal"
          ],
          [
           7,
           "Grass",
           "0.3m",
           "1.5kg",
           "Grass"
          ],
          [
           1,
           "Rock",
           "0.4m",
           "7.5kg",
           "Rock"
          ],
          [
           7,
           "Fire",
           "0.6m",
           "3.4kg",
           "Fire"
          ],
          [
           1,
           "Poison",
           "0.5m",
           "9.0kg",
           "Poison"
          ],
          [
           4,
           "Electric",
           "1.2m",
           "180.0kg",
           "Electric"
          ],
          [
           4,
           "Bug",
           "0.9m",
           "23.3kg",
           "Bug"
          ],
          [
           5,
           "Normal",
           "0.6m",
           "19.5kg",
           "Normal"
          ],
          [
           6,
           "Normal",
           "1.2m",
           "28.0kg",
           "Normal"
          ],
          [
           3,
           "Steel",
           "0.6m",
           "11.5kg",
           "Steel"
          ],
          [
           3,
           "Fighting",
           "1.3m",
           "31.5kg",
           "Fighting"
          ],
          [
           2,
           "Normal",
           "1.8m",
           "32.5kg",
           "Normal"
          ],
          [
           8,
           "Flying",
           "0.8m",
           "18.0kg",
           "Flying"
          ],
          [
           4,
           "Rock",
           "0.9m",
           "31.5kg",
           "Rock"
          ],
          [
           5,
           "Grass",
           "0.6m",
           "10.5kg",
           "Grass"
          ],
          [
           3,
           "Water",
           "1.1m",
           "32.8kg",
           "Water"
          ],
          [
           8,
           "Normal",
           "0.3m",
           "2.5kg",
           "Normal"
          ],
          [
           4,
           "Poison",
           "1.0m",
           "38.0kg",
           "Poison"
          ],
          [
           4,
           "Ghost",
           "0.9m",
           "4.4kg",
           "Ghost"
          ],
          [
           1,
           "Fire",
           "2.0m",
           "60.0kg",
           "Fire"
          ],
          [
           4,
           "Grass",
           "0.2m",
           "2.1kg",
           "Grass"
          ],
          [
           3,
           "Water",
           "1.8m",
           "88.8kg",
           "Water"
          ],
          [
           4,
           "Psychic",
           "1.5m",
           "85.6kg",
           "Psychic"
          ],
          [
           6,
           "Fire",
           "0.7m",
           "16.0kg",
           "Fire"
          ],
          [
           8,
           "Bug",
           "0.4m",
           "40.8kg",
           "Bug"
          ],
          [
           1,
           "Grass",
           "10.9m",
           "415.6kg",
           "Grass"
          ],
          [
           8,
           "Water",
           "0.5m",
           "1.0kg",
           "Water"
          ],
          [
           3,
           "Steel",
           "0.4m",
           "60.0kg",
           "Steel"
          ],
          [
           7,
           "Bug",
           "1.8m",
           "25.0kg",
           "Bug"
          ],
          [
           4,
           "Water",
           "0.4m",
           "3.1kg",
           "Water"
          ],
          [
           1,
           "Ice",
           "1.7m",
           "55.4kg",
           "Ice"
          ],
          [
           6,
           "Fairy",
           "0.8m",
           "15.5kg",
           "Fairy"
          ],
          [
           2,
           "Electric",
           "0.3m",
           "2.0kg",
           "Electric"
          ],
          [
           1,
           "Psychic",
           "1.5m",
           "48.0kg",
           "Psychic"
          ],
          [
           8,
           "Fairy",
           "0.3m",
           "0.5kg",
           "Fairy"
          ],
          [
           1,
           "Rock",
           "0.4m",
           "20.3kg",
           "Rock"
          ],
          [
           1,
           "Ground",
           "0.2m",
           "1.0kg",
           "Ground"
          ],
          [
           7,
           "Electric",
           "3.8m",
           "100.0kg",
           "Electric"
          ],
          [
           1,
           "Ground",
           "0.7m",
           "66.6kg",
           "Ground"
          ],
          [
           6,
           "Fire",
           "1.5m",
           "39.0kg",
           "Fire"
          ],
          [
           9,
           "Normal",
           "0.6m",
           "2.4kg",
           "Normal"
          ],
          [
           1,
           "Dark",
           "0.4m",
           "4.2kg",
           "Dark"
          ],
          [
           4,
           "Ground",
           "2.0m",
           "42.5kg",
           "Ground"
          ],
          [
           8,
           "Dark",
           "1.8m",
           "70.0kg",
           "Dark"
          ],
          [
           1,
           "Ice",
           "1.1m",
           "19.9kg",
           "Ice"
          ],
          [
           1,
           "Electric",
           "1.6m",
           "52.6kg",
           "Electric"
          ],
          [
           1,
           "Psychic",
           "2.0m",
           "122.0kg",
           "Psychic"
          ],
          [
           6,
           "Fire",
           "1.2m",
           "24.5kg",
           "Fire"
          ],
          [
           8,
           "Fighting",
           "2.9m",
           "210.0kg",
           "Fighting"
          ],
          [
           6,
           "Fairy",
           "0.2m",
           "0.5kg",
           "Fairy"
          ],
          [
           8,
           "Fairy",
           "1.6m",
           "48.0kg",
           "Fairy"
          ],
          [
           3,
           "Steel",
           "0.9m",
           "120.0kg",
           "Steel"
          ],
          [
           8,
           "Rock",
           "2.8m",
           "310.5kg",
           "Rock"
          ],
          [
           2,
           "Water",
           "0.4m",
           "8.5kg",
           "Water"
          ],
          [
           8,
           "Normal",
           "0.6m",
           "6.0kg",
           "Normal"
          ],
          [
           4,
           "Water",
           "1.7m",
           "84.5kg",
           "Water"
          ],
          [
           5,
           "Electric",
           "0.4m",
           "5.0kg",
           "Electric"
          ],
          [
           3,
           "Normal",
           "0.3m",
           "2.3kg",
           "Normal"
          ],
          [
           3,
           "Fighting",
           "0.6m",
           "11.2kg",
           "Fighting"
          ],
          [
           9,
           "Normal",
           "0.3m",
           "1.8kg",
           "Normal"
          ],
          [
           1,
           "Grass",
           "1.0m",
           "35.0kg",
           "Grass"
          ],
          [
           7,
           "Steel",
           "2.5m",
           "800.0kg",
           "Steel"
          ],
          [
           1,
           "Normal",
           "0.8m",
           "36.5kg",
           "Normal"
          ],
          [
           6,
           "Dark",
           "5.8m",
           "203.0kg",
           "Dark"
          ],
          [
           7,
           "Water",
           "0.4m",
           "7.5kg",
           "Water"
          ],
          [
           9,
           "Bug",
           "3.2m",
           "92.0kg",
           "Bug"
          ],
          [
           1,
           "Bug",
           "0.7m",
           "9.9kg",
           "Bug"
          ],
          [
           3,
           "Normal",
           "1.3m",
           "40.3kg",
           "Normal"
          ],
          [
           3,
           "Psychic",
           "1.7m",
           "60.8kg",
           "Psychic"
          ],
          [
           3,
           "Dragon",
           "0.6m",
           "42.1kg",
           "Dragon"
          ],
          [
           2,
           "Water",
           "0.9m",
           "28.5kg",
           "Water"
          ],
          [
           4,
           "Psychic",
           "0.3m",
           "0.3kg",
           "Psychic"
          ],
          [
           4,
           "Ghost",
           "0.4m",
           "1.2kg",
           "Ghost"
          ],
          [
           5,
           "Ground",
           "0.3m",
           "8.5kg",
           "Ground"
          ],
          [
           1,
           "Grass",
           "0.5m",
           "5.4kg",
           "Grass"
          ],
          [
           1,
           "Electric",
           "0.8m",
           "24.5kg",
           "Electric"
          ],
          [
           3,
           "Rock",
           "1.0m",
           "97.0kg",
           "Rock"
          ],
          [
           1,
           "Rock",
           "1.0m",
           "35.0kg",
           "Rock"
          ],
          [
           3,
           "Normal",
           "0.5m",
           "32.5kg",
           "Normal"
          ],
          [
           5,
           "Normal",
           "0.4m",
           "4.1kg",
           "Normal"
          ],
          [
           6,
           "Steel",
           "0.8m",
           "2.0kg",
           "Steel"
          ],
          [
           1,
           "Rock",
           "8.8m",
           "210.0kg",
           "Rock"
          ],
          [
           4,
           "Normal",
           "3.7m",
           "420.0kg",
           "Normal"
          ],
          [
           7,
           "Normal",
           "1.5m",
           "76.0kg",
           "Normal"
          ],
          [
           6,
           "Dragon",
           "4.5m",
           "610.0kg",
           "Dragon"
          ],
          [
           6,
           "Flying",
           "1.5m",
           "85.0kg",
           "Flying"
          ],
          [
           5,
           "Bug",
           "1.0m",
           "33.0kg",
           "Bug"
          ],
          [
           5,
           "Grass",
           "0.2m",
           "1.0kg",
           "Grass"
          ],
          [
           2,
           "Water",
           "0.6m",
           "9.5kg",
           "Water"
          ],
          [
           1,
           "Normal",
           "1.4m",
           "39.2kg",
           "Normal"
          ],
          [
           7,
           "Grass",
           "1.2m",
           "21.4kg",
           "Grass"
          ],
          [
           8,
           "Bug",
           "0.4m",
           "19.5kg",
           "Bug"
          ],
          [
           3,
           "Rock",
           "1.7m",
           "230.0kg",
           "Rock"
          ],
          [
           4,
           "Bug",
           "0.3m",
           "5.5kg",
           "Bug"
          ],
          [
           5,
           "Ghost",
           "1.7m",
           "76.5kg",
           "Ghost"
          ],
          [
           5,
           "Steel",
           "2.1m",
           "250.0kg",
           "Steel"
          ],
          [
           8,
           "Grass",
           "0.4m",
           "2.2kg",
           "Grass"
          ],
          [
           8,
           "Normal",
           "0.6m",
           "6.0kg",
           "Normal"
          ],
          [
           8,
           "Psychic",
           "0.9m",
           "28.0kg",
           "Psychic"
          ],
          [
           7,
           "Fire",
           "1.8m",
           "83.0kg",
           "Fire"
          ],
          [
           7,
           "Water",
           "0.3m",
           "1.2kg",
           "Water"
          ],
          [
           2,
           "Psychic",
           "0.2m",
           "2.0kg",
           "Psychic"
          ],
          [
           7,
           "Ghost",
           "1.3m",
           "250.0kg",
           "Ghost"
          ],
          [
           4,
           "Water",
           "6.3m",
           "660.0kg",
           "Water"
          ],
          [
           3,
           "Steel",
           "1.9m",
           "205.0kg",
           "Steel"
          ],
          [
           5,
           "Ghost",
           "0.5m",
           "1.5kg",
           "Ghost"
          ],
          [
           2,
           "Fairy",
           "1.4m",
           "48.7kg",
           "Fairy"
          ],
          [
           9,
           "Poison",
           "0.7m",
           "27.2kg",
           "Poison"
          ],
          [
           8,
           "Psychic",
           "0.9m",
           "28.0kg",
           "Psychic"
          ],
          [
           3,
           "Water",
           "1.0m",
           "23.4kg",
           "Water"
          ],
          [
           4,
           "Water",
           "4.2m",
           "336.0kg",
           "Water"
          ],
          [
           9,
           "Water",
           "1.3m",
           "60.2kg",
           "Water"
          ],
          [
           8,
           "Dark",
           "0.6m",
           "8.9kg",
           "Dark"
          ],
          [
           9,
           "Water",
           "1.8m",
           "97.4kg",
           "Water"
          ],
          [
           5,
           "Grass",
           "1.1m",
           "30.5kg",
           "Grass"
          ],
          [
           5,
           "Psychic",
           "0.4m",
           "5.8kg",
           "Psychic"
          ],
          [
           5,
           "Fire",
           "1.0m",
           "28.0kg",
           "Fire"
          ],
          [
           8,
           "Ghost",
           "0.1m",
           "0.2kg",
           "Ghost"
          ],
          [
           3,
           "Water",
           "1.8m",
           "22.6kg",
           "Water"
          ],
          [
           3,
           "Bug",
           "0.8m",
           "12.0kg",
           "Bug"
          ],
          [
           7,
           "Psychic",
           "2.4m",
           "230.0kg",
           "Psychic"
          ],
          [
           9,
           "Water",
           "1.8m",
           "61.9kg",
           "Water"
          ],
          [
           9,
           "Ground",
           "1.9m",
           "58.0kg",
           "Ground"
          ],
          [
           9,
           "Electric",
           "0.4m",
           "3.6kg",
           "Electric"
          ],
          [
           1,
           "Fighting",
           "1.6m",
           "58.2kg",
           "Fighting"
          ],
          [
           5,
           "Normal",
           "1.1m",
           "27.0kg",
           "Normal"
          ],
          [
           4,
           "Electric",
           "0.3m",
           "0.3kg",
           "Electric"
          ],
          [
           1,
           "Water",
           "1.0m",
           "22.5kg",
           "Water"
          ],
          [
           7,
           "Electric",
           "0.3m",
           "3.3kg",
           "Electric"
          ],
          [
           3,
           "Ice",
           "1.4m",
           "150.6kg",
           "Ice"
          ],
          [
           6,
           "Fire",
           "1.5m",
           "81.5kg",
           "Fire"
          ],
          [
           7,
           "Poison",
           "0.7m",
           "14.5kg",
           "Poison"
          ],
          [
           9,
           "Ground",
           "0.9m",
           "33.0kg",
           "Ground"
          ],
          [
           7,
           "Poison",
           "1.2m",
           "22.2kg",
           "Poison"
          ],
          [
           5,
           "Grass",
           "0.7m",
           "6.6kg",
           "Grass"
          ],
          [
           6,
           "Steel",
           "0.2m",
           "3.0kg",
           "Steel"
          ],
          [
           4,
           "Water",
           "1.2m",
           "24.0kg",
           "Water"
          ],
          [
           7,
           "Psychic",
           "4.0m",
           "120.0kg",
           "Psychic"
          ],
          [
           5,
           "Dragon",
           "1.8m",
           "105.5kg",
           "Dragon"
          ],
          [
           5,
           "Psychic",
           "0.6m",
           "23.3kg",
           "Psychic"
          ],
          [
           3,
           "Grass",
           "0.4m",
           "51.3kg",
           "Grass"
          ],
          [
           1,
           "Poison",
           "1.2m",
           "30.0kg",
           "Poison"
          ],
          [
           5,
           "Dragon",
           "2.9m",
           "345.0kg",
           "Dragon"
          ],
          [
           8,
           "Psychic",
           "1.1m",
           "7.7kg",
           "Psychic"
          ],
          [
           5,
           "Psychic",
           "1.4m",
           "14.0kg",
           "Psychic"
          ],
          [
           2,
           "Ghost",
           "0.7m",
           "1.0kg",
           "Ghost"
          ],
          [
           3,
           "Grass",
           "1.3m",
           "77.4kg",
           "Grass"
          ],
          [
           7,
           "Bug",
           "2.4m",
           "333.6kg",
           "Bug"
          ],
          [
           4,
           "Normal",
           "0.6m",
           "105.0kg",
           "Normal"
          ],
          [
           4,
           "Electric",
           "0.3m",
           "0.3kg",
           "Electric"
          ],
          [
           9,
           "Fire",
           "0.4m",
           "9.8kg",
           "Fire"
          ],
          [
           3,
           "Bug",
           "0.7m",
           "17.7kg",
           "Bug"
          ],
          [
           4,
           "Ghost",
           "2.2m",
           "106.6kg",
           "Ghost"
          ],
          [
           6,
           "Bug",
           "1.2m",
           "17.0kg",
           "Bug"
          ],
          [
           8,
           "Steel",
           "1.8m",
           "40.0kg",
           "Steel"
          ],
          [
           4,
           "Ice",
           "1.3m",
           "26.6kg",
           "Ice"
          ],
          [
           8,
           "Dark",
           "2.5m",
           "60.5kg",
           "Dark"
          ],
          [
           6,
           "Steel",
           "1.7m",
           "334.1kg",
           "Steel"
          ],
          [
           4,
           "Electric",
           "0.4m",
           "3.9kg",
           "Electric"
          ],
          [
           4,
           "Dark",
           "1.1m",
           "34.0kg",
           "Dark"
          ],
          [
           1,
           "Bug",
           "0.3m",
           "3.2kg",
           "Bug"
          ],
          [
           1,
           "Grass",
           "1.0m",
           "6.4kg",
           "Grass"
          ],
          [
           5,
           "Bug",
           "0.1m",
           "0.6kg",
           "Bug"
          ],
          [
           1,
           "Poison",
           "1.2m",
           "9.5kg",
           "Poison"
          ],
          [
           1,
           "Rock",
           "1.3m",
           "40.5kg",
           "Rock"
          ],
          [
           4,
           "Rock",
           "0.5m",
           "15.0kg",
           "Rock"
          ],
          [
           5,
           "Normal",
           "1.6m",
           "94.6kg",
           "Normal"
          ],
          [
           9,
           "Fairy",
           "0.4m",
           "8.9kg",
           "Fairy"
          ],
          [
           7,
           "Normal",
           "1.1m",
           "26.0kg",
           "Normal"
          ],
          [
           9,
           "Dark",
           "2.7m",
           "699.7kg",
           "Dark"
          ],
          [
           8,
           "Ice",
           "1.3m",
           "42.0kg",
           "Ice"
          ],
          [
           2,
           "Fire",
           "0.5m",
           "7.9kg",
           "Fire"
          ],
          [
           1,
           "Ice",
           "1.2m",
           "55.0kg",
           "Ice"
          ],
          [
           1,
           "Ice",
           "0.6m",
           "9.9kg",
           "Ice"
          ],
          [
           3,
           "Bug",
           "0.5m",
           "1.7kg",
           "Bug"
          ],
          [
           9,
           "Rock",
           "1.3m",
           "79.0kg",
           "Rock"
          ],
          [
           1,
           "Normal",
           "1.4m",
           "88.4kg",
           "Normal"
          ],
          [
           5,
           "Dark",
           "0.4m",
           "10.1kg",
           "Dark"
          ],
          [
           1,
           "Fire",
           "1.1m",
           "19.0kg",
           "Fire"
          ],
          [
           3,
           "Normal",
           "0.4m",
           "1.2kg",
           "Normal"
          ],
          [
           5,
           "Grass",
           "0.6m",
           "8.1kg",
           "Grass"
          ],
          [
           1,
           "Ghost",
           "1.6m",
           "0.1kg",
           "Ghost"
          ],
          [
           5,
           "Bug",
           "0.5m",
           "7.3kg",
           "Bug"
          ],
          [
           5,
           "Electric",
           "3.0m",
           "61.0kg",
           "Electric"
          ],
          [
           8,
           "Bug",
           "1.8m",
           "89.0kg",
           "Bug"
          ],
          [
           4,
           "Water",
           "0.8m",
           "23.0kg",
           "Water"
          ],
          [
           4,
           "Rock",
           "1.4m",
           "340.0kg",
           "Rock"
          ],
          [
           1,
           "Ice",
           "0.7m",
           "40.0kg",
           "Ice"
          ],
          [
           8,
           "Fighting",
           "0.6m",
           "4.0kg",
           "Fighting"
          ],
          [
           5,
           "Steel",
           "0.6m",
           "51.0kg",
           "Steel"
          ],
          [
           9,
           "Dragon",
           "1.6m",
           "63.0kg",
           "Dragon"
          ],
          [
           3,
           "Psychic",
           "0.8m",
           "20.2kg",
           "Psychic"
          ],
          [
           7,
           "Bug",
           "0.1m",
           "0.2kg",
           "Bug"
          ],
          [
           8,
           "Normal",
           "1.8m",
           "95.1kg",
           "Normal"
          ],
          [
           1,
           "Water",
           "1.3m",
           "60.0kg",
           "Water"
          ],
          [
           8,
           "Fighting",
           "0.8m",
           "117.0kg",
           "Fighting"
          ],
          [
           2,
           "Water",
           "1.1m",
           "25.0kg",
           "Water"
          ],
          [
           1,
           "Water",
           "0.8m",
           "34.5kg",
           "Water"
          ],
          [
           3,
           "Normal",
           "2.0m",
           "130.5kg",
           "Normal"
          ],
          [
           5,
           "Electric",
           "1.5m",
           "61.0kg",
           "Electric"
          ],
          [
           6,
           "Fighting",
           "0.8m",
           "21.5kg",
           "Fighting"
          ],
          [
           1,
           "Water",
           "1.1m",
           "80.0kg",
           "Water"
          ],
          [
           2,
           "Water",
           "0.5m",
           "12.0kg",
           "Water"
          ],
          [
           2,
           "Psychic",
           "1.5m",
           "15.0kg",
           "Psychic"
          ],
          [
           6,
           "Ghost",
           "0.8m",
           "15.0kg",
           "Ghost"
          ],
          [
           8,
           "Electric",
           "1.2m",
           "145.0kg",
           "Electric"
          ],
          [
           1,
           "Normal",
           "0.3m",
           "1.8kg",
           "Normal"
          ],
          [
           1,
           "Poison",
           "3.5m",
           "65.0kg",
           "Poison"
          ],
          [
           5,
           "Normal",
           "0.3m",
           "2.1kg",
           "Normal"
          ],
          [
           5,
           "Fire",
           "1.0m",
           "55.5kg",
           "Fire"
          ],
          [
           5,
           "Psychic",
           "0.4m",
           "2.1kg",
           "Psychic"
          ],
          [
           4,
           "Grass",
           "0.4m",
           "10.2kg",
           "Grass"
          ],
          [
           5,
           "Dark",
           "1.6m",
           "81.1kg",
           "Dark"
          ],
          [
           1,
           "Bug",
           "0.6m",
           "10.0kg",
           "Bug"
          ],
          [
           7,
           "Electric",
           "1.5m",
           "44.5kg",
           "Electric"
          ],
          [
           7,
           "Water",
           "1.8m",
           "82.0kg",
           "Water"
          ],
          [
           3,
           "Normal",
           "0.4m",
           "17.5kg",
           "Normal"
          ],
          [
           4,
           "Fairy",
           "1.5m",
           "38.0kg",
           "Fairy"
          ],
          [
           2,
           "Fairy",
           "0.3m",
           "1.5kg",
           "Fairy"
          ],
          [
           7,
           "Fire",
           "2.0m",
           "212.0kg",
           "Fire"
          ],
          [
           8,
           "Ghost",
           "0.2m",
           "0.4kg",
           "Ghost"
          ],
          [
           3,
           "Dark",
           "0.5m",
           "13.6kg",
           "Dark"
          ],
          [
           5,
           "Grass",
           "0.8m",
           "16.0kg",
           "Grass"
          ],
          [
           8,
           "Fighting",
           "2.9m",
           "785.0kg",
           "Fighting"
          ],
          [
           5,
           "Bug",
           "1.4m",
           "200.0kg",
           "Bug"
          ],
          [
           9,
           "Dragon",
           "0.3m",
           "8.0kg",
           "Dragon"
          ],
          [
           1,
           "Ground",
           "0.2m",
           "0.8kg",
           "Ground"
          ],
          [
           1,
           "Normal",
           "0.3m",
           "4.0kg",
           "Normal"
          ],
          [
           9,
           "Bug",
           "0.3m",
           "4.0kg",
           "Bug"
          ],
          [
           5,
           "Ice",
           "0.5m",
           "8.5kg",
           "Ice"
          ],
          [
           1,
           "Ground",
           "0.4m",
           "6.5kg",
           "Ground"
          ],
          [
           2,
           "Psychic",
           "1.3m",
           "28.5kg",
           "Psychic"
          ],
          [
           1,
           "Water",
           "1.3m",
           "54.0kg",
           "Water"
          ],
          [
           1,
           "Fire",
           "1.0m",
           "30.0kg",
           "Fire"
          ],
          [
           6,
           "Water",
           "0.6m",
           "10.9kg",
           "Water"
          ],
          [
           8,
           "Electric",
           "0.3m",
           "1.0kg",
           "Electric"
          ],
          [
           2,
           "Ice",
           "1.1m",
           "55.8kg",
           "Ice"
          ],
          [
           2,
           "Rock",
           "1.2m",
           "152.0kg",
           "Rock"
          ],
          [
           6,
           "Fairy",
           "0.2m",
           "0.9kg",
           "Fairy"
          ],
          [
           9,
           "Grass",
           "0.9m",
           "12.2kg",
           "Grass"
          ],
          [
           "(?)",
           "Dark",
           "(?)",
           "(?)",
           "Dark"
          ],
          [
           1,
           "Ground",
           "0.7m",
           "33.3kg",
           "Ground"
          ],
          [
           5,
           "Water",
           "1.3m",
           "24.2kg",
           "Water"
          ],
          [
           2,
           "Normal",
           "1.5m",
           "14.0kg",
           "Normal"
          ],
          [
           7,
           "Water",
           "1.3m",
           "21.2kg",
           "Water"
          ],
          [
           1,
           "Fighting",
           "1.4m",
           "115.0kg",
           "Fighting"
          ],
          [
           5,
           "Water",
           "1.2m",
           "81.0kg",
           "Water"
          ],
          [
           4,
           "Grass",
           "1.4m",
           "27.0kg",
           "Grass"
          ],
          [
           2,
           "Fairy",
           "0.6m",
           "3.2kg",
           "Fairy"
          ],
          [
           3,
           "Fire",
           "0.4m",
           "2.5kg",
           "Fire"
          ],
          [
           5,
           "Flying",
           "1.4m",
           "63.0kg",
           "Flying"
          ],
          [
           7,
           "Fire",
           "0.7m",
           "25.0kg",
           "Fire"
          ],
          [
           9,
           "Dark",
           "1.1m",
           "61.0kg",
           "Dark"
          ],
          [
           4,
           "Grass",
           "2.2m",
           "310.0kg",
           "Grass"
          ],
          [
           6,
           "Fire",
           "1.0m",
           "14.5kg",
           "Fire"
          ],
          [
           3,
           "Steel",
           "0.6m",
           "95.2kg",
           "Steel"
          ],
          [
           5,
           "Psychic",
           "1.0m",
           "34.5kg",
           "Psychic"
          ],
          [
           1,
           "Bug",
           "1.0m",
           "29.5kg",
           "Bug"
          ],
          [
           3,
           "Water",
           "0.4m",
           "1.9kg",
           "Water"
          ],
          [
           6,
           "Rock",
           "1.3m",
           "96.0kg",
           "Rock"
          ],
          [
           7,
           "Normal",
           "0.4m",
           "6.0kg",
           "Normal"
          ],
          [
           5,
           "Electric",
           "1.6m",
           "79.5kg",
           "Electric"
          ],
          [
           6,
           "Dark",
           "0.4m",
           "3.5kg",
           "Dark"
          ],
          [
           8,
           "Water",
           "1.9m",
           "45.2kg",
           "Water"
          ],
          [
           7,
           "Normal",
           "0.6m",
           "14.8kg",
           "Normal"
          ],
          [
           1,
           "Fighting",
           "1.6m",
           "130.0kg",
           "Fighting"
          ],
          [
           3,
           "Normal",
           "0.7m",
           "19.8kg",
           "Normal"
          ],
          [
           4,
           "Grass",
           "0.5m",
           "9.3kg",
           "Grass"
          ],
          [
           3,
           "Bug",
           "0.5m",
           "5.5kg",
           "Bug"
          ],
          [
           3,
           "Dragon",
           "1.5m",
           "102.6kg",
           "Dragon"
          ],
          [
           6,
           "Steel",
           "0.8m",
           "4.5kg",
           "Steel"
          ],
          [
           1,
           "Fighting",
           "1.5m",
           "70.5kg",
           "Fighting"
          ],
          [
           5,
           "Bug",
           "0.3m",
           "2.5kg",
           "Bug"
          ],
          [
           2,
           "Normal",
           "1.2m",
           "58.0kg",
           "Normal"
          ],
          [
           9,
           "Poison",
           "1.8m",
           "223.0kg",
           "Poison"
          ],
          [
           3,
           "Dark",
           "0.5m",
           "11.0kg",
           "Dark"
          ],
          [
           6,
           "Water",
           "0.3m",
           "7.0kg",
           "Water"
          ],
          [
           1,
           "Fire",
           "1.1m",
           "19.9kg",
           "Fire"
          ],
          [
           1,
           "Water",
           "0.9m",
           "10.0kg",
           "Water"
          ],
          [
           7,
           "Steel",
           "1.0m",
           "80.5kg",
           "Steel"
          ],
          [
           6,
           "Grass",
           "1.6m",
           "90.0kg",
           "Grass"
          ],
          [
           4,
           "Grass",
           "0.4m",
           "3.3kg",
           "Grass"
          ],
          [
           4,
           "Bug",
           "0.3m",
           "2.2kg",
           "Bug"
          ],
          [
           1,
           "Dark",
           "2.0m",
           "66.0kg",
           "Dark"
          ],
          [
           1,
           "Steel",
           "0.4m",
           "7.5kg",
           "Steel"
          ],
          [
           3,
           "Dark",
           "0.5m",
           "32.5kg",
           "Dark"
          ],
          [
           9,
           "Normal",
           "1.0m",
           "120.0kg",
           "Normal"
          ],
          [
           1,
           "Psychic",
           "1.3m",
           "56.5kg",
           "Psychic"
          ],
          [
           3,
           "Dragon",
           "1.4m",
           "40.0kg",
           "Dragon"
          ],
          [
           5,
           "Ghost",
           "0.3m",
           "3.1kg",
           "Ghost"
          ],
          [
           4,
           "Grass",
           "1.0m",
           "25.5kg",
           "Grass"
          ],
          [
           9,
           "Bug",
           "1.0m",
           "17.5kg",
           "Bug"
          ],
          [
           3,
           "Water",
           "0.7m",
           "28.0kg",
           "Water"
          ],
          [
           7,
           "Fighting",
           "0.7m",
           "22.2kg",
           "Fighting"
          ],
          [
           2,
           "Water",
           "0.4m",
           "8.5kg",
           "Water"
          ],
          [
           7,
           "Bug",
           "0.4m",
           "4.4kg",
           "Bug"
          ],
          [
           3,
           "Psychic",
           "0.9m",
           "71.5kg",
           "Psychic"
          ],
          [
           3,
           "Poison",
           "0.4m",
           "10.3kg",
           "Poison"
          ],
          [
           3,
           "Dragon",
           "2.0m",
           "60.0kg",
           "Dragon"
          ],
          [
           7,
           "Fighting",
           "2.0m",
           "82.8kg",
           "Fighting"
          ],
          [
           7,
           "Poison",
           "0.6m",
           "4.8kg",
           "Poison"
          ],
          [
           9,
           "Electric",
           "0.3m",
           "2.5kg",
           "Electric"
          ],
          [
           3,
           "Water",
           "1.5m",
           "81.9kg",
           "Water"
          ],
          [
           3,
           "Poison",
           "1.7m",
           "80.0kg",
           "Poison"
          ],
          [
           4,
           "Normal",
           "0.5m",
           "1.9kg",
           "Normal"
          ],
          [
           4,
           "Psychic",
           "0.2m",
           "0.6kg",
           "Psychic"
          ],
          [
           1,
           "Water",
           "1.5m",
           "132.5kg",
           "Water"
          ],
          [
           5,
           "Psychic",
           "0.3m",
           "1.0kg",
           "Psychic"
          ],
          [
           7,
           "Psychic",
           "3.4m",
           "230.0kg",
           "Psychic"
          ],
          [
           5,
           "Normal",
           "0.5m",
           "11.6kg",
           "Normal"
          ],
          [
           8,
           "Steel",
           "3.0m",
           "650.0kg",
           "Steel"
          ],
          [
           3,
           "Water",
           "0.6m",
           "11.5kg",
           "Water"
          ],
          [
           2,
           "Water",
           "0.6m",
           "5.0kg",
           "Water"
          ],
          [
           8,
           "Flying",
           "2.2m",
           "75.0kg",
           "Flying"
          ],
          [
           8,
           "Fighting",
           "1.3m",
           "43.0kg",
           "Fighting"
          ],
          [
           3,
           "Ghost",
           "0.6m",
           "2.3kg",
           "Ghost"
          ],
          [
           6,
           "Poison",
           "1.8m",
           "81.5kg",
           "Poison"
          ],
          [
           8,
           "Rock",
           "1.1m",
           "78.0kg",
           "Rock"
          ],
          [
           8,
           "Dragon",
           "3.0m",
           "50.0kg",
           "Dragon"
          ],
          [
           8,
           "Bug",
           "0.4m",
           "8.0kg",
           "Bug"
          ],
          [
           1,
           "Water",
           "1.6m",
           "85.5kg",
           "Water"
          ],
          [
           5,
           "Dark",
           "1.4m",
           "50.0kg",
           "Dark"
          ],
          [
           5,
           "Bug",
           "0.8m",
           "25.3kg",
           "Bug"
          ],
          [
           6,
           "Steel",
           "1.7m",
           "53.0kg",
           "Steel"
          ],
          [
           6,
           "Steel",
           "1.7m",
           "53.0kg",
           "Steel"
          ],
          [
           1,
           "Poison",
           "0.8m",
           "7.5kg",
           "Poison"
          ],
          [
           5,
           "Dark",
           "0.7m",
           "12.5kg",
           "Dark"
          ],
          [
           2,
           "Bug",
           "1.2m",
           "38.0kg",
           "Bug"
          ],
          [
           9,
           "Grass",
           "1.4m",
           "48.2kg",
           "Grass"
          ],
          [
           4,
           "Normal",
           "3.2m",
           "320.0kg",
           "Normal"
          ],
          [
           8,
           "Water",
           "1.3m",
           "30.0kg",
           "Water"
          ],
          [
           8,
           "Water",
           "3.0m",
           "110.0kg",
           "Water"
          ],
          [
           8,
           "Water",
           "3.0m",
           "110.0kg",
           "Water"
          ],
          [
           5,
           "Water",
           "1.0m",
           "18.0kg",
           "Water"
          ],
          [
           6,
           "Rock",
           "2.5m",
           "270.0kg",
           "Rock"
          ],
          [
           2,
           "Rock",
           "2.0m",
           "202.0kg",
           "Rock"
          ],
          [
           2,
           "Fire",
           "1.7m",
           "79.5kg",
           "Fire"
          ],
          [
           4,
           "Fighting",
           "0.7m",
           "20.2kg",
           "Fighting"
          ],
          [
           8,
           "Water",
           "0.3m",
           "4.0kg",
           "Water"
          ],
          [
           7,
           "Bug",
           "0.2m",
           "0.5kg",
           "Bug"
          ],
          [
           4,
           "Electric",
           "1.8m",
           "138.6kg",
           "Electric"
          ],
          [
           8,
           "Ice",
           "1.4m",
           "89.0kg",
           "Ice"
          ],
          [
           8,
           "Grass",
           "2.1m",
           "90.0kg",
           "Grass"
          ],
          [
           5,
           "Psychic",
           "1.0m",
           "20.1kg",
           "Psychic"
          ],
          [
           5,
           "Bug",
           "0.3m",
           "33.0kg",
           "Bug"
          ],
          [
           3,
           "Ghost",
           "0.8m",
           "15.0kg",
           "Ghost"
          ],
          [
           3,
           "Electric",
           "0.6m",
           "15.2kg",
           "Electric"
          ],
          [
           1,
           "Electric",
           "1.2m",
           "66.6kg",
           "Electric"
          ],
          [
           1,
           "Normal",
           "1.1m",
           "30.0kg",
           "Normal"
          ],
          [
           1,
           "Normal",
           "1.5m",
           "39.5kg",
           "Normal"
          ],
          [
           6,
           "Ghost",
           "0.4m",
           "7.0kg",
           "Ghost"
          ],
          [
           2,
           "Ground",
           "0.5m",
           "33.5kg",
           "Ground"
          ],
          [
           5,
           "Water",
           "0.5m",
           "5.9kg",
           "Water"
          ],
          [
           2,
           "Water",
           "2.0m",
           "187.0kg",
           "Water"
          ],
          [
           3,
           "Normal",
           "1.1m",
           "5.0kg",
           "Normal"
          ],
          [
           2,
           "Bug",
           "0.5m",
           "8.5kg",
           "Bug"
          ],
          [
           9,
           "Steel",
           "2.5m",
           "310.0kg",
           "Steel"
          ],
          [
           3,
           "Ice",
           "1.8m",
           "175.0kg",
           "Ice"
          ],
          [
           8,
           "Dragon",
           "2.1m",
           "200.0kg",
           "Dragon"
          ],
          [
           9,
           "Bug",
           "1.0m",
           "16.5kg",
           "Bug"
          ],
          [
           3,
           "Normal",
           "0.6m",
           "16.3kg",
           "Normal"
          ],
          [
           5,
           "Bug",
           "1.2m",
           "58.5kg",
           "Bug"
          ],
          [
           5,
           "Ice",
           "0.4m",
           "5.7kg",
           "Ice"
          ],
          [
           2,
           "Fire",
           "0.9m",
           "19.0kg",
           "Fire"
          ],
          [
           6,
           "Fairy",
           "3.0m",
           "215.0kg",
           "Fairy"
          ],
          [
           8,
           "Dark",
           "0.4m",
           "5.5kg",
           "Dark"
          ],
          [
           4,
           "Bug",
           "0.5m",
           "6.5kg",
           "Bug"
          ],
          [
           9,
           "Dark",
           "2.0m",
           "120.0kg",
           "Dark"
          ],
          [
           6,
           "Grass",
           "0.7m",
           "29.0kg",
           "Grass"
          ],
          [
           5,
           "Ground",
           "1.0m",
           "33.4kg",
           "Ground"
          ],
          [
           4,
           "Dark",
           "0.9m",
           "27.3kg",
           "Dark"
          ],
          [
           3,
           "Psychic",
           "0.4m",
           "6.6kg",
           "Psychic"
          ],
          [
           5,
           "Ground",
           "1.5m",
           "96.3kg",
           "Ground"
          ],
          [
           2,
           "Ice",
           "0.4m",
           "6.5kg",
           "Ice"
          ],
          [
           6,
           "Fairy",
           "0.4m",
           "3.5kg",
           "Fairy"
          ],
          [
           7,
           "Grass",
           "1.9m",
           "45.5kg",
           "Grass"
          ],
          [
           2,
           "Electric",
           "1.9m",
           "178.0kg",
           "Electric"
          ],
          [
           4,
           "Normal",
           "0.4m",
           "5.5kg",
           "Normal"
          ],
          [
           1,
           "Grass",
           "0.7m",
           "6.9kg",
           "Grass"
          ],
          [
           4,
           "Water",
           "0.7m",
           "29.5kg",
           "Water"
          ],
          [
           4,
           "Poison",
           "1.3m",
           "44.4kg",
           "Poison"
          ],
          [
           1,
           "Electric",
           "0.8m",
           "30.0kg",
           "Electric"
          ],
          [
           9,
           "Bug",
           "0.3m",
           "3.5kg",
           "Bug"
          ],
          [
           2,
           "Water",
           "0.5m",
           "3.9kg",
           "Water"
          ],
          [
           1,
           "Fighting",
           "1.5m",
           "49.8kg",
           "Fighting"
          ],
          [
           1,
           "Fighting",
           "1.4m",
           "50.2kg",
           "Fighting"
          ],
          [
           5,
           "Ice",
           "1.3m",
           "57.5kg",
           "Ice"
          ],
          [
           8,
           "Fire",
           "0.6m",
           "9.0kg",
           "Fire"
          ],
          [
           4,
           "Rock",
           "1.6m",
           "102.5kg",
           "Rock"
          ],
          [
           5,
           "Water",
           "1.0m",
           "29.0kg",
           "Water"
          ],
          [
           3,
           "Bug",
           "0.6m",
           "10.0kg",
           "Bug"
          ],
          [
           4,
           "Normal",
           "0.5m",
           "3.9kg",
           "Normal"
          ],
          [
           3,
           "Bug",
           "0.8m",
           "1.2kg",
           "Bug"
          ],
          [
           9,
           "Rock",
           "0.4m",
           "16.0kg",
           "Rock"
          ],
          [
           9,
           "Rock",
           "0.6m",
           "105.0kg",
           "Rock"
          ],
          [
           9,
           "Grass",
           "1.5m",
           "31.2kg",
           "Grass"
          ],
          [
           5,
           "Normal",
           "0.6m",
           "6.5kg",
           "Normal"
          ],
          [
           4,
           "Grass",
           "0.4m",
           "5.2kg",
           "Grass"
          ],
          [
           7,
           "Poison",
           "3.6m",
           "150.0kg",
           "Poison"
          ],
          [
           8,
           "Ice",
           "2.2m",
           "800.0kg",
           "Ice"
          ],
          [
           8,
           "Ground",
           "3.8m",
           "65.5kg",
           "Ground"
          ],
          [
           3,
           "Psychic",
           "1.7m",
           "60.8kg",
           "Psychic"
          ],
          [
           1,
           "Fire",
           "1.7m",
           "95.0kg",
           "Fire"
          ],
          [
           7,
           "Normal",
           "3.0m",
           "185.0kg",
           "Normal"
          ],
          [
           2,
           "Ground",
           "1.1m",
           "64.8kg",
           "Ground"
          ],
          [
           3,
           "Ice",
           "1.5m",
           "256.5kg",
           "Ice"
          ],
          [
           1,
           "Bug",
           "0.3m",
           "5.4kg",
           "Bug"
          ],
          [
           5,
           "Fire",
           "0.6m",
           "11.0kg",
           "Fire"
          ],
          [
           1,
           "Water",
           "1.2m",
           "25.0kg",
           "Water"
          ],
          [
           5,
           "Water",
           "1.5m",
           "62.0kg",
           "Water"
          ],
          [
           5,
           "Ghost",
           "0.6m",
           "13.0kg",
           "Ghost"
          ],
          [
           5,
           "Ground",
           "1.5m",
           "68.0kg",
           "Ground"
          ],
          [
           1,
           "Water",
           "2.5m",
           "220.0kg",
           "Water"
          ],
          [
           6,
           "Dark",
           "1.5m",
           "47.0kg",
           "Dark"
          ],
          [
           4,
           "Bug",
           "0.5m",
           "6.5kg",
           "Bug"
          ],
          [
           1,
           "Bug",
           "1.0m",
           "29.5kg",
           "Bug"
          ],
          [
           5,
           "Bug",
           "1.1m",
           "28.8kg",
           "Bug"
          ],
          [
           4,
           "Bug",
           "0.5m",
           "6.5kg",
           "Bug"
          ],
          [
           1,
           "Normal",
           "2.2m",
           "80.0kg",
           "Normal"
          ],
          [
           9,
           "Fairy",
           "1.2m",
           "8.0kg",
           "Fairy"
          ],
          [
           3,
           "Psychic",
           "0.6m",
           "14.0kg",
           "Psychic"
          ],
          [
           5,
           "Dark",
           "0.6m",
           "11.8kg",
           "Dark"
          ],
          [
           7,
           "Normal",
           "0.3m",
           "1.2kg",
           "Normal"
          ],
          [
           1,
           "Electric",
           "0.4m",
           "6.0kg",
           "Electric"
          ],
          [
           3,
           "Steel",
           "0.3m",
           "1.1kg",
           "Steel"
          ],
          [
           1,
           "Ground",
           "1.0m",
           "115.0kg",
           "Ground"
          ],
          [
           1,
           "Rock",
           "0.5m",
           "11.5kg",
           "Rock"
          ],
          [
           4,
           "Ground",
           "2.4m",
           "282.8kg",
           "Ground"
          ],
          [
           1,
           "Bug",
           "1.5m",
           "56.0kg",
           "Bug"
          ],
          [
           2,
           "Rock",
           "0.6m",
           "72.0kg",
           "Rock"
          ],
          [
           7,
           "Bug",
           "1.5m",
           "45.0kg",
           "Bug"
          ],
          [
           5,
           "Grass",
           "2.0m",
           "200.0kg",
           "Grass"
          ],
          [
           4,
           "Water",
           "0.3m",
           "1.4kg",
           "Water"
          ],
          [
           5,
           "Dark",
           "1.2m",
           "39.5kg",
           "Dark"
          ],
          [
           3,
           "Electric",
           "1.5m",
           "40.2kg",
           "Electric"
          ],
          [
           7,
           "Ghost",
           "0.6m",
           "3.4kg",
           "Ghost"
          ],
          [
           1,
           "Water",
           "0.5m",
           "9.0kg",
           "Water"
          ],
          [
           7,
           "Rock",
           "5.5m",
           "820.0kg",
           "Rock"
          ],
          [
           5,
           "Normal",
           "1.2m",
           "61.0kg",
           "Normal"
          ],
          [
           7,
           "Normal",
           "0.5m",
           "6.8kg",
           "Normal"
          ],
          [
           5,
           "Ground",
           "0.7m",
           "11.0kg",
           "Ground"
          ],
          [
           9,
           "Normal",
           "0.3m",
           "2.3kg",
           "Normal"
          ],
          [
           2,
           "Fairy",
           "0.6m",
           "7.8kg",
           "Fairy"
          ],
          [
           4,
           "Grass",
           "1.0m",
           "50.5kg",
           "Grass"
          ],
          [
           3,
           "Ice",
           "0.7m",
           "16.8kg",
           "Ice"
          ],
          [
           9,
           "Steel",
           "1.8m",
           "120.0kg",
           "Steel"
          ],
          [
           6,
           "Dragon",
           "0.8m",
           "17.5kg",
           "Dragon"
          ],
          [
           2,
           "Steel",
           "1.7m",
           "50.5kg",
           "Steel"
          ],
          [
           1,
           "Ground",
           "1.9m",
           "120.0kg",
           "Ground"
          ],
          [
           1,
           "Grass",
           "1.2m",
           "18.6kg",
           "Grass"
          ],
          [
           4,
           "Ice",
           "2.5m",
           "291.0kg",
           "Ice"
          ],
          [
           3,
           "Normal",
           "1.4m",
           "46.5kg",
           "Normal"
          ],
          [
           1,
           "Grass",
           "1.7m",
           "15.5kg",
           "Grass"
          ],
          [
           1,
           "Psychic",
           "1.3m",
           "54.5kg",
           "Psychic"
          ],
          [
           2,
           "Normal",
           "0.8m",
           "6.0kg",
           "Normal"
          ],
          [
           8,
           "Ice",
           "1.5m",
           "58.2kg",
           "Ice"
          ],
          [
           5,
           "Grass",
           "3.3m",
           "63.0kg",
           "Grass"
          ],
          [
           4,
           "Fire",
           "0.9m",
           "22.0kg",
           "Fire"
          ],
          [
           7,
           "Normal",
           "1.9m",
           "120.5kg",
           "Normal"
          ],
          [
           5,
           "Electric",
           "0.2m",
           "0.3kg",
           "Electric"
          ],
          [
           6,
           "Fire",
           "0.6m",
           "13.5kg",
           "Fire"
          ],
          [
           7,
           "Fire",
           "0.4m",
           "4.3kg",
           "Fire"
          ],
          [
           5,
           "Water",
           "0.5m",
           "4.5kg",
           "Water"
          ],
          [
           7,
           "Grass",
           "0.2m",
           "1.5kg",
           "Grass"
          ],
          [
           1,
           "Normal",
           "0.5m",
           "5.5kg",
           "Normal"
          ],
          [
           4,
           "Grass",
           "2.2m",
           "135.5kg",
           "Grass"
          ],
          [
           7,
           "Grass",
           "1.6m",
           "36.6kg",
           "Grass"
          ],
          [
           3,
           "Fire",
           "1.9m",
           "220.0kg",
           "Fire"
          ],
          [
           5,
           "Water",
           "1.5m",
           "58.2kg",
           "Water"
          ],
          [
           6,
           "Steel",
           "0.7m",
           "68.5kg",
           "Steel"
          ],
          [
           9,
           "Electric",
           "1.2m",
           "113.0kg",
           "Electric"
          ],
          [
           5,
           "Ground",
           "0.7m",
           "20.5kg",
           "Ground"
          ],
          [
           4,
           "Dragon",
           "1.4m",
           "56.0kg",
           "Dragon"
          ],
          [
           1,
           "Grass",
           "0.7m",
           "4.0kg",
           "Grass"
          ],
          [
           8,
           "Grass",
           "0.5m",
           "2.5kg",
           "Grass"
          ],
          [
           9,
           "Water",
           "1.3m",
           "60.2kg",
           "Water"
          ],
          [
           1,
           "Poison",
           "2.0m",
           "6.9kg",
           "Poison"
          ],
          [
           4,
           "Electric",
           "0.3m",
           "0.3kg",
           "Electric"
          ],
          [
           5,
           "Fire",
           "1.4m",
           "58.0kg",
           "Fire"
          ],
          [
           9,
           "Fairy",
           "1.4m",
           "35.0kg",
           "Fairy"
          ],
          [
           1,
           "Fire",
           "0.7m",
           "19.0kg",
           "Fire"
          ],
          [
           2,
           "Grass",
           "0.4m",
           "5.8kg",
           "Grass"
          ],
          [
           2,
           "Bug",
           "1.1m",
           "33.5kg",
           "Bug"
          ],
          [
           4,
           "Water",
           "0.4m",
           "7.0kg",
           "Water"
          ],
          [
           6,
           "Psychic",
           "0.5m",
           "9.0kg",
           "Psychic"
          ],
          [
           3,
           "Dark",
           "1.2m",
           "47.0kg",
           "Dark"
          ],
          [
           3,
           "Rock",
           "1.5m",
           "68.2kg",
           "Rock"
          ],
          [
           8,
           "Psychic",
           "2.4m",
           "53.6kg",
           "Psychic"
          ],
          [
           8,
           "Psychic",
           "2.4m",
           "809.1kg",
           "Psychic"
          ],
          [
           1,
           "Psychic",
           "0.9m",
           "19.5kg",
           "Psychic"
          ],
          [
           2,
           "Psychic",
           "0.6m",
           "5.0kg",
           "Psychic"
          ],
          [
           4,
           "Electric",
           "0.3m",
           "0.3kg",
           "Electric"
          ],
          [
           8,
           "Fighting",
           "3.0m",
           "62.0kg",
           "Fighting"
          ],
          [
           5,
           "Normal",
           "0.6m",
           "19.5kg",
           "Normal"
          ],
          [
           3,
           "Normal",
           "1.5m",
           "84.0kg",
           "Normal"
          ],
          [
           5,
           "Normal",
           "0.6m",
           "19.5kg",
           "Normal"
          ],
          [
           3,
           "Grass",
           "0.9m",
           "21.6kg",
           "Grass"
          ],
          [
           1,
           "Electric",
           "1.1m",
           "30.0kg",
           "Electric"
          ],
          [
           5,
           "Fighting",
           "1.4m",
           "87.0kg",
           "Fighting"
          ],
          [
           3,
           "Ground",
           "3.5m",
           "950.0kg",
           "Ground"
          ],
          [
           9,
           "Fairy",
           "0.5m",
           "14.9kg",
           "Fairy"
          ],
          [
           9,
           "Fire",
           "1.5m",
           "85.0kg",
           "Fire"
          ],
          [
           5,
           "Fire",
           "0.6m",
           "37.5kg",
           "Fire"
          ],
          [
           2,
           "Dark",
           "0.5m",
           "3.9kg",
           "Dark"
          ],
          [
           7,
           "Psychic",
           "4.2m",
           "350.0kg",
           "Psychic"
          ],
          [
           9,
           "Rock",
           "0.7m",
           "8.0kg",
           "Rock"
          ],
          [
           1,
           "Poison",
           "3.0m",
           "16.0kg",
           "Poison"
          ],
          [
           2,
           "Normal",
           "1.6m",
           "40.8kg",
           "Normal"
          ],
          [
           4,
           "Water",
           "0.9m",
           "29.9kg",
           "Water"
          ],
          [
           6,
           "Ghost",
           "1.5m",
           "71.0kg",
           "Ghost"
          ],
          [
           6,
           "Flying",
           "0.5m",
           "8.0kg",
           "Flying"
          ],
          [
           4,
           "Water",
           "0.9m",
           "29.9kg",
           "Water"
          ],
          [
           5,
           "Dragon",
           "1.6m",
           "139.0kg",
           "Dragon"
          ],
          [
           1,
           "Psychic",
           "1.0m",
           "32.4kg",
           "Psychic"
          ],
          [
           2,
           "Poison",
           "0.4m",
           "11.0kg",
           "Poison"
          ],
          [
           2,
           "Rock",
           "1.2m",
           "38.0kg",
           "Rock"
          ],
          [
           7,
           "Rock",
           "0.8m",
           "25.0kg",
           "Rock"
          ],
          [
           7,
           "Rock",
           "0.8m",
           "25.0kg",
           "Rock"
          ],
          [
           6,
           "Ice",
           "2.0m",
           "505.0kg",
           "Ice"
          ],
          [
           5,
           "Water",
           "1.2m",
           "31.6kg",
           "Water"
          ],
          [
           6,
           "Rock",
           "1.3m",
           "25.2kg",
           "Rock"
          ],
          [
           6,
           "Rock",
           "2.7m",
           "225.0kg",
           "Rock"
          ],
          [
           5,
           "Normal",
           "1.1m",
           "31.0kg",
           "Normal"
          ],
          [
           8,
           "Electric",
           "0.3m",
           "13.5kg",
           "Electric"
          ],
          [
           1,
           "Fighting",
           "1.4m",
           "(?)",
           "Fighting"
          ],
          [
           4,
           "Poison",
           "0.4m",
           "19.2kg",
           "Poison"
          ],
          [
           5,
           "Bug",
           "2.5m",
           "200.5kg",
           "Bug"
          ],
          [
           5,
           "Grass",
           "1.0m",
           "28.0kg",
           "Grass"
          ],
          [
           6,
           "Dragon",
           "5.0m",
           "305.0kg",
           "Dragon"
          ],
          [
           1,
           "Ice",
           "1.4m",
           "40.6kg",
           "Ice"
          ],
          [
           9,
           "Fighting",
           "1.8m",
           "380.7kg",
           "Fighting"
          ],
          [
           9,
           "Ice",
           "0.6m",
           "11.0kg",
           "Ice"
          ],
          [
           7,
           "Grass",
           "0.3m",
           "0.1kg",
           "Grass"
          ],
          [
           6,
           "Rock",
           "0.7m",
           "8.8kg",
           "Rock"
          ],
          [
           9,
           "Grass",
           "0.3m",
           "3.0kg",
           "Grass"
          ],
          [
           6,
           "Rock",
           "0.3m",
           "5.7kg",
           "Rock"
          ],
          [
           7,
           "Steel",
           "0.2m",
           "8.0kg",
           "Steel"
          ],
          [
           1,
           "Psychic",
           "1.2m",
           "36.0kg",
           "Psychic"
          ],
          [
           2,
           "Poison",
           "1.8m",
           "79.5kg",
           "Poison"
          ],
          [
           7,
           "Rock",
           "1.2m",
           "55.5kg",
           "Rock"
          ],
          [
           6,
           "Dragon",
           "1.2m",
           "33.5kg",
           "Dragon"
          ],
          [
           1,
           "Poison",
           "1.6m",
           "70.5kg",
           "Poison"
          ],
          [
           6,
           "Water",
           "1.5m",
           "40.0kg",
           "Water"
          ],
          [
           7,
           "Poison",
           "0.4m",
           "8.0kg",
           "Poison"
          ],
          [
           8,
           "Fire",
           "0.3m",
           "4.5kg",
           "Fire"
          ],
          [
           7,
           "Psychic",
           "1.2m",
           "18.6kg",
           "Psychic"
          ],
          [
           9,
           "Ground",
           "2.2m",
           "320.0kg",
           "Ground"
          ],
          [
           3,
           "Normal",
           "0.3m",
           "0.8kg",
           "Normal"
          ],
          [
           3,
           "Normal",
           "0.3m",
           "0.8kg",
           "Normal"
          ],
          [
           3,
           "Bug",
           "0.3m",
           "3.6kg",
           "Bug"
          ],
          [
           1,
           "Poison",
           "0.9m",
           "19.5kg",
           "Poison"
          ],
          [
           2,
           "Electric",
           "0.6m",
           "7.8kg",
           "Electric"
          ],
          [
           9,
           "Ghost",
           "0.6m",
           "35.0kg",
           "Ghost"
          ],
          [
           5,
           "Rock",
           "0.5m",
           "9.5kg",
           "Rock"
          ],
          [
           1,
           "Dragon",
           "4.0m",
           "16.5kg",
           "Dragon"
          ],
          [
           6,
           "Ghost",
           "0.9m",
           "12.5kg",
           "Ghost"
          ],
          [
           1,
           "Dragon",
           "2.2m",
           "210.0kg",
           "Dragon"
          ],
          [
           9,
           "Dark",
           "0.5m",
           "16.0kg",
           "Dark"
          ],
          [
           1,
           "Fairy",
           "0.6m",
           "7.5kg",
           "Fairy"
          ],
          [
           3,
           "Bug",
           "0.8m",
           "3.6kg",
           "Bug"
          ],
          [
           1,
           "Fire",
           "1.9m",
           "155.0kg",
           "Fire"
          ],
          [
           1,
           "Ground",
           "1.0m",
           "45.0kg",
           "Ground"
          ],
          [
           3,
           "Water",
           "2.0m",
           "130.0kg",
           "Water"
          ],
          [
           3,
           "Dragon",
           "1.1m",
           "20.6kg",
           "Dragon"
          ],
          [
           4,
           "Normal",
           "1.2m",
           "20.3kg",
           "Normal"
          ],
          [
           1,
           "Normal",
           "0.3m",
           "3.5kg",
           "Normal"
          ],
          [
           1,
           "Normal",
           "0.7m",
           "18.5kg",
           "Normal"
          ],
          [
           2,
           "Normal",
           "0.6m",
           "8.8kg",
           "Normal"
          ],
          [
           1,
           "Water",
           "0.9m",
           "45.5kg",
           "Water"
          ],
          [
           5,
           "Fire",
           "0.5m",
           "9.9kg",
           "Fire"
          ],
          [
           1,
           "Poison",
           "0.4m",
           "7.0kg",
           "Poison"
          ],
          [
           5,
           "Rock",
           "1.9m",
           "260.0kg",
           "Rock"
          ],
          [
           1,
           "Poison",
           "1.3m",
           "60.0kg",
           "Poison"
          ],
          [
           3,
           "Normal",
           "1.0m",
           "22.0kg",
           "Normal"
          ],
          [
           5,
           "Bug",
           "0.5m",
           "5.9kg",
           "Bug"
          ],
          [
           3,
           "Water",
           "14.5m",
           "398.0kg",
           "Water"
          ],
          [
           1,
           "Poison",
           "1.4m",
           "62.0kg",
           "Poison"
          ],
          [
           8,
           "Electric",
           "0.4m",
           "11.0kg",
           "Electric"
          ],
          [
           2,
           "Water",
           "1.8m",
           "152.0kg",
           "Water"
          ],
          [
           7,
           "Electric",
           "1.8m",
           "20.5kg",
           "Electric"
          ],
          [
           3,
           "Dragon",
           "7.0m",
           "206.5kg",
           "Dragon"
          ],
          [
           5,
           "Psychic",
           "0.6m",
           "8.0kg",
           "Psychic"
          ],
          [
           6,
           "Grass",
           "1.7m",
           "91.0kg",
           "Grass"
          ],
          [
           7,
           "Rock",
           "0.3m",
           "0.3kg",
           "Rock"
          ],
          [
           1,
           "Poison",
           "1.6m",
           "55.0kg",
           "Poison"
          ],
          [
           1,
           "Water",
           "0.6m",
           "15.0kg",
           "Water"
          ],
          [
           1,
           "Water",
           "1.7m",
           "76.6kg",
           "Water"
          ],
          [
           1,
           "Rock",
           "1.4m",
           "300.0kg",
           "Rock"
          ],
          [
           8,
           "Fairy",
           "2.8m",
           "110.0kg",
           "Fairy"
          ],
          [
           1,
           "Fire",
           "1.7m",
           "90.5kg",
           "Fire"
          ],
          [
           1,
           "Fire",
           "0.6m",
           "8.5kg",
           "Fire"
          ],
          [
           7,
           "Rock",
           "0.3m",
           "40.0kg",
           "Rock"
          ],
          [
           8,
           "Water",
           "1.0m",
           "115.5kg",
           "Water"
          ],
          [
           7,
           "Rock",
           "0.3m",
           "0.3kg",
           "Rock"
          ],
          [
           7,
           "Water",
           "0.3m",
           "4.0kg",
           "Water"
          ],
          [
           9,
           "Water",
           "2.5m",
           "90.0kg",
           "Water"
          ],
          [
           8,
           "Water",
           "2.3m",
           "215.0kg",
           "Water"
          ],
          [
           3,
           "Grass",
           "1.0m",
           "28.0kg",
           "Grass"
          ],
          [
           3,
           "Fire",
           "0.7m",
           "24.0kg",
           "Fire"
          ],
          [
           9,
           "Bug",
           "0.2m",
           "1.0kg",
           "Bug"
          ],
          [
           4,
           "Steel",
           "7.0m",
           "850.0kg",
           "Steel"
          ],
          [
           1,
           "Normal",
           "1.2m",
           "65.5kg",
           "Normal"
          ],
          [
           6,
           "Fighting",
           "2.1m",
           "136.0kg",
           "Fighting"
          ],
          [
           8,
           "Electric",
           "1.8m",
           "190.0kg",
           "Electric"
          ],
          [
           6,
           "Fairy",
           "1.1m",
           "10.0kg",
           "Fairy"
          ],
          [
           4,
           "Water",
           "1.1m",
           "33.5kg",
           "Water"
          ],
          [
           9,
           "Psychic",
           "0.2m",
           "1.5kg",
           "Psychic"
          ],
          [
           6,
           "Normal",
           "0.3m",
           "1.7kg",
           "Normal"
          ],
          [
           9,
           "Flying",
           "1.6m",
           "37.0kg",
           "Flying"
          ],
          [
           6,
           "Fairy",
           "0.1m",
           "0.1kg",
           "Fairy"
          ],
          [
           2,
           "Electric",
           "0.8m",
           "13.3kg",
           "Electric"
          ],
          [
           2,
           "Bug",
           "0.6m",
           "7.2kg",
           "Bug"
          ],
          [
           3,
           "Ghost",
           "1.6m",
           "30.6kg",
           "Ghost"
          ],
          [
           7,
           "Psychic",
           "3.8m",
           "460.0kg",
           "Psychic"
          ],
          [
           8,
           "Fairy",
           "1.6m",
           "48.0kg",
           "Fairy"
          ],
          [
           2,
           "Fire",
           "2.1m",
           "198.0kg",
           "Fire"
          ],
          [
           9,
           "Normal",
           "3.2m",
           "160.0kg",
           "Normal"
          ],
          [
           1,
           "Normal",
           "0.8m",
           "15.0kg",
           "Normal"
          ],
          [
           5,
           "Dark",
           "0.5m",
           "9.0kg",
           "Dark"
          ],
          [
           9,
           "Normal",
           "3.6m",
           "39.2kg",
           "Normal"
          ],
          [
           3,
           "Ground",
           "2.0m",
           "82.0kg",
           "Ground"
          ],
          [
           7,
           "Grass",
           "0.3m",
           "1.5kg",
           "Grass"
          ],
          [
           5,
           "Water",
           "0.5m",
           "5.5kg",
           "Water"
          ],
          [
           3,
           "Dark",
           "0.4m",
           "17.5kg",
           "Dark"
          ],
          [
           5,
           "Ground",
           "0.5m",
           "1.5kg",
           "Ground"
          ],
          [
           4,
           "Electric",
           "0.3m",
           "0.3kg",
           "Electric"
          ],
          [
           4,
           "Grass",
           "0.9m",
           "14.5kg",
           "Grass"
          ],
          [
           1,
           "Psychic",
           "1.7m",
           "80.0kg",
           "Psychic"
          ],
          [
           3,
           "Grass",
           "0.3m",
           "2.0kg",
           "Grass"
          ],
          [
           8,
           "Flying",
           "0.2m",
           "1.8kg",
           "Flying"
          ],
          [
           3,
           "Water",
           "0.9m",
           "23.6kg",
           "Water"
          ],
          [
           9,
           "Ghost",
           "0.3m",
           "5.0kg",
           "Ghost"
          ],
          [
           8,
           "Rock",
           "0.3m",
           "12.0kg",
           "Rock"
          ],
          [
           5,
           "Dragon",
           "0.6m",
           "18.0kg",
           "Dragon"
          ],
          [
           3,
           "Normal",
           "0.2m",
           "2.0kg",
           "Normal"
          ],
          [
           8,
           "Normal",
           "1.3m",
           "43.0kg",
           "Normal"
          ],
          [
           8,
           "Steel",
           "0.8m",
           "28.0kg",
           "Steel"
          ],
          [
           1,
           "Normal",
           "1.0m",
           "32.0kg",
           "Normal"
          ],
          [
           5,
           "Grass",
           "0.5m",
           "6.6kg",
           "Grass"
          ],
          [
           5,
           "Water",
           "0.6m",
           "13.5kg",
           "Water"
          ],
          [
           2,
           "Normal",
           "1.5m",
           "41.5kg",
           "Normal"
          ],
          [
           5,
           "Fighting",
           "1.4m",
           "35.5kg",
           "Fighting"
          ],
          [
           4,
           "Ghost",
           "6.9m",
           "650.0kg",
           "Ghost"
          ],
          [
           1,
           "Bug",
           "0.3m",
           "2.9kg",
           "Bug"
          ],
          [
           5,
           "Dark",
           "1.1m",
           "37.5kg",
           "Dark"
          ],
          [
           3,
           "Rock",
           "1.0m",
           "23.8kg",
           "Rock"
          ],
          [
           5,
           "Grass",
           "1.1m",
           "16.3kg",
           "Grass"
          ],
          [
           7,
           "Steel",
           "9.2m",
           "999.9kg",
           "Steel"
          ],
          [
           9,
           "Grass",
           "0.6m",
           "0.6kg",
           "Grass"
          ],
          [
           9,
           "Grass",
           "1.2m",
           "6.0kg",
           "Grass"
          ],
          [
           7,
           "Grass",
           "0.3m",
           "3.2kg",
           "Grass"
          ],
          [
           4,
           "Normal",
           "1.7m",
           "140.0kg",
           "Normal"
          ],
          [
           6,
           "Grass",
           "0.4m",
           "9.0kg",
           "Grass"
          ],
          [
           3,
           "Water",
           "1.5m",
           "55.0kg",
           "Water"
          ],
          [
           2,
           "Psychic",
           "5.2m",
           "216.0kg",
           "Psychic"
          ],
          [
           2,
           "Grass",
           "0.9m",
           "6.4kg",
           "Grass"
          ],
          [
           4,
           "Fire",
           "0.5m",
           "6.2kg",
           "Fire"
          ],
          [
           7,
           "Rock",
           "1.1m",
           "25.0kg",
           "Rock"
          ],
          [
           8,
           "Psychic",
           "0.4m",
           "3.4kg",
           "Psychic"
          ],
          [
           4,
           "Ghost",
           "4.5m",
           "750.0kg",
           "Ghost"
          ],
          [
           4,
           "Normal",
           "0.6m",
           "24.4kg",
           "Normal"
          ],
          [
           4,
           "Fighting",
           "1.2m",
           "54.0kg",
           "Fighting"
          ],
          [
           7,
           "Dragon",
           "1.2m",
           "47.0kg",
           "Dragon"
          ],
          [
           1,
           "Electric",
           "0.7m",
           "21.0kg",
           "Electric"
          ],
          [
           1,
           "Poison",
           "1.0m",
           "52.0kg",
           "Poison"
          ],
          [
           2,
           "Grass",
           "0.8m",
           "3.0kg",
           "Grass"
          ],
          [
           4,
           "Fire",
           "1.2m",
           "55.0kg",
           "Fire"
          ],
          [
           3,
           "Bug",
           "0.6m",
           "17.7kg",
           "Bug"
          ],
          [
           2,
           "Normal",
           "0.3m",
           "1.0kg",
           "Normal"
          ],
          [
           5,
           "Water",
           "1.4m",
           "48.5kg",
           "Water"
          ],
          [
           3,
           "Ground",
           "0.7m",
           "15.0kg",
           "Ground"
          ],
          [
           3,
           "Water",
           "0.8m",
           "20.8kg",
           "Water"
          ],
          [
           2,
           "Grass",
           "0.4m",
           "0.5kg",
           "Grass"
          ],
          [
           1,
           "Dark",
           "1.1m",
           "33.0kg",
           "Dark"
          ],
          [
           4,
           "Bug",
           "1.0m",
           "25.5kg",
           "Bug"
          ],
          [
           2,
           "Fire",
           "3.8m",
           "199.0kg",
           "Fire"
          ],
          [
           2,
           "Fighting",
           "1.4m",
           "48.0kg",
           "Fighting"
          ],
          [
           5,
           "Normal",
           "0.7m",
           "12.5kg",
           "Normal"
          ],
          [
           5,
           "Ground",
           "1.3m",
           "68.0kg",
           "Ground"
          ],
          [
           1,
           "Rock",
           "1.7m",
           "316.0kg",
           "Rock"
          ],
          [
           1,
           "Rock",
           "1.0m",
           "110.0kg",
           "Rock"
          ],
          [
           1,
           "Poison",
           "0.7m",
           "42.0kg",
           "Poison"
          ],
          [
           1,
           "Fire",
           "1.0m",
           "34.0kg",
           "Fire"
          ],
          [
           2,
           "Normal",
           "0.7m",
           "21.2kg",
           "Normal"
          ],
          [
           1,
           "Water",
           "6.5m",
           "235.0kg",
           "Water"
          ],
          [
           3,
           "Fighting",
           "2.3m",
           "253.8kg",
           "Fighting"
          ],
          [
           2,
           "Normal",
           "1.4m",
           "71.2kg",
           "Normal"
          ],
          [
           7,
           "Normal",
           "2.3m",
           "100.5kg",
           "Normal"
          ],
          [
           2,
           "Bug",
           "0.6m",
           "20.5kg",
           "Bug"
          ],
          [
           4,
           "Water",
           "0.3m",
           "6.3kg",
           "Water"
          ],
          [
           1,
           "Water",
           "0.3m",
           "4.0kg",
           "Water"
          ],
          [
           4,
           "Normal",
           "1.2m",
           "24.9kg",
           "Normal"
          ],
          [
           9,
           "Dragon",
           "0.8m",
           "30.0kg",
           "Dragon"
          ],
          [
           7,
           "Rock",
           "0.3m",
           "0.3kg",
           "Rock"
          ],
          [
           3,
           "Dark",
           "1.0m",
           "37.0kg",
           "Dark"
          ],
          [
           7,
           "Rock",
           "0.3m",
           "0.3kg",
           "Rock"
          ],
          [
           3,
           "Electric",
           "0.4m",
           "4.2kg",
           "Electric"
          ],
          [
           9,
           "Electric",
           "3.5m",
           "240.0kg",
           "Electric"
          ],
          [
           6,
           "Electric",
           "0.2m",
           "2.2kg",
           "Electric"
          ],
          [
           3,
           "Poison",
           "2.7m",
           "52.5kg",
           "Poison"
          ],
          [
           1,
           "Water",
           "1.1m",
           "90.0kg",
           "Water"
          ],
          [
           3,
           "Grass",
           "0.5m",
           "4.0kg",
           "Grass"
          ],
          [
           4,
           "Ice",
           "0.8m",
           "25.9kg",
           "Ice"
          ],
          [
           7,
           "Rock",
           "0.3m",
           "0.3kg",
           "Rock"
          ],
          [
           5,
           "Fighting",
           "0.9m",
           "20.0kg",
           "Fighting"
          ],
          [
           5,
           "Rock",
           "1.4m",
           "32.0kg",
           "Rock"
          ],
          [
           5,
           "Ice",
           "1.1m",
           "148.0kg",
           "Ice"
          ],
          [
           5,
           "Normal",
           "0.5m",
           "7.5kg",
           "Normal"
          ],
          [
           1,
           "Fairy",
           "1.3m",
           "40.0kg",
           "Fairy"
          ],
          [
           3,
           "Ice",
           "0.8m",
           "39.5kg",
           "Ice"
          ],
          [
           6,
           "Bug",
           "0.3m",
           "8.4kg",
           "Bug"
          ],
          [
           1,
           "Psychic",
           "0.4m",
           "4.0kg",
           "Psychic"
          ],
          [
           6,
           "Psychic",
           "6.5m",
           "490.0kg",
           "Psychic"
          ],
          [
           5,
           "Normal",
           "1.2m",
           "29.0kg",
           "Normal"
          ],
          [
           2,
           "Dark",
           "1.0m",
           "27.0kg",
           "Dark"
          ],
          [
           3,
           "Rock",
           "1.5m",
           "60.4kg",
           "Rock"
          ],
          [
           2,
           "Psychic",
           "0.5m",
           "5.0kg",
           "Psychic"
          ],
          [
           5,
           "Grass",
           "0.3m",
           "0.6kg",
           "Grass"
          ],
          [
           7,
           "Fighting",
           "0.6m",
           "7.0kg",
           "Fighting"
          ],
          [
           1,
           "Fire",
           "0.6m",
           "9.9kg",
           "Fire"
          ],
          [
           7,
           "Fighting",
           "1.7m",
           "180.0kg",
           "Fighting"
          ],
          [
           2,
           "Bug",
           "1.8m",
           "118.0kg",
           "Bug"
          ],
          [
           4,
           "Steel",
           "0.5m",
           "60.5kg",
           "Steel"
          ],
          [
           9,
           "Grass",
           "1.2m",
           "21.0kg",
           "Grass"
          ],
          [
           5,
           "Flying",
           "1.5m",
           "63.0kg",
           "Flying"
          ],
          [
           3,
           "Psychic",
           "1.7m",
           "60.8kg",
           "Psychic"
          ],
          [
           1,
           "Water",
           "1.3m",
           "39.0kg",
           "Water"
          ],
          [
           3,
           "Ice",
           "1.1m",
           "87.6kg",
           "Ice"
          ],
          [
           4,
           "Poison",
           "0.7m",
           "23.0kg",
           "Poison"
          ],
          [
           3,
           "Fire",
           "0.5m",
           "80.4kg",
           "Fire"
          ],
          [
           2,
           "Ice",
           "0.4m",
           "6.0kg",
           "Ice"
          ],
          [
           3,
           "Normal",
           "0.3m",
           "0.8kg",
           "Normal"
          ],
          [
           3,
           "Bug",
           "0.7m",
           "11.5kg",
           "Bug"
          ],
          [
           3,
           "Normal",
           "0.3m",
           "0.8kg",
           "Normal"
          ],
          [
           5,
           "Normal",
           "0.6m",
           "19.5kg",
           "Normal"
          ],
          [
           9,
           "Grass",
           "0.3m",
           "6.5kg",
           "Grass"
          ],
          [
           3,
           "Grass",
           "1.7m",
           "52.2kg",
           "Grass"
          ],
          [
           9,
           "Flying",
           "1.5m",
           "42.9kg",
           "Flying"
          ],
          [
           7,
           "Water",
           "0.6m",
           "17.5kg",
           "Water"
          ],
          [
           3,
           "Ground",
           "5.0m",
           "999.7kg",
           "Ground"
          ],
          [
           2,
           "Electric",
           "1.4m",
           "61.5kg",
           "Electric"
          ],
          [
           3,
           "Rock",
           "0.7m",
           "12.5kg",
           "Rock"
          ],
          [
           2,
           "Ghost",
           "0.6m",
           "0.5kg",
           "Ghost"
          ],
          [
           8,
           "Grass",
           "0.4m",
           "13.0kg",
           "Grass"
          ],
          [
           5,
           "Grass",
           "0.6m",
           "10.5kg",
           "Grass"
          ],
          [
           4,
           "Psychic",
           "1.6m",
           "52.0kg",
           "Psychic"
          ],
          [
           8,
           "Grass",
           "0.2m",
           "0.5kg",
           "Grass"
          ],
          [
           3,
           "Steel",
           "1.6m",
           "550.0kg",
           "Steel"
          ],
          [
           4,
           "Steel",
           "1.3m",
           "187.0kg",
           "Steel"
          ],
          [
           3,
           "Water",
           "9.8m",
           "430.0kg",
           "Water"
          ],
          [
           1,
           "Dark",
           "0.3m",
           "3.8kg",
           "Dark"
          ],
          [
           1,
           "Psychic",
           "1.7m",
           "50.9kg",
           "Psychic"
          ],
          [
           "(?)",
           "Bug",
           "(?)",
           "(?)",
           "Bug"
          ],
          [
           3,
           "Steel",
           "1.2m",
           "202.5kg",
           "Steel"
          ],
          [
           1,
           "Dark",
           "0.7m",
           "25.5kg",
           "Dark"
          ],
          [
           9,
           "Fighting",
           "1.2m",
           "56.0kg",
           "Fighting"
          ],
          [
           2,
           "Dark",
           "1.4m",
           "35.0kg",
           "Dark"
          ],
          [
           9,
           "Dark",
           "1.5m",
           "74.2kg",
           "Dark"
          ],
          [
           8,
           "Electric",
           "2.3m",
           "150.0kg",
           "Electric"
          ],
          [
           7,
           "Water",
           "0.2m",
           "0.3kg",
           "Water"
          ],
          [
           2,
           "Dark",
           "0.6m",
           "10.8kg",
           "Dark"
          ],
          [
           8,
           "Water",
           "2.0m",
           "175.0kg",
           "Water"
          ],
          [
           9,
           "Dark",
           "1.3m",
           "111.0kg",
           "Dark"
          ],
          [
           9,
           "Fire",
           "1.2m",
           "36.0kg",
           "Fire"
          ],
          [
           9,
           "Rock",
           "1.6m",
           "303.0kg",
           "Rock"
          ],
          [
           9,
           "Ground",
           "0.9m",
           "240.0kg",
           "Ground"
          ],
          [
           5,
           "Normal",
           "0.6m",
           "6.5kg",
           "Normal"
          ],
          [
           1,
           "Water",
           "1.2m",
           "36.0kg",
           "Water"
          ],
          [
           2,
           "Ice",
           "0.9m",
           "16.0kg",
           "Ice"
          ],
          [
           2,
           "Water",
           "2.0m",
           "79.5kg",
           "Water"
          ],
          [
           1,
           "Water",
           "1.6m",
           "78.5kg",
           "Water"
          ],
          [
           2,
           "Fire",
           "0.7m",
           "35.0kg",
           "Fire"
          ],
          [
           1,
           "Water",
           "1.0m",
           "29.0kg",
           "Water"
          ],
          [
           4,
           "Psychic",
           "0.6m",
           "13.0kg",
           "Psychic"
          ],
          [
           3,
           "Normal",
           "0.6m",
           "11.0kg",
           "Normal"
          ],
          [
           2,
           "Grass",
           "0.6m",
           "1.0kg",
           "Grass"
          ],
          [
           6,
           "Grass",
           "0.9m",
           "31.0kg",
           "Grass"
          ],
          [
           8,
           "Fire",
           "0.7m",
           "1.0kg",
           "Fire"
          ],
          [
           5,
           "Normal",
           "0.4m",
           "5.8kg",
           "Normal"
          ],
          [
           8,
           "Ghost",
           "1.0m",
           "0.4kg",
           "Ghost"
          ],
          [
           7,
           "Ghost",
           "0.2m",
           "0.7kg",
           "Ghost"
          ],
          [
           8,
           "Fairy",
           "0.2m",
           "0.3kg",
           "Fairy"
          ],
          [
           3,
           "Water",
           "6.2m",
           "162.0kg",
           "Water"
          ],
          [
           2,
           "Normal",
           "1.2m",
           "75.5kg",
           "Normal"
          ],
          [
           1,
           "Grass",
           "0.8m",
           "8.6kg",
           "Grass"
          ],
          [
           4,
           "Poison",
           "0.8m",
           "12.0kg",
           "Poison"
          ],
          [
           8,
           "Dark",
           "1.5m",
           "61.0kg",
           "Dark"
          ],
          [
           3,
           "Fire",
           "0.9m",
           "19.5kg",
           "Fire"
          ],
          [
           5,
           "Water",
           "1.4m",
           "48.5kg",
           "Water"
          ],
          [
           4,
           "Bug",
           "0.2m",
           "3.4kg",
           "Bug"
          ],
          [
           4,
           "Bug",
           "0.2m",
           "3.4kg",
           "Bug"
          ],
          [
           8,
           "Electric",
           "1.6m",
           "40.0kg",
           "Electric"
          ],
          [
           8,
           "Electric",
           "1.6m",
           "40.0kg",
           "Electric"
          ],
          [
           5,
           "Normal",
           "0.6m",
           "15.0kg",
           "Normal"
          ],
          [
           1,
           "Psychic",
           "1.6m",
           "75.6kg",
           "Psychic"
          ],
          [
           5,
           "Fighting",
           "1.3m",
           "55.5kg",
           "Fighting"
          ],
          [
           8,
           "Dark",
           "1.2m",
           "19.9kg",
           "Dark"
          ],
          [
           1,
           "Water",
           "0.4m",
           "8.0kg",
           "Water"
          ],
          [
           5,
           "Steel",
           "0.3m",
           "21.0kg",
           "Steel"
          ],
          [
           5,
           "Steel",
           "0.6m",
           "81.0kg",
           "Steel"
          ],
          [
           1,
           "Poison",
           "0.6m",
           "1.0kg",
           "Poison"
          ],
          [
           8,
           "Fighting",
           "0.6m",
           "12.0kg",
           "Fighting"
          ],
          [
           2,
           "Water",
           "1.2m",
           "22.5kg",
           "Water"
          ],
          [
           9,
           "Electric",
           "0.3m",
           "0.4kg",
           "Electric"
          ],
          [
           6,
           "Fairy",
           "1.0m",
           "23.5kg",
           "Fairy"
          ],
          [
           2,
           "Fairy",
           "0.3m",
           "3.0kg",
           "Fairy"
          ],
          [
           1,
           "Poison",
           "0.9m",
           "30.0kg",
           "Poison"
          ],
          [
           9,
           "Steel",
           "1.0m",
           "35.0kg",
           "Steel"
          ],
          [
           8,
           "Grass",
           "0.3m",
           "5.0kg",
           "Grass"
          ],
          [
           4,
           "Grass",
           "1.1m",
           "97.0kg",
           "Grass"
          ],
          [
           3,
           "Fire",
           "1.9m",
           "52.0kg",
           "Fire"
          ],
          [
           7,
           "Fairy",
           "0.1m",
           "0.3kg",
           "Fairy"
          ],
          [
           4,
           "Electric",
           "1.4m",
           "42.0kg",
           "Electric"
          ],
          [
           2,
           "Normal",
           "1.5m",
           "46.8kg",
           "Normal"
          ],
          [
           5,
           "Rock",
           "0.9m",
           "102.0kg",
           "Rock"
          ],
          [
           3,
           "Normal",
           "1.0m",
           "40.5kg",
           "Normal"
          ],
          [
           3,
           "Water",
           "0.5m",
           "2.6kg",
           "Water"
          ],
          [
           9,
           "Fire",
           "0.6m",
           "10.5kg",
           "Fire"
          ],
          [
           5,
           "Psychic",
           "0.9m",
           "10.5kg",
           "Psychic"
          ],
          [
           4,
           "Electric",
           "0.9m",
           "30.5kg",
           "Electric"
          ],
          [
           9,
           "Rock",
           "1.5m",
           "45.0kg",
           "Rock"
          ],
          [
           8,
           "Steel",
           "1.2m",
           "100.0kg",
           "Steel"
          ],
          [
           4,
           "Water",
           "0.4m",
           "5.2kg",
           "Water"
          ],
          [
           5,
           "Grass",
           "0.6m",
           "18.8kg",
           "Grass"
          ],
          [
           8,
           "Dark",
           "1.6m",
           "46.0kg",
           "Dark"
          ],
          [
           1,
           "Bug",
           "1.5m",
           "55.0kg",
           "Bug"
          ],
          [
           1,
           "Psychic",
           "0.8m",
           "24.0kg",
           "Psychic"
          ],
          [
           5,
           "Water",
           "1.5m",
           "94.6kg",
           "Water"
          ],
          [
           3,
           "Electric",
           "0.4m",
           "4.2kg",
           "Electric"
          ],
          [
           2,
           "Water",
           "0.6m",
           "12.0kg",
           "Water"
          ],
          [
           1,
           "Normal",
           "0.3m",
           "6.5kg",
           "Normal"
          ],
          [
           8,
           "Ice",
           "1.4m",
           "89.0kg",
           "Ice"
          ],
          [
           5,
           "Dragon",
           "3.2m",
           "330.0kg",
           "Dragon"
          ],
          [
           6,
           "Fire",
           "0.4m",
           "9.4kg",
           "Fire"
          ],
          [
           2,
           "Water",
           "2.3m",
           "88.8kg",
           "Water"
          ],
          [
           3,
           "Bug",
           "1.0m",
           "28.4kg",
           "Bug"
          ],
          [
           5,
           "Psychic",
           "1.1m",
           "60.5kg",
           "Psychic"
          ],
          [
           1,
           "Water",
           "1.7m",
           "120.0kg",
           "Water"
          ],
          [
           2,
           "Dark",
           "0.5m",
           "2.1kg",
           "Dark"
          ],
          [
           2,
           "Grass",
           "1.2m",
           "15.8kg",
           "Grass"
          ],
          [
           5,
           "Water",
           "0.8m",
           "24.5kg",
           "Water"
          ],
          [
           5,
           "Ice",
           "2.6m",
           "260.0kg",
           "Ice"
          ],
          [
           1,
           "Ice",
           "1.4m",
           "56.8kg",
           "Ice"
          ],
          [
           6,
           "Ghost",
           "1.1m",
           "14.0kg",
           "Ghost"
          ],
          [
           7,
           "Grass",
           "0.7m",
           "8.2kg",
           "Grass"
          ],
          [
           2,
           "Steel",
           "9.2m",
           "400.0kg",
           "Steel"
          ],
          [
           8,
           "Fire",
           "1.4m",
           "33.0kg",
           "Fire"
          ],
          [
           3,
           "Water",
           "0.4m",
           "52.5kg",
           "Water"
          ],
          [
           5,
           "Dragon",
           "3.3m",
           "325.0kg",
           "Dragon"
          ],
          [
           7,
           "Fire",
           "1.8m",
           "13.0kg",
           "Fire"
          ],
          [
           8,
           "Rock",
           "2.5m",
           "520.0kg",
           "Rock"
          ],
          [
           6,
           "Water",
           "1.3m",
           "35.3kg",
           "Water"
          ],
          [
           6,
           "Water",
           "0.5m",
           "8.3kg",
           "Water"
          ],
          [
           9,
           "Bug",
           "0.2m",
           "1.0kg",
           "Bug"
          ],
          [
           9,
           "Ghost",
           "1.4m",
           "4.0kg",
           "Ghost"
          ],
          [
           8,
           "Fairy",
           "2.8m",
           "355.0kg",
           "Fairy"
          ],
          [
           7,
           "Grass",
           "0.9m",
           "18.5kg",
           "Grass"
          ],
          [
           1,
           "Water",
           "0.8m",
           "19.6kg",
           "Water"
          ],
          [
           6,
           "Ghost",
           "0.3m",
           "3.5kg",
           "Ghost"
          ],
          [
           6,
           "Ghost",
           "0.5m",
           "7.5kg",
           "Ghost"
          ],
          [
           6,
           "Ghost",
           "0.4m",
           "5.0kg",
           "Ghost"
          ],
          [
           2,
           "Normal",
           "0.6m",
           "32.5kg",
           "Normal"
          ],
          [
           6,
           "Normal",
           "0.4m",
           "5.0kg",
           "Normal"
          ],
          [
           4,
           "Normal",
           "0.9m",
           "34.0kg",
           "Normal"
          ],
          [
           4,
           "Normal",
           "1.0m",
           "43.8kg",
           "Normal"
          ],
          [
           9,
           "Electric",
           "1.4m",
           "38.6kg",
           "Electric"
          ],
          [
           5,
           "Dark",
           "1.8m",
           "160.0kg",
           "Dark"
          ],
          [
           1,
           "Water",
           "1.6m",
           "55.0kg",
           "Water"
          ],
          [
           5,
           "Electric",
           "2.1m",
           "80.5kg",
           "Electric"
          ],
          [
           5,
           "Electric",
           "1.2m",
           "22.0kg",
           "Electric"
          ],
          [
           2,
           "Bug",
           "1.5m",
           "54.0kg",
           "Bug"
          ],
          [
           6,
           "Electric",
           "0.5m",
           "6.0kg",
           "Electric"
          ],
          [
           6,
           "Electric",
           "1.0m",
           "21.0kg",
           "Electric"
          ],
          [
           4,
           "Fire",
           "1.7m",
           "430.0kg",
           "Fire"
          ],
          [
           5,
           "Bug",
           "0.3m",
           "14.5kg",
           "Bug"
          ],
          [
           3,
           "Rock",
           "1.0m",
           "168.0kg",
           "Rock"
          ],
          [
           3,
           "Water",
           "0.6m",
           "8.7kg",
           "Water"
          ],
          [
           2,
           "Dark",
           "0.9m",
           "28.0kg",
           "Dark"
          ],
          [
           3,
           "Ground",
           "1.5m",
           "108.0kg",
           "Ground"
          ],
          [
           5,
           "Dark",
           "1.6m",
           "70.0kg",
           "Dark"
          ],
          [
           5,
           "Bug",
           "1.5m",
           "82.5kg",
           "Bug"
          ],
          [
           5,
           "Bug",
           "0.8m",
           "14.3kg",
           "Bug"
          ],
          [
           1,
           "Normal",
           "0.4m",
           "4.2kg",
           "Normal"
          ],
          [
           4,
           "Psychic",
           "0.3m",
           "0.3kg",
           "Psychic"
          ],
          [
           4,
           "Normal",
           "1.0m",
           "31.5kg",
           "Normal"
          ],
          [
           4,
           "Normal",
           "0.5m",
           "20.0kg",
           "Normal"
          ],
          [
           5,
           "Fire",
           "1.3m",
           "92.9kg",
           "Fire"
          ],
          [
           3,
           "Grass",
           "0.4m",
           "4.5kg",
           "Grass"
          ],
          [
           6,
           "Poison",
           "0.5m",
           "7.3kg",
           "Poison"
          ],
          [
           5,
           "Dragon",
           "3.6m",
           "325.0kg",
           "Dragon"
          ],
          [
           4,
           "Water",
           "0.3m",
           "6.3kg",
           "Water"
          ],
          [
           5,
           "Bug",
           "0.4m",
           "7.7kg",
           "Bug"
          ],
          [
           6,
           "Rock",
           "0.5m",
           "31.0kg",
           "Rock"
          ],
          [
           1,
           "Normal",
           "1.0m",
           "12.0kg",
           "Normal"
          ],
          [
           5,
           "Poison",
           "1.9m",
           "107.3kg",
           "Poison"
          ],
          [
           9,
           "Electric",
           "2.3m",
           "60.0kg",
           "Electric"
          ],
          [
           7,
           "Ghost",
           "0.5m",
           "70.0kg",
           "Ghost"
          ],
          [
           4,
           "Rock",
           "0.5m",
           "57.0kg",
           "Rock"
          ],
          [
           9,
           "Poison",
           "0.2m",
           "0.7kg",
           "Poison"
          ],
          [
           4,
           "Electric",
           "0.5m",
           "9.5kg",
           "Electric"
          ],
          [
           7,
           "Bug",
           "0.5m",
           "12.0kg",
           "Bug"
          ],
          [
           3,
           "Water",
           "0.6m",
           "9.5kg",
           "Water"
          ],
          [
           7,
           "Water",
           "8.2m",
           "78.6kg",
           "Water"
          ],
          [
           9,
           "Water",
           "1.2m",
           "1.8kg",
           "Water"
          ],
          [
           7,
           "Grass",
           "1.0m",
           "11.5kg",
           "Grass"
          ],
          [
           7,
           "Electric",
           "0.6m",
           "3.4kg",
           "Electric"
          ],
          [
           9,
           "Steel",
           "1.2m",
           "30.0kg",
           "Steel"
          ],
          [
           3,
           "Grass",
           "1.3m",
           "59.6kg",
           "Grass"
          ],
          [
           1,
           "Rock",
           "0.4m",
           "20.0kg",
           "Rock"
          ],
          [
           5,
           "Fighting",
           "1.4m",
           "51.0kg",
           "Fighting"
          ],
          [
           1,
           "Ghost",
           "1.5m",
           "40.5kg",
           "Ghost"
          ],
          [
           1,
           "Ground",
           "1.0m",
           "29.5kg",
           "Ground"
          ],
          [
           7,
           "Dragon",
           "1.6m",
           "78.2kg",
           "Dragon"
          ],
          [
           4,
           "Grass",
           "2.0m",
           "128.6kg",
           "Grass"
          ],
          [
           1,
           "Water",
           "0.6m",
           "12.4kg",
           "Water"
          ],
          [
           5,
           "Psychic",
           "1.5m",
           "44.0kg",
           "Psychic"
          ],
          [
           1,
           "Water",
           "1.0m",
           "20.0kg",
           "Water"
          ],
          [
           6,
           "Fire",
           "1.7m",
           "195.0kg",
           "Fire"
          ],
          [
           9,
           "Water",
           "1.2m",
           "21.5kg",
           "Water"
          ],
          [
           9,
           "Water",
           "0.5m",
           "6.1kg",
           "Water"
          ],
          [
           9,
           "Ghost",
           "2.0m",
           "15.0kg",
           "Ghost"
          ],
          [
           8,
           "Grass",
           "0.7m",
           "14.0kg",
           "Grass"
          ],
          [
           5,
           "Fighting",
           "0.6m",
           "12.5kg",
           "Fighting"
          ],
          [
           3,
           "Water",
           "1.7m",
           "27.0kg",
           "Water"
          ],
          [
           2,
           "Water",
           "1.4m",
           "75.0kg",
           "Water"
          ],
          [
           5,
           "Water",
           "0.7m",
           "16.5kg",
           "Water"
          ],
          [
           5,
           "Bug",
           "1.6m",
           "46.0kg",
           "Bug"
          ],
          [
           1,
           "Electric",
           "0.5m",
           "10.4kg",
           "Electric"
          ],
          [
           7,
           "Ground",
           "1.0m",
           "110.0kg",
           "Ground"
          ],
          [
           3,
           "Water",
           "0.4m",
           "7.6kg",
           "Water"
          ],
          [
           7,
           "Normal",
           "0.4m",
           "19.9kg",
           "Normal"
          ],
          [
           2,
           "Water",
           "1.1m",
           "33.9kg",
           "Water"
          ],
          [
           7,
           "Ground",
           "2.5m",
           "920.0kg",
           "Ground"
          ],
          [
           5,
           "Dragon",
           "1.0m",
           "36.0kg",
           "Dragon"
          ],
          [
           9,
           "Dragon",
           "0.5m",
           "17.0kg",
           "Dragon"
          ],
          [
           7,
           "Poison",
           "0.6m",
           "1.8kg",
           "Poison"
          ],
          [
           5,
           "Water",
           "1.2m",
           "33.0kg",
           "Water"
          ],
          [
           3,
           "Normal",
           "0.8m",
           "24.0kg",
           "Normal"
          ],
          [
           2,
           "Water",
           "0.8m",
           "28.5kg",
           "Water"
          ],
          [
           6,
           "Normal",
           "1.0m",
           "42.4kg",
           "Normal"
          ],
          [
           4,
           "Ghost",
           "1.2m",
           "15.0kg",
           "Ghost"
          ],
          [
           7,
           "Psychic",
           "0.6m",
           "3.4kg",
           "Psychic"
          ],
          [
           2,
           "Bug",
           "1.2m",
           "125.8kg",
           "Bug"
          ],
          [
           6,
           "Fairy",
           "0.8m",
           "5.0kg",
           "Fairy"
          ],
          [
           6,
           "Ghost",
           "1.7m",
           "39.0kg",
           "Ghost"
          ],
          [
           9,
           "Water",
           "1.2m",
           "5.4kg",
           "Water"
          ],
          [
           1,
           "Normal",
           "2.1m",
           "460.0kg",
           "Normal"
          ],
          [
           8,
           "Ice",
           "0.3m",
           "3.8kg",
           "Ice"
          ],
          [
           5,
           "Psychic",
           "0.7m",
           "18.0kg",
           "Psychic"
          ],
          [
           6,
           "Ghost",
           "0.7m",
           "9.5kg",
           "Ghost"
          ],
          [
           6,
           "Water",
           "1.5m",
           "40.0kg",
           "Water"
          ],
          [
           5,
           "Psychic",
           "0.4m",
           "4.0kg",
           "Psychic"
          ],
          [
           5,
           "Normal",
           "1.5m",
           "41.0kg",
           "Normal"
          ],
          [
           7,
           "Psychic",
           "7.5m",
           "230.0kg",
           "Psychic"
          ],
          [
           6,
           "Rock",
           "0.8m",
           "26.0kg",
           "Rock"
          ],
          [
           2,
           "Fighting",
           "0.7m",
           "21.0kg",
           "Fighting"
          ],
          [
           3,
           "Ghost",
           "1.1m",
           "12.5kg",
           "Ghost"
          ],
          [
           5,
           "Bug",
           "0.4m",
           "5.3kg",
           "Bug"
          ],
          [
           1,
           "Bug",
           "1.5m",
           "12.5kg",
           "Bug"
          ],
          [
           4,
           "Bug",
           "1.2m",
           "38.5kg",
           "Bug"
          ],
          [
           3,
           "Grass",
           "2.0m",
           "100.0kg",
           "Grass"
          ],
          [
           1,
           "Bug",
           "1.0m",
           "30.0kg",
           "Bug"
          ],
          [
           6,
           "Ice",
           "1.0m",
           "99.5kg",
           "Ice"
          ],
          [
           7,
           "Normal",
           "2.1m",
           "135.0kg",
           "Normal"
          ],
          [
           2,
           "Normal",
           "0.8m",
           "11.5kg",
           "Normal"
          ],
          [
           3,
           "Steel",
           "2.1m",
           "360.0kg",
           "Steel"
          ],
          [
           3,
           "Ground",
           "1.1m",
           "15.3kg",
           "Ground"
          ],
          [
           1,
           "Rock",
           "1.8m",
           "59.0kg",
           "Rock"
          ],
          [
           8,
           "Electric",
           "1.0m",
           "34.0kg",
           "Electric"
          ],
          [
           5,
           "Electric",
           "0.8m",
           "29.8kg",
           "Electric"
          ],
          [
           4,
           "Rock",
           "1.3m",
           "149.5kg",
           "Rock"
          ],
          [
           1,
           "Grass",
           "2.0m",
           "100.0kg",
           "Grass"
          ],
          [
           5,
           "Water",
           "1.0m",
           "18.0kg",
           "Water"
          ],
          [
           3,
           "Ground",
           "0.5m",
           "21.5kg",
           "Ground"
          ],
          [
           9,
           "Dragon",
           "2.1m",
           "210.0kg",
           "Dragon"
          ],
          [
           5,
           "Poison",
           "0.6m",
           "31.0kg",
           "Poison"
          ],
          [
           1,
           "Grass",
           "1.0m",
           "13.0kg",
           "Grass"
          ],
          [
           7,
           "Water",
           "0.9m",
           "19.0kg",
           "Water"
          ],
          [
           6,
           "Psychic",
           "0.6m",
           "8.5kg",
           "Psychic"
          ],
          [
           6,
           "Dragon",
           "0.3m",
           "2.8kg",
           "Dragon"
          ],
          [
           6,
           "Dragon",
           "2.0m",
           "150.5kg",
           "Dragon"
          ],
          [
           7,
           "Rock",
           "0.3m",
           "0.3kg",
           "Rock"
          ],
          [
           7,
           "Rock",
           "0.3m",
           "0.3kg",
           "Rock"
          ],
          [
           5,
           "Ground",
           "2.8m",
           "330.0kg",
           "Ground"
          ],
          [
           7,
           "Bug",
           "2.0m",
           "108.0kg",
           "Bug"
          ],
          [
           5,
           "Ground",
           "1.0m",
           "92.0kg",
           "Ground"
          ],
          [
           8,
           "Dark",
           "0.8m",
           "12.5kg",
           "Dark"
          ],
          [
           8,
           "Electric",
           "0.3m",
           "3.0kg",
           "Electric"
          ],
          [
           8,
           "Electric",
           "0.3m",
           "3.0kg",
           "Electric"
          ],
          [
           5,
           "Rock",
           "1.7m",
           "260.0kg",
           "Rock"
          ],
          [
           6,
           "Psychic",
           "0.6m",
           "8.5kg",
           "Psychic"
          ],
          [
           4,
           "Dragon",
           "0.7m",
           "20.5kg",
           "Dragon"
          ],
          [
           9,
           "Rock",
           "2.3m",
           "240.0kg",
           "Rock"
          ],
          [
           3,
           "Psychic",
           "1.6m",
           "48.4kg",
           "Psychic"
          ],
          [
           4,
           "Dragon",
           "1.9m",
           "95.0kg",
           "Dragon"
          ],
          [
           1,
           "Fighting",
           "0.8m",
           "42.0kg",
           "Fighting"
          ],
          [
           5,
           "Ice",
           "0.7m",
           "40.0kg",
           "Ice"
          ],
          [
           5,
           "Ice",
           "1.7m",
           "120.0kg",
           "Ice"
          ],
          [
           5,
           "Water",
           "0.8m",
           "17.0kg",
           "Water"
          ],
          [
           6,
           "Fighting",
           "0.6m",
           "8.0kg",
           "Fighting"
          ],
          [
           5,
           "Ice",
           "1.7m",
           "120.0kg",
           "Ice"
          ],
          [
           9,
           "Electric",
           "0.4m",
           "6.5kg",
           "Electric"
          ],
          [
           9,
           "Electric",
           "0.9m",
           "41.0kg",
           "Electric"
          ],
          [
           5,
           "Dark",
           "0.5m",
           "10.2kg",
           "Dark"
          ],
          [
           1,
           "Ghost",
           "1.3m",
           "0.1kg",
           "Ghost"
          ],
          [
           3,
           "Water",
           "1.2m",
           "28.0kg",
           "Water"
          ],
          [
           8,
           "Fighting",
           "1.6m",
           "39.0kg",
           "Fighting"
          ],
          [
           4,
           "Water",
           "1.0m",
           "65.0kg",
           "Water"
          ],
          [
           7,
           "Dragon",
           "0.6m",
           "29.7kg",
           "Dragon"
          ],
          [
           5,
           "Water",
           "2.2m",
           "135.0kg",
           "Water"
          ],
          [
           9,
           "Fighting",
           "2.5m",
           "303.0kg",
           "Fighting"
          ],
          [
           1,
           "Water",
           "0.4m",
           "6.5kg",
           "Water"
          ],
          [
           3,
           "Water",
           "4.5m",
           "352.0kg",
           "Water"
          ],
          [
           5,
           "Dragon",
           "3.0m",
           "325.0kg",
           "Dragon"
          ],
          [
           5,
           "Normal",
           "1.6m",
           "73.0kg",
           "Normal"
          ],
          [
           1,
           "Electric",
           "0.5m",
           "13.0kg",
           "Electric"
          ],
          [
           2,
           "Fire",
           "1.6m",
           "69.8kg",
           "Fire"
          ],
          [
           2,
           "Fighting",
           "0.9m",
           "27.0kg",
           "Fighting"
          ],
          [
           5,
           "Bug",
           "1.2m",
           "20.5kg",
           "Bug"
          ],
          [
           9,
           "Normal",
           "0.5m",
           "10.2kg",
           "Normal"
          ],
          [
           1,
           "Rock",
           "1.0m",
           "105.0kg",
           "Rock"
          ],
          [
           2,
           "Bug",
           "1.4m",
           "35.6kg",
           "Bug"
          ],
          [
           5,
           "Grass",
           "1.2m",
           "19.2kg",
           "Grass"
          ],
          [
           1,
           "Fire",
           "0.8m",
           "22.7kg",
           "Fire"
          ],
          [
           3,
           "Water",
           "1.2m",
           "32.5kg",
           "Water"
          ],
          [
           4,
           "Normal",
           "1.2m",
           "33.3kg",
           "Normal"
          ],
          [
           1,
           "Fighting",
           "0.8m",
           "19.5kg",
           "Fighting"
          ],
          [
           2,
           "Fire",
           "0.7m",
           "21.4kg",
           "Fire"
          ],
          [
           2,
           "Fire",
           "0.8m",
           "55.0kg",
           "Fire"
          ],
          [
           7,
           "Dark",
           "5.5m",
           "888.0kg",
           "Dark"
          ],
          [
           5,
           "Fighting",
           "1.2m",
           "40.0kg",
           "Fighting"
          ],
          [
           7,
           "Normal",
           "0.7m",
           "14.2kg",
           "Normal"
          ],
          [
           1,
           "Fighting",
           "0.5m",
           "28.0kg",
           "Fighting"
          ],
          [
           2,
           "Water",
           "2.1m",
           "220.0kg",
           "Water"
          ],
          [
           2,
           "Bug",
           "1.0m",
           "10.8kg",
           "Bug"
          ],
          [
           3,
           "Grass",
           "1.2m",
           "39.2kg",
           "Grass"
          ],
          [
           3,
           "Water",
           "0.6m",
           "7.4kg",
           "Water"
          ],
          [
           7,
           "Water",
           "1.8m",
           "44.0kg",
           "Water"
          ],
          [
           2,
           "Poison",
           "1.8m",
           "75.0kg",
           "Poison"
          ],
          [
           7,
           "Psychic",
           "0.2m",
           "0.1kg",
           "Psychic"
          ],
          [
           7,
           "Psychic",
           "0.1m",
           "999.9kg",
           "Psychic"
          ],
          [
           8,
           "Flying",
           "0.8m",
           "16.0kg",
           "Flying"
          ],
          [
           3,
           "Rock",
           "1.2m",
           "154.0kg",
           "Rock"
          ],
          [
           1,
           "Normal",
           "0.3m",
           "2.0kg",
           "Normal"
          ],
          [
           8,
           "Ghost",
           "2.0m",
           "44.5kg",
           "Ghost"
          ],
          [
           4,
           "Normal",
           "0.6m",
           "15.5kg",
           "Normal"
          ],
          [
           4,
           "Normal",
           "0.3m",
           "2.0kg",
           "Normal"
          ],
          [
           3,
           "Psychic",
           "0.6m",
           "1.0kg",
           "Psychic"
          ],
          [
           9,
           "Dark",
           "1.9m",
           "152.2kg",
           "Dark"
          ],
          [
           9,
           "Dark",
           "0.4m",
           "4.9kg",
           "Dark"
          ],
          [
           9,
           "Fire",
           "1.0m",
           "30.7kg",
           "Fire"
          ],
          [
           8,
           "Water",
           "0.3m",
           "8.5kg",
           "Water"
          ],
          [
           2,
           "Grass",
           "0.3m",
           "1.8kg",
           "Grass"
          ],
          [
           1,
           "Normal",
           "1.1m",
           "34.6kg",
           "Normal"
          ],
          [
           5,
           "Ghost",
           "1.0m",
           "34.3kg",
           "Ghost"
          ],
          [
           9,
           "Ice",
           "1.2m",
           "45.0kg",
           "Ice"
          ],
          [
           9,
           "Ice",
           "4.5m",
           "700.0kg",
           "Ice"
          ],
          [
           9,
           "Fire",
           "1.6m",
           "62.0kg",
           "Fire"
          ],
          [
           8,
           "Fire",
           "3.0m",
           "120.0kg",
           "Fire"
          ],
          [
           9,
           "Fairy",
           "0.7m",
           "112.8kg",
           "Fairy"
          ],
          [
           9,
           "Fairy",
           "0.7m",
           "59.1kg",
           "Fairy"
          ],
          [
           1,
           "Bug",
           "1.1m",
           "32.0kg",
           "Bug"
          ],
          [
           4,
           "Bug",
           "0.2m",
           "3.4kg",
           "Bug"
          ],
          [
           4,
           "Grass",
           "0.2m",
           "1.2kg",
           "Grass"
          ],
          [
           2,
           "Grass",
           "0.8m",
           "8.5kg",
           "Grass"
          ],
          [
           1,
           "Normal",
           "1.2m",
           "38.0kg",
           "Normal"
          ],
          [
           9,
           "Fire",
           "1.6m",
           "326.5kg",
           "Fire"
          ],
          [
           5,
           "Fire",
           "1.3m",
           "92.9kg",
           "Fire"
          ],
          [
           1,
           "Fighting",
           "1.0m",
           "32.0kg",
           "Fighting"
          ],
          [
           1,
           "Grass",
           "2.0m",
           "120.0kg",
           "Grass"
          ],
          [
           1,
           "Grass",
           "0.4m",
           "2.5kg",
           "Grass"
          ],
          [
           5,
           "Ground",
           "0.7m",
           "40.4kg",
           "Ground"
          ],
          [
           5,
           "Fire",
           "1.6m",
           "150.0kg",
           "Fire"
          ],
          [
           5,
           "Psychic",
           "0.5m",
           "9.0kg",
           "Psychic"
          ],
          [
           2,
           "Electric",
           "0.6m",
           "23.5kg",
           "Electric"
          ],
          [
           3,
           "Bug",
           "1.2m",
           "31.6kg",
           "Bug"
          ],
          [
           8,
           "Dragon",
           "0.5m",
           "2.0kg",
           "Dragon"
          ],
          [
           1,
           "Dragon",
           "1.8m",
           "3.3kg",
           "Dragon"
          ],
          [
           9,
           "Dragon",
           "2.0m",
           "380.0kg",
           "Dragon"
          ],
          [
           7,
           "Rock",
           "0.5m",
           "9.2kg",
           "Rock"
          ],
          [
           4,
           "Dark",
           "1.5m",
           "50.5kg",
           "Dark"
          ],
          [
           5,
           "Rock",
           "0.4m",
           "18.0kg",
           "Rock"
          ],
          [
           8,
           "Dragon",
           "1.4m",
           "11.0kg",
           "Dragon"
          ],
          [
           1,
           "Normal",
           "1.8m",
           "85.2kg",
           "Normal"
          ],
          [
           5,
           "Normal",
           "1.9m",
           "92.5kg",
           "Normal"
          ],
          [
           6,
           "Bug",
           "0.3m",
           "2.5kg",
           "Bug"
          ],
          [
           9,
           "Grass",
           "0.9m",
           "15.0kg",
           "Grass"
          ],
          [
           5,
           "Dark",
           "1.1m",
           "30.0kg",
           "Dark"
          ],
          [
           3,
           "Psychic",
           "1.7m",
           "60.8kg",
           "Psychic"
          ],
          [
           3,
           "Normal",
           "1.1m",
           "32.6kg",
           "Normal"
          ],
          [
           5,
           "Dark",
           "0.8m",
           "17.3kg",
           "Dark"
          ],
          [
           3,
           "Dragon",
           "1.1m",
           "110.5kg",
           "Dragon"
          ],
          [
           7,
           "Grass",
           "0.7m",
           "16.0kg",
           "Grass"
          ],
          [
           8,
           "Ground",
           "2.2m",
           "7.6kg",
           "Ground"
          ],
          [
           4,
           "Poison",
           "1.3m",
           "61.5kg",
           "Poison"
          ],
          [
           8,
           "Water",
           "0.7m",
           "11.5kg",
           "Water"
          ],
          [
           "(?)",
           "Dragon",
           "(?)",
           "(?)",
           "Dragon"
          ],
          [
           "(?)",
           "Electric",
           "(?)",
           "(?)",
           "Electric"
          ],
          [
           "(?)",
           "Fairy",
           "(?)",
           "(?)",
           "Fairy"
          ],
          [
           "(?)",
           "Fighting",
           "(?)",
           "(?)",
           "Fighting"
          ],
          [
           "(?)",
           "Fire",
           "(?)",
           "(?)",
           "Fire"
          ],
          [
           "(?)",
           "Flying",
           "(?)",
           "(?)",
           "Flying"
          ],
          [
           "(?)",
           "Ghost",
           "(?)",
           "(?)",
           "Ghost"
          ],
          [
           "(?)",
           "Grass",
           "(?)",
           "(?)",
           "Grass"
          ],
          [
           "(?)",
           "Ground",
           "(?)",
           "(?)",
           "Ground"
          ],
          [
           "(?)",
           "Ice",
           "(?)",
           "(?)",
           "Ice"
          ],
          [
           "(?)",
           "Normal",
           "(?)",
           "(?)",
           "Normal"
          ],
          [
           "(?)",
           "Poison",
           "(?)",
           "(?)",
           "Poison"
          ],
          [
           "(?)",
           "Psychic",
           "(?)",
           "(?)",
           "Psychic"
          ],
          [
           "(?)",
           "Rock",
           "(?)",
           "(?)",
           "Rock"
          ],
          [
           "(?)",
           "Steel",
           "(?)",
           "(?)",
           "Steel"
          ],
          [
           "(?)",
           "Water",
           "(?)",
           "(?)",
           "Water"
          ]
         ],
         "domain": {
          "x": [
           0,
           1
          ],
          "y": [
           0,
           1
          ]
         },
         "hovertemplate": "labels=%{label}<br>count=%{value}<br>parent=%{parent}<br>id=%{id}<br>Generation=%{customdata[0]}<br>Type1=%{customdata[4]}<br>Height=%{customdata[2]}<br>Weight=%{customdata[3]}<extra></extra>",
         "ids": [
          "Grass/Sprigatito",
          "Grass/Ferrothorn",
          "Psychic/Hattrem",
          "Psychic/Hatterene",
          "Bug/Charjabug",
          "Grass/Cherrim",
          "Poison/Eternatus",
          "Fairy/Fidough",
          "Poison/Eternamax Eternatus",
          "Psychic/Espeon",
          "Fire/Magmar",
          "Fire/Magmortar",
          "Electric/Magnemite",
          "Psychic/Espathra",
          "Psychic/Spoink",
          "Psychic/Espurr",
          "Ghost/Spiritomb",
          "Grass/Treecko",
          "Ground/Hippopotas",
          "Grass/Flapple",
          "Electric/Hisuian Electrode",
          "Grass/Hisuian Decidueye",
          "Ice/Vanillish",
          "Psychic/Uxie",
          "Fighting/Urshifu Single Strike Style",
          "Normal/Herdier",
          "Fighting/Urshifu Rapid Strike Style",
          "Ground/Ursaluna",
          "Psychic/Hisuian Braviary",
          "Water/Hisuian Basculin",
          "Ice/Hisuian Avalugg",
          "Fire/Hisuian Arcanine",
          "Ground/Hippowdon",
          "Normal/Ursaring",
          "Fire/Flareon",
          "Electric/Magneton",
          "Fighting/Makuhita",
          "Ghost/Dhelmise",
          "Steel/Dialga",
          "Ground/Sandshrew",
          "Ground/Sandile",
          "Grass/Dolliv",
          "Water/Dondozo",
          "Electric/Mow Rotom",
          "Ground/Donphan",
          "Poison/Nidorina",
          "Ground/Runerigus",
          "Normal/Rufflet",
          "Grass/Rowlet",
          "Rock/Omanyte",
          "Fire/Oricorio Baile Style",
          "Poison/Nidoran M",
          "Electric/Magnezone",
          "Bug/Mothim",
          "Normal/Deerling Summer Form",
          "Normal/Furfrou",
          "Steel/Mawile",
          "Fighting/Medicham",
          "Normal/Furret",
          "Flying/Cramorant",
          "Rock/Cranidos",
          "Grass/Pansage",
          "Water/Crawdaunt",
          "Normal/Skwovet",
          "Poison/Skuntank",
          "Ghost/Mismagius",
          "Fire/Moltres",
          "Grass/Shaymin Land Form",
          "Water/Sharpedo",
          "Psychic/Cresselia",
          "Fire/Fletchinder",
          "Bug/Orbeetle",
          "Grass/Alolan Exeggutor",
          "Water/Arrokuda",
          "Steel/Aron",
          "Bug/Pheromosa",
          "Water/Phione",
          "Ice/Articuno",
          "Fairy/Aromatisse",
          "Electric/Pichu",
          "Psychic/Alakazam",
          "Fairy/Alcremie",
          "Rock/Alolan Geodude",
          "Ground/Alolan Diglett",
          "Electric/Xurkitree",
          "Ground/Alolan Dugtrio",
          "Fire/Delphox",
          "Normal/Squawkabilly",
          "Dark/Alolan Meowth",
          "Ground/Gliscor",
          "Dark/Zarude",
          "Ice/Alolan Ninetales",
          "Electric/Zapdos",
          "Psychic/Mewtwo",
          "Fire/Talonflame",
          "Fighting/Zamazenta Hero of Many Battles",
          "Fairy/Spritzee",
          "Fairy/Enamorus Therian Style",
          "Steel/Lairon",
          "Rock/Coalossal",
          "Water/Wooper",
          "Normal/Wooloo",
          "Water/Empoleon",
          "Electric/Emolga",
          "Normal/Taillow",
          "Fighting/Meditite",
          "Normal/Tandemaus",
          "Grass/Tangela",
          "Steel/Melmetal",
          "Normal/Porygon",
          "Dark/Yveltal",
          "Water/Popplio",
          "Bug/Slither Wing",
          "Bug/Metapod",
          "Normal/Zangoose",
          "Psychic/Deoxys",
          "Dragon/Bagon",
          "Water/Octillery",
          "Psychic/Azelf",
          "Ghost/Drifloon",
          "Ground/Drilbur",
          "Grass/Oddish",
          "Electric/Jolteon",
          "Rock/Nosepass",
          "Rock/Omastar",
          "Normal/Linoone",
          "Normal/Lillipup",
          "Steel/Honedge",
          "Rock/Onix",
          "Normal/Regigigas",
          "Normal/Oranguru",
          "Dragon/Zygarde Complete Form",
          "Flying/Noivern",
          "Bug/Escavalier",
          "Grass/Foongus",
          "Water/Totodile",
          "Normal/Doduo",
          "Grass/Tsareena",
          "Bug/Dottler",
          "Rock/Regirock",
          "Bug/Combee",
          "Ghost/Cofagrigus",
          "Steel/Cobalion",
          "Grass/Gossifleur",
          "Normal/Greedent",
          "Psychic/Indeedee Female",
          "Fire/Incineroar",
          "Water/Pyukumuku",
          "Psychic/Natu",
          "Ghost/Palossand",
          "Water/Palkia Origin Form",
          "Steel/Registeel",
          "Ghost/Yamask",
          "Fairy/Granbull",
          "Poison/Grafaiai",
          "Psychic/Indeedee Male",
          "Water/Relicanth",
          "Water/Palkia",
          "Water/Palafin Zero Form",
          "Dark/Nickit",
          "Water/Palafin Hero Form",
          "Grass/Simisage",
          "Psychic/Gothita",
          "Fire/Simisear",
          "Ghost/Sinistea",
          "Water/Gorebyss",
          "Bug/Ninjask",
          "Psychic/Necrozma",
          "Water/Quaquaval",
          "Ground/Toedscruel",
          "Electric/Wattrel",
          "Fighting/Galarian Zapdos",
          "Normal/Watchog",
          "Electric/Wash Rotom",
          "Water/Wartortle",
          "Electric/Togedemaru",
          "Ice/Walrein",
          "Fire/Pyroar",
          "Poison/Toxapex",
          "Ground/Toedscool",
          "Poison/Salazzle",
          "Grass/Whimsicott",
          "Steel/Klefki",
          "Water/Lumineon",
          "Psychic/Lunala",
          "Dragon/Haxorus",
          "Psychic/Munna",
          "Grass/Cacnea",
          "Poison/Muk",
          "Dragon/Zekrom",
          "Psychic/Calyrex",
          "Psychic/Sigilyph",
          "Ghost/Misdreavus",
          "Grass/Cacturne",
          "Bug/Buzzwole",
          "Normal/Munchlax",
          "Electric/Frost Rotom",
          "Fire/Fuecoco",
          "Bug/Volbeat",
          "Ghost/Dusknoir",
          "Bug/Vivillon",
          "Steel/Duraludon",
          "Ice/Froslass",
          "Dark/Overqwil",
          "Steel/Hisuian Goodra",
          "Electric/Pachirisu",
          "Dark/Weavile",
          "Bug/Weedle",
          "Grass/Weepinbell",
          "Bug/Joltik",
          "Poison/Weezing",
          "Rock/Kabutops",
          "Rock/Bonsly",
          "Normal/Bouffalant",
          "Fairy/Tinkatink",
          "Normal/Toucannon",
          "Dark/Ting-Lu",
          "Ice/Frosmoth",
          "Fire/Cyndaquil",
          "Ice/Alolan Sandslash",
          "Ice/Alolan Vulpix",
          "Bug/Surskit",
          "Rock/Klawf",
          "Normal/Tauros",
          "Dark/Purrloin",
          "Fire/Charmeleon",
          "Normal/Swablu",
          "Grass/Snivy",
          "Ghost/Haunter",
          "Bug/Swadloon",
          "Electric/Thundurus Therian Form",
          "Bug/Kleavor",
          "Water/Prinplup",
          "Rock/Probopass",
          "Ice/Alolan Sandshrew",
          "Fighting/Clobbopus",
          "Steel/Klang",
          "Dragon/Cyclizar",
          "Psychic/Kirlia",
          "Bug/Cutiefly",
          "Normal/Wyrdeer",
          "Water/Kingler",
          "Fighting/Sirfetch'd",
          "Water/Croconaw",
          "Water/Staryu",
          "Normal/Slaking",
          "Electric/Thundurus Incarnate Form",
          "Fighting/Hawlucha",
          "Water/Starmie",
          "Water/Chinchou",
          "Psychic/Xatu",
          "Ghost/Pumpkaboo Super",
          "Electric/Regieleki",
          "Normal/Pidgey",
          "Poison/Arbok",
          "Normal/Pidove",
          "Fire/Pignite",
          "Psychic/Woobat",
          "Grass/Turtwig",
          "Dark/Zoroark",
          "Bug/Kakuna",
          "Electric/Zeraora",
          "Water/Araquanid",
          "Normal/Zigzagoon",
          "Fairy/Togekiss",
          "Fairy/Togepi",
          "Fire/Turtonator",
          "Ghost/Polteageist",
          "Dark/Poochyena",
          "Grass/Servine",
          "Fighting/Zamazenta Crowned Shield",
          "Bug/Crustle",
          "Dragon/Tatsugiri",
          "Ground/Diglett",
          "Normal/Ditto",
          "Bug/Tarountula",
          "Ice/Cubchoo",
          "Ground/Cubone",
          "Psychic/Wobbuffet",
          "Water/Poliwrath",
          "Fire/Ponyta",
          "Water/Frogadier",
          "Electric/Pincurchin",
          "Ice/Piloswine",
          "Rock/Pupitar",
          "Fairy/Floette",
          "Grass/Floragato",
          "Dark",
          "Ground/Dugtrio",
          "Water/Swanna",
          "Normal/Dunsparce",
          "Water/Tapu Fini",
          "Fighting/Tauros",
          "Water/Carracosta",
          "Grass/Carnivine",
          "Fairy/Togetic",
          "Fire/Torchic",
          "Flying/Tornadus Therian Form",
          "Fire/Torracat",
          "Dark/Mabosstiff",
          "Grass/Torterra",
          "Fire/Braixen",
          "Steel/Beldum",
          "Psychic/Beheeyem",
          "Bug/Beedrill",
          "Water/Barboach",
          "Rock/Barbaracle",
          "Normal/Yungoos",
          "Electric/Zebstrika",
          "Dark/Inkay",
          "Water/Inteleon",
          "Normal/Trumbeak",
          "Fighting/Machamp",
          "Normal/Swellow",
          "Grass/Cherrim Sunshine Form",
          "Bug/Nincada",
          "Dragon/Salamence",
          "Steel/Doublade",
          "Fighting/Machoke",
          "Bug/Sewaddle",
          "Normal/Smeargle",
          "Poison/Clodsire",
          "Dark/Sableye",
          "Water/Froakie",
          "Fire/Ninetales",
          "Water/Magikarp",
          "Steel/Magearna",
          "Grass/Chesnaught",
          "Grass/Cherubi",
          "Bug/Kricketot",
          "Dark/Galarian Moltres",
          "Steel/Galarian Meowth",
          "Dark/Galarian Linoone",
          "Normal/Oinkologne",
          "Psychic/Kadabra",
          "Dragon/Latias",
          "Ghost/Litwick",
          "Grass/Leafeon",
          "Bug/Lokix",
          "Water/Marshtomp",
          "Fighting/Marshadow",
          "Water/Marill",
          "Bug/Grubbin",
          "Psychic/Grumpig",
          "Poison/Gulpin",
          "Dragon/Latios",
          "Fighting/Passimian",
          "Poison/Salandit",
          "Electric/Pawmi",
          "Water/Swampert",
          "Poison/Swalot",
          "Normal/Chatot",
          "Psychic/Chingling",
          "Water/Cloyster",
          "Psychic/Solosis",
          "Psychic/Solgaleo",
          "Normal/Patrat",
          "Steel/Copperajah",
          "Water/Corphish",
          "Water/Corsola",
          "Flying/Corviknight",
          "Fighting/Sneasler",
          "Ghost/Shuppet",
          "Poison/Dragalge",
          "Rock/Carkol",
          "Dragon/Dragapult",
          "Bug/Blipbug",
          "Water/Blastoise",
          "Dark/Zweilous",
          "Bug/Accelgor",
          "Steel/Aegislash Blade Form",
          "Steel/Aegislash Shield Form",
          "Poison/Zubat",
          "Dark/Zorua",
          "Bug/Yanma",
          "Grass/Arboliva",
          "Normal/Arceus",
          "Water/Barraskewda",
          "Water/Basculegion Felame",
          "Water/Basculegion Male",
          "Water/Basculin Blue Stripe",
          "Rock/Tyrantrum",
          "Rock/Tyranitar",
          "Fire/Typhlosion",
          "Fighting/Riolu",
          "Water/Sobble",
          "Bug/Ribombee",
          "Electric/Electivire",
          "Ice/Eiscue Ice Face",
          "Grass/Rillaboom",
          "Psychic/Reuniclus",
          "Bug/Durant",
          "Ghost/Duskull",
          "Electric/Electrike",
          "Electric/Electrode",
          "Normal/Pidgeotto",
          "Normal/Pidgeot",
          "Ghost/Phantump",
          "Ground/Phanpy",
          "Water/Oshawott",
          "Water/Suicune",
          "Normal/Spinda",
          "Bug/Spinarak",
          "Steel/Orthworm",
          "Ice/Regice",
          "Dragon/Regidrago",
          "Bug/Spidops",
          "Normal/Whismur",
          "Bug/Whirlipede",
          "Ice/Vanillite",
          "Fire/Quilava",
          "Fairy/Xerneas",
          "Dark/Impidimp",
          "Bug/Wormadam Trash Form",
          "Dark/Kingambit",
          "Grass/Quilladin",
          "Ground/Krokorok",
          "Dark/Honchkrow",
          "Psychic/Ralts",
          "Ground/Krookodile",
          "Ice/Swinub",
          "Fairy/Swirlix",
          "Grass/Tapu Bulu",
          "Electric/Raikou",
          "Normal/Buneary",
          "Grass/Bulbasaur",
          "Water/Buizel",
          "Poison/Toxicroak",
          "Electric/Raichu",
          "Bug/Rabsca",
          "Water/Qwilfish",
          "Fighting/Hitmonlee",
          "Fighting/Hitmonchan",
          "Ice/Vanilluxe",
          "Fire/Raboot",
          "Rock/Rampardos",
          "Water/Simipour",
          "Bug/Silcoon",
          "Normal/Glameow",
          "Bug/Shedinja",
          "Rock/Nacli",
          "Rock/Naclstack",
          "Grass/Meowscarada",
          "Normal/Meloetta Pirouette Form",
          "Grass/Shaymin Sky Form",
          "Poison/Naganadel",
          "Ice/Glastrier",
          "Ground/Sandaconda",
          "Psychic/Deoxys Speed Form",
          "Fire/Rapidash",
          "Normal/Drampa",
          "Ground/Gligar",
          "Ice/Glalie",
          "Bug/Paras",
          "Fire/Pansear",
          "Water/Seadra",
          "Water/Seismitoad",
          "Ghost/Lampent",
          "Ground/Landorus Incarnate Form",
          "Water/Lapras",
          "Dark/Malamar",
          "Bug/Wormadam Plant Form",
          "Bug/Parasect",
          "Bug/Larvesta",
          "Bug/Wormadam Sandy Form",
          "Normal/Kangaskhan",
          "Fairy/Scream Tail",
          "Psychic/Wynaut",
          "Dark/Scraggy",
          "Normal/Pikipek",
          "Electric/Pikachu",
          "Steel/Jirachi",
          "Ground/Rhyhorn",
          "Rock/Kabuto",
          "Ground/Rhyperior",
          "Bug/Scyther",
          "Rock/Larvitar",
          "Bug/Vikavolt",
          "Grass/Virizion",
          "Water/Manaphy",
          "Dark/Mandibuzz",
          "Electric/Manectric",
          "Ghost/Oricorio Sensu Style",
          "Water/Squirtle",
          "Rock/Stakataka",
          "Normal/Stoutland",
          "Normal/Stufful",
          "Ground/Stunfisk",
          "Normal/Maushold",
          "Fairy/Snubbull",
          "Grass/Snover",
          "Ice/Snorunt",
          "Steel/Revavroom",
          "Dragon/Sliggoo",
          "Steel/Skarmory",
          "Ground/Rhydon",
          "Grass/Vileplume",
          "Ice/Mamoswine",
          "Normal/Vigoroth",
          "Grass/Victreebel",
          "Psychic/Mr. Mime",
          "Normal/Sentret",
          "Ice/Mr. Rime",
          "Grass/Serperior",
          "Fire/Monferno",
          "Normal/Type: Null",
          "Electric/Tynamo",
          "Fire/Litleo",
          "Fire/Litten",
          "Water/Tympole",
          "Grass/Morelull",
          "Normal/Jigglypuff",
          "Grass/Abomasnow",
          "Grass/Decidueye",
          "Fire/Camerupt",
          "Water/Hisuian Samurott",
          "Steel/Hisuian Sliggoo",
          "Electric/Bellibolt",
          "Ground/Galarian Stunfisk",
          "Dragon/Gabite",
          "Grass/Bellsprout",
          "Grass/Eldegoss",
          "Water/Finizen",
          "Poison/Ekans",
          "Electric/Heat Rotom",
          "Fire/Heatmor",
          "Fairy/Iron Valiant",
          "Fire/Growlithe",
          "Grass/Bellossom",
          "Bug/Ariados",
          "Water/Finneon",
          "Psychic/Confined Hoopa",
          "Dark/Absol",
          "Rock/Armaldo",
          "Psychic/Calyrex Shadow Rider",
          "Psychic/Calyrex Ice Rider",
          "Psychic/Abra",
          "Psychic/Celebi",
          "Electric/Fan Rotom",
          "Fighting/Falinks",
          "Normal/Deerling Autumn Form",
          "Normal/Exploud",
          "Normal/Deerling Spring Form",
          "Grass/Grovyle",
          "Electric/Electabuzz",
          "Fighting/Conkeldurr",
          "Ground/Groudon",
          "Fairy/Dachsbun",
          "Fire/Armarouge",
          "Fire/Darumaka",
          "Dark/Hisuian Qwilfish",
          "Psychic/Dawn Wings Necrozma",
          "Rock/Glimmet",
          "Poison/Galarian Weezing",
          "Normal/Noctowl",
          "Water/Gastrodon West-Sea Form",
          "Ghost/Trevenant",
          "Flying/Noibat",
          "Water/Gastrodon East-Sea Form",
          "Dragon/Druddigon",
          "Psychic/Drowzee",
          "Poison/Paldean Wooper",
          "Rock/Sudowoodo",
          "Rock/Lycanroc Dusk Form",
          "Rock/Lycanroc Midday Form",
          "Ice/Avalugg",
          "Water/Alomomola",
          "Rock/Amaura",
          "Rock/Aurorus",
          "Normal/Audino",
          "Electric/Yamper",
          "Fighting/Paldean Tauros",
          "Poison/Stunky",
          "Bug/Scolipede",
          "Grass/Maractus",
          "Dragon/Zygarde 50% Form",
          "Ice/Jynx",
          "Fighting/Iron Hands",
          "Ice/Iron Bundle",
          "Grass/Kartana",
          "Rock/Diancie",
          "Grass/Capsakid",
          "Rock/Carbink",
          "Steel/Meltan",
          "Psychic/Galarian Slowpoke",
          "Poison/Galarian Slowking",
          "Rock/Nihilego",
          "Dragon/Zygarde 10% Form",
          "Poison/Galarian Slowbro",
          "Water/Ash Greninja",
          "Poison/Mareanie",
          "Fire/Scorbunny",
          "Psychic/Tapu Lele",
          "Ground/Great Tusk",
          "Normal/Castform Snowy Form",
          "Normal/Castform Sunny Form",
          "Bug/Wurmple",
          "Poison/Nidorino",
          "Electric/Mareep",
          "Ghost/Greavard",
          "Rock/Archen",
          "Dragon/Dragonair",
          "Ghost/Gourgeist Small",
          "Dragon/Dragonite",
          "Dark/Maschiff",
          "Fairy/Clefairy",
          "Bug/Masquerain",
          "Fire/Arcanine",
          "Ground/Marowak",
          "Water/Wailmer",
          "Dragon/Altaria",
          "Normal/Ambipom",
          "Normal/Rattata",
          "Normal/Raticate",
          "Normal/Teddiursa",
          "Water/Tentacool",
          "Fire/Tepig",
          "Poison/Nidoran F",
          "Rock/Terrakion",
          "Poison/Nidoqueen",
          "Normal/Kecleon",
          "Bug/Karrablast",
          "Water/Wailord",
          "Poison/Nidoking",
          "Electric/Toxel",
          "Water/Kingdra",
          "Electric/Tapu Koko",
          "Dragon/Rayquaza",
          "Psychic/Duosion",
          "Grass/Gogoat",
          "Rock/Minior Indigo Core",
          "Poison/Golbat",
          "Water/Goldeen",
          "Water/Golduck",
          "Rock/Golem",
          "Fairy/Zacian Hero of Many Battles",
          "Fire/Charizard",
          "Fire/Charmander",
          "Rock/Minior Meteor Form",
          "Water/Drednaw",
          "Rock/Minior Orange Core",
          "Water/Dewpider",
          "Water/Veluza",
          "Water/Dracovish",
          "Grass/Nuzleaf",
          "Fire/Numel",
          "Bug/Nymble",
          "Steel/Dialga Origin Form",
          "Normal/Lickitung",
          "Fighting/Pangoro",
          "Electric/Dracozolt",
          "Fairy/Florges",
          "Water/Floatzel",
          "Psychic/Flittle",
          "Normal/Fletchling",
          "Flying/Flamigo",
          "Fairy/Flabebe",
          "Electric/Flaaffy",
          "Bug/Pineco",
          "Ghost/Dusclops",
          "Psychic/Dusk Mane Necrozma",
          "Fairy/Enamorus Incarnate Style",
          "Fire/Entei",
          "Normal/Farigiraf",
          "Normal/Farfetch'd",
          "Dark/Vullaby",
          "Normal/Dudunsparce",
          "Ground/Flygon",
          "Grass/Fomantis",
          "Water/Ducklett",
          "Dark/Galarian Zigzagoon",
          "Ground/Galarian Yamask",
          "Electric/Rotom",
          "Grass/Roserade",
          "Psychic/Galarian Rapidash",
          "Grass/Roselia",
          "Flying/Rookidee",
          "Water/Whiscash",
          "Ghost/Gimmighoul",
          "Rock/Rolycoly",
          "Dragon/Axew",
          "Normal/Azurill",
          "Normal/Dubwool",
          "Steel/Perrserker",
          "Normal/Persian",
          "Grass/Petilil",
          "Water/Panpour",
          "Normal/Girafarig",
          "Fighting/Mienshao",
          "Ghost/Giratina Origin Form",
          "Bug/Caterpie",
          "Dark/Liepard",
          "Rock/Lileep",
          "Grass/Lilligant",
          "Steel/Celesteela",
          "Grass/Bramblin",
          "Grass/Brambleghast",
          "Grass/Bounsweet",
          "Normal/Lickilicky",
          "Grass/Chespin",
          "Water/Ludicolo",
          "Psychic/Lugia",
          "Grass/Chikorita",
          "Fire/Chimchar",
          "Rock/Lycanroc Midnight Form",
          "Psychic/Hatenna",
          "Ghost/Giratina",
          "Normal/Happiny",
          "Fighting/Lucario",
          "Dragon/Hakamo-o",
          "Electric/Alolan Raichu",
          "Poison/Alolan Muk",
          "Grass/Jumpluff",
          "Fire/Infernape",
          "Bug/Illumise",
          "Normal/Igglybuff",
          "Water/Keldeo Ordinary Form",
          "Ground/Trapinch",
          "Water/Carvanha",
          "Grass/Hoppip",
          "Dark/Alolan Persian",
          "Bug/Kricketune",
          "Fire/Ho-Oh",
          "Fighting/Hitmontop",
          "Normal/Hisuian Zorua",
          "Ground/Landorus Therian Form",
          "Rock/Alolan Golem",
          "Rock/Alolan Graveler",
          "Poison/Alolan Grimer",
          "Fire/Alolan Marowak",
          "Normal/Hoothoot",
          "Water/Gyarados",
          "Fighting/Hariyama",
          "Normal/Stantler",
          "Normal/Silvally",
          "Bug/Shuckle",
          "Water/Shellos East-Sea Form",
          "Water/Shellder",
          "Normal/Staraptor",
          "Dragon/Arctibax",
          "Rock/Minior Purple Core",
          "Dark/Mightyena",
          "Rock/Minior Red Core",
          "Electric/Minun",
          "Electric/Miraidon",
          "Electric/Dedenne",
          "Poison/Seviper",
          "Water/Seel",
          "Grass/Seedot",
          "Ice/Glaceon",
          "Rock/Minior Yellow Core",
          "Fighting/Mienfoo",
          "Rock/Archeops",
          "Ice/Cryogonal",
          "Normal/Cinccino",
          "Fairy/Clefable",
          "Ice/Spheal",
          "Bug/Spewpa",
          "Psychic/Mew",
          "Psychic/Unbound Hoopa",
          "Normal/Unfezant",
          "Dark/Umbreon",
          "Rock/Cradily",
          "Psychic/Unown",
          "Grass/Cottonee",
          "Fighting/Crabrawler",
          "Fire/Vulpix",
          "Fighting/Crabominable",
          "Bug/Scizor",
          "Steel/Bronzor",
          "Grass/Brute Bonnet",
          "Flying/Tornadus Incarnate Form",
          "Psychic/Deoxys Defense Form",
          "Water/Seaking",
          "Ice/Sealeo",
          "Poison/Croagunk",
          "Fire/Torkoal",
          "Ice/Smoochum",
          "Normal/Castform Rainy Form",
          "Bug/Cascoon",
          "Normal/Castform",
          "Normal/Deerling Winter Form",
          "Grass/Smoliv",
          "Grass/Sceptile",
          "Flying/Bombirdier",
          "Water/Brionne",
          "Ground/Primal Groudon",
          "Electric/Ampharos",
          "Rock/Anorith",
          "Ghost/Galarian Corsola",
          "Grass/Appletun",
          "Grass/Amoonguss",
          "Psychic/Gallade",
          "Grass/Applin",
          "Steel/Metagross",
          "Steel/Bronzong",
          "Water/Primal Kyogre",
          "Dark/Alolan Rattata",
          "Psychic/Galarian Articuno",
          "Bug",
          "Steel/Metang",
          "Dark/Alolan Raticate",
          "Fighting/Annihilape",
          "Dark/Houndoom",
          "Dark/Wo-Chien",
          "Electric/Arctozolt",
          "Water/Wishiwashi Solo Form",
          "Dark/Houndour",
          "Water/Arctovish",
          "Dark/Iron Jugulis",
          "Fire/Iron Moth",
          "Rock/Iron Thorns",
          "Ground/Iron Treads",
          "Normal/Meloetta Aria Form",
          "Water/Slowpoke",
          "Ice/Delibird",
          "Water/Slowking",
          "Water/Slowbro",
          "Fire/Slugma",
          "Water/Vaporeon",
          "Psychic/Mime Jr.",
          "Normal/Skitty",
          "Grass/Skiploom",
          "Grass/Skiddo",
          "Fire/Sizzlipede",
          "Normal/Minccino",
          "Ghost/Cursola",
          "Ghost/Mimikyu",
          "Fairy/Milcery",
          "Water/Milotic",
          "Normal/Miltank",
          "Grass/Gloom",
          "Poison/Skorupi",
          "Dark/Grimmsnarl",
          "Fire/Combusken",
          "Water/Keldeo Resolute Form",
          "Bug/Burmy Plant Form",
          "Bug/Burmy Sandy Form",
          "Electric/Toxtricity Amped Form",
          "Electric/Toxtricity Low-Key Form",
          "Normal/Tranquill",
          "Psychic/Hypno",
          "Fighting/Throh",
          "Dark/Thievul",
          "Water/Horsea",
          "Steel/Klink",
          "Steel/Klinklang",
          "Poison/Koffing",
          "Fighting/Kubfu",
          "Water/Lanturn",
          "Electric/Tadbulb",
          "Fairy/Sylveon",
          "Fairy/Cleffa",
          "Poison/Grimer",
          "Steel/Varoom",
          "Grass/Grookey",
          "Grass/Grotle",
          "Fire/Blaziken",
          "Fairy/Comfey",
          "Electric/Luxray",
          "Normal/Blissey",
          "Rock/Boldore",
          "Normal/Loudred",
          "Water/Lotad",
          "Fire/Charcadet",
          "Psychic/Swoobat",
          "Electric/Luxio",
          "Rock/Glimmora",
          "Steel/Cufant",
          "Water/Piplup",
          "Grass/Ferroseed",
          "Dark/Obstagoon",
          "Bug/Pinsir",
          "Psychic/Galarian Ponyta",
          "Water/Samurott",
          "Electric/Plusle",
          "Water/Remoraid",
          "Normal/Eevee",
          "Ice/Eiscue Noice Face",
          "Dragon/Reshiram",
          "Fire/Fennekin",
          "Water/Feraligatr",
          "Bug/Beautifly",
          "Psychic/Musharna",
          "Water/Dewgong",
          "Dark/Murkrow",
          "Grass/Bayleef",
          "Water/Dewott",
          "Ice/Beartic",
          "Ice/Galarian Mr. Mime",
          "Ghost/Gourgeist Large",
          "Grass/Steenee",
          "Steel/Steelix",
          "Fire/Cinderace",
          "Water/Clamperl",
          "Dragon/Black Kyurem",
          "Fire/Blacephalon",
          "Rock/Stonjourner",
          "Water/Clawitzer",
          "Water/Clauncher",
          "Bug/Rellor",
          "Ghost/Flutter Mane",
          "Fairy/Zacian Crowned Sword",
          "Grass/Lurantis",
          "Water/Psyduck",
          "Ghost/Pumpkaboo Average",
          "Ghost/Pumpkaboo Large",
          "Ghost/Pumpkaboo Small",
          "Normal/Porygon2",
          "Normal/Bunnelby",
          "Normal/Porygon-Z",
          "Normal/Purugly",
          "Electric/Kilowattrel",
          "Dark/Hydreigon",
          "Water/Tentacruel",
          "Electric/Eelektross",
          "Electric/Eelektrik",
          "Bug/Heracross",
          "Electric/Helioptile",
          "Electric/Heliolisk",
          "Fire/Heatran",
          "Bug/Dwebble",
          "Rock/Lunatone",
          "Water/Luvdisc",
          "Dark/Sneasel",
          "Ground/Claydol",
          "Dark/Bisharp",
          "Bug/Genesect",
          "Bug/Galvantula",
          "Normal/Meowth",
          "Psychic/Mesprit",
          "Normal/Bibarel",
          "Normal/Bidoof",
          "Fire/Darmanitan Zen-Mode",
          "Grass/Shroomish",
          "Poison/Skrelp",
          "Dragon/White Kyurem",
          "Water/Shellos West-Sea Form",
          "Bug/Shelmet",
          "Rock/Binacle",
          "Normal/Wigglytuff",
          "Poison/Garbodor",
          "Electric/Sandy Shocks",
          "Ghost/Sandygast",
          "Rock/Shieldon",
          "Poison/Shroodle",
          "Electric/Shinx",
          "Bug/Wimpod",
          "Water/Wingull",
          "Water/Wishiwashi School Form",
          "Water/Wiglett",
          "Grass/Shiinotic",
          "Electric/Oricorio Pom-Pom Style",
          "Steel/Gholdengo",
          "Grass/Shiftry",
          "Rock/Geodude",
          "Fighting/Sawk",
          "Ghost/Gengar",
          "Ground/Sandslash",
          "Dragon/Kommo-o",
          "Grass/Tangrowth",
          "Water/Poliwag",
          "Psychic/Gothitelle",
          "Water/Poliwhirl",
          "Fire/Volcanion",
          "Water/Quaxwell",
          "Water/Quaxly",
          "Ghost/Houndstone",
          "Grass/Thwackey",
          "Fighting/Timburr",
          "Water/Huntail",
          "Water/Quagsire",
          "Water/Tirtouga",
          "Bug/Volcarona",
          "Electric/Voltorb",
          "Ground/Mudbray",
          "Water/Mudkip",
          "Normal/Komala",
          "Water/Politoed",
          "Ground/Mudsdale",
          "Dragon/Fraxure",
          "Dragon/Frigibax",
          "Poison/Poipole",
          "Water/Frillish",
          "Normal/Slakoth",
          "Water/Azumarill",
          "Normal/Diggersby",
          "Ghost/Drifblim",
          "Psychic/Oricorio Pa'u Style",
          "Bug/Forretress",
          "Fairy/Slurpuff",
          "Ghost/Gourgeist Super",
          "Water/Wugtrio",
          "Normal/Snorlax",
          "Ice/Snom",
          "Psychic/Gothorita",
          "Ghost/Gourgeist Average",
          "Water/Greninja",
          "Psychic/Victini",
          "Normal/Braviary",
          "Psychic/Ultra Necrozma",
          "Rock/Tyrunt",
          "Fighting/Tyrogue",
          "Ghost/Banette",
          "Bug/Venipede",
          "Bug/Venomoth",
          "Bug/Vespiquen",
          "Grass/Tropius",
          "Bug/Venonat",
          "Ice/Bergmite",
          "Normal/Bewear",
          "Normal/Aipom",
          "Steel/Aggron",
          "Ground/Vibrava",
          "Rock/Aerodactyl",
          "Electric/Boltund",
          "Electric/Blitzle",
          "Rock/Bastiodon",
          "Grass/Venusaur",
          "Water/Basculin Red Stripe",
          "Ground/Baltoy",
          "Dragon/Baxcalibur",
          "Poison/Trubbish",
          "Grass/Ivysaur",
          "Water/Bruxish",
          "Psychic/Meowstic Male",
          "Dragon/Goomy",
          "Dragon/Goodra",
          "Rock/Minior Blue Core",
          "Rock/Minior Green Core",
          "Ground/Golurk",
          "Bug/Golisopod",
          "Ground/Golett",
          "Dark/Morgrem",
          "Electric/Morpeko Full Berry Mode",
          "Electric/Morpeko Hangry Mode",
          "Rock/Gigalith",
          "Psychic/Meowstic Female",
          "Dragon/Gible",
          "Rock/Garganacl",
          "Psychic/Gardevoir",
          "Dragon/Garchomp",
          "Fighting/Galarian Farfetch'd",
          "Ice/Galarian Darumaka",
          "Ice/Galarian Darmanitan Zen-Mode",
          "Water/Palpitoad",
          "Fighting/Pancham",
          "Ice/Galarian Darmanitan",
          "Electric/Pawmo",
          "Electric/Pawmot",
          "Dark/Pawniard",
          "Ghost/Gastly",
          "Water/Pelipper",
          "Fighting/Grapploct",
          "Water/Mantyke",
          "Dragon/Jangmo-o",
          "Water/Jellicent",
          "Fighting/Koraidon",
          "Water/Krabby",
          "Water/Kyogre",
          "Dragon/Kyurem",
          "Normal/Hisuian Zoroark",
          "Electric/Hisuian Voltorb",
          "Fire/Hisuian Typhlosion",
          "Fighting/Hisuian Sneasel",
          "Bug/Leavanny",
          "Normal/Lechonk",
          "Rock/Graveler",
          "Bug/Ledian",
          "Grass/Hisuian Lilligant",
          "Fire/Hisuian Growlithe",
          "Water/Lombre",
          "Normal/Lopunny",
          "Fighting/Machop",
          "Fire/Magby",
          "Fire/Magcargo",
          "Dark/Guzzlord",
          "Fighting/Gurdurr",
          "Normal/Gumshoos",
          "Fighting/Mankey",
          "Water/Mantine",
          "Bug/Ledyba",
          "Grass/Breloom",
          "Water/Feebas",
          "Water/Primarina",
          "Poison/Crobat",
          "Psychic/Cosmog",
          "Psychic/Cosmoem",
          "Flying/Corvisquire",
          "Rock/Solrock",
          "Normal/Spearow",
          "Ghost/Spectrier",
          "Normal/Staravia",
          "Normal/Starly",
          "Psychic/Chimecho",
          "Dark/Chien-Pao",
          "Dark/Chi-Yu",
          "Fire/Crocalor",
          "Water/Chewtle",
          "Grass/Sunkern",
          "Normal/Chansey",
          "Ghost/Chandelure",
          "Ice/Cetoddle",
          "Ice/Cetitan",
          "Fire/Ceruledge",
          "Fire/Centiskorch",
          "Fairy/Tinkaton",
          "Fairy/Tinkatuff",
          "Bug/Butterfree",
          "Bug/Burmy Trash Form",
          "Grass/Budew",
          "Grass/Sunflora",
          "Normal/Fearow",
          "Fire/Skeledirge",
          "Fire/Darmanitan",
          "Fighting/Primeape",
          "Grass/Exeggutor",
          "Grass/Exeggcute",
          "Ground/Excadrill",
          "Fire/Emboar",
          "Psychic/Elgyem",
          "Electric/Elekid",
          "Bug/Dustox",
          "Dragon/Dreepy",
          "Dragon/Dratini",
          "Dragon/Roaring Moon",
          "Rock/Rockruff",
          "Dark/Darkrai",
          "Rock/Roggenrola",
          "Dragon/Drakloak",
          "Normal/Dodrio",
          "Normal/Sawsbuck",
          "Bug/Scatterbug",
          "Grass/Scovillain",
          "Dark/Scrafty",
          "Psychic/Deoxys Attack Form",
          "Normal/Delcatty",
          "Dark/Deino",
          "Dragon/Shelgon",
          "Grass/Dartrix",
          "Ground/Silicobra",
          "Poison/Drapion",
          "Water/Drizzile",
          "Dragon",
          "Electric",
          "Fairy",
          "Fighting",
          "Fire",
          "Flying",
          "Ghost",
          "Grass",
          "Ground",
          "Ice",
          "Normal",
          "Poison",
          "Psychic",
          "Rock",
          "Steel",
          "Water"
         ],
         "labels": [
          "Sprigatito",
          "Ferrothorn",
          "Hattrem",
          "Hatterene",
          "Charjabug",
          "Cherrim",
          "Eternatus",
          "Fidough",
          "Eternamax Eternatus",
          "Espeon",
          "Magmar",
          "Magmortar",
          "Magnemite",
          "Espathra",
          "Spoink",
          "Espurr",
          "Spiritomb",
          "Treecko",
          "Hippopotas",
          "Flapple",
          "Hisuian Electrode",
          "Hisuian Decidueye",
          "Vanillish",
          "Uxie",
          "Urshifu Single Strike Style",
          "Herdier",
          "Urshifu Rapid Strike Style",
          "Ursaluna",
          "Hisuian Braviary",
          "Hisuian Basculin",
          "Hisuian Avalugg",
          "Hisuian Arcanine",
          "Hippowdon",
          "Ursaring",
          "Flareon",
          "Magneton",
          "Makuhita",
          "Dhelmise",
          "Dialga",
          "Sandshrew",
          "Sandile",
          "Dolliv",
          "Dondozo",
          "Mow Rotom",
          "Donphan",
          "Nidorina",
          "Runerigus",
          "Rufflet",
          "Rowlet",
          "Omanyte",
          "Oricorio Baile Style",
          "Nidoran M",
          "Magnezone",
          "Mothim",
          "Deerling Summer Form",
          "Furfrou",
          "Mawile",
          "Medicham",
          "Furret",
          "Cramorant",
          "Cranidos",
          "Pansage",
          "Crawdaunt",
          "Skwovet",
          "Skuntank",
          "Mismagius",
          "Moltres",
          "Shaymin Land Form",
          "Sharpedo",
          "Cresselia",
          "Fletchinder",
          "Orbeetle",
          "Alolan Exeggutor",
          "Arrokuda",
          "Aron",
          "Pheromosa",
          "Phione",
          "Articuno",
          "Aromatisse",
          "Pichu",
          "Alakazam",
          "Alcremie",
          "Alolan Geodude",
          "Alolan Diglett",
          "Xurkitree",
          "Alolan Dugtrio",
          "Delphox",
          "Squawkabilly",
          "Alolan Meowth",
          "Gliscor",
          "Zarude",
          "Alolan Ninetales",
          "Zapdos",
          "Mewtwo",
          "Talonflame",
          "Zamazenta Hero of Many Battles",
          "Spritzee",
          "Enamorus Therian Style",
          "Lairon",
          "Coalossal",
          "Wooper",
          "Wooloo",
          "Empoleon",
          "Emolga",
          "Taillow",
          "Meditite",
          "Tandemaus",
          "Tangela",
          "Melmetal",
          "Porygon",
          "Yveltal",
          "Popplio",
          "Slither Wing",
          "Metapod",
          "Zangoose",
          "Deoxys",
          "Bagon",
          "Octillery",
          "Azelf",
          "Drifloon",
          "Drilbur",
          "Oddish",
          "Jolteon",
          "Nosepass",
          "Omastar",
          "Linoone",
          "Lillipup",
          "Honedge",
          "Onix",
          "Regigigas",
          "Oranguru",
          "Zygarde Complete Form",
          "Noivern",
          "Escavalier",
          "Foongus",
          "Totodile",
          "Doduo",
          "Tsareena",
          "Dottler",
          "Regirock",
          "Combee",
          "Cofagrigus",
          "Cobalion",
          "Gossifleur",
          "Greedent",
          "Indeedee Female",
          "Incineroar",
          "Pyukumuku",
          "Natu",
          "Palossand",
          "Palkia Origin Form",
          "Registeel",
          "Yamask",
          "Granbull",
          "Grafaiai",
          "Indeedee Male",
          "Relicanth",
          "Palkia",
          "Palafin Zero Form",
          "Nickit",
          "Palafin Hero Form",
          "Simisage",
          "Gothita",
          "Simisear",
          "Sinistea",
          "Gorebyss",
          "Ninjask",
          "Necrozma",
          "Quaquaval",
          "Toedscruel",
          "Wattrel",
          "Galarian Zapdos",
          "Watchog",
          "Wash Rotom",
          "Wartortle",
          "Togedemaru",
          "Walrein",
          "Pyroar",
          "Toxapex",
          "Toedscool",
          "Salazzle",
          "Whimsicott",
          "Klefki",
          "Lumineon",
          "Lunala",
          "Haxorus",
          "Munna",
          "Cacnea",
          "Muk",
          "Zekrom",
          "Calyrex",
          "Sigilyph",
          "Misdreavus",
          "Cacturne",
          "Buzzwole",
          "Munchlax",
          "Frost Rotom",
          "Fuecoco",
          "Volbeat",
          "Dusknoir",
          "Vivillon",
          "Duraludon",
          "Froslass",
          "Overqwil",
          "Hisuian Goodra",
          "Pachirisu",
          "Weavile",
          "Weedle",
          "Weepinbell",
          "Joltik",
          "Weezing",
          "Kabutops",
          "Bonsly",
          "Bouffalant",
          "Tinkatink",
          "Toucannon",
          "Ting-Lu",
          "Frosmoth",
          "Cyndaquil",
          "Alolan Sandslash",
          "Alolan Vulpix",
          "Surskit",
          "Klawf",
          "Tauros",
          "Purrloin",
          "Charmeleon",
          "Swablu",
          "Snivy",
          "Haunter",
          "Swadloon",
          "Thundurus Therian Form",
          "Kleavor",
          "Prinplup",
          "Probopass",
          "Alolan Sandshrew",
          "Clobbopus",
          "Klang",
          "Cyclizar",
          "Kirlia",
          "Cutiefly",
          "Wyrdeer",
          "Kingler",
          "Sirfetch'd",
          "Croconaw",
          "Staryu",
          "Slaking",
          "Thundurus Incarnate Form",
          "Hawlucha",
          "Starmie",
          "Chinchou",
          "Xatu",
          "Pumpkaboo Super",
          "Regieleki",
          "Pidgey",
          "Arbok",
          "Pidove",
          "Pignite",
          "Woobat",
          "Turtwig",
          "Zoroark",
          "Kakuna",
          "Zeraora",
          "Araquanid",
          "Zigzagoon",
          "Togekiss",
          "Togepi",
          "Turtonator",
          "Polteageist",
          "Poochyena",
          "Servine",
          "Zamazenta Crowned Shield",
          "Crustle",
          "Tatsugiri",
          "Diglett",
          "Ditto",
          "Tarountula",
          "Cubchoo",
          "Cubone",
          "Wobbuffet",
          "Poliwrath",
          "Ponyta",
          "Frogadier",
          "Pincurchin",
          "Piloswine",
          "Pupitar",
          "Floette",
          "Floragato",
          "Dark",
          "Dugtrio",
          "Swanna",
          "Dunsparce",
          "Tapu Fini",
          "Tauros",
          "Carracosta",
          "Carnivine",
          "Togetic",
          "Torchic",
          "Tornadus Therian Form",
          "Torracat",
          "Mabosstiff",
          "Torterra",
          "Braixen",
          "Beldum",
          "Beheeyem",
          "Beedrill",
          "Barboach",
          "Barbaracle",
          "Yungoos",
          "Zebstrika",
          "Inkay",
          "Inteleon",
          "Trumbeak",
          "Machamp",
          "Swellow",
          "Cherrim Sunshine Form",
          "Nincada",
          "Salamence",
          "Doublade",
          "Machoke",
          "Sewaddle",
          "Smeargle",
          "Clodsire",
          "Sableye",
          "Froakie",
          "Ninetales",
          "Magikarp",
          "Magearna",
          "Chesnaught",
          "Cherubi",
          "Kricketot",
          "Galarian Moltres",
          "Galarian Meowth",
          "Galarian Linoone",
          "Oinkologne",
          "Kadabra",
          "Latias",
          "Litwick",
          "Leafeon",
          "Lokix",
          "Marshtomp",
          "Marshadow",
          "Marill",
          "Grubbin",
          "Grumpig",
          "Gulpin",
          "Latios",
          "Passimian",
          "Salandit",
          "Pawmi",
          "Swampert",
          "Swalot",
          "Chatot",
          "Chingling",
          "Cloyster",
          "Solosis",
          "Solgaleo",
          "Patrat",
          "Copperajah",
          "Corphish",
          "Corsola",
          "Corviknight",
          "Sneasler",
          "Shuppet",
          "Dragalge",
          "Carkol",
          "Dragapult",
          "Blipbug",
          "Blastoise",
          "Zweilous",
          "Accelgor",
          "Aegislash Blade Form",
          "Aegislash Shield Form",
          "Zubat",
          "Zorua",
          "Yanma",
          "Arboliva",
          "Arceus",
          "Barraskewda",
          "Basculegion Felame",
          "Basculegion Male",
          "Basculin Blue Stripe",
          "Tyrantrum",
          "Tyranitar",
          "Typhlosion",
          "Riolu",
          "Sobble",
          "Ribombee",
          "Electivire",
          "Eiscue Ice Face",
          "Rillaboom",
          "Reuniclus",
          "Durant",
          "Duskull",
          "Electrike",
          "Electrode",
          "Pidgeotto",
          "Pidgeot",
          "Phantump",
          "Phanpy",
          "Oshawott",
          "Suicune",
          "Spinda",
          "Spinarak",
          "Orthworm",
          "Regice",
          "Regidrago",
          "Spidops",
          "Whismur",
          "Whirlipede",
          "Vanillite",
          "Quilava",
          "Xerneas",
          "Impidimp",
          "Wormadam Trash Form",
          "Kingambit",
          "Quilladin",
          "Krokorok",
          "Honchkrow",
          "Ralts",
          "Krookodile",
          "Swinub",
          "Swirlix",
          "Tapu Bulu",
          "Raikou",
          "Buneary",
          "Bulbasaur",
          "Buizel",
          "Toxicroak",
          "Raichu",
          "Rabsca",
          "Qwilfish",
          "Hitmonlee",
          "Hitmonchan",
          "Vanilluxe",
          "Raboot",
          "Rampardos",
          "Simipour",
          "Silcoon",
          "Glameow",
          "Shedinja",
          "Nacli",
          "Naclstack",
          "Meowscarada",
          "Meloetta Pirouette Form",
          "Shaymin Sky Form",
          "Naganadel",
          "Glastrier",
          "Sandaconda",
          "Deoxys Speed Form",
          "Rapidash",
          "Drampa",
          "Gligar",
          "Glalie",
          "Paras",
          "Pansear",
          "Seadra",
          "Seismitoad",
          "Lampent",
          "Landorus Incarnate Form",
          "Lapras",
          "Malamar",
          "Wormadam Plant Form",
          "Parasect",
          "Larvesta",
          "Wormadam Sandy Form",
          "Kangaskhan",
          "Scream Tail",
          "Wynaut",
          "Scraggy",
          "Pikipek",
          "Pikachu",
          "Jirachi",
          "Rhyhorn",
          "Kabuto",
          "Rhyperior",
          "Scyther",
          "Larvitar",
          "Vikavolt",
          "Virizion",
          "Manaphy",
          "Mandibuzz",
          "Manectric",
          "Oricorio Sensu Style",
          "Squirtle",
          "Stakataka",
          "Stoutland",
          "Stufful",
          "Stunfisk",
          "Maushold",
          "Snubbull",
          "Snover",
          "Snorunt",
          "Revavroom",
          "Sliggoo",
          "Skarmory",
          "Rhydon",
          "Vileplume",
          "Mamoswine",
          "Vigoroth",
          "Victreebel",
          "Mr. Mime",
          "Sentret",
          "Mr. Rime",
          "Serperior",
          "Monferno",
          "Type: Null",
          "Tynamo",
          "Litleo",
          "Litten",
          "Tympole",
          "Morelull",
          "Jigglypuff",
          "Abomasnow",
          "Decidueye",
          "Camerupt",
          "Hisuian Samurott",
          "Hisuian Sliggoo",
          "Bellibolt",
          "Galarian Stunfisk",
          "Gabite",
          "Bellsprout",
          "Eldegoss",
          "Finizen",
          "Ekans",
          "Heat Rotom",
          "Heatmor",
          "Iron Valiant",
          "Growlithe",
          "Bellossom",
          "Ariados",
          "Finneon",
          "Confined Hoopa",
          "Absol",
          "Armaldo",
          "Calyrex Shadow Rider",
          "Calyrex Ice Rider",
          "Abra",
          "Celebi",
          "Fan Rotom",
          "Falinks",
          "Deerling Autumn Form",
          "Exploud",
          "Deerling Spring Form",
          "Grovyle",
          "Electabuzz",
          "Conkeldurr",
          "Groudon",
          "Dachsbun",
          "Armarouge",
          "Darumaka",
          "Hisuian Qwilfish",
          "Dawn Wings Necrozma",
          "Glimmet",
          "Galarian Weezing",
          "Noctowl",
          "Gastrodon West-Sea Form",
          "Trevenant",
          "Noibat",
          "Gastrodon East-Sea Form",
          "Druddigon",
          "Drowzee",
          "Paldean Wooper",
          "Sudowoodo",
          "Lycanroc Dusk Form",
          "Lycanroc Midday Form",
          "Avalugg",
          "Alomomola",
          "Amaura",
          "Aurorus",
          "Audino",
          "Yamper",
          "Paldean Tauros",
          "Stunky",
          "Scolipede",
          "Maractus",
          "Zygarde 50% Form",
          "Jynx",
          "Iron Hands",
          "Iron Bundle",
          "Kartana",
          "Diancie",
          "Capsakid",
          "Carbink",
          "Meltan",
          "Galarian Slowpoke",
          "Galarian Slowking",
          "Nihilego",
          "Zygarde 10% Form",
          "Galarian Slowbro",
          "Ash Greninja",
          "Mareanie",
          "Scorbunny",
          "Tapu Lele",
          "Great Tusk",
          "Castform Snowy Form",
          "Castform Sunny Form",
          "Wurmple",
          "Nidorino",
          "Mareep",
          "Greavard",
          "Archen",
          "Dragonair",
          "Gourgeist Small",
          "Dragonite",
          "Maschiff",
          "Clefairy",
          "Masquerain",
          "Arcanine",
          "Marowak",
          "Wailmer",
          "Altaria",
          "Ambipom",
          "Rattata",
          "Raticate",
          "Teddiursa",
          "Tentacool",
          "Tepig",
          "Nidoran F",
          "Terrakion",
          "Nidoqueen",
          "Kecleon",
          "Karrablast",
          "Wailord",
          "Nidoking",
          "Toxel",
          "Kingdra",
          "Tapu Koko",
          "Rayquaza",
          "Duosion",
          "Gogoat",
          "Minior Indigo Core",
          "Golbat",
          "Goldeen",
          "Golduck",
          "Golem",
          "Zacian Hero of Many Battles",
          "Charizard",
          "Charmander",
          "Minior Meteor Form",
          "Drednaw",
          "Minior Orange Core",
          "Dewpider",
          "Veluza",
          "Dracovish",
          "Nuzleaf",
          "Numel",
          "Nymble",
          "Dialga Origin Form",
          "Lickitung",
          "Pangoro",
          "Dracozolt",
          "Florges",
          "Floatzel",
          "Flittle",
          "Fletchling",
          "Flamigo",
          "Flabebe",
          "Flaaffy",
          "Pineco",
          "Dusclops",
          "Dusk Mane Necrozma",
          "Enamorus Incarnate Style",
          "Entei",
          "Farigiraf",
          "Farfetch'd",
          "Vullaby",
          "Dudunsparce",
          "Flygon",
          "Fomantis",
          "Ducklett",
          "Galarian Zigzagoon",
          "Galarian Yamask",
          "Rotom",
          "Roserade",
          "Galarian Rapidash",
          "Roselia",
          "Rookidee",
          "Whiscash",
          "Gimmighoul",
          "Rolycoly",
          "Axew",
          "Azurill",
          "Dubwool",
          "Perrserker",
          "Persian",
          "Petilil",
          "Panpour",
          "Girafarig",
          "Mienshao",
          "Giratina Origin Form",
          "Caterpie",
          "Liepard",
          "Lileep",
          "Lilligant",
          "Celesteela",
          "Bramblin",
          "Brambleghast",
          "Bounsweet",
          "Lickilicky",
          "Chespin",
          "Ludicolo",
          "Lugia",
          "Chikorita",
          "Chimchar",
          "Lycanroc Midnight Form",
          "Hatenna",
          "Giratina",
          "Happiny",
          "Lucario",
          "Hakamo-o",
          "Alolan Raichu",
          "Alolan Muk",
          "Jumpluff",
          "Infernape",
          "Illumise",
          "Igglybuff",
          "Keldeo Ordinary Form",
          "Trapinch",
          "Carvanha",
          "Hoppip",
          "Alolan Persian",
          "Kricketune",
          "Ho-Oh",
          "Hitmontop",
          "Hisuian Zorua",
          "Landorus Therian Form",
          "Alolan Golem",
          "Alolan Graveler",
          "Alolan Grimer",
          "Alolan Marowak",
          "Hoothoot",
          "Gyarados",
          "Hariyama",
          "Stantler",
          "Silvally",
          "Shuckle",
          "Shellos East-Sea Form",
          "Shellder",
          "Staraptor",
          "Arctibax",
          "Minior Purple Core",
          "Mightyena",
          "Minior Red Core",
          "Minun",
          "Miraidon",
          "Dedenne",
          "Seviper",
          "Seel",
          "Seedot",
          "Glaceon",
          "Minior Yellow Core",
          "Mienfoo",
          "Archeops",
          "Cryogonal",
          "Cinccino",
          "Clefable",
          "Spheal",
          "Spewpa",
          "Mew",
          "Unbound Hoopa",
          "Unfezant",
          "Umbreon",
          "Cradily",
          "Unown",
          "Cottonee",
          "Crabrawler",
          "Vulpix",
          "Crabominable",
          "Scizor",
          "Bronzor",
          "Brute Bonnet",
          "Tornadus Incarnate Form",
          "Deoxys Defense Form",
          "Seaking",
          "Sealeo",
          "Croagunk",
          "Torkoal",
          "Smoochum",
          "Castform Rainy Form",
          "Cascoon",
          "Castform",
          "Deerling Winter Form",
          "Smoliv",
          "Sceptile",
          "Bombirdier",
          "Brionne",
          "Primal Groudon",
          "Ampharos",
          "Anorith",
          "Galarian Corsola",
          "Appletun",
          "Amoonguss",
          "Gallade",
          "Applin",
          "Metagross",
          "Bronzong",
          "Primal Kyogre",
          "Alolan Rattata",
          "Galarian Articuno",
          "Bug",
          "Metang",
          "Alolan Raticate",
          "Annihilape",
          "Houndoom",
          "Wo-Chien",
          "Arctozolt",
          "Wishiwashi Solo Form",
          "Houndour",
          "Arctovish",
          "Iron Jugulis",
          "Iron Moth",
          "Iron Thorns",
          "Iron Treads",
          "Meloetta Aria Form",
          "Slowpoke",
          "Delibird",
          "Slowking",
          "Slowbro",
          "Slugma",
          "Vaporeon",
          "Mime Jr.",
          "Skitty",
          "Skiploom",
          "Skiddo",
          "Sizzlipede",
          "Minccino",
          "Cursola",
          "Mimikyu",
          "Milcery",
          "Milotic",
          "Miltank",
          "Gloom",
          "Skorupi",
          "Grimmsnarl",
          "Combusken",
          "Keldeo Resolute Form",
          "Burmy Plant Form",
          "Burmy Sandy Form",
          "Toxtricity Amped Form",
          "Toxtricity Low-Key Form",
          "Tranquill",
          "Hypno",
          "Throh",
          "Thievul",
          "Horsea",
          "Klink",
          "Klinklang",
          "Koffing",
          "Kubfu",
          "Lanturn",
          "Tadbulb",
          "Sylveon",
          "Cleffa",
          "Grimer",
          "Varoom",
          "Grookey",
          "Grotle",
          "Blaziken",
          "Comfey",
          "Luxray",
          "Blissey",
          "Boldore",
          "Loudred",
          "Lotad",
          "Charcadet",
          "Swoobat",
          "Luxio",
          "Glimmora",
          "Cufant",
          "Piplup",
          "Ferroseed",
          "Obstagoon",
          "Pinsir",
          "Galarian Ponyta",
          "Samurott",
          "Plusle",
          "Remoraid",
          "Eevee",
          "Eiscue Noice Face",
          "Reshiram",
          "Fennekin",
          "Feraligatr",
          "Beautifly",
          "Musharna",
          "Dewgong",
          "Murkrow",
          "Bayleef",
          "Dewott",
          "Beartic",
          "Galarian Mr. Mime",
          "Gourgeist Large",
          "Steenee",
          "Steelix",
          "Cinderace",
          "Clamperl",
          "Black Kyurem",
          "Blacephalon",
          "Stonjourner",
          "Clawitzer",
          "Clauncher",
          "Rellor",
          "Flutter Mane",
          "Zacian Crowned Sword",
          "Lurantis",
          "Psyduck",
          "Pumpkaboo Average",
          "Pumpkaboo Large",
          "Pumpkaboo Small",
          "Porygon2",
          "Bunnelby",
          "Porygon-Z",
          "Purugly",
          "Kilowattrel",
          "Hydreigon",
          "Tentacruel",
          "Eelektross",
          "Eelektrik",
          "Heracross",
          "Helioptile",
          "Heliolisk",
          "Heatran",
          "Dwebble",
          "Lunatone",
          "Luvdisc",
          "Sneasel",
          "Claydol",
          "Bisharp",
          "Genesect",
          "Galvantula",
          "Meowth",
          "Mesprit",
          "Bibarel",
          "Bidoof",
          "Darmanitan Zen-Mode",
          "Shroomish",
          "Skrelp",
          "White Kyurem",
          "Shellos West-Sea Form",
          "Shelmet",
          "Binacle",
          "Wigglytuff",
          "Garbodor",
          "Sandy Shocks",
          "Sandygast",
          "Shieldon",
          "Shroodle",
          "Shinx",
          "Wimpod",
          "Wingull",
          "Wishiwashi School Form",
          "Wiglett",
          "Shiinotic",
          "Oricorio Pom-Pom Style",
          "Gholdengo",
          "Shiftry",
          "Geodude",
          "Sawk",
          "Gengar",
          "Sandslash",
          "Kommo-o",
          "Tangrowth",
          "Poliwag",
          "Gothitelle",
          "Poliwhirl",
          "Volcanion",
          "Quaxwell",
          "Quaxly",
          "Houndstone",
          "Thwackey",
          "Timburr",
          "Huntail",
          "Quagsire",
          "Tirtouga",
          "Volcarona",
          "Voltorb",
          "Mudbray",
          "Mudkip",
          "Komala",
          "Politoed",
          "Mudsdale",
          "Fraxure",
          "Frigibax",
          "Poipole",
          "Frillish",
          "Slakoth",
          "Azumarill",
          "Diggersby",
          "Drifblim",
          "Oricorio Pa'u Style",
          "Forretress",
          "Slurpuff",
          "Gourgeist Super",
          "Wugtrio",
          "Snorlax",
          "Snom",
          "Gothorita",
          "Gourgeist Average",
          "Greninja",
          "Victini",
          "Braviary",
          "Ultra Necrozma",
          "Tyrunt",
          "Tyrogue",
          "Banette",
          "Venipede",
          "Venomoth",
          "Vespiquen",
          "Tropius",
          "Venonat",
          "Bergmite",
          "Bewear",
          "Aipom",
          "Aggron",
          "Vibrava",
          "Aerodactyl",
          "Boltund",
          "Blitzle",
          "Bastiodon",
          "Venusaur",
          "Basculin Red Stripe",
          "Baltoy",
          "Baxcalibur",
          "Trubbish",
          "Ivysaur",
          "Bruxish",
          "Meowstic Male",
          "Goomy",
          "Goodra",
          "Minior Blue Core",
          "Minior Green Core",
          "Golurk",
          "Golisopod",
          "Golett",
          "Morgrem",
          "Morpeko Full Berry Mode",
          "Morpeko Hangry Mode",
          "Gigalith",
          "Meowstic Female",
          "Gible",
          "Garganacl",
          "Gardevoir",
          "Garchomp",
          "Galarian Farfetch'd",
          "Galarian Darumaka",
          "Galarian Darmanitan Zen-Mode",
          "Palpitoad",
          "Pancham",
          "Galarian Darmanitan",
          "Pawmo",
          "Pawmot",
          "Pawniard",
          "Gastly",
          "Pelipper",
          "Grapploct",
          "Mantyke",
          "Jangmo-o",
          "Jellicent",
          "Koraidon",
          "Krabby",
          "Kyogre",
          "Kyurem",
          "Hisuian Zoroark",
          "Hisuian Voltorb",
          "Hisuian Typhlosion",
          "Hisuian Sneasel",
          "Leavanny",
          "Lechonk",
          "Graveler",
          "Ledian",
          "Hisuian Lilligant",
          "Hisuian Growlithe",
          "Lombre",
          "Lopunny",
          "Machop",
          "Magby",
          "Magcargo",
          "Guzzlord",
          "Gurdurr",
          "Gumshoos",
          "Mankey",
          "Mantine",
          "Ledyba",
          "Breloom",
          "Feebas",
          "Primarina",
          "Crobat",
          "Cosmog",
          "Cosmoem",
          "Corvisquire",
          "Solrock",
          "Spearow",
          "Spectrier",
          "Staravia",
          "Starly",
          "Chimecho",
          "Chien-Pao",
          "Chi-Yu",
          "Crocalor",
          "Chewtle",
          "Sunkern",
          "Chansey",
          "Chandelure",
          "Cetoddle",
          "Cetitan",
          "Ceruledge",
          "Centiskorch",
          "Tinkaton",
          "Tinkatuff",
          "Butterfree",
          "Burmy Trash Form",
          "Budew",
          "Sunflora",
          "Fearow",
          "Skeledirge",
          "Darmanitan",
          "Primeape",
          "Exeggutor",
          "Exeggcute",
          "Excadrill",
          "Emboar",
          "Elgyem",
          "Elekid",
          "Dustox",
          "Dreepy",
          "Dratini",
          "Roaring Moon",
          "Rockruff",
          "Darkrai",
          "Roggenrola",
          "Drakloak",
          "Dodrio",
          "Sawsbuck",
          "Scatterbug",
          "Scovillain",
          "Scrafty",
          "Deoxys Attack Form",
          "Delcatty",
          "Deino",
          "Shelgon",
          "Dartrix",
          "Silicobra",
          "Drapion",
          "Drizzile",
          "Dragon",
          "Electric",
          "Fairy",
          "Fighting",
          "Fire",
          "Flying",
          "Ghost",
          "Grass",
          "Ground",
          "Ice",
          "Normal",
          "Poison",
          "Psychic",
          "Rock",
          "Steel",
          "Water"
         ],
         "marker": {
          "colors": [
           "#636efa",
           "#636efa",
           "#EF553B",
           "#EF553B",
           "#00cc96",
           "#636efa",
           "#ab63fa",
           "#FFA15A",
           "#ab63fa",
           "#EF553B",
           "#19d3f3",
           "#19d3f3",
           "#FF6692",
           "#EF553B",
           "#EF553B",
           "#EF553B",
           "#B6E880",
           "#636efa",
           "#FF97FF",
           "#636efa",
           "#FF6692",
           "#636efa",
           "#FECB52",
           "#EF553B",
           "#636efa",
           "#EF553B",
           "#636efa",
           "#FF97FF",
           "#EF553B",
           "#00cc96",
           "#FECB52",
           "#19d3f3",
           "#FF97FF",
           "#EF553B",
           "#19d3f3",
           "#FF6692",
           "#636efa",
           "#B6E880",
           "#ab63fa",
           "#FF97FF",
           "#FF97FF",
           "#636efa",
           "#00cc96",
           "#FF6692",
           "#FF97FF",
           "#ab63fa",
           "#FF97FF",
           "#EF553B",
           "#636efa",
           "#FFA15A",
           "#19d3f3",
           "#ab63fa",
           "#FF6692",
           "#00cc96",
           "#EF553B",
           "#EF553B",
           "#ab63fa",
           "#636efa",
           "#EF553B",
           "#19d3f3",
           "#FFA15A",
           "#636efa",
           "#00cc96",
           "#EF553B",
           "#ab63fa",
           "#B6E880",
           "#19d3f3",
           "#636efa",
           "#00cc96",
           "#EF553B",
           "#19d3f3",
           "#00cc96",
           "#636efa",
           "#00cc96",
           "#ab63fa",
           "#00cc96",
           "#00cc96",
           "#FECB52",
           "#FFA15A",
           "#FF6692",
           "#EF553B",
           "#FFA15A",
           "#FFA15A",
           "#FF97FF",
           "#FF6692",
           "#FF97FF",
           "#19d3f3",
           "#EF553B",
           "#FF6692",
           "#FF97FF",
           "#FF6692",
           "#FECB52",
           "#FF6692",
           "#EF553B",
           "#19d3f3",
           "#636efa",
           "#FFA15A",
           "#FFA15A",
           "#ab63fa",
           "#FFA15A",
           "#00cc96",
           "#EF553B",
           "#00cc96",
           "#FF6692",
           "#EF553B",
           "#636efa",
           "#EF553B",
           "#636efa",
           "#ab63fa",
           "#EF553B",
           "#FF6692",
           "#00cc96",
           "#00cc96",
           "#00cc96",
           "#EF553B",
           "#EF553B",
           "#B6E880",
           "#00cc96",
           "#EF553B",
           "#B6E880",
           "#FF97FF",
           "#636efa",
           "#FF6692",
           "#FFA15A",
           "#FFA15A",
           "#EF553B",
           "#EF553B",
           "#ab63fa",
           "#FFA15A",
           "#EF553B",
           "#EF553B",
           "#B6E880",
           "#19d3f3",
           "#00cc96",
           "#636efa",
           "#00cc96",
           "#EF553B",
           "#636efa",
           "#00cc96",
           "#FFA15A",
           "#00cc96",
           "#B6E880",
           "#ab63fa",
           "#636efa",
           "#EF553B",
           "#EF553B",
           "#19d3f3",
           "#00cc96",
           "#EF553B",
           "#B6E880",
           "#00cc96",
           "#ab63fa",
           "#B6E880",
           "#FFA15A",
           "#ab63fa",
           "#EF553B",
           "#00cc96",
           "#00cc96",
           "#00cc96",
           "#FF6692",
           "#00cc96",
           "#636efa",
           "#EF553B",
           "#19d3f3",
           "#B6E880",
           "#00cc96",
           "#00cc96",
           "#EF553B",
           "#00cc96",
           "#FF97FF",
           "#FF6692",
           "#636efa",
           "#EF553B",
           "#FF6692",
           "#00cc96",
           "#FF6692",
           "#FECB52",
           "#19d3f3",
           "#ab63fa",
           "#FF97FF",
           "#ab63fa",
           "#636efa",
           "#ab63fa",
           "#00cc96",
           "#EF553B",
           "#B6E880",
           "#EF553B",
           "#636efa",
           "#ab63fa",
           "#B6E880",
           "#EF553B",
           "#EF553B",
           "#B6E880",
           "#636efa",
           "#00cc96",
           "#EF553B",
           "#FF6692",
           "#19d3f3",
           "#00cc96",
           "#B6E880",
           "#00cc96",
           "#ab63fa",
           "#FECB52",
           "#FF6692",
           "#ab63fa",
           "#FF6692",
           "#FF6692",
           "#00cc96",
           "#636efa",
           "#00cc96",
           "#ab63fa",
           "#FFA15A",
           "#FFA15A",
           "#EF553B",
           "#FFA15A",
           "#EF553B",
           "#FF6692",
           "#FECB52",
           "#19d3f3",
           "#FECB52",
           "#FECB52",
           "#00cc96",
           "#FFA15A",
           "#EF553B",
           "#FF6692",
           "#19d3f3",
           "#EF553B",
           "#636efa",
           "#B6E880",
           "#00cc96",
           "#FF6692",
           "#00cc96",
           "#00cc96",
           "#FFA15A",
           "#FECB52",
           "#636efa",
           "#ab63fa",
           "#B6E880",
           "#EF553B",
           "#00cc96",
           "#EF553B",
           "#00cc96",
           "#636efa",
           "#00cc96",
           "#00cc96",
           "#EF553B",
           "#FF6692",
           "#636efa",
           "#00cc96",
           "#00cc96",
           "#EF553B",
           "#B6E880",
           "#FF6692",
           "#EF553B",
           "#ab63fa",
           "#EF553B",
           "#19d3f3",
           "#EF553B",
           "#636efa",
           "#FF6692",
           "#00cc96",
           "#FF6692",
           "#00cc96",
           "#EF553B",
           "#FFA15A",
           "#FFA15A",
           "#19d3f3",
           "#B6E880",
           "#FF6692",
           "#636efa",
           "#636efa",
           "#00cc96",
           "#B6E880",
           "#FF97FF",
           "#EF553B",
           "#00cc96",
           "#FECB52",
           "#FF97FF",
           "#EF553B",
           "#00cc96",
           "#19d3f3",
           "#00cc96",
           "#FF6692",
           "#FECB52",
           "#FFA15A",
           "#FFA15A",
           "#636efa",
           "#FF6692",
           "#FF97FF",
           "#00cc96",
           "#EF553B",
           "#00cc96",
           "#636efa",
           "#00cc96",
           "#636efa",
           "#FFA15A",
           "#19d3f3",
           "#19d3f3",
           "#19d3f3",
           "#FF6692",
           "#636efa",
           "#19d3f3",
           "#ab63fa",
           "#EF553B",
           "#00cc96",
           "#00cc96",
           "#FFA15A",
           "#EF553B",
           "#FF6692",
           "#FF6692",
           "#00cc96",
           "#EF553B",
           "#636efa",
           "#EF553B",
           "#636efa",
           "#00cc96",
           "#B6E880",
           "#ab63fa",
           "#636efa",
           "#00cc96",
           "#EF553B",
           "#ab63fa",
           "#FF6692",
           "#00cc96",
           "#19d3f3",
           "#00cc96",
           "#ab63fa",
           "#636efa",
           "#636efa",
           "#00cc96",
           "#FF6692",
           "#ab63fa",
           "#FF6692",
           "#EF553B",
           "#EF553B",
           "#B6E880",
           "#B6E880",
           "#636efa",
           "#00cc96",
           "#00cc96",
           "#636efa",
           "#00cc96",
           "#00cc96",
           "#EF553B",
           "#ab63fa",
           "#B6E880",
           "#636efa",
           "#ab63fa",
           "#FF6692",
           "#00cc96",
           "#ab63fa",
           "#EF553B",
           "#EF553B",
           "#00cc96",
           "#EF553B",
           "#EF553B",
           "#EF553B",
           "#ab63fa",
           "#00cc96",
           "#00cc96",
           "#19d3f3",
           "#636efa",
           "#B6E880",
           "#ab63fa",
           "#FFA15A",
           "#B6E880",
           "#00cc96",
           "#00cc96",
           "#FF6692",
           "#00cc96",
           "#ab63fa",
           "#ab63fa",
           "#ab63fa",
           "#FF6692",
           "#00cc96",
           "#636efa",
           "#EF553B",
           "#00cc96",
           "#00cc96",
           "#00cc96",
           "#00cc96",
           "#FFA15A",
           "#FFA15A",
           "#19d3f3",
           "#636efa",
           "#00cc96",
           "#00cc96",
           "#FF6692",
           "#FECB52",
           "#636efa",
           "#EF553B",
           "#00cc96",
           "#B6E880",
           "#FF6692",
           "#FF6692",
           "#EF553B",
           "#EF553B",
           "#B6E880",
           "#FF97FF",
           "#00cc96",
           "#00cc96",
           "#EF553B",
           "#00cc96",
           "#ab63fa",
           "#FECB52",
           "#B6E880",
           "#00cc96",
           "#EF553B",
           "#00cc96",
           "#FECB52",
           "#19d3f3",
           "#FFA15A",
           "#FF6692",
           "#00cc96",
           "#FF6692",
           "#636efa",
           "#FF97FF",
           "#FF6692",
           "#EF553B",
           "#FF97FF",
           "#FECB52",
           "#FFA15A",
           "#636efa",
           "#FF6692",
           "#EF553B",
           "#636efa",
           "#00cc96",
           "#ab63fa",
           "#FF6692",
           "#00cc96",
           "#00cc96",
           "#636efa",
           "#636efa",
           "#FECB52",
           "#19d3f3",
           "#FFA15A",
           "#00cc96",
           "#00cc96",
           "#EF553B",
           "#00cc96",
           "#FFA15A",
           "#FFA15A",
           "#636efa",
           "#EF553B",
           "#636efa",
           "#ab63fa",
           "#FECB52",
           "#FF97FF",
           "#EF553B",
           "#19d3f3",
           "#EF553B",
           "#FF97FF",
           "#FECB52",
           "#00cc96",
           "#19d3f3",
           "#00cc96",
           "#00cc96",
           "#B6E880",
           "#FF97FF",
           "#00cc96",
           "#FF6692",
           "#00cc96",
           "#00cc96",
           "#00cc96",
           "#00cc96",
           "#EF553B",
           "#FFA15A",
           "#EF553B",
           "#FF6692",
           "#EF553B",
           "#FF6692",
           "#ab63fa",
           "#FF97FF",
           "#FFA15A",
           "#FF97FF",
           "#00cc96",
           "#FFA15A",
           "#00cc96",
           "#636efa",
           "#00cc96",
           "#FF6692",
           "#FF6692",
           "#B6E880",
           "#00cc96",
           "#FFA15A",
           "#EF553B",
           "#EF553B",
           "#FF97FF",
           "#EF553B",
           "#FFA15A",
           "#636efa",
           "#FECB52",
           "#ab63fa",
           "#B6E880",
           "#ab63fa",
           "#FF97FF",
           "#636efa",
           "#FECB52",
           "#EF553B",
           "#636efa",
           "#EF553B",
           "#EF553B",
           "#FECB52",
           "#636efa",
           "#19d3f3",
           "#EF553B",
           "#FF6692",
           "#19d3f3",
           "#19d3f3",
           "#00cc96",
           "#636efa",
           "#EF553B",
           "#636efa",
           "#636efa",
           "#19d3f3",
           "#00cc96",
           "#ab63fa",
           "#FF6692",
           "#FF97FF",
           "#B6E880",
           "#636efa",
           "#636efa",
           "#00cc96",
           "#ab63fa",
           "#FF6692",
           "#19d3f3",
           "#FFA15A",
           "#19d3f3",
           "#636efa",
           "#00cc96",
           "#00cc96",
           "#EF553B",
           "#FF6692",
           "#FFA15A",
           "#EF553B",
           "#EF553B",
           "#EF553B",
           "#EF553B",
           "#FF6692",
           "#636efa",
           "#EF553B",
           "#EF553B",
           "#EF553B",
           "#636efa",
           "#FF6692",
           "#636efa",
           "#FF97FF",
           "#FFA15A",
           "#19d3f3",
           "#19d3f3",
           "#FF6692",
           "#EF553B",
           "#FFA15A",
           "#ab63fa",
           "#EF553B",
           "#00cc96",
           "#B6E880",
           "#19d3f3",
           "#00cc96",
           "#B6E880",
           "#EF553B",
           "#ab63fa",
           "#FFA15A",
           "#FFA15A",
           "#FFA15A",
           "#FECB52",
           "#00cc96",
           "#FFA15A",
           "#FFA15A",
           "#EF553B",
           "#FF6692",
           "#636efa",
           "#ab63fa",
           "#00cc96",
           "#636efa",
           "#B6E880",
           "#FECB52",
           "#636efa",
           "#FECB52",
           "#636efa",
           "#FFA15A",
           "#636efa",
           "#FFA15A",
           "#ab63fa",
           "#EF553B",
           "#ab63fa",
           "#FFA15A",
           "#B6E880",
           "#ab63fa",
           "#00cc96",
           "#ab63fa",
           "#19d3f3",
           "#EF553B",
           "#FF97FF",
           "#EF553B",
           "#EF553B",
           "#00cc96",
           "#ab63fa",
           "#FF6692",
           "#B6E880",
           "#FFA15A",
           "#B6E880",
           "#B6E880",
           "#B6E880",
           "#FF6692",
           "#FFA15A",
           "#00cc96",
           "#19d3f3",
           "#FF97FF",
           "#00cc96",
           "#B6E880",
           "#EF553B",
           "#EF553B",
           "#EF553B",
           "#EF553B",
           "#00cc96",
           "#19d3f3",
           "#ab63fa",
           "#FFA15A",
           "#ab63fa",
           "#EF553B",
           "#00cc96",
           "#00cc96",
           "#ab63fa",
           "#FF6692",
           "#00cc96",
           "#FF6692",
           "#B6E880",
           "#EF553B",
           "#636efa",
           "#FFA15A",
           "#ab63fa",
           "#00cc96",
           "#00cc96",
           "#FFA15A",
           "#FFA15A",
           "#19d3f3",
           "#19d3f3",
           "#FFA15A",
           "#00cc96",
           "#FFA15A",
           "#00cc96",
           "#00cc96",
           "#00cc96",
           "#636efa",
           "#19d3f3",
           "#00cc96",
           "#ab63fa",
           "#EF553B",
           "#636efa",
           "#FF6692",
           "#FFA15A",
           "#00cc96",
           "#EF553B",
           "#EF553B",
           "#19d3f3",
           "#FFA15A",
           "#FF6692",
           "#00cc96",
           "#B6E880",
           "#EF553B",
           "#FFA15A",
           "#19d3f3",
           "#EF553B",
           "#EF553B",
           "#FF6692",
           "#EF553B",
           "#FF97FF",
           "#636efa",
           "#00cc96",
           "#FF6692",
           "#FF97FF",
           "#FF6692",
           "#636efa",
           "#EF553B",
           "#636efa",
           "#19d3f3",
           "#00cc96",
           "#B6E880",
           "#FFA15A",
           "#B6E880",
           "#EF553B",
           "#EF553B",
           "#ab63fa",
           "#EF553B",
           "#636efa",
           "#00cc96",
           "#EF553B",
           "#636efa",
           "#B6E880",
           "#00cc96",
           "#FF6692",
           "#FFA15A",
           "#636efa",
           "#ab63fa",
           "#636efa",
           "#636efa",
           "#636efa",
           "#EF553B",
           "#636efa",
           "#00cc96",
           "#EF553B",
           "#636efa",
           "#19d3f3",
           "#FFA15A",
           "#EF553B",
           "#B6E880",
           "#EF553B",
           "#636efa",
           "#B6E880",
           "#FF6692",
           "#ab63fa",
           "#636efa",
           "#19d3f3",
           "#00cc96",
           "#EF553B",
           "#00cc96",
           "#FF97FF",
           "#00cc96",
           "#636efa",
           "#FF6692",
           "#00cc96",
           "#19d3f3",
           "#636efa",
           "#EF553B",
           "#FF97FF",
           "#FFA15A",
           "#FFA15A",
           "#ab63fa",
           "#19d3f3",
           "#EF553B",
           "#00cc96",
           "#636efa",
           "#EF553B",
           "#EF553B",
           "#00cc96",
           "#00cc96",
           "#00cc96",
           "#EF553B",
           "#B6E880",
           "#FFA15A",
           "#FF6692",
           "#FFA15A",
           "#FF6692",
           "#FF6692",
           "#FF6692",
           "#ab63fa",
           "#00cc96",
           "#636efa",
           "#FECB52",
           "#FFA15A",
           "#636efa",
           "#FFA15A",
           "#FECB52",
           "#EF553B",
           "#FFA15A",
           "#FECB52",
           "#00cc96",
           "#EF553B",
           "#EF553B",
           "#EF553B",
           "#FF6692",
           "#FFA15A",
           "#EF553B",
           "#636efa",
           "#636efa",
           "#19d3f3",
           "#636efa",
           "#00cc96",
           "#ab63fa",
           "#636efa",
           "#19d3f3",
           "#EF553B",
           "#00cc96",
           "#FECB52",
           "#ab63fa",
           "#19d3f3",
           "#FECB52",
           "#EF553B",
           "#00cc96",
           "#EF553B",
           "#EF553B",
           "#636efa",
           "#636efa",
           "#19d3f3",
           "#00cc96",
           "#FF97FF",
           "#FF6692",
           "#FFA15A",
           "#B6E880",
           "#636efa",
           "#636efa",
           "#EF553B",
           "#636efa",
           "#ab63fa",
           "#ab63fa",
           "#00cc96",
           "#FF6692",
           "#EF553B",
           "#00cc96",
           "#ab63fa",
           "#FF6692",
           "#636efa",
           "#FF6692",
           "#FF6692",
           "#FF6692",
           "#00cc96",
           "#FF6692",
           "#00cc96",
           "#FF6692",
           "#19d3f3",
           "#FFA15A",
           "#FF97FF",
           "#EF553B",
           "#00cc96",
           "#FECB52",
           "#00cc96",
           "#00cc96",
           "#19d3f3",
           "#00cc96",
           "#EF553B",
           "#EF553B",
           "#636efa",
           "#636efa",
           "#19d3f3",
           "#EF553B",
           "#B6E880",
           "#B6E880",
           "#FFA15A",
           "#00cc96",
           "#EF553B",
           "#636efa",
           "#ab63fa",
           "#FF6692",
           "#19d3f3",
           "#00cc96",
           "#00cc96",
           "#00cc96",
           "#FF6692",
           "#FF6692",
           "#EF553B",
           "#EF553B",
           "#636efa",
           "#FF6692",
           "#00cc96",
           "#ab63fa",
           "#ab63fa",
           "#ab63fa",
           "#636efa",
           "#00cc96",
           "#FF6692",
           "#FFA15A",
           "#FFA15A",
           "#ab63fa",
           "#ab63fa",
           "#636efa",
           "#636efa",
           "#19d3f3",
           "#FFA15A",
           "#FF6692",
           "#EF553B",
           "#FFA15A",
           "#EF553B",
           "#00cc96",
           "#19d3f3",
           "#EF553B",
           "#FF6692",
           "#FFA15A",
           "#ab63fa",
           "#00cc96",
           "#636efa",
           "#FF6692",
           "#00cc96",
           "#EF553B",
           "#00cc96",
           "#FF6692",
           "#00cc96",
           "#EF553B",
           "#FECB52",
           "#B6E880",
           "#19d3f3",
           "#00cc96",
           "#00cc96",
           "#EF553B",
           "#00cc96",
           "#FF6692",
           "#636efa",
           "#00cc96",
           "#FECB52",
           "#FECB52",
           "#B6E880",
           "#636efa",
           "#ab63fa",
           "#19d3f3",
           "#00cc96",
           "#B6E880",
           "#19d3f3",
           "#FFA15A",
           "#00cc96",
           "#00cc96",
           "#00cc96",
           "#B6E880",
           "#FFA15A",
           "#636efa",
           "#00cc96",
           "#B6E880",
           "#B6E880",
           "#B6E880",
           "#EF553B",
           "#EF553B",
           "#EF553B",
           "#EF553B",
           "#FF6692",
           "#FF6692",
           "#00cc96",
           "#FF6692",
           "#FF6692",
           "#00cc96",
           "#FF6692",
           "#FF6692",
           "#19d3f3",
           "#00cc96",
           "#FFA15A",
           "#00cc96",
           "#FF6692",
           "#FF97FF",
           "#FF6692",
           "#00cc96",
           "#00cc96",
           "#EF553B",
           "#EF553B",
           "#EF553B",
           "#EF553B",
           "#19d3f3",
           "#636efa",
           "#ab63fa",
           "#B6E880",
           "#00cc96",
           "#00cc96",
           "#FFA15A",
           "#EF553B",
           "#ab63fa",
           "#FF6692",
           "#B6E880",
           "#FFA15A",
           "#ab63fa",
           "#FF6692",
           "#00cc96",
           "#00cc96",
           "#00cc96",
           "#00cc96",
           "#636efa",
           "#FF6692",
           "#ab63fa",
           "#636efa",
           "#FFA15A",
           "#636efa",
           "#B6E880",
           "#FF97FF",
           "#B6E880",
           "#636efa",
           "#00cc96",
           "#EF553B",
           "#00cc96",
           "#19d3f3",
           "#00cc96",
           "#00cc96",
           "#B6E880",
           "#636efa",
           "#636efa",
           "#00cc96",
           "#00cc96",
           "#00cc96",
           "#00cc96",
           "#FF6692",
           "#FF97FF",
           "#00cc96",
           "#EF553B",
           "#00cc96",
           "#FF97FF",
           "#B6E880",
           "#B6E880",
           "#ab63fa",
           "#00cc96",
           "#EF553B",
           "#00cc96",
           "#EF553B",
           "#B6E880",
           "#EF553B",
           "#00cc96",
           "#FFA15A",
           "#B6E880",
           "#00cc96",
           "#EF553B",
           "#FECB52",
           "#EF553B",
           "#B6E880",
           "#00cc96",
           "#EF553B",
           "#EF553B",
           "#EF553B",
           "#FFA15A",
           "#636efa",
           "#B6E880",
           "#00cc96",
           "#00cc96",
           "#00cc96",
           "#636efa",
           "#00cc96",
           "#FECB52",
           "#EF553B",
           "#EF553B",
           "#ab63fa",
           "#FF97FF",
           "#FFA15A",
           "#FF6692",
           "#FF6692",
           "#FFA15A",
           "#636efa",
           "#00cc96",
           "#FF97FF",
           "#B6E880",
           "#ab63fa",
           "#636efa",
           "#00cc96",
           "#EF553B",
           "#B6E880",
           "#B6E880",
           "#FFA15A",
           "#FFA15A",
           "#FF97FF",
           "#00cc96",
           "#FF97FF",
           "#FF6692",
           "#FF6692",
           "#FF6692",
           "#FFA15A",
           "#EF553B",
           "#B6E880",
           "#FFA15A",
           "#EF553B",
           "#B6E880",
           "#636efa",
           "#FECB52",
           "#FECB52",
           "#00cc96",
           "#636efa",
           "#FECB52",
           "#FF6692",
           "#FF6692",
           "#FF6692",
           "#B6E880",
           "#00cc96",
           "#636efa",
           "#00cc96",
           "#B6E880",
           "#00cc96",
           "#636efa",
           "#00cc96",
           "#00cc96",
           "#B6E880",
           "#EF553B",
           "#FF6692",
           "#19d3f3",
           "#636efa",
           "#00cc96",
           "#EF553B",
           "#FFA15A",
           "#00cc96",
           "#636efa",
           "#19d3f3",
           "#00cc96",
           "#EF553B",
           "#636efa",
           "#19d3f3",
           "#19d3f3",
           "#FF6692",
           "#636efa",
           "#EF553B",
           "#636efa",
           "#00cc96",
           "#00cc96",
           "#636efa",
           "#00cc96",
           "#00cc96",
           "#ab63fa",
           "#EF553B",
           "#EF553B",
           "#19d3f3",
           "#FFA15A",
           "#EF553B",
           "#B6E880",
           "#EF553B",
           "#EF553B",
           "#EF553B",
           "#FF6692",
           "#FF6692",
           "#19d3f3",
           "#00cc96",
           "#636efa",
           "#EF553B",
           "#B6E880",
           "#FECB52",
           "#FECB52",
           "#19d3f3",
           "#19d3f3",
           "#FFA15A",
           "#FFA15A",
           "#00cc96",
           "#00cc96",
           "#636efa",
           "#636efa",
           "#EF553B",
           "#19d3f3",
           "#19d3f3",
           "#636efa",
           "#636efa",
           "#636efa",
           "#FF97FF",
           "#19d3f3",
           "#EF553B",
           "#FF6692",
           "#00cc96",
           "#B6E880",
           "#B6E880",
           "#B6E880",
           "#FFA15A",
           "#FF6692",
           "#FFA15A",
           "#B6E880",
           "#EF553B",
           "#EF553B",
           "#00cc96",
           "#636efa",
           "#FF6692",
           "#EF553B",
           "#EF553B",
           "#FF6692",
           "#B6E880",
           "#636efa",
           "#FF97FF",
           "#ab63fa",
           "#00cc96",
           "#B6E880",
           "#FF6692",
           "#FFA15A",
           "#636efa",
           "#19d3f3",
           "#19d3f3",
           "#B6E880",
           "#636efa",
           "#FF97FF",
           "#FECB52",
           "#EF553B",
           "#ab63fa",
           "#EF553B",
           "#FFA15A",
           "#ab63fa",
           "#00cc96"
          ]
         },
         "name": "",
         "parents": [
          "Grass",
          "Grass",
          "Psychic",
          "Psychic",
          "Bug",
          "Grass",
          "Poison",
          "Fairy",
          "Poison",
          "Psychic",
          "Fire",
          "Fire",
          "Electric",
          "Psychic",
          "Psychic",
          "Psychic",
          "Ghost",
          "Grass",
          "Ground",
          "Grass",
          "Electric",
          "Grass",
          "Ice",
          "Psychic",
          "Fighting",
          "Normal",
          "Fighting",
          "Ground",
          "Psychic",
          "Water",
          "Ice",
          "Fire",
          "Ground",
          "Normal",
          "Fire",
          "Electric",
          "Fighting",
          "Ghost",
          "Steel",
          "Ground",
          "Ground",
          "Grass",
          "Water",
          "Electric",
          "Ground",
          "Poison",
          "Ground",
          "Normal",
          "Grass",
          "Rock",
          "Fire",
          "Poison",
          "Electric",
          "Bug",
          "Normal",
          "Normal",
          "Steel",
          "Fighting",
          "Normal",
          "Flying",
          "Rock",
          "Grass",
          "Water",
          "Normal",
          "Poison",
          "Ghost",
          "Fire",
          "Grass",
          "Water",
          "Psychic",
          "Fire",
          "Bug",
          "Grass",
          "Water",
          "Steel",
          "Bug",
          "Water",
          "Ice",
          "Fairy",
          "Electric",
          "Psychic",
          "Fairy",
          "Rock",
          "Ground",
          "Electric",
          "Ground",
          "Fire",
          "Normal",
          "Dark",
          "Ground",
          "Dark",
          "Ice",
          "Electric",
          "Psychic",
          "Fire",
          "Fighting",
          "Fairy",
          "Fairy",
          "Steel",
          "Rock",
          "Water",
          "Normal",
          "Water",
          "Electric",
          "Normal",
          "Fighting",
          "Normal",
          "Grass",
          "Steel",
          "Normal",
          "Dark",
          "Water",
          "Bug",
          "Bug",
          "Normal",
          "Psychic",
          "Dragon",
          "Water",
          "Psychic",
          "Ghost",
          "Ground",
          "Grass",
          "Electric",
          "Rock",
          "Rock",
          "Normal",
          "Normal",
          "Steel",
          "Rock",
          "Normal",
          "Normal",
          "Dragon",
          "Flying",
          "Bug",
          "Grass",
          "Water",
          "Normal",
          "Grass",
          "Bug",
          "Rock",
          "Bug",
          "Ghost",
          "Steel",
          "Grass",
          "Normal",
          "Psychic",
          "Fire",
          "Water",
          "Psychic",
          "Ghost",
          "Water",
          "Steel",
          "Ghost",
          "Fairy",
          "Poison",
          "Psychic",
          "Water",
          "Water",
          "Water",
          "Dark",
          "Water",
          "Grass",
          "Psychic",
          "Fire",
          "Ghost",
          "Water",
          "Bug",
          "Psychic",
          "Water",
          "Ground",
          "Electric",
          "Fighting",
          "Normal",
          "Electric",
          "Water",
          "Electric",
          "Ice",
          "Fire",
          "Poison",
          "Ground",
          "Poison",
          "Grass",
          "Steel",
          "Water",
          "Psychic",
          "Dragon",
          "Psychic",
          "Grass",
          "Poison",
          "Dragon",
          "Psychic",
          "Psychic",
          "Ghost",
          "Grass",
          "Bug",
          "Normal",
          "Electric",
          "Fire",
          "Bug",
          "Ghost",
          "Bug",
          "Steel",
          "Ice",
          "Dark",
          "Steel",
          "Electric",
          "Dark",
          "Bug",
          "Grass",
          "Bug",
          "Poison",
          "Rock",
          "Rock",
          "Normal",
          "Fairy",
          "Normal",
          "Dark",
          "Ice",
          "Fire",
          "Ice",
          "Ice",
          "Bug",
          "Rock",
          "Normal",
          "Dark",
          "Fire",
          "Normal",
          "Grass",
          "Ghost",
          "Bug",
          "Electric",
          "Bug",
          "Water",
          "Rock",
          "Ice",
          "Fighting",
          "Steel",
          "Dragon",
          "Psychic",
          "Bug",
          "Normal",
          "Water",
          "Fighting",
          "Water",
          "Water",
          "Normal",
          "Electric",
          "Fighting",
          "Water",
          "Water",
          "Psychic",
          "Ghost",
          "Electric",
          "Normal",
          "Poison",
          "Normal",
          "Fire",
          "Psychic",
          "Grass",
          "Dark",
          "Bug",
          "Electric",
          "Water",
          "Normal",
          "Fairy",
          "Fairy",
          "Fire",
          "Ghost",
          "Dark",
          "Grass",
          "Fighting",
          "Bug",
          "Dragon",
          "Ground",
          "Normal",
          "Bug",
          "Ice",
          "Ground",
          "Psychic",
          "Water",
          "Fire",
          "Water",
          "Electric",
          "Ice",
          "Rock",
          "Fairy",
          "Grass",
          "",
          "Ground",
          "Water",
          "Normal",
          "Water",
          "Fighting",
          "Water",
          "Grass",
          "Fairy",
          "Fire",
          "Flying",
          "Fire",
          "Dark",
          "Grass",
          "Fire",
          "Steel",
          "Psychic",
          "Bug",
          "Water",
          "Rock",
          "Normal",
          "Electric",
          "Dark",
          "Water",
          "Normal",
          "Fighting",
          "Normal",
          "Grass",
          "Bug",
          "Dragon",
          "Steel",
          "Fighting",
          "Bug",
          "Normal",
          "Poison",
          "Dark",
          "Water",
          "Fire",
          "Water",
          "Steel",
          "Grass",
          "Grass",
          "Bug",
          "Dark",
          "Steel",
          "Dark",
          "Normal",
          "Psychic",
          "Dragon",
          "Ghost",
          "Grass",
          "Bug",
          "Water",
          "Fighting",
          "Water",
          "Bug",
          "Psychic",
          "Poison",
          "Dragon",
          "Fighting",
          "Poison",
          "Electric",
          "Water",
          "Poison",
          "Normal",
          "Psychic",
          "Water",
          "Psychic",
          "Psychic",
          "Normal",
          "Steel",
          "Water",
          "Water",
          "Flying",
          "Fighting",
          "Ghost",
          "Poison",
          "Rock",
          "Dragon",
          "Bug",
          "Water",
          "Dark",
          "Bug",
          "Steel",
          "Steel",
          "Poison",
          "Dark",
          "Bug",
          "Grass",
          "Normal",
          "Water",
          "Water",
          "Water",
          "Water",
          "Rock",
          "Rock",
          "Fire",
          "Fighting",
          "Water",
          "Bug",
          "Electric",
          "Ice",
          "Grass",
          "Psychic",
          "Bug",
          "Ghost",
          "Electric",
          "Electric",
          "Normal",
          "Normal",
          "Ghost",
          "Ground",
          "Water",
          "Water",
          "Normal",
          "Bug",
          "Steel",
          "Ice",
          "Dragon",
          "Bug",
          "Normal",
          "Bug",
          "Ice",
          "Fire",
          "Fairy",
          "Dark",
          "Bug",
          "Dark",
          "Grass",
          "Ground",
          "Dark",
          "Psychic",
          "Ground",
          "Ice",
          "Fairy",
          "Grass",
          "Electric",
          "Normal",
          "Grass",
          "Water",
          "Poison",
          "Electric",
          "Bug",
          "Water",
          "Fighting",
          "Fighting",
          "Ice",
          "Fire",
          "Rock",
          "Water",
          "Bug",
          "Normal",
          "Bug",
          "Rock",
          "Rock",
          "Grass",
          "Normal",
          "Grass",
          "Poison",
          "Ice",
          "Ground",
          "Psychic",
          "Fire",
          "Normal",
          "Ground",
          "Ice",
          "Bug",
          "Fire",
          "Water",
          "Water",
          "Ghost",
          "Ground",
          "Water",
          "Dark",
          "Bug",
          "Bug",
          "Bug",
          "Bug",
          "Normal",
          "Fairy",
          "Psychic",
          "Dark",
          "Normal",
          "Electric",
          "Steel",
          "Ground",
          "Rock",
          "Ground",
          "Bug",
          "Rock",
          "Bug",
          "Grass",
          "Water",
          "Dark",
          "Electric",
          "Ghost",
          "Water",
          "Rock",
          "Normal",
          "Normal",
          "Ground",
          "Normal",
          "Fairy",
          "Grass",
          "Ice",
          "Steel",
          "Dragon",
          "Steel",
          "Ground",
          "Grass",
          "Ice",
          "Normal",
          "Grass",
          "Psychic",
          "Normal",
          "Ice",
          "Grass",
          "Fire",
          "Normal",
          "Electric",
          "Fire",
          "Fire",
          "Water",
          "Grass",
          "Normal",
          "Grass",
          "Grass",
          "Fire",
          "Water",
          "Steel",
          "Electric",
          "Ground",
          "Dragon",
          "Grass",
          "Grass",
          "Water",
          "Poison",
          "Electric",
          "Fire",
          "Fairy",
          "Fire",
          "Grass",
          "Bug",
          "Water",
          "Psychic",
          "Dark",
          "Rock",
          "Psychic",
          "Psychic",
          "Psychic",
          "Psychic",
          "Electric",
          "Fighting",
          "Normal",
          "Normal",
          "Normal",
          "Grass",
          "Electric",
          "Fighting",
          "Ground",
          "Fairy",
          "Fire",
          "Fire",
          "Dark",
          "Psychic",
          "Rock",
          "Poison",
          "Normal",
          "Water",
          "Ghost",
          "Flying",
          "Water",
          "Dragon",
          "Psychic",
          "Poison",
          "Rock",
          "Rock",
          "Rock",
          "Ice",
          "Water",
          "Rock",
          "Rock",
          "Normal",
          "Electric",
          "Fighting",
          "Poison",
          "Bug",
          "Grass",
          "Dragon",
          "Ice",
          "Fighting",
          "Ice",
          "Grass",
          "Rock",
          "Grass",
          "Rock",
          "Steel",
          "Psychic",
          "Poison",
          "Rock",
          "Dragon",
          "Poison",
          "Water",
          "Poison",
          "Fire",
          "Psychic",
          "Ground",
          "Normal",
          "Normal",
          "Bug",
          "Poison",
          "Electric",
          "Ghost",
          "Rock",
          "Dragon",
          "Ghost",
          "Dragon",
          "Dark",
          "Fairy",
          "Bug",
          "Fire",
          "Ground",
          "Water",
          "Dragon",
          "Normal",
          "Normal",
          "Normal",
          "Normal",
          "Water",
          "Fire",
          "Poison",
          "Rock",
          "Poison",
          "Normal",
          "Bug",
          "Water",
          "Poison",
          "Electric",
          "Water",
          "Electric",
          "Dragon",
          "Psychic",
          "Grass",
          "Rock",
          "Poison",
          "Water",
          "Water",
          "Rock",
          "Fairy",
          "Fire",
          "Fire",
          "Rock",
          "Water",
          "Rock",
          "Water",
          "Water",
          "Water",
          "Grass",
          "Fire",
          "Bug",
          "Steel",
          "Normal",
          "Fighting",
          "Electric",
          "Fairy",
          "Water",
          "Psychic",
          "Normal",
          "Flying",
          "Fairy",
          "Electric",
          "Bug",
          "Ghost",
          "Psychic",
          "Fairy",
          "Fire",
          "Normal",
          "Normal",
          "Dark",
          "Normal",
          "Ground",
          "Grass",
          "Water",
          "Dark",
          "Ground",
          "Electric",
          "Grass",
          "Psychic",
          "Grass",
          "Flying",
          "Water",
          "Ghost",
          "Rock",
          "Dragon",
          "Normal",
          "Normal",
          "Steel",
          "Normal",
          "Grass",
          "Water",
          "Normal",
          "Fighting",
          "Ghost",
          "Bug",
          "Dark",
          "Rock",
          "Grass",
          "Steel",
          "Grass",
          "Grass",
          "Grass",
          "Normal",
          "Grass",
          "Water",
          "Psychic",
          "Grass",
          "Fire",
          "Rock",
          "Psychic",
          "Ghost",
          "Normal",
          "Fighting",
          "Dragon",
          "Electric",
          "Poison",
          "Grass",
          "Fire",
          "Bug",
          "Normal",
          "Water",
          "Ground",
          "Water",
          "Grass",
          "Dark",
          "Bug",
          "Fire",
          "Fighting",
          "Normal",
          "Ground",
          "Rock",
          "Rock",
          "Poison",
          "Fire",
          "Normal",
          "Water",
          "Fighting",
          "Normal",
          "Normal",
          "Bug",
          "Water",
          "Water",
          "Normal",
          "Dragon",
          "Rock",
          "Dark",
          "Rock",
          "Electric",
          "Electric",
          "Electric",
          "Poison",
          "Water",
          "Grass",
          "Ice",
          "Rock",
          "Fighting",
          "Rock",
          "Ice",
          "Normal",
          "Fairy",
          "Ice",
          "Bug",
          "Psychic",
          "Psychic",
          "Normal",
          "Dark",
          "Rock",
          "Psychic",
          "Grass",
          "Fighting",
          "Fire",
          "Fighting",
          "Bug",
          "Steel",
          "Grass",
          "Flying",
          "Psychic",
          "Water",
          "Ice",
          "Poison",
          "Fire",
          "Ice",
          "Normal",
          "Bug",
          "Normal",
          "Normal",
          "Grass",
          "Grass",
          "Flying",
          "Water",
          "Ground",
          "Electric",
          "Rock",
          "Ghost",
          "Grass",
          "Grass",
          "Psychic",
          "Grass",
          "Steel",
          "Steel",
          "Water",
          "Dark",
          "Psychic",
          "",
          "Steel",
          "Dark",
          "Fighting",
          "Dark",
          "Dark",
          "Electric",
          "Water",
          "Dark",
          "Water",
          "Dark",
          "Fire",
          "Rock",
          "Ground",
          "Normal",
          "Water",
          "Ice",
          "Water",
          "Water",
          "Fire",
          "Water",
          "Psychic",
          "Normal",
          "Grass",
          "Grass",
          "Fire",
          "Normal",
          "Ghost",
          "Ghost",
          "Fairy",
          "Water",
          "Normal",
          "Grass",
          "Poison",
          "Dark",
          "Fire",
          "Water",
          "Bug",
          "Bug",
          "Electric",
          "Electric",
          "Normal",
          "Psychic",
          "Fighting",
          "Dark",
          "Water",
          "Steel",
          "Steel",
          "Poison",
          "Fighting",
          "Water",
          "Electric",
          "Fairy",
          "Fairy",
          "Poison",
          "Steel",
          "Grass",
          "Grass",
          "Fire",
          "Fairy",
          "Electric",
          "Normal",
          "Rock",
          "Normal",
          "Water",
          "Fire",
          "Psychic",
          "Electric",
          "Rock",
          "Steel",
          "Water",
          "Grass",
          "Dark",
          "Bug",
          "Psychic",
          "Water",
          "Electric",
          "Water",
          "Normal",
          "Ice",
          "Dragon",
          "Fire",
          "Water",
          "Bug",
          "Psychic",
          "Water",
          "Dark",
          "Grass",
          "Water",
          "Ice",
          "Ice",
          "Ghost",
          "Grass",
          "Steel",
          "Fire",
          "Water",
          "Dragon",
          "Fire",
          "Rock",
          "Water",
          "Water",
          "Bug",
          "Ghost",
          "Fairy",
          "Grass",
          "Water",
          "Ghost",
          "Ghost",
          "Ghost",
          "Normal",
          "Normal",
          "Normal",
          "Normal",
          "Electric",
          "Dark",
          "Water",
          "Electric",
          "Electric",
          "Bug",
          "Electric",
          "Electric",
          "Fire",
          "Bug",
          "Rock",
          "Water",
          "Dark",
          "Ground",
          "Dark",
          "Bug",
          "Bug",
          "Normal",
          "Psychic",
          "Normal",
          "Normal",
          "Fire",
          "Grass",
          "Poison",
          "Dragon",
          "Water",
          "Bug",
          "Rock",
          "Normal",
          "Poison",
          "Electric",
          "Ghost",
          "Rock",
          "Poison",
          "Electric",
          "Bug",
          "Water",
          "Water",
          "Water",
          "Grass",
          "Electric",
          "Steel",
          "Grass",
          "Rock",
          "Fighting",
          "Ghost",
          "Ground",
          "Dragon",
          "Grass",
          "Water",
          "Psychic",
          "Water",
          "Fire",
          "Water",
          "Water",
          "Ghost",
          "Grass",
          "Fighting",
          "Water",
          "Water",
          "Water",
          "Bug",
          "Electric",
          "Ground",
          "Water",
          "Normal",
          "Water",
          "Ground",
          "Dragon",
          "Dragon",
          "Poison",
          "Water",
          "Normal",
          "Water",
          "Normal",
          "Ghost",
          "Psychic",
          "Bug",
          "Fairy",
          "Ghost",
          "Water",
          "Normal",
          "Ice",
          "Psychic",
          "Ghost",
          "Water",
          "Psychic",
          "Normal",
          "Psychic",
          "Rock",
          "Fighting",
          "Ghost",
          "Bug",
          "Bug",
          "Bug",
          "Grass",
          "Bug",
          "Ice",
          "Normal",
          "Normal",
          "Steel",
          "Ground",
          "Rock",
          "Electric",
          "Electric",
          "Rock",
          "Grass",
          "Water",
          "Ground",
          "Dragon",
          "Poison",
          "Grass",
          "Water",
          "Psychic",
          "Dragon",
          "Dragon",
          "Rock",
          "Rock",
          "Ground",
          "Bug",
          "Ground",
          "Dark",
          "Electric",
          "Electric",
          "Rock",
          "Psychic",
          "Dragon",
          "Rock",
          "Psychic",
          "Dragon",
          "Fighting",
          "Ice",
          "Ice",
          "Water",
          "Fighting",
          "Ice",
          "Electric",
          "Electric",
          "Dark",
          "Ghost",
          "Water",
          "Fighting",
          "Water",
          "Dragon",
          "Water",
          "Fighting",
          "Water",
          "Water",
          "Dragon",
          "Normal",
          "Electric",
          "Fire",
          "Fighting",
          "Bug",
          "Normal",
          "Rock",
          "Bug",
          "Grass",
          "Fire",
          "Water",
          "Normal",
          "Fighting",
          "Fire",
          "Fire",
          "Dark",
          "Fighting",
          "Normal",
          "Fighting",
          "Water",
          "Bug",
          "Grass",
          "Water",
          "Water",
          "Poison",
          "Psychic",
          "Psychic",
          "Flying",
          "Rock",
          "Normal",
          "Ghost",
          "Normal",
          "Normal",
          "Psychic",
          "Dark",
          "Dark",
          "Fire",
          "Water",
          "Grass",
          "Normal",
          "Ghost",
          "Ice",
          "Ice",
          "Fire",
          "Fire",
          "Fairy",
          "Fairy",
          "Bug",
          "Bug",
          "Grass",
          "Grass",
          "Normal",
          "Fire",
          "Fire",
          "Fighting",
          "Grass",
          "Grass",
          "Ground",
          "Fire",
          "Psychic",
          "Electric",
          "Bug",
          "Dragon",
          "Dragon",
          "Dragon",
          "Rock",
          "Dark",
          "Rock",
          "Dragon",
          "Normal",
          "Normal",
          "Bug",
          "Grass",
          "Dark",
          "Psychic",
          "Normal",
          "Dark",
          "Dragon",
          "Grass",
          "Ground",
          "Poison",
          "Water",
          "",
          "",
          "",
          "",
          "",
          "",
          "",
          "",
          "",
          "",
          "",
          "",
          "",
          "",
          "",
          ""
         ],
         "type": "treemap",
         "values": [
          1,
          1,
          1,
          1,
          1,
          1,
          1,
          1,
          1,
          1,
          1,
          1,
          1,
          1,
          1,
          1,
          1,
          1,
          1,
          1,
          1,
          1,
          1,
          1,
          1,
          1,
          1,
          1,
          1,
          1,
          1,
          1,
          1,
          1,
          1,
          1,
          1,
          1,
          1,
          1,
          1,
          1,
          1,
          1,
          1,
          1,
          1,
          1,
          1,
          1,
          1,
          1,
          1,
          1,
          1,
          1,
          1,
          1,
          1,
          1,
          1,
          1,
          1,
          1,
          1,
          1,
          1,
          1,
          1,
          1,
          1,
          1,
          1,
          1,
          1,
          1,
          1,
          1,
          1,
          1,
          1,
          1,
          1,
          1,
          1,
          1,
          1,
          1,
          1,
          1,
          1,
          1,
          1,
          1,
          1,
          1,
          1,
          1,
          1,
          1,
          1,
          1,
          1,
          1,
          1,
          1,
          1,
          1,
          1,
          1,
          1,
          1,
          1,
          1,
          1,
          1,
          1,
          1,
          1,
          1,
          1,
          1,
          1,
          1,
          1,
          1,
          1,
          1,
          1,
          1,
          1,
          1,
          1,
          1,
          1,
          1,
          1,
          1,
          1,
          1,
          1,
          1,
          1,
          1,
          1,
          1,
          1,
          1,
          1,
          1,
          1,
          1,
          1,
          1,
          1,
          1,
          1,
          1,
          1,
          1,
          1,
          1,
          1,
          1,
          1,
          1,
          1,
          1,
          1,
          1,
          1,
          1,
          1,
          1,
          1,
          1,
          1,
          1,
          1,
          1,
          1,
          1,
          1,
          1,
          1,
          1,
          1,
          1,
          1,
          1,
          1,
          1,
          1,
          1,
          1,
          1,
          1,
          1,
          1,
          1,
          1,
          1,
          1,
          1,
          1,
          1,
          1,
          1,
          1,
          1,
          1,
          1,
          1,
          1,
          1,
          1,
          1,
          1,
          1,
          1,
          1,
          1,
          1,
          1,
          1,
          1,
          1,
          1,
          1,
          1,
          1,
          1,
          1,
          1,
          1,
          1,
          1,
          1,
          1,
          1,
          1,
          1,
          1,
          1,
          1,
          1,
          1,
          1,
          1,
          1,
          1,
          1,
          1,
          1,
          1,
          1,
          1,
          1,
          1,
          1,
          1,
          1,
          1,
          1,
          1,
          1,
          1,
          1,
          1,
          1,
          1,
          1,
          1,
          1,
          1,
          1,
          1,
          1,
          1,
          1,
          1,
          1,
          1,
          1,
          1,
          1,
          1,
          53,
          1,
          1,
          1,
          1,
          1,
          1,
          1,
          1,
          1,
          1,
          1,
          1,
          1,
          1,
          1,
          1,
          1,
          1,
          1,
          1,
          1,
          1,
          1,
          1,
          1,
          1,
          1,
          1,
          1,
          1,
          1,
          1,
          1,
          1,
          1,
          1,
          1,
          1,
          1,
          1,
          1,
          1,
          1,
          1,
          1,
          2,
          1,
          1,
          1,
          1,
          1,
          1,
          1,
          1,
          1,
          1,
          1,
          1,
          1,
          1,
          1,
          1,
          1,
          1,
          1,
          1,
          1,
          1,
          1,
          1,
          1,
          1,
          1,
          1,
          1,
          1,
          1,
          1,
          1,
          1,
          1,
          1,
          1,
          1,
          1,
          1,
          1,
          1,
          1,
          1,
          1,
          1,
          1,
          1,
          1,
          1,
          1,
          1,
          1,
          1,
          1,
          1,
          1,
          1,
          1,
          1,
          1,
          1,
          1,
          1,
          1,
          1,
          1,
          1,
          1,
          1,
          1,
          1,
          1,
          1,
          1,
          1,
          1,
          1,
          1,
          1,
          1,
          1,
          1,
          1,
          1,
          1,
          1,
          1,
          1,
          1,
          1,
          1,
          1,
          1,
          1,
          1,
          1,
          1,
          1,
          1,
          1,
          1,
          1,
          1,
          1,
          1,
          1,
          1,
          1,
          1,
          1,
          1,
          1,
          1,
          1,
          1,
          1,
          1,
          1,
          1,
          1,
          1,
          1,
          1,
          1,
          1,
          1,
          1,
          1,
          1,
          1,
          1,
          1,
          1,
          1,
          1,
          1,
          1,
          1,
          1,
          1,
          1,
          1,
          1,
          1,
          1,
          1,
          1,
          1,
          1,
          1,
          1,
          1,
          1,
          1,
          1,
          1,
          1,
          1,
          1,
          1,
          1,
          1,
          1,
          1,
          1,
          1,
          1,
          1,
          1,
          1,
          1,
          1,
          1,
          1,
          1,
          1,
          1,
          1,
          1,
          1,
          1,
          1,
          1,
          1,
          1,
          1,
          1,
          1,
          1,
          1,
          1,
          1,
          1,
          1,
          1,
          1,
          1,
          1,
          1,
          1,
          1,
          1,
          1,
          1,
          1,
          1,
          1,
          1,
          1,
          1,
          1,
          1,
          1,
          1,
          1,
          1,
          1,
          1,
          1,
          1,
          1,
          1,
          1,
          1,
          1,
          1,
          1,
          1,
          1,
          1,
          1,
          1,
          1,
          1,
          1,
          1,
          2,
          1,
          1,
          1,
          1,
          1,
          1,
          1,
          1,
          1,
          1,
          1,
          1,
          1,
          1,
          1,
          1,
          1,
          1,
          1,
          1,
          1,
          1,
          1,
          1,
          1,
          1,
          1,
          1,
          1,
          1,
          1,
          1,
          1,
          1,
          1,
          1,
          1,
          1,
          1,
          1,
          1,
          1,
          1,
          1,
          1,
          1,
          1,
          1,
          1,
          1,
          1,
          1,
          1,
          1,
          1,
          1,
          1,
          1,
          1,
          1,
          1,
          1,
          1,
          1,
          1,
          1,
          1,
          1,
          1,
          1,
          1,
          1,
          1,
          1,
          1,
          1,
          1,
          1,
          1,
          1,
          1,
          1,
          1,
          1,
          1,
          1,
          1,
          1,
          1,
          1,
          1,
          1,
          1,
          1,
          1,
          1,
          1,
          1,
          1,
          1,
          1,
          1,
          1,
          1,
          1,
          1,
          1,
          1,
          1,
          1,
          1,
          1,
          1,
          1,
          1,
          1,
          1,
          1,
          1,
          1,
          1,
          1,
          1,
          1,
          1,
          1,
          1,
          1,
          1,
          1,
          1,
          1,
          1,
          1,
          1,
          1,
          1,
          1,
          1,
          1,
          1,
          1,
          1,
          1,
          1,
          1,
          1,
          1,
          1,
          1,
          1,
          1,
          1,
          1,
          1,
          1,
          1,
          1,
          1,
          1,
          1,
          1,
          1,
          1,
          1,
          1,
          1,
          1,
          1,
          1,
          1,
          1,
          1,
          1,
          1,
          1,
          1,
          1,
          1,
          1,
          1,
          1,
          1,
          1,
          1,
          1,
          1,
          1,
          1,
          1,
          1,
          1,
          1,
          1,
          1,
          1,
          1,
          1,
          1,
          1,
          1,
          1,
          1,
          1,
          1,
          1,
          1,
          1,
          1,
          1,
          1,
          1,
          1,
          1,
          1,
          1,
          1,
          1,
          1,
          1,
          1,
          1,
          1,
          1,
          1,
          1,
          1,
          86,
          1,
          1,
          1,
          1,
          1,
          1,
          1,
          1,
          1,
          1,
          1,
          1,
          1,
          1,
          1,
          1,
          1,
          1,
          1,
          1,
          1,
          1,
          1,
          1,
          1,
          1,
          1,
          1,
          1,
          1,
          1,
          1,
          1,
          1,
          1,
          1,
          1,
          1,
          1,
          1,
          1,
          1,
          1,
          1,
          1,
          1,
          1,
          1,
          1,
          1,
          1,
          1,
          1,
          1,
          1,
          1,
          1,
          1,
          1,
          1,
          1,
          1,
          1,
          1,
          1,
          1,
          1,
          1,
          1,
          1,
          1,
          1,
          1,
          1,
          1,
          1,
          1,
          1,
          1,
          1,
          1,
          1,
          1,
          1,
          1,
          1,
          1,
          1,
          1,
          1,
          1,
          1,
          1,
          1,
          1,
          1,
          1,
          1,
          1,
          1,
          1,
          1,
          1,
          1,
          1,
          1,
          1,
          1,
          1,
          1,
          1,
          1,
          1,
          1,
          1,
          1,
          1,
          1,
          1,
          1,
          1,
          1,
          1,
          1,
          1,
          1,
          1,
          1,
          1,
          1,
          1,
          1,
          1,
          1,
          1,
          1,
          1,
          1,
          1,
          1,
          1,
          1,
          1,
          1,
          1,
          1,
          1,
          1,
          1,
          1,
          1,
          1,
          1,
          1,
          1,
          1,
          1,
          1,
          1,
          1,
          1,
          1,
          1,
          1,
          1,
          1,
          1,
          1,
          1,
          1,
          1,
          1,
          1,
          1,
          1,
          1,
          1,
          1,
          1,
          1,
          1,
          1,
          1,
          1,
          1,
          1,
          1,
          1,
          1,
          1,
          1,
          1,
          1,
          1,
          1,
          1,
          1,
          1,
          1,
          1,
          1,
          1,
          1,
          1,
          1,
          1,
          1,
          1,
          1,
          1,
          1,
          1,
          1,
          1,
          1,
          1,
          1,
          1,
          1,
          1,
          1,
          1,
          1,
          1,
          1,
          1,
          1,
          1,
          1,
          1,
          1,
          1,
          1,
          1,
          1,
          1,
          1,
          1,
          1,
          1,
          1,
          1,
          1,
          1,
          1,
          1,
          1,
          1,
          1,
          1,
          1,
          1,
          1,
          1,
          1,
          1,
          1,
          1,
          1,
          1,
          1,
          1,
          1,
          1,
          1,
          1,
          1,
          1,
          1,
          1,
          1,
          1,
          1,
          1,
          1,
          1,
          1,
          1,
          1,
          1,
          1,
          1,
          1,
          1,
          1,
          1,
          1,
          1,
          1,
          1,
          1,
          1,
          1,
          1,
          1,
          1,
          1,
          1,
          1,
          1,
          1,
          1,
          1,
          1,
          1,
          1,
          1,
          1,
          1,
          1,
          1,
          1,
          1,
          1,
          1,
          1,
          1,
          1,
          1,
          1,
          1,
          1,
          1,
          1,
          1,
          1,
          1,
          1,
          1,
          1,
          1,
          1,
          1,
          1,
          1,
          1,
          1,
          1,
          1,
          1,
          1,
          1,
          1,
          41,
          70,
          31,
          48,
          70,
          10,
          44,
          101,
          46,
          41,
          127,
          45,
          77,
          69,
          39,
          145
         ]
        }
       ],
       "layout": {
        "legend": {
         "tracegroupgap": 0
        },
        "margin": {
         "t": 60
        },
        "template": {
         "data": {
          "bar": [
           {
            "error_x": {
             "color": "#2a3f5f"
            },
            "error_y": {
             "color": "#2a3f5f"
            },
            "marker": {
             "line": {
              "color": "#E5ECF6",
              "width": 0.5
             }
            },
            "type": "bar"
           }
          ],
          "barpolar": [
           {
            "marker": {
             "line": {
              "color": "#E5ECF6",
              "width": 0.5
             }
            },
            "type": "barpolar"
           }
          ],
          "carpet": [
           {
            "aaxis": {
             "endlinecolor": "#2a3f5f",
             "gridcolor": "white",
             "linecolor": "white",
             "minorgridcolor": "white",
             "startlinecolor": "#2a3f5f"
            },
            "baxis": {
             "endlinecolor": "#2a3f5f",
             "gridcolor": "white",
             "linecolor": "white",
             "minorgridcolor": "white",
             "startlinecolor": "#2a3f5f"
            },
            "type": "carpet"
           }
          ],
          "choropleth": [
           {
            "colorbar": {
             "outlinewidth": 0,
             "ticks": ""
            },
            "type": "choropleth"
           }
          ],
          "contour": [
           {
            "colorbar": {
             "outlinewidth": 0,
             "ticks": ""
            },
            "colorscale": [
             [
              0,
              "#0d0887"
             ],
             [
              0.1111111111111111,
              "#46039f"
             ],
             [
              0.2222222222222222,
              "#7201a8"
             ],
             [
              0.3333333333333333,
              "#9c179e"
             ],
             [
              0.4444444444444444,
              "#bd3786"
             ],
             [
              0.5555555555555556,
              "#d8576b"
             ],
             [
              0.6666666666666666,
              "#ed7953"
             ],
             [
              0.7777777777777778,
              "#fb9f3a"
             ],
             [
              0.8888888888888888,
              "#fdca26"
             ],
             [
              1,
              "#f0f921"
             ]
            ],
            "type": "contour"
           }
          ],
          "contourcarpet": [
           {
            "colorbar": {
             "outlinewidth": 0,
             "ticks": ""
            },
            "type": "contourcarpet"
           }
          ],
          "heatmap": [
           {
            "colorbar": {
             "outlinewidth": 0,
             "ticks": ""
            },
            "colorscale": [
             [
              0,
              "#0d0887"
             ],
             [
              0.1111111111111111,
              "#46039f"
             ],
             [
              0.2222222222222222,
              "#7201a8"
             ],
             [
              0.3333333333333333,
              "#9c179e"
             ],
             [
              0.4444444444444444,
              "#bd3786"
             ],
             [
              0.5555555555555556,
              "#d8576b"
             ],
             [
              0.6666666666666666,
              "#ed7953"
             ],
             [
              0.7777777777777778,
              "#fb9f3a"
             ],
             [
              0.8888888888888888,
              "#fdca26"
             ],
             [
              1,
              "#f0f921"
             ]
            ],
            "type": "heatmap"
           }
          ],
          "heatmapgl": [
           {
            "colorbar": {
             "outlinewidth": 0,
             "ticks": ""
            },
            "colorscale": [
             [
              0,
              "#0d0887"
             ],
             [
              0.1111111111111111,
              "#46039f"
             ],
             [
              0.2222222222222222,
              "#7201a8"
             ],
             [
              0.3333333333333333,
              "#9c179e"
             ],
             [
              0.4444444444444444,
              "#bd3786"
             ],
             [
              0.5555555555555556,
              "#d8576b"
             ],
             [
              0.6666666666666666,
              "#ed7953"
             ],
             [
              0.7777777777777778,
              "#fb9f3a"
             ],
             [
              0.8888888888888888,
              "#fdca26"
             ],
             [
              1,
              "#f0f921"
             ]
            ],
            "type": "heatmapgl"
           }
          ],
          "histogram": [
           {
            "marker": {
             "colorbar": {
              "outlinewidth": 0,
              "ticks": ""
             }
            },
            "type": "histogram"
           }
          ],
          "histogram2d": [
           {
            "colorbar": {
             "outlinewidth": 0,
             "ticks": ""
            },
            "colorscale": [
             [
              0,
              "#0d0887"
             ],
             [
              0.1111111111111111,
              "#46039f"
             ],
             [
              0.2222222222222222,
              "#7201a8"
             ],
             [
              0.3333333333333333,
              "#9c179e"
             ],
             [
              0.4444444444444444,
              "#bd3786"
             ],
             [
              0.5555555555555556,
              "#d8576b"
             ],
             [
              0.6666666666666666,
              "#ed7953"
             ],
             [
              0.7777777777777778,
              "#fb9f3a"
             ],
             [
              0.8888888888888888,
              "#fdca26"
             ],
             [
              1,
              "#f0f921"
             ]
            ],
            "type": "histogram2d"
           }
          ],
          "histogram2dcontour": [
           {
            "colorbar": {
             "outlinewidth": 0,
             "ticks": ""
            },
            "colorscale": [
             [
              0,
              "#0d0887"
             ],
             [
              0.1111111111111111,
              "#46039f"
             ],
             [
              0.2222222222222222,
              "#7201a8"
             ],
             [
              0.3333333333333333,
              "#9c179e"
             ],
             [
              0.4444444444444444,
              "#bd3786"
             ],
             [
              0.5555555555555556,
              "#d8576b"
             ],
             [
              0.6666666666666666,
              "#ed7953"
             ],
             [
              0.7777777777777778,
              "#fb9f3a"
             ],
             [
              0.8888888888888888,
              "#fdca26"
             ],
             [
              1,
              "#f0f921"
             ]
            ],
            "type": "histogram2dcontour"
           }
          ],
          "mesh3d": [
           {
            "colorbar": {
             "outlinewidth": 0,
             "ticks": ""
            },
            "type": "mesh3d"
           }
          ],
          "parcoords": [
           {
            "line": {
             "colorbar": {
              "outlinewidth": 0,
              "ticks": ""
             }
            },
            "type": "parcoords"
           }
          ],
          "pie": [
           {
            "automargin": true,
            "type": "pie"
           }
          ],
          "scatter": [
           {
            "marker": {
             "colorbar": {
              "outlinewidth": 0,
              "ticks": ""
             }
            },
            "type": "scatter"
           }
          ],
          "scatter3d": [
           {
            "line": {
             "colorbar": {
              "outlinewidth": 0,
              "ticks": ""
             }
            },
            "marker": {
             "colorbar": {
              "outlinewidth": 0,
              "ticks": ""
             }
            },
            "type": "scatter3d"
           }
          ],
          "scattercarpet": [
           {
            "marker": {
             "colorbar": {
              "outlinewidth": 0,
              "ticks": ""
             }
            },
            "type": "scattercarpet"
           }
          ],
          "scattergeo": [
           {
            "marker": {
             "colorbar": {
              "outlinewidth": 0,
              "ticks": ""
             }
            },
            "type": "scattergeo"
           }
          ],
          "scattergl": [
           {
            "marker": {
             "colorbar": {
              "outlinewidth": 0,
              "ticks": ""
             }
            },
            "type": "scattergl"
           }
          ],
          "scattermapbox": [
           {
            "marker": {
             "colorbar": {
              "outlinewidth": 0,
              "ticks": ""
             }
            },
            "type": "scattermapbox"
           }
          ],
          "scatterpolar": [
           {
            "marker": {
             "colorbar": {
              "outlinewidth": 0,
              "ticks": ""
             }
            },
            "type": "scatterpolar"
           }
          ],
          "scatterpolargl": [
           {
            "marker": {
             "colorbar": {
              "outlinewidth": 0,
              "ticks": ""
             }
            },
            "type": "scatterpolargl"
           }
          ],
          "scatterternary": [
           {
            "marker": {
             "colorbar": {
              "outlinewidth": 0,
              "ticks": ""
             }
            },
            "type": "scatterternary"
           }
          ],
          "surface": [
           {
            "colorbar": {
             "outlinewidth": 0,
             "ticks": ""
            },
            "colorscale": [
             [
              0,
              "#0d0887"
             ],
             [
              0.1111111111111111,
              "#46039f"
             ],
             [
              0.2222222222222222,
              "#7201a8"
             ],
             [
              0.3333333333333333,
              "#9c179e"
             ],
             [
              0.4444444444444444,
              "#bd3786"
             ],
             [
              0.5555555555555556,
              "#d8576b"
             ],
             [
              0.6666666666666666,
              "#ed7953"
             ],
             [
              0.7777777777777778,
              "#fb9f3a"
             ],
             [
              0.8888888888888888,
              "#fdca26"
             ],
             [
              1,
              "#f0f921"
             ]
            ],
            "type": "surface"
           }
          ],
          "table": [
           {
            "cells": {
             "fill": {
              "color": "#EBF0F8"
             },
             "line": {
              "color": "white"
             }
            },
            "header": {
             "fill": {
              "color": "#C8D4E3"
             },
             "line": {
              "color": "white"
             }
            },
            "type": "table"
           }
          ]
         },
         "layout": {
          "annotationdefaults": {
           "arrowcolor": "#2a3f5f",
           "arrowhead": 0,
           "arrowwidth": 1
          },
          "autotypenumbers": "strict",
          "coloraxis": {
           "colorbar": {
            "outlinewidth": 0,
            "ticks": ""
           }
          },
          "colorscale": {
           "diverging": [
            [
             0,
             "#8e0152"
            ],
            [
             0.1,
             "#c51b7d"
            ],
            [
             0.2,
             "#de77ae"
            ],
            [
             0.3,
             "#f1b6da"
            ],
            [
             0.4,
             "#fde0ef"
            ],
            [
             0.5,
             "#f7f7f7"
            ],
            [
             0.6,
             "#e6f5d0"
            ],
            [
             0.7,
             "#b8e186"
            ],
            [
             0.8,
             "#7fbc41"
            ],
            [
             0.9,
             "#4d9221"
            ],
            [
             1,
             "#276419"
            ]
           ],
           "sequential": [
            [
             0,
             "#0d0887"
            ],
            [
             0.1111111111111111,
             "#46039f"
            ],
            [
             0.2222222222222222,
             "#7201a8"
            ],
            [
             0.3333333333333333,
             "#9c179e"
            ],
            [
             0.4444444444444444,
             "#bd3786"
            ],
            [
             0.5555555555555556,
             "#d8576b"
            ],
            [
             0.6666666666666666,
             "#ed7953"
            ],
            [
             0.7777777777777778,
             "#fb9f3a"
            ],
            [
             0.8888888888888888,
             "#fdca26"
            ],
            [
             1,
             "#f0f921"
            ]
           ],
           "sequentialminus": [
            [
             0,
             "#0d0887"
            ],
            [
             0.1111111111111111,
             "#46039f"
            ],
            [
             0.2222222222222222,
             "#7201a8"
            ],
            [
             0.3333333333333333,
             "#9c179e"
            ],
            [
             0.4444444444444444,
             "#bd3786"
            ],
            [
             0.5555555555555556,
             "#d8576b"
            ],
            [
             0.6666666666666666,
             "#ed7953"
            ],
            [
             0.7777777777777778,
             "#fb9f3a"
            ],
            [
             0.8888888888888888,
             "#fdca26"
            ],
            [
             1,
             "#f0f921"
            ]
           ]
          },
          "colorway": [
           "#636efa",
           "#EF553B",
           "#00cc96",
           "#ab63fa",
           "#FFA15A",
           "#19d3f3",
           "#FF6692",
           "#B6E880",
           "#FF97FF",
           "#FECB52"
          ],
          "font": {
           "color": "#2a3f5f"
          },
          "geo": {
           "bgcolor": "white",
           "lakecolor": "white",
           "landcolor": "#E5ECF6",
           "showlakes": true,
           "showland": true,
           "subunitcolor": "white"
          },
          "hoverlabel": {
           "align": "left"
          },
          "hovermode": "closest",
          "mapbox": {
           "style": "light"
          },
          "paper_bgcolor": "white",
          "plot_bgcolor": "#E5ECF6",
          "polar": {
           "angularaxis": {
            "gridcolor": "white",
            "linecolor": "white",
            "ticks": ""
           },
           "bgcolor": "#E5ECF6",
           "radialaxis": {
            "gridcolor": "white",
            "linecolor": "white",
            "ticks": ""
           }
          },
          "scene": {
           "xaxis": {
            "backgroundcolor": "#E5ECF6",
            "gridcolor": "white",
            "gridwidth": 2,
            "linecolor": "white",
            "showbackground": true,
            "ticks": "",
            "zerolinecolor": "white"
           },
           "yaxis": {
            "backgroundcolor": "#E5ECF6",
            "gridcolor": "white",
            "gridwidth": 2,
            "linecolor": "white",
            "showbackground": true,
            "ticks": "",
            "zerolinecolor": "white"
           },
           "zaxis": {
            "backgroundcolor": "#E5ECF6",
            "gridcolor": "white",
            "gridwidth": 2,
            "linecolor": "white",
            "showbackground": true,
            "ticks": "",
            "zerolinecolor": "white"
           }
          },
          "shapedefaults": {
           "line": {
            "color": "#2a3f5f"
           }
          },
          "ternary": {
           "aaxis": {
            "gridcolor": "white",
            "linecolor": "white",
            "ticks": ""
           },
           "baxis": {
            "gridcolor": "white",
            "linecolor": "white",
            "ticks": ""
           },
           "bgcolor": "#E5ECF6",
           "caxis": {
            "gridcolor": "white",
            "linecolor": "white",
            "ticks": ""
           }
          },
          "title": {
           "x": 0.05
          },
          "xaxis": {
           "automargin": true,
           "gridcolor": "white",
           "linecolor": "white",
           "ticks": "",
           "title": {
            "standoff": 15
           },
           "zerolinecolor": "white",
           "zerolinewidth": 2
          },
          "yaxis": {
           "automargin": true,
           "gridcolor": "white",
           "linecolor": "white",
           "ticks": "",
           "title": {
            "standoff": 15
           },
           "zerolinecolor": "white",
           "zerolinewidth": 2
          }
         }
        },
        "title": {
         "text": "Diffrent Type of Pokemon with their Name"
        }
       }
      }
     },
     "metadata": {},
     "output_type": "display_data"
    }
   ],
   "source": [
    "fig = px.treemap(pokemon_data1, path=['Type1','Name'],hover_data=['Generation','Type1','Height','Weight'],color='Type1')\n",
    "fig.update_layout(\n",
    "    title='Diffrent Type of Pokemon with their Name')\n",
    "fig.show()"
   ]
  },
  {
   "attachments": {},
   "cell_type": "markdown",
   "metadata": {},
   "source": [
    "**We look at how pokemon with different abilities are distributed in the space of ability1, 2 and hidden ability**\n",
    "\n",
    "Data seem to be nicely distributed."
   ]
  },
  {
   "cell_type": "code",
   "execution_count": 203,
   "metadata": {},
   "outputs": [
    {
     "data": {
      "application/vnd.plotly.v1+json": {
       "config": {
        "plotlyServerURL": "https://plot.ly"
       },
       "data": [
        {
         "hovertemplate": "<b>%{hovertext}</b><br><br>Ability_Number=%{marker.color}<br>Ability1=%{x}<br>Ability2=%{y}<br>Ability_Hidden=%{z}<extra></extra>",
         "hovertext": [
          "Zygarde Complete Form",
          "Zygarde 50% Form",
          "Zygarde 10% Form",
          "Zweilous",
          "Zorua",
          "Zoroark",
          "Zeraora",
          "Zekrom",
          "Zarude",
          "Zamazenta Hero of Many Battles",
          "Zamazenta Crowned Shield",
          "Zacian Hero of Many Battles",
          "Zacian Crowned Sword",
          "Yveltal",
          "Yamask",
          "Xurkitree",
          "Xerneas",
          "Wo-Chien",
          "Wishiwashi Solo Form",
          "Wishiwashi School Form",
          "Wimpod",
          "White Kyurem",
          "Wash Rotom",
          "Volcanion",
          "Virizion",
          "Vikavolt",
          "Vigoroth",
          "Victini",
          "Vibrava",
          "Uxie",
          "Urshifu Single Strike Style",
          "Urshifu Rapid Strike Style",
          "Unown",
          "Unbound Hoopa",
          "Ultra Necrozma",
          "Type: Null",
          "Tynamo",
          "Turtonator",
          "Tornadus Therian Form",
          "Toedscruel",
          "Toedscool",
          "Ting-Lu",
          "Thundurus Therian Form",
          "Terrakion",
          "Stonjourner",
          "Stakataka",
          "Spectrier",
          "Solrock",
          "Solgaleo",
          "Slither Wing",
          "Slakoth",
          "Slaking",
          "Silvally",
          "Silcoon",
          "Shedinja",
          "Shaymin Sky Form",
          "Shaymin Land Form",
          "Scream Tail",
          "Sandy Shocks",
          "Runerigus",
          "Rotom",
          "Roaring Moon",
          "Reshiram",
          "Regigigas",
          "Regieleki",
          "Regidrago",
          "Rayquaza",
          "Pupitar",
          "Primal Kyogre",
          "Primal Groudon",
          "Poipole",
          "Phione",
          "Pheromosa",
          "Palafin Zero Form",
          "Palafin Hero Form",
          "Oricorio Sensu Style",
          "Oricorio Pom-Pom Style",
          "Oricorio Pa'u Style",
          "Oricorio Baile Style",
          "Nihilego",
          "Necrozma",
          "Naganadel",
          "Mow Rotom",
          "Morpeko Hangry Mode",
          "Morpeko Full Berry Mode",
          "Mismagius",
          "Misdreavus",
          "Miraidon",
          "Minior Yellow Core",
          "Minior Red Core",
          "Minior Purple Core",
          "Minior Orange Core",
          "Minior Meteor Form",
          "Minior Indigo Core",
          "Minior Green Core",
          "Minior Blue Core",
          "Mimikyu",
          "Mew",
          "Metapod",
          "Mesprit",
          "Meltan",
          "Meloetta Pirouette Form",
          "Meloetta Aria Form",
          "Melmetal",
          "Marshadow",
          "Manaphy",
          "Magearna",
          "Lycanroc Dusk Form",
          "Lunatone",
          "Lunala",
          "Latios",
          "Latias",
          "Landorus Therian Form",
          "Kyurem",
          "Kyogre",
          "Koraidon",
          "Komala",
          "Keldeo Resolute Form",
          "Keldeo Ordinary Form",
          "Kartana",
          "Kakuna",
          "Jirachi",
          "Iron Valiant",
          "Iron Treads",
          "Iron Thorns",
          "Iron Moth",
          "Iron Jugulis",
          "Iron Hands",
          "Iron Bundle",
          "Hydreigon",
          "Honedge",
          "Hisuian Zorua",
          "Hisuian Zoroark",
          "Heat Rotom",
          "Haunter",
          "Guzzlord",
          "Grubbin",
          "Groudon",
          "Great Tusk",
          "Golisopod",
          "Glastrier",
          "Giratina Origin Form",
          "Gimmighoul",
          "Gholdengo",
          "Gengar",
          "Genesect",
          "Gastly",
          "Galarian Zapdos",
          "Galarian Yamask",
          "Galarian Stunfisk",
          "Galarian Moltres",
          "Galarian Articuno",
          "Furfrou",
          "Frost Rotom",
          "Flygon",
          "Flutter Mane",
          "Finizen",
          "Ferroseed",
          "Fan Rotom",
          "Eternatus",
          "Eternamax Eternatus",
          "Enamorus Therian Style",
          "Eiscue Noice Face",
          "Eiscue Ice Face",
          "Eelektross",
          "Eelektrik",
          "Dusk Mane Necrozma",
          "Doublade",
          "Diancie",
          "Dhelmise",
          "Deoxys Speed Form",
          "Deoxys Defense Form",
          "Deoxys Attack Form",
          "Deoxys",
          "Deino",
          "Dawn Wings Necrozma",
          "Darkrai",
          "Cryogonal",
          "Cresselia",
          "Cramorant",
          "Cosmog",
          "Cosmoem",
          "Confined Hoopa",
          "Cofagrigus",
          "Cobalion",
          "Claydol",
          "Clawitzer",
          "Clauncher",
          "Chingling",
          "Chimecho",
          "Chien-Pao",
          "Chi-Yu",
          "Cherubi",
          "Cherrim Sunshine Form",
          "Cherrim",
          "Charjabug",
          "Celesteela",
          "Celebi",
          "Castform Sunny Form",
          "Castform Snowy Form",
          "Castform Rainy Form",
          "Castform",
          "Cascoon",
          "Carnivine",
          "Calyrex Shadow Rider",
          "Calyrex Ice Rider",
          "Calyrex",
          "Buzzwole",
          "Brute Bonnet",
          "Black Kyurem",
          "Blacephalon",
          "Baltoy",
          "Azelf",
          "Ash Greninja",
          "Archeops",
          "Archen",
          "Arceus",
          "Alolan Raichu",
          "Aegislash Shield Form",
          "Aegislash Blade Form"
         ],
         "legendgroup": "1",
         "marker": {
          "color": [
           1,
           1,
           1,
           1,
           1,
           1,
           1,
           1,
           1,
           1,
           1,
           1,
           1,
           1,
           1,
           1,
           1,
           1,
           1,
           1,
           1,
           1,
           1,
           1,
           1,
           1,
           1,
           1,
           1,
           1,
           1,
           1,
           1,
           1,
           1,
           1,
           1,
           1,
           1,
           1,
           1,
           1,
           1,
           1,
           1,
           1,
           1,
           1,
           1,
           1,
           1,
           1,
           1,
           1,
           1,
           1,
           1,
           1,
           1,
           1,
           1,
           1,
           1,
           1,
           1,
           1,
           1,
           1,
           1,
           1,
           1,
           1,
           1,
           1,
           1,
           1,
           1,
           1,
           1,
           1,
           1,
           1,
           1,
           1,
           1,
           1,
           1,
           1,
           1,
           1,
           1,
           1,
           1,
           1,
           1,
           1,
           1,
           1,
           1,
           1,
           1,
           1,
           1,
           1,
           1,
           1,
           1,
           1,
           1,
           1,
           1,
           1,
           1,
           1,
           1,
           1,
           1,
           1,
           1,
           1,
           1,
           1,
           1,
           1,
           1,
           1,
           1,
           1,
           1,
           1,
           1,
           1,
           1,
           1,
           1,
           1,
           1,
           1,
           1,
           1,
           1,
           1,
           1,
           1,
           1,
           1,
           1,
           1,
           1,
           1,
           1,
           1,
           1,
           1,
           1,
           1,
           1,
           1,
           1,
           1,
           1,
           1,
           1,
           1,
           1,
           1,
           1,
           1,
           1,
           1,
           1,
           1,
           1,
           1,
           1,
           1,
           1,
           1,
           1,
           1,
           1,
           1,
           1,
           1,
           1,
           1,
           1,
           1,
           1,
           1,
           1,
           1,
           1,
           1,
           1,
           1,
           1,
           1,
           1,
           1,
           1,
           1,
           1,
           1,
           1,
           1,
           1,
           1,
           1,
           1,
           1,
           1,
           1,
           1,
           1,
           1,
           1,
           1,
           1,
           1
          ],
          "coloraxis": "coloraxis",
          "size": [
           1,
           1,
           1,
           1,
           1,
           1,
           1,
           1,
           1,
           1,
           1,
           1,
           1,
           1,
           1,
           1,
           1,
           1,
           1,
           1,
           1,
           1,
           1,
           1,
           1,
           1,
           1,
           1,
           1,
           1,
           1,
           1,
           1,
           1,
           1,
           1,
           1,
           1,
           1,
           1,
           1,
           1,
           1,
           1,
           1,
           1,
           1,
           1,
           1,
           1,
           1,
           1,
           1,
           1,
           1,
           1,
           1,
           1,
           1,
           1,
           1,
           1,
           1,
           1,
           1,
           1,
           1,
           1,
           1,
           1,
           1,
           1,
           1,
           1,
           1,
           1,
           1,
           1,
           1,
           1,
           1,
           1,
           1,
           1,
           1,
           1,
           1,
           1,
           1,
           1,
           1,
           1,
           1,
           1,
           1,
           1,
           1,
           1,
           1,
           1,
           1,
           1,
           1,
           1,
           1,
           1,
           1,
           1,
           1,
           1,
           1,
           1,
           1,
           1,
           1,
           1,
           1,
           1,
           1,
           1,
           1,
           1,
           1,
           1,
           1,
           1,
           1,
           1,
           1,
           1,
           1,
           1,
           1,
           1,
           1,
           1,
           1,
           1,
           1,
           1,
           1,
           1,
           1,
           1,
           1,
           1,
           1,
           1,
           1,
           1,
           1,
           1,
           1,
           1,
           1,
           1,
           1,
           1,
           1,
           1,
           1,
           1,
           1,
           1,
           1,
           1,
           1,
           1,
           1,
           1,
           1,
           1,
           1,
           1,
           1,
           1,
           1,
           1,
           1,
           1,
           1,
           1,
           1,
           1,
           1,
           1,
           1,
           1,
           1,
           1,
           1,
           1,
           1,
           1,
           1,
           1,
           1,
           1,
           1,
           1,
           1,
           1,
           1,
           1,
           1,
           1,
           1,
           1,
           1,
           1,
           1,
           1,
           1,
           1,
           1,
           1,
           1,
           1,
           1,
           1
          ],
          "sizemode": "area",
          "sizeref": 0.0075,
          "symbol": "circle"
         },
         "mode": "markers",
         "name": "1",
         "scene": "scene",
         "showlegend": true,
         "type": "scatter3d",
         "x": [
          "Power Construct",
          "Aura Break",
          "Aura Break",
          "Hustle",
          "Illusion",
          "Illusion",
          "Volt Absorb",
          "Teravolt",
          "Leaf Guard",
          "Dauntless Shield",
          "Dauntless Shield",
          "Intrepid Sword",
          "Intrepid Sword",
          "Dark Aura",
          "Mummy",
          "Beast Boost",
          "Fairy Aura",
          "Tablets of Ruin",
          "Schooling",
          "Schooling",
          "Wimp Out",
          "Turboblaze",
          "Levitate",
          "Water Absorb",
          "Justified",
          "Levitate",
          "Vital Spirit",
          "Victory Star",
          "Levitate",
          "Levitate",
          "Unseen Fist",
          "Unseen Fist",
          "Levitate",
          "Magician",
          "Neuroforce",
          "Battle Armor",
          "Levitate",
          "Shell Armor",
          "Regenerator",
          "Mycelium Might",
          "Mycelium Might",
          "Vessel of Ruin",
          "Volt Absorb",
          "Justified",
          "Power Spot",
          "Beast Boost",
          "Grim Neigh",
          "Levitate",
          "Full Metal Body",
          "Protosynthesis",
          "Truant",
          "Truant",
          "RKS System",
          "Shed Skin",
          "Wonder Guard",
          "Serene Grace",
          "Natural Cure",
          "Protosynthesis",
          "Protosynthesis",
          "Wandering Spirit",
          "Levitate",
          "Protosynthesis",
          "Turboblaze",
          "Slow Start",
          "Transistor",
          "Dragon's Maw",
          "Air Lock",
          "Shed Skin",
          "Primordial Sea",
          "Desolate Land",
          "Beast Boost",
          "Hydration",
          "Beast Boost",
          "Zero to Hero",
          "Zero to Hero",
          "Dancer",
          "Dancer",
          "Dancer",
          "Dancer",
          "Beast Boost",
          "Prism Armor",
          "Beast Boost",
          "Levitate",
          "Hunger Switch",
          "Hunger Switch",
          "Levitate",
          "Levitate",
          "Hadron Engine",
          "Shields Down",
          "Shields Down",
          "Shields Down",
          "Shields Down",
          "Shields Down",
          "Shields Down",
          "Shields Down",
          "Shields Down",
          "Disguise",
          "Synchronize",
          "Shed Skin",
          "Levitate",
          "Magnet Pull",
          "Serene Grace",
          "Serene Grace",
          "Iron Fist",
          "Technician",
          "Hydration",
          "Soul-Heart",
          "Tough Claws",
          "Levitate",
          "Shadow Shield",
          "Levitate",
          "Levitate",
          "Intimidate",
          "Pressure",
          "Drizzle",
          "Orichalcum Pulse",
          "Comatose",
          "Justified",
          "Justified",
          "Beast Boost",
          "Shed Skin",
          "Serene Grace",
          "Quark Drive",
          "Quark Drive",
          "Quark Drive",
          "Quark Drive",
          "Quark Drive",
          "Quark Drive",
          "Quark Drive",
          "Levitate",
          "No Guard",
          "Illusion",
          "Illusion",
          "Levitate",
          "Levitate",
          "Beast Boost",
          "Swarm",
          "Drought",
          "Protosynthesis",
          "Emergency Exit",
          "Chilling Neigh",
          "Levitate",
          "Rattled",
          "Good as Gold",
          "Cursed Body",
          "Download",
          "Levitate",
          "Defiant",
          "Wandering Spirit",
          "Mimicry",
          "Berserk",
          "Competitive",
          "Fur Coat",
          "Levitate",
          "Levitate",
          "Protosynthesis",
          "Water Veil",
          "Iron Barbs",
          "Levitate",
          "Pressure",
          "Pressure",
          "Overcoat",
          "Ice Face",
          "Ice Face",
          "Levitate",
          "Levitate",
          "Prism Armor",
          "No Guard",
          "Clear Body",
          "Steelworker",
          "Pressure",
          "Pressure",
          "Pressure",
          "Pressure",
          "Hustle",
          "Prism Armor",
          "Bad Dreams",
          "Levitate",
          "Levitate",
          "Gulp Missile",
          "Unaware",
          "Sturdy",
          "Magician",
          "Mummy",
          "Justified",
          "Levitate",
          "Mega Launcher",
          "Mega Launcher",
          "Levitate",
          "Levitate",
          "Sword of Ruin",
          "Beads of Ruin",
          "Chlorophyll",
          "Flower Gift",
          "Flower Gift",
          "Battery",
          "Beast Boost",
          "Natural Cure",
          "Forecast",
          "Forecast",
          "Forecast",
          "Forecast",
          "Shed Skin",
          "Levitate",
          "As One",
          "As One",
          "Unnerve",
          "Beast Boost",
          "Protosynthesis",
          "Teravolt",
          "Beast Boost",
          "Levitate",
          "Levitate",
          "Battle Bond",
          "Defeatist",
          "Defeatist",
          "Multitype",
          "Surge Surfer",
          "Stance Change",
          "Stance Change"
         ],
         "y": [
          "NO INFO",
          "NO INFO",
          "NO INFO",
          "NO INFO",
          "NO INFO",
          "NO INFO",
          "NO INFO",
          "NO INFO",
          "NO INFO",
          "NO INFO",
          "NO INFO",
          "NO INFO",
          "NO INFO",
          "NO INFO",
          "NO INFO",
          "NO INFO",
          "NO INFO",
          "NO INFO",
          "NO INFO",
          "NO INFO",
          "NO INFO",
          "NO INFO",
          "NO INFO",
          "NO INFO",
          "NO INFO",
          "NO INFO",
          "NO INFO",
          "NO INFO",
          "NO INFO",
          "NO INFO",
          "NO INFO",
          "NO INFO",
          "NO INFO",
          "NO INFO",
          "NO INFO",
          "NO INFO",
          "NO INFO",
          "NO INFO",
          "NO INFO",
          "NO INFO",
          "NO INFO",
          "NO INFO",
          "NO INFO",
          "NO INFO",
          "NO INFO",
          "NO INFO",
          "NO INFO",
          "NO INFO",
          "NO INFO",
          "NO INFO",
          "NO INFO",
          "NO INFO",
          "NO INFO",
          "NO INFO",
          "NO INFO",
          "NO INFO",
          "NO INFO",
          "NO INFO",
          "NO INFO",
          "NO INFO",
          "NO INFO",
          "NO INFO",
          "NO INFO",
          "NO INFO",
          "NO INFO",
          "NO INFO",
          "NO INFO",
          "NO INFO",
          "NO INFO",
          "NO INFO",
          "NO INFO",
          "NO INFO",
          "NO INFO",
          "NO INFO",
          "NO INFO",
          "NO INFO",
          "NO INFO",
          "NO INFO",
          "NO INFO",
          "NO INFO",
          "NO INFO",
          "NO INFO",
          "NO INFO",
          "NO INFO",
          "NO INFO",
          "NO INFO",
          "NO INFO",
          "NO INFO",
          "NO INFO",
          "NO INFO",
          "NO INFO",
          "NO INFO",
          "NO INFO",
          "NO INFO",
          "NO INFO",
          "NO INFO",
          "NO INFO",
          "NO INFO",
          "NO INFO",
          "NO INFO",
          "NO INFO",
          "NO INFO",
          "NO INFO",
          "NO INFO",
          "NO INFO",
          "NO INFO",
          "NO INFO",
          "NO INFO",
          "NO INFO",
          "NO INFO",
          "NO INFO",
          "NO INFO",
          "NO INFO",
          "NO INFO",
          "NO INFO",
          "NO INFO",
          "NO INFO",
          "NO INFO",
          "NO INFO",
          "NO INFO",
          "NO INFO",
          "NO INFO",
          "NO INFO",
          "NO INFO",
          "NO INFO",
          "NO INFO",
          "NO INFO",
          "NO INFO",
          "NO INFO",
          "NO INFO",
          "NO INFO",
          "NO INFO",
          "NO INFO",
          "NO INFO",
          "NO INFO",
          "NO INFO",
          "NO INFO",
          "NO INFO",
          "NO INFO",
          "NO INFO",
          "NO INFO",
          "NO INFO",
          "NO INFO",
          "NO INFO",
          "NO INFO",
          "NO INFO",
          "NO INFO",
          "NO INFO",
          "NO INFO",
          "NO INFO",
          "NO INFO",
          "NO INFO",
          "NO INFO",
          "NO INFO",
          "NO INFO",
          "NO INFO",
          "NO INFO",
          "NO INFO",
          "NO INFO",
          "NO INFO",
          "NO INFO",
          "NO INFO",
          "NO INFO",
          "NO INFO",
          "NO INFO",
          "NO INFO",
          "NO INFO",
          "NO INFO",
          "NO INFO",
          "NO INFO",
          "NO INFO",
          "NO INFO",
          "NO INFO",
          "NO INFO",
          "NO INFO",
          "NO INFO",
          "NO INFO",
          "NO INFO",
          "NO INFO",
          "NO INFO",
          "NO INFO",
          "NO INFO",
          "NO INFO",
          "NO INFO",
          "NO INFO",
          "NO INFO",
          "NO INFO",
          "NO INFO",
          "NO INFO",
          "NO INFO",
          "NO INFO",
          "NO INFO",
          "NO INFO",
          "NO INFO",
          "NO INFO",
          "NO INFO",
          "NO INFO",
          "NO INFO",
          "NO INFO",
          "NO INFO",
          "NO INFO",
          "NO INFO",
          "NO INFO",
          "NO INFO",
          "NO INFO",
          "NO INFO",
          "NO INFO",
          "NO INFO",
          "NO INFO",
          "NO INFO",
          "NO INFO",
          "NO INFO",
          "NO INFO",
          "NO INFO",
          "NO INFO",
          "NO INFO",
          "NO INFO",
          "NO INFO",
          "NO INFO",
          "NO INFO"
         ],
         "z": [
          "NO INFO",
          "NO INFO",
          "NO INFO",
          "NO INFO",
          "NO INFO",
          "NO INFO",
          "NO INFO",
          "NO INFO",
          "NO INFO",
          "NO INFO",
          "NO INFO",
          "NO INFO",
          "NO INFO",
          "NO INFO",
          "NO INFO",
          "NO INFO",
          "NO INFO",
          "NO INFO",
          "NO INFO",
          "NO INFO",
          "NO INFO",
          "NO INFO",
          "NO INFO",
          "NO INFO",
          "NO INFO",
          "NO INFO",
          "NO INFO",
          "NO INFO",
          "NO INFO",
          "NO INFO",
          "NO INFO",
          "NO INFO",
          "NO INFO",
          "NO INFO",
          "NO INFO",
          "NO INFO",
          "NO INFO",
          "NO INFO",
          "NO INFO",
          "NO INFO",
          "NO INFO",
          "NO INFO",
          "NO INFO",
          "NO INFO",
          "NO INFO",
          "NO INFO",
          "NO INFO",
          "NO INFO",
          "NO INFO",
          "NO INFO",
          "NO INFO",
          "NO INFO",
          "NO INFO",
          "NO INFO",
          "NO INFO",
          "NO INFO",
          "NO INFO",
          "NO INFO",
          "NO INFO",
          "NO INFO",
          "NO INFO",
          "NO INFO",
          "NO INFO",
          "NO INFO",
          "NO INFO",
          "NO INFO",
          "NO INFO",
          "NO INFO",
          "NO INFO",
          "NO INFO",
          "NO INFO",
          "NO INFO",
          "NO INFO",
          "NO INFO",
          "NO INFO",
          "NO INFO",
          "NO INFO",
          "NO INFO",
          "NO INFO",
          "NO INFO",
          "NO INFO",
          "NO INFO",
          "NO INFO",
          "NO INFO",
          "NO INFO",
          "NO INFO",
          "NO INFO",
          "NO INFO",
          "NO INFO",
          "NO INFO",
          "NO INFO",
          "NO INFO",
          "NO INFO",
          "NO INFO",
          "NO INFO",
          "NO INFO",
          "NO INFO",
          "NO INFO",
          "NO INFO",
          "NO INFO",
          "NO INFO",
          "NO INFO",
          "NO INFO",
          "NO INFO",
          "NO INFO",
          "NO INFO",
          "NO INFO",
          "NO INFO",
          "NO INFO",
          "NO INFO",
          "NO INFO",
          "NO INFO",
          "NO INFO",
          "NO INFO",
          "NO INFO",
          "NO INFO",
          "NO INFO",
          "NO INFO",
          "NO INFO",
          "NO INFO",
          "NO INFO",
          "NO INFO",
          "NO INFO",
          "NO INFO",
          "NO INFO",
          "NO INFO",
          "NO INFO",
          "NO INFO",
          "NO INFO",
          "NO INFO",
          "NO INFO",
          "NO INFO",
          "NO INFO",
          "NO INFO",
          "NO INFO",
          "NO INFO",
          "NO INFO",
          "NO INFO",
          "NO INFO",
          "NO INFO",
          "NO INFO",
          "NO INFO",
          "NO INFO",
          "NO INFO",
          "NO INFO",
          "NO INFO",
          "NO INFO",
          "NO INFO",
          "NO INFO",
          "NO INFO",
          "NO INFO",
          "NO INFO",
          "NO INFO",
          "NO INFO",
          "NO INFO",
          "NO INFO",
          "NO INFO",
          "NO INFO",
          "NO INFO",
          "NO INFO",
          "NO INFO",
          "NO INFO",
          "NO INFO",
          "NO INFO",
          "NO INFO",
          "NO INFO",
          "NO INFO",
          "NO INFO",
          "NO INFO",
          "NO INFO",
          "NO INFO",
          "NO INFO",
          "NO INFO",
          "NO INFO",
          "NO INFO",
          "NO INFO",
          "NO INFO",
          "NO INFO",
          "NO INFO",
          "NO INFO",
          "NO INFO",
          "NO INFO",
          "NO INFO",
          "NO INFO",
          "NO INFO",
          "NO INFO",
          "NO INFO",
          "NO INFO",
          "NO INFO",
          "NO INFO",
          "NO INFO",
          "NO INFO",
          "NO INFO",
          "NO INFO",
          "NO INFO",
          "NO INFO",
          "NO INFO",
          "NO INFO",
          "NO INFO",
          "NO INFO",
          "NO INFO",
          "NO INFO",
          "NO INFO",
          "NO INFO",
          "NO INFO",
          "NO INFO",
          "NO INFO",
          "NO INFO",
          "NO INFO",
          "NO INFO",
          "NO INFO",
          "NO INFO",
          "NO INFO",
          "NO INFO",
          "NO INFO",
          "NO INFO",
          "NO INFO",
          "NO INFO",
          "NO INFO",
          "NO INFO"
         ]
        },
        {
         "hovertemplate": "<b>%{hovertext}</b><br><br>Ability_Number=%{marker.color}<br>Ability1=%{x}<br>Ability2=%{y}<br>Ability_Hidden=%{z}<extra></extra>",
         "hovertext": [
          "Zubat",
          "Zapdos",
          "Zangoose",
          "Yamper",
          "Wynaut",
          "Wurmple",
          "Wormadam Trash Form",
          "Wormadam Sandy Form",
          "Wormadam Plant Form",
          "Wobbuffet",
          "Whismur",
          "Weepinbell",
          "Weedle",
          "Weavile",
          "Wartortle",
          "Vulpix",
          "Volcarona",
          "Vileplume",
          "Victreebel",
          "Vespiquen",
          "Venusaur",
          "Veluza",
          "Varoom",
          "Vaporeon",
          "Umbreon",
          "Tyrunt",
          "Tyrantrum",
          "Tyranitar",
          "Typhlosion",
          "Turtwig",
          "Treecko",
          "Totodile",
          "Torterra",
          "Torracat",
          "Tornadus Incarnate Form",
          "Torchic",
          "Thwackey",
          "Thundurus Incarnate Form",
          "Tepig",
          "Tatsugiri",
          "Tarountula",
          "Tapu Lele",
          "Tapu Koko",
          "Tapu Fini",
          "Tapu Bulu",
          "Talonflame",
          "Taillow",
          "Sylveon",
          "Swirlix",
          "Swellow",
          "Swampert",
          "Swablu",
          "Surskit",
          "Suicune",
          "Starly",
          "Staravia",
          "Staraptor",
          "Squirtle",
          "Spritzee",
          "Sprigatito",
          "Spiritomb",
          "Spidops",
          "Spewpa",
          "Spearow",
          "Sobble",
          "Snover",
          "Snom",
          "Snivy",
          "Smoliv",
          "Slurpuff",
          "Skwovet",
          "Skiddo",
          "Skeledirge",
          "Sirfetch'd",
          "Sinistea",
          "Simisear",
          "Simisage",
          "Simipour",
          "Shieldon",
          "Shelgon",
          "Sharpedo",
          "Seviper",
          "Servine",
          "Serperior",
          "Scorbunny",
          "Sceptile",
          "Sandygast",
          "Sandslash",
          "Sandshrew",
          "Samurott",
          "Salazzle",
          "Salandit",
          "Salamence",
          "Rowlet",
          "Rillaboom",
          "Revavroom",
          "Rellor",
          "Registeel",
          "Regirock",
          "Regice",
          "Rampardos",
          "Raikou",
          "Raichu",
          "Rabsca",
          "Raboot",
          "Quilladin",
          "Quilava",
          "Quaxwell",
          "Quaxly",
          "Quaquaval",
          "Pyukumuku",
          "Prinplup",
          "Primarina",
          "Popplio",
          "Polteageist",
          "Plusle",
          "Piplup",
          "Pineco",
          "Pincurchin",
          "Pikachu",
          "Pignite",
          "Pichu",
          "Phanpy",
          "Passimian",
          "Pansear",
          "Pansage",
          "Panpour",
          "Palossand",
          "Palkia Origin Form",
          "Palkia",
          "Oshawott",
          "Orthworm",
          "Oddish",
          "Nymble",
          "Ninjask",
          "Ninetales",
          "Nincada",
          "Mudkip",
          "Mothim",
          "Monferno",
          "Moltres",
          "Minun",
          "Milcery",
          "Mewtwo",
          "Metang",
          "Metagross",
          "Meowscarada",
          "Meditite",
          "Medicham",
          "Masquerain",
          "Marshtomp",
          "Mareep",
          "Magmortar",
          "Magmar",
          "Magikarp",
          "Magby",
          "Luvdisc",
          "Lurantis",
          "Lugia",
          "Loudred",
          "Lokix",
          "Litten",
          "Lileep",
          "Leafeon",
          "Larvitar",
          "Larvesta",
          "Landorus Incarnate Form",
          "Kubfu",
          "Kricketune",
          "Kricketot",
          "Klefki",
          "Kecleon",
          "Jolteon",
          "Ivysaur",
          "Inteleon",
          "Infernape",
          "Incineroar",
          "Huntail",
          "Houndstone",
          "Ho-Oh",
          "Hisuian Typhlosion",
          "Hisuian Samurott",
          "Hisuian Decidueye",
          "Hippowdon",
          "Hippopotas",
          "Heatran",
          "Gyarados",
          "Grovyle",
          "Grotle",
          "Grookey",
          "Greninja",
          "Greedent",
          "Greavard",
          "Grapploct",
          "Gorebyss",
          "Golbat",
          "Gogoat",
          "Gloom",
          "Glimmora",
          "Glimmet",
          "Glaceon",
          "Giratina",
          "Gible",
          "Garchomp",
          "Galarian Farfetch'd",
          "Galarian Darumaka",
          "Galarian Darmanitan Zen-Mode",
          "Galarian Darmanitan",
          "Galarian Corsola",
          "Gabite",
          "Fuecoco",
          "Frosmoth",
          "Froslass",
          "Frogadier",
          "Froakie",
          "Frigibax",
          "Forretress",
          "Foongus",
          "Fomantis",
          "Florges",
          "Floragato",
          "Floette",
          "Floatzel",
          "Fletchling",
          "Fletchinder",
          "Flareon",
          "Flabebe",
          "Flaaffy",
          "Fidough",
          "Ferrothorn",
          "Feraligatr",
          "Fennekin",
          "Fearow",
          "Falinks",
          "Exploud",
          "Exeggutor",
          "Exeggcute",
          "Espeon",
          "Entei",
          "Enamorus Incarnate Style",
          "Empoleon",
          "Emolga",
          "Emboar",
          "Elekid",
          "Electivire",
          "Electabuzz",
          "Dustox",
          "Duskull",
          "Dusknoir",
          "Dusclops",
          "Drizzile",
          "Dratini",
          "Dragonite",
          "Dragonair",
          "Donphan",
          "Dolliv",
          "Ditto",
          "Dialga Origin Form",
          "Dialga",
          "Dewpider",
          "Dewott",
          "Delphox",
          "Decidueye",
          "Darumaka",
          "Dartrix",
          "Darmanitan Zen-Mode",
          "Darmanitan",
          "Dachsbun",
          "Cyndaquil",
          "Cyclizar",
          "Cursola",
          "Cufant",
          "Croconaw",
          "Crocalor",
          "Crobat",
          "Cranidos",
          "Cradily",
          "Copperajah",
          "Combusken",
          "Combee",
          "Clobbopus",
          "Clamperl",
          "Cinderace",
          "Chimchar",
          "Chikorita",
          "Chespin",
          "Chesnaught",
          "Charmeleon",
          "Charmander",
          "Charizard",
          "Charcadet",
          "Ceruledge",
          "Caterpie",
          "Carvanha",
          "Carbink",
          "Cacturne",
          "Cacnea",
          "Butterfree",
          "Burmy Trash Form",
          "Burmy Sandy Form",
          "Burmy Plant Form",
          "Bulbasaur",
          "Buizel",
          "Brionne",
          "Bramblin",
          "Brambleghast",
          "Braixen",
          "Boltund",
          "Blaziken",
          "Blastoise",
          "Bellsprout",
          "Bellossom",
          "Beldum",
          "Beedrill",
          "Beautifly",
          "Bayleef",
          "Baxcalibur",
          "Bastiodon",
          "Barraskewda",
          "Bagon",
          "Aurorus",
          "Articuno",
          "Arrokuda",
          "Aromatisse",
          "Armarouge",
          "Armaldo",
          "Arctibax",
          "Arboliva",
          "Araquanid",
          "Anorith",
          "Ampharos",
          "Amoonguss",
          "Amaura",
          "Altaria",
          "Alolan Vulpix",
          "Alolan Sandslash",
          "Alolan Sandshrew",
          "Alolan Ninetales",
          "Alolan Exeggutor",
          "Alcremie",
          "Abomasnow"
         ],
         "legendgroup": "2",
         "marker": {
          "color": [
           2,
           2,
           2,
           2,
           2,
           2,
           2,
           2,
           2,
           2,
           2,
           2,
           2,
           2,
           2,
           2,
           2,
           2,
           2,
           2,
           2,
           2,
           2,
           2,
           2,
           2,
           2,
           2,
           2,
           2,
           2,
           2,
           2,
           2,
           2,
           2,
           2,
           2,
           2,
           2,
           2,
           2,
           2,
           2,
           2,
           2,
           2,
           2,
           2,
           2,
           2,
           2,
           2,
           2,
           2,
           2,
           2,
           2,
           2,
           2,
           2,
           2,
           2,
           2,
           2,
           2,
           2,
           2,
           2,
           2,
           2,
           2,
           2,
           2,
           2,
           2,
           2,
           2,
           2,
           2,
           2,
           2,
           2,
           2,
           2,
           2,
           2,
           2,
           2,
           2,
           2,
           2,
           2,
           2,
           2,
           2,
           2,
           2,
           2,
           2,
           2,
           2,
           2,
           2,
           2,
           2,
           2,
           2,
           2,
           2,
           2,
           2,
           2,
           2,
           2,
           2,
           2,
           2,
           2,
           2,
           2,
           2,
           2,
           2,
           2,
           2,
           2,
           2,
           2,
           2,
           2,
           2,
           2,
           2,
           2,
           2,
           2,
           2,
           2,
           2,
           2,
           2,
           2,
           2,
           2,
           2,
           2,
           2,
           2,
           2,
           2,
           2,
           2,
           2,
           2,
           2,
           2,
           2,
           2,
           2,
           2,
           2,
           2,
           2,
           2,
           2,
           2,
           2,
           2,
           2,
           2,
           2,
           2,
           2,
           2,
           2,
           2,
           2,
           2,
           2,
           2,
           2,
           2,
           2,
           2,
           2,
           2,
           2,
           2,
           2,
           2,
           2,
           2,
           2,
           2,
           2,
           2,
           2,
           2,
           2,
           2,
           2,
           2,
           2,
           2,
           2,
           2,
           2,
           2,
           2,
           2,
           2,
           2,
           2,
           2,
           2,
           2,
           2,
           2,
           2,
           2,
           2,
           2,
           2,
           2,
           2,
           2,
           2,
           2,
           2,
           2,
           2,
           2,
           2,
           2,
           2,
           2,
           2,
           2,
           2,
           2,
           2,
           2,
           2,
           2,
           2,
           2,
           2,
           2,
           2,
           2,
           2,
           2,
           2,
           2,
           2,
           2,
           2,
           2,
           2,
           2,
           2,
           2,
           2,
           2,
           2,
           2,
           2,
           2,
           2,
           2,
           2,
           2,
           2,
           2,
           2,
           2,
           2,
           2,
           2,
           2,
           2,
           2,
           2,
           2,
           2,
           2,
           2,
           2,
           2,
           2,
           2,
           2,
           2,
           2,
           2,
           2,
           2,
           2,
           2,
           2,
           2,
           2,
           2,
           2,
           2,
           2,
           2,
           2,
           2,
           2,
           2,
           2,
           2,
           2,
           2,
           2,
           2,
           2,
           2,
           2,
           2,
           2,
           2,
           2,
           2,
           2,
           2,
           2,
           2,
           2,
           2,
           2,
           2,
           2,
           2,
           2,
           2,
           2,
           2,
           2
          ],
          "coloraxis": "coloraxis",
          "size": [
           2,
           2,
           2,
           2,
           2,
           2,
           2,
           2,
           2,
           2,
           2,
           2,
           2,
           2,
           2,
           2,
           2,
           2,
           2,
           2,
           2,
           2,
           2,
           2,
           2,
           2,
           2,
           2,
           2,
           2,
           2,
           2,
           2,
           2,
           2,
           2,
           2,
           2,
           2,
           2,
           2,
           2,
           2,
           2,
           2,
           2,
           2,
           2,
           2,
           2,
           2,
           2,
           2,
           2,
           2,
           2,
           2,
           2,
           2,
           2,
           2,
           2,
           2,
           2,
           2,
           2,
           2,
           2,
           2,
           2,
           2,
           2,
           2,
           2,
           2,
           2,
           2,
           2,
           2,
           2,
           2,
           2,
           2,
           2,
           2,
           2,
           2,
           2,
           2,
           2,
           2,
           2,
           2,
           2,
           2,
           2,
           2,
           2,
           2,
           2,
           2,
           2,
           2,
           2,
           2,
           2,
           2,
           2,
           2,
           2,
           2,
           2,
           2,
           2,
           2,
           2,
           2,
           2,
           2,
           2,
           2,
           2,
           2,
           2,
           2,
           2,
           2,
           2,
           2,
           2,
           2,
           2,
           2,
           2,
           2,
           2,
           2,
           2,
           2,
           2,
           2,
           2,
           2,
           2,
           2,
           2,
           2,
           2,
           2,
           2,
           2,
           2,
           2,
           2,
           2,
           2,
           2,
           2,
           2,
           2,
           2,
           2,
           2,
           2,
           2,
           2,
           2,
           2,
           2,
           2,
           2,
           2,
           2,
           2,
           2,
           2,
           2,
           2,
           2,
           2,
           2,
           2,
           2,
           2,
           2,
           2,
           2,
           2,
           2,
           2,
           2,
           2,
           2,
           2,
           2,
           2,
           2,
           2,
           2,
           2,
           2,
           2,
           2,
           2,
           2,
           2,
           2,
           2,
           2,
           2,
           2,
           2,
           2,
           2,
           2,
           2,
           2,
           2,
           2,
           2,
           2,
           2,
           2,
           2,
           2,
           2,
           2,
           2,
           2,
           2,
           2,
           2,
           2,
           2,
           2,
           2,
           2,
           2,
           2,
           2,
           2,
           2,
           2,
           2,
           2,
           2,
           2,
           2,
           2,
           2,
           2,
           2,
           2,
           2,
           2,
           2,
           2,
           2,
           2,
           2,
           2,
           2,
           2,
           2,
           2,
           2,
           2,
           2,
           2,
           2,
           2,
           2,
           2,
           2,
           2,
           2,
           2,
           2,
           2,
           2,
           2,
           2,
           2,
           2,
           2,
           2,
           2,
           2,
           2,
           2,
           2,
           2,
           2,
           2,
           2,
           2,
           2,
           2,
           2,
           2,
           2,
           2,
           2,
           2,
           2,
           2,
           2,
           2,
           2,
           2,
           2,
           2,
           2,
           2,
           2,
           2,
           2,
           2,
           2,
           2,
           2,
           2,
           2,
           2,
           2,
           2,
           2,
           2,
           2,
           2,
           2,
           2,
           2,
           2,
           2,
           2,
           2,
           2,
           2,
           2,
           2
          ],
          "sizemode": "area",
          "sizeref": 0.0075,
          "symbol": "diamond"
         },
         "mode": "markers",
         "name": "2",
         "scene": "scene",
         "showlegend": true,
         "type": "scatter3d",
         "x": [
          "Inner Focus",
          "Pressure",
          "Immunity",
          "Ball Fetch",
          "Shadow Tag",
          "Shield Dust",
          "Anticipation",
          "Anticipation",
          "Anticipation",
          "Shadow Tag",
          "Soundproof",
          "Chlorophyll",
          "Shield Dust",
          "Pressure",
          "Torrent",
          "Flash Fire",
          "Flame Body",
          "Chlorophyll",
          "Chlorophyll",
          "Pressure",
          "Overgrow",
          "Mold Breaker",
          "Overcoat",
          "Water Absorb",
          "Synchronize",
          "Strong Jaw",
          "Strong Jaw",
          "Sand Stream",
          "Blaze",
          "Overgrow",
          "Overgrow",
          "Torrent",
          "Overgrow",
          "Blaze",
          "Prankster",
          "Blaze",
          "Overgrow",
          "Prankster",
          "Blaze",
          "Commander",
          "Insomnia",
          "Psychic Surge",
          "Electric Surge",
          "Misty Surge",
          "Grassy Surge",
          "Flame Body",
          "Guts",
          "Cute Charm",
          "Sweet Veil",
          "Guts",
          "Torrent",
          "Natural Cure",
          "Swift Swim",
          "Pressure",
          "Keen Eye",
          "Intimidate",
          "Intimidate",
          "Torrent",
          "Healer",
          "Overgrow",
          "Pressure",
          "Insomnia",
          "Shed Skin",
          "Keen Eye",
          "Torrent",
          "Snow Warning",
          "Shield Dust",
          "Overgrow",
          "Early Bird",
          "Sweet Veil",
          "Cheek Pouch",
          "Sap Sipper",
          "Blaze",
          "Steadfast",
          "Weak Armor",
          "Gluttony",
          "Gluttony",
          "Gluttony",
          "Sturdy",
          "Rock Head",
          "Rough Skin",
          "Shed Skin",
          "Overgrow",
          "Overgrow",
          "Blaze",
          "Overgrow",
          "Water Compaction",
          "Sand Veil",
          "Sand Veil",
          "Torrent",
          "Corrosion",
          "Corrosion",
          "Intimidate",
          "Overgrow",
          "Overgrow",
          "Overcoat",
          "Compound Eyes",
          "Clear Body",
          "Clear Body",
          "Clear Body",
          "Mold Breaker",
          "Pressure",
          "Static",
          "Synchronize",
          "Blaze",
          "Overgrow",
          "Blaze",
          "Torrent",
          "Torrent",
          "Torrent",
          "Innards Out",
          "Torrent",
          "Torrent",
          "Torrent",
          "Weak Armor",
          "Plus",
          "Torrent",
          "Sturdy",
          "Lightning Rod",
          "Static",
          "Blaze",
          "Static",
          "Pickup",
          "Receiver",
          "Gluttony",
          "Gluttony",
          "Gluttony",
          "Water Compaction",
          "Pressure",
          "Pressure",
          "Torrent",
          "Earth Eater",
          "Chlorophyll",
          "Swarm",
          "Speed Boost",
          "Flash Fire",
          "Compound Eyes",
          "Torrent",
          "Swarm",
          "Blaze",
          "Pressure",
          "Minus",
          "Sweet Veil",
          "Pressure",
          "Clear Body",
          "Clear Body",
          "Overgrow",
          "Pure Power",
          "Pure Power",
          "Intimidate",
          "Torrent",
          "Static",
          "Flame Body",
          "Flame Body",
          "Swift Swim",
          "Flame Body",
          "Swift Swim",
          "Leaf Guard",
          "Pressure",
          "Soundproof",
          "Swarm",
          "Blaze",
          "Suction Cups",
          "Leaf Guard",
          "Guts",
          "Flame Body",
          "Sand Force",
          "Inner Focus",
          "Swarm",
          "Shed Skin",
          "Prankster",
          "Color Change",
          "Volt Absorb",
          "Overgrow",
          "Torrent",
          "Blaze",
          "Blaze",
          "Swift Swim",
          "Sand Rush",
          "Pressure",
          "Blaze",
          "Torrent",
          "Overgrow",
          "Sand Stream",
          "Sand Stream",
          "Flash Fire",
          "Intimidate",
          "Overgrow",
          "Overgrow",
          "Overgrow",
          "Torrent",
          "Cheek Pouch",
          "Pickup",
          "Limber",
          "Swift Swim",
          "Inner Focus",
          "Sap Sipper",
          "Chlorophyll",
          "Toxic Debris",
          "Toxic Debris",
          "Snow Cloak",
          "Pressure",
          "Sand Veil",
          "Sand Veil",
          "Steadfast",
          "Hustle",
          "Gorilla Tactics",
          "Gorilla Tactics",
          "Weak Armor",
          "Sand Veil",
          "Blaze",
          "Shield Dust",
          "Snow Cloak",
          "Torrent",
          "Torrent",
          "Thermal Exchange",
          "Sturdy",
          "Effect Spore",
          "Leaf Guard",
          "Flower Veil",
          "Overgrow",
          "Flower Veil",
          "Swift Swim",
          "Big Pecks",
          "Flame Body",
          "Flash Fire",
          "Flower Veil",
          "Static",
          "Own Tempo",
          "Iron Barbs",
          "Torrent",
          "Blaze",
          "Keen Eye",
          "Battle Armor",
          "Soundproof",
          "Chlorophyll",
          "Chlorophyll",
          "Synchronize",
          "Pressure",
          "Cute Charm",
          "Torrent",
          "Static",
          "Blaze",
          "Static",
          "Motor Drive",
          "Static",
          "Shield Dust",
          "Levitate",
          "Pressure",
          "Pressure",
          "Torrent",
          "Shed Skin",
          "Inner Focus",
          "Shed Skin",
          "Sturdy",
          "Early Bird",
          "Limber",
          "Pressure",
          "Pressure",
          "Water Bubble",
          "Torrent",
          "Blaze",
          "Overgrow",
          "Hustle",
          "Overgrow",
          "Sheer Force",
          "Sheer Force",
          "Well-Baked Body",
          "Blaze",
          "Shed Skin",
          "Weak Armor",
          "Sheer Force",
          "Torrent",
          "Blaze",
          "Inner Focus",
          "Mold Breaker",
          "Suction Cups",
          "Sheer Force",
          "Blaze",
          "Honey Gather",
          "Limber",
          "Shell Armor",
          "Blaze",
          "Blaze",
          "Overgrow",
          "Overgrow",
          "Overgrow",
          "Blaze",
          "Blaze",
          "Blaze",
          "Flash Fire",
          "Flash Fire",
          "Shield Dust",
          "Rough Skin",
          "Clear Body",
          "Sand Veil",
          "Sand Veil",
          "Compound Eyes",
          "Shed Skin",
          "Shed Skin",
          "Shed Skin",
          "Overgrow",
          "Swift Swim",
          "Torrent",
          "Wind Rider",
          "Wind Rider",
          "Blaze",
          "Strong Jaw",
          "Blaze",
          "Torrent",
          "Chlorophyll",
          "Chlorophyll",
          "Clear Body",
          "Swarm",
          "Swarm",
          "Overgrow",
          "Thermal Exchange",
          "Sturdy",
          "Swift Swim",
          "Rock Head",
          "Refrigerate",
          "Pressure",
          "Swift Swim",
          "Healer",
          "Flash Fire",
          "Battle Armor",
          "Thermal Exchange",
          "Seed Sower",
          "Water Bubble",
          "Battle Armor",
          "Static",
          "Effect Spore",
          "Refrigerate",
          "Natural Cure",
          "Snow Cloak",
          "Snow Cloak",
          "Snow Cloak",
          "Snow Cloak",
          "Frisk",
          "Sweet Veil",
          "Snow Warning"
         ],
         "y": [
          "NO INFO",
          "NO INFO",
          "NO INFO",
          "NO INFO",
          "NO INFO",
          "NO INFO",
          "NO INFO",
          "NO INFO",
          "NO INFO",
          "NO INFO",
          "NO INFO",
          "NO INFO",
          "NO INFO",
          "NO INFO",
          "NO INFO",
          "NO INFO",
          "NO INFO",
          "NO INFO",
          "NO INFO",
          "NO INFO",
          "NO INFO",
          "NO INFO",
          "NO INFO",
          "NO INFO",
          "NO INFO",
          "NO INFO",
          "NO INFO",
          "NO INFO",
          "NO INFO",
          "NO INFO",
          "NO INFO",
          "NO INFO",
          "NO INFO",
          "NO INFO",
          "NO INFO",
          "NO INFO",
          "NO INFO",
          "NO INFO",
          "NO INFO",
          "NO INFO",
          "NO INFO",
          "NO INFO",
          "NO INFO",
          "NO INFO",
          "NO INFO",
          "NO INFO",
          "NO INFO",
          "NO INFO",
          "NO INFO",
          "NO INFO",
          "NO INFO",
          "NO INFO",
          "NO INFO",
          "NO INFO",
          "NO INFO",
          "NO INFO",
          "NO INFO",
          "NO INFO",
          "NO INFO",
          "NO INFO",
          "NO INFO",
          "NO INFO",
          "NO INFO",
          "NO INFO",
          "NO INFO",
          "NO INFO",
          "NO INFO",
          "NO INFO",
          "NO INFO",
          "NO INFO",
          "NO INFO",
          "NO INFO",
          "NO INFO",
          "NO INFO",
          "NO INFO",
          "NO INFO",
          "NO INFO",
          "NO INFO",
          "NO INFO",
          "NO INFO",
          "NO INFO",
          "NO INFO",
          "NO INFO",
          "NO INFO",
          "NO INFO",
          "NO INFO",
          "NO INFO",
          "NO INFO",
          "NO INFO",
          "NO INFO",
          "NO INFO",
          "NO INFO",
          "NO INFO",
          "NO INFO",
          "NO INFO",
          "NO INFO",
          "NO INFO",
          "NO INFO",
          "NO INFO",
          "NO INFO",
          "NO INFO",
          "NO INFO",
          "NO INFO",
          "NO INFO",
          "NO INFO",
          "NO INFO",
          "NO INFO",
          "NO INFO",
          "NO INFO",
          "NO INFO",
          "NO INFO",
          "NO INFO",
          "NO INFO",
          "NO INFO",
          "NO INFO",
          "NO INFO",
          "NO INFO",
          "NO INFO",
          "NO INFO",
          "NO INFO",
          "NO INFO",
          "NO INFO",
          "NO INFO",
          "NO INFO",
          "NO INFO",
          "NO INFO",
          "NO INFO",
          "NO INFO",
          "NO INFO",
          "NO INFO",
          "NO INFO",
          "NO INFO",
          "NO INFO",
          "NO INFO",
          "NO INFO",
          "NO INFO",
          "NO INFO",
          "NO INFO",
          "NO INFO",
          "NO INFO",
          "NO INFO",
          "NO INFO",
          "NO INFO",
          "NO INFO",
          "NO INFO",
          "NO INFO",
          "NO INFO",
          "NO INFO",
          "NO INFO",
          "NO INFO",
          "NO INFO",
          "NO INFO",
          "NO INFO",
          "NO INFO",
          "NO INFO",
          "NO INFO",
          "NO INFO",
          "NO INFO",
          "NO INFO",
          "NO INFO",
          "NO INFO",
          "NO INFO",
          "NO INFO",
          "NO INFO",
          "NO INFO",
          "NO INFO",
          "NO INFO",
          "NO INFO",
          "NO INFO",
          "NO INFO",
          "NO INFO",
          "NO INFO",
          "NO INFO",
          "NO INFO",
          "NO INFO",
          "NO INFO",
          "NO INFO",
          "NO INFO",
          "NO INFO",
          "NO INFO",
          "NO INFO",
          "NO INFO",
          "NO INFO",
          "NO INFO",
          "NO INFO",
          "NO INFO",
          "NO INFO",
          "NO INFO",
          "NO INFO",
          "NO INFO",
          "NO INFO",
          "NO INFO",
          "NO INFO",
          "NO INFO",
          "NO INFO",
          "NO INFO",
          "NO INFO",
          "NO INFO",
          "NO INFO",
          "NO INFO",
          "NO INFO",
          "NO INFO",
          "NO INFO",
          "NO INFO",
          "NO INFO",
          "NO INFO",
          "NO INFO",
          "NO INFO",
          "NO INFO",
          "NO INFO",
          "NO INFO",
          "NO INFO",
          "NO INFO",
          "NO INFO",
          "NO INFO",
          "NO INFO",
          "NO INFO",
          "NO INFO",
          "NO INFO",
          "NO INFO",
          "NO INFO",
          "NO INFO",
          "NO INFO",
          "NO INFO",
          "NO INFO",
          "NO INFO",
          "NO INFO",
          "NO INFO",
          "NO INFO",
          "NO INFO",
          "NO INFO",
          "NO INFO",
          "NO INFO",
          "NO INFO",
          "NO INFO",
          "NO INFO",
          "NO INFO",
          "NO INFO",
          "NO INFO",
          "NO INFO",
          "NO INFO",
          "NO INFO",
          "NO INFO",
          "NO INFO",
          "NO INFO",
          "NO INFO",
          "NO INFO",
          "NO INFO",
          "NO INFO",
          "NO INFO",
          "NO INFO",
          "NO INFO",
          "NO INFO",
          "NO INFO",
          "NO INFO",
          "NO INFO",
          "NO INFO",
          "NO INFO",
          "NO INFO",
          "NO INFO",
          "NO INFO",
          "NO INFO",
          "NO INFO",
          "NO INFO",
          "NO INFO",
          "NO INFO",
          "NO INFO",
          "NO INFO",
          "NO INFO",
          "NO INFO",
          "NO INFO",
          "NO INFO",
          "NO INFO",
          "NO INFO",
          "NO INFO",
          "NO INFO",
          "NO INFO",
          "NO INFO",
          "NO INFO",
          "NO INFO",
          "NO INFO",
          "NO INFO",
          "NO INFO",
          "NO INFO",
          "NO INFO",
          "NO INFO",
          "NO INFO",
          "NO INFO",
          "NO INFO",
          "NO INFO",
          "NO INFO",
          "NO INFO",
          "NO INFO",
          "NO INFO",
          "NO INFO",
          "NO INFO",
          "NO INFO",
          "NO INFO",
          "NO INFO",
          "NO INFO",
          "NO INFO",
          "NO INFO",
          "NO INFO",
          "NO INFO",
          "NO INFO",
          "NO INFO",
          "NO INFO",
          "NO INFO",
          "NO INFO",
          "NO INFO",
          "NO INFO",
          "NO INFO",
          "NO INFO",
          "NO INFO",
          "NO INFO",
          "NO INFO",
          "NO INFO",
          "NO INFO",
          "NO INFO",
          "NO INFO",
          "NO INFO",
          "NO INFO",
          "NO INFO",
          "NO INFO",
          "NO INFO",
          "NO INFO",
          "NO INFO",
          "NO INFO",
          "NO INFO",
          "NO INFO",
          "NO INFO",
          "NO INFO",
          "NO INFO",
          "NO INFO",
          "NO INFO",
          "NO INFO",
          "NO INFO",
          "NO INFO",
          "NO INFO",
          "NO INFO",
          "NO INFO"
         ],
         "z": [
          "Infiltrator",
          "Static",
          "Toxic Boost",
          "Rattled",
          "Telepathy",
          "Run Away",
          "Overcoat",
          "Overcoat",
          "Overcoat",
          "Telepathy",
          "Rattled",
          "Gluttony",
          "Run Away",
          "Pickpocket",
          "Rain Dish",
          "Drought",
          "Swarm",
          "Effect Spore",
          "Gluttony",
          "Unnerve",
          "Chlorophyll",
          "Sharpness",
          "Slow Start",
          "Hydration",
          "Inner Focus",
          "Sturdy",
          "Rock Head",
          "Unnerve",
          "Flash Fire",
          "Shell Armor",
          "Unburden",
          "Sheer Force",
          "Shell Armor",
          "Intimidate",
          "Defiant",
          "Speed Boost",
          "Grassy Surge",
          "Defiant",
          "Thick Fat",
          "Storm Drain",
          "Stakeout",
          "Telepathy",
          "Telepathy",
          "Telepathy",
          "Telepathy",
          "Gale Wings",
          "Scrappy",
          "Pixilate",
          "Unburden",
          "Scrappy",
          "Damp",
          "Cloud Nine",
          "Rain Dish",
          "Inner Focus",
          "Reckless",
          "Reckless",
          "Reckless",
          "Rain Dish",
          "Aroma Veil",
          "Protean",
          "Infiltrator",
          "Stakeout",
          "Friend Guard",
          "Sniper",
          "Sniper",
          "Soundproof",
          "Ice Scales",
          "Contrary",
          "Harvest",
          "Unburden",
          "Gluttony",
          "Grass Pelt",
          "Unaware",
          "Scrappy",
          "Cursed Body",
          "Blaze",
          "Overgrow",
          "Torrent",
          "Soundproof",
          "Overcoat",
          "Speed Boost",
          "Infiltrator",
          "Contrary",
          "Contrary",
          "Libero",
          "Unburden",
          "Sand Veil",
          "Sand Rush",
          "Sand Rush",
          "Shell Armor",
          "Oblivious",
          "Oblivious",
          "Moxie",
          "Long Reach",
          "Grassy Surge",
          "Filter",
          "Shed Skin",
          "Light Metal",
          "Sturdy",
          "Ice Body",
          "Sheer Force",
          "Inner Focus",
          "Lightning Rod",
          "Telepathy",
          "Libero",
          "Bulletproof",
          "Flash Fire",
          "Moxie",
          "Moxie",
          "Moxie",
          "Unaware",
          "Defiant",
          "Liquid Voice",
          "Liquid Voice",
          "Cursed Body",
          "Lightning Rod",
          "Defiant",
          "Overcoat",
          "Electric Surge",
          "Lightning Rod",
          "Thick Fat",
          "Lightning Rod",
          "Sand Veil",
          "Defiant",
          "Blaze",
          "Overgrow",
          "Torrent",
          "Sand Veil",
          "Telepathy",
          "Telepathy",
          "Shell Armor",
          "Sand Veil",
          "Run Away",
          "Tinted Lens",
          "Infiltrator",
          "Drought",
          "Run Away",
          "Damp",
          "Tinted Lens",
          "Iron Fist",
          "Flame Body",
          "Volt Absorb",
          "Aroma Veil",
          "Unnerve",
          "Light Metal",
          "Light Metal",
          "Protean",
          "Telepathy",
          "Telepathy",
          "Unnerve",
          "Damp",
          "Plus",
          "Vital Spirit",
          "Vital Spirit",
          "Rattled",
          "Vital Spirit",
          "Hydration",
          "Contrary",
          "Multiscale",
          "Scrappy",
          "Tinted Lens",
          "Intimidate",
          "Storm Drain",
          "Chlorophyll",
          "Sand Veil",
          "Swarm",
          "Sheer Force",
          "No Guard",
          "Technician",
          "Run Away",
          "Magician",
          "Protean",
          "Quick Feet",
          "Chlorophyll",
          "Sniper",
          "Iron Fist",
          "Intimidate",
          "Water Veil",
          "Fluffy",
          "Regenerator",
          "Frisk",
          "Sharpness",
          "Scrappy",
          "Sand Force",
          "Sand Force",
          "Flame Body",
          "Moxie",
          "Unburden",
          "Shell Armor",
          "Grassy Surge",
          "Protean",
          "Gluttony",
          "Fluffy",
          "Technician",
          "Hydration",
          "Infiltrator",
          "Grass Pelt",
          "Stench",
          "Corrosion",
          "Corrosion",
          "Ice Body",
          "Telepathy",
          "Rough Skin",
          "Rough Skin",
          "Scrappy",
          "Inner Focus",
          "Zen Mode",
          "Zen Mode",
          "Cursed Body",
          "Rough Skin",
          "Unaware",
          "Ice Scales",
          "Cursed Body",
          "Protean",
          "Protean",
          "Ice Body",
          "Overcoat",
          "Regenerator",
          "Contrary",
          "Symbiosis",
          "Protean",
          "Symbiosis",
          "Water Veil",
          "Gale Wings",
          "Gale Wings",
          "Guts",
          "Symbiosis",
          "Plus",
          "Klutz",
          "Anticipation",
          "Sheer Force",
          "Magician",
          "Sniper",
          "Defiant",
          "Scrappy",
          "Harvest",
          "Harvest",
          "Magic Bounce",
          "Inner Focus",
          "Contrary",
          "Defiant",
          "Motor Drive",
          "Reckless",
          "Vital Spirit",
          "Vital Spirit",
          "Vital Spirit",
          "Compound Eyes",
          "Frisk",
          "Frisk",
          "Frisk",
          "Sniper",
          "Marvel Scale",
          "Multiscale",
          "Marvel Scale",
          "Sand Veil",
          "Harvest",
          "Imposter",
          "Telepathy",
          "Telepathy",
          "Water Absorb",
          "Shell Armor",
          "Magician",
          "Long Reach",
          "Inner Focus",
          "Long Reach",
          "Zen Mode",
          "Zen Mode",
          "Aroma Veil",
          "Flash Fire",
          "Regenerator",
          "Perish Body",
          "Heavy Metal",
          "Sheer Force",
          "Unaware",
          "Infiltrator",
          "Sheer Force",
          "Storm Drain",
          "Heavy Metal",
          "Speed Boost",
          "Hustle",
          "Technician",
          "Rattled",
          "Libero",
          "Iron Fist",
          "Leaf Guard",
          "Bulletproof",
          "Bulletproof",
          "Solar Power",
          "Solar Power",
          "Solar Power",
          "Flame Body",
          "Weak Armor",
          "Run Away",
          "Speed Boost",
          "Sturdy",
          "Water Absorb",
          "Water Absorb",
          "Tinted Lens",
          "Overcoat",
          "Overcoat",
          "Overcoat",
          "Chlorophyll",
          "Water Veil",
          "Liquid Voice",
          "Infiltrator",
          "Infiltrator",
          "Magician",
          "Competitive",
          "Speed Boost",
          "Rain Dish",
          "Gluttony",
          "Healer",
          "Light Metal",
          "Sniper",
          "Rivalry",
          "Leaf Guard",
          "Ice Body",
          "Soundproof",
          "Propeller Tail",
          "Sheer Force",
          "Snow Warning",
          "Snow Cloak",
          "Propeller Tail",
          "Aroma Veil",
          "Weak Armor",
          "Swift Swim",
          "Ice Body",
          "Harvest",
          "Water Absorb",
          "Swift Swim",
          "Plus",
          "Regenerator",
          "Snow Warning",
          "Cloud Nine",
          "Snow Warning",
          "Slush Rush",
          "Slush Rush",
          "Snow Warning",
          "Harvest",
          "Aroma Veil",
          "Soundproof"
         ]
        },
        {
         "hovertemplate": "<b>%{hovertext}</b><br><br>Ability_Number=%{marker.color}<br>Ability1=%{x}<br>Ability2=%{y}<br>Ability_Hidden=%{z}<extra></extra>",
         "hovertext": [
          "Zigzagoon",
          "Zebstrika",
          "Yungoos",
          "Yanma",
          "Xatu",
          "Wyrdeer",
          "Wugtrio",
          "Wooper",
          "Wooloo",
          "Woobat",
          "Wingull",
          "Wiglett",
          "Wigglytuff",
          "Whiscash",
          "Whirlipede",
          "Whimsicott",
          "Weezing",
          "Wattrel",
          "Watchog",
          "Walrein",
          "Wailord",
          "Wailmer",
          "Vullaby",
          "Voltorb",
          "Volbeat",
          "Vivillon",
          "Venonat",
          "Venomoth",
          "Venipede",
          "Vanilluxe",
          "Vanillite",
          "Vanillish",
          "Ursaring",
          "Ursaluna",
          "Unfezant",
          "Tyrogue",
          "Tympole",
          "Tsareena",
          "Trumbeak",
          "Trubbish",
          "Tropius",
          "Trevenant",
          "Trapinch",
          "Tranquill",
          "Toxtricity Low-Key Form",
          "Toxtricity Amped Form",
          "Toxicroak",
          "Toxel",
          "Toxapex",
          "Toucannon",
          "Torkoal",
          "Togetic",
          "Togepi",
          "Togekiss",
          "Togedemaru",
          "Tirtouga",
          "Tinkatuff",
          "Tinkaton",
          "Tinkatink",
          "Timburr",
          "Throh",
          "Thievul",
          "Tentacruel",
          "Tentacool",
          "Teddiursa",
          "Tauros",
          "Tangrowth",
          "Tangela",
          "Tandemaus",
          "Tadbulb",
          "Swoobat",
          "Swinub",
          "Swanna",
          "Swalot",
          "Swadloon",
          "Sunkern",
          "Sunflora",
          "Sudowoodo",
          "Stunky",
          "Stunfisk",
          "Stufful",
          "Stoutland",
          "Steenee",
          "Steelix",
          "Staryu",
          "Starmie",
          "Stantler",
          "Squawkabilly",
          "Spoink",
          "Spinda",
          "Spinarak",
          "Spheal",
          "Solosis",
          "Snubbull",
          "Snorunt",
          "Snorlax",
          "Sneasler",
          "Sneasel",
          "Smoochum",
          "Smeargle",
          "Slugma",
          "Slowpoke",
          "Slowking",
          "Slowbro",
          "Sliggoo",
          "Skuntank",
          "Skrelp",
          "Skorupi",
          "Skitty",
          "Skiploom",
          "Skarmory",
          "Sizzlipede",
          "Silicobra",
          "Sigilyph",
          "Shuppet",
          "Shuckle",
          "Shroomish",
          "Shroodle",
          "Shinx",
          "Shiinotic",
          "Shiftry",
          "Shelmet",
          "Shellos West-Sea Form",
          "Shellos East-Sea Form",
          "Shellder",
          "Sewaddle",
          "Sentret",
          "Seismitoad",
          "Seel",
          "Seedot",
          "Sealeo",
          "Seaking",
          "Seadra",
          "Scyther",
          "Scraggy",
          "Scrafty",
          "Scovillain",
          "Scolipede",
          "Scizor",
          "Scatterbug",
          "Sawsbuck",
          "Sawk",
          "Sandile",
          "Sandaconda",
          "Sableye",
          "Rufflet",
          "Roserade",
          "Roselia",
          "Rookidee",
          "Rolycoly",
          "Roggenrola",
          "Rockruff",
          "Riolu",
          "Ribombee",
          "Rhyperior",
          "Rhyhorn",
          "Rhydon",
          "Reuniclus",
          "Remoraid",
          "Relicanth",
          "Rattata",
          "Raticate",
          "Rapidash",
          "Ralts",
          "Qwilfish",
          "Quagsire",
          "Pyroar",
          "Purugly",
          "Purrloin",
          "Pumpkaboo Super",
          "Pumpkaboo Small",
          "Pumpkaboo Large",
          "Pumpkaboo Average",
          "Psyduck",
          "Probopass",
          "Primeape",
          "Porygon2",
          "Porygon-Z",
          "Porygon",
          "Poochyena",
          "Ponyta",
          "Poliwrath",
          "Poliwhirl",
          "Poliwag",
          "Politoed",
          "Pinsir",
          "Piloswine",
          "Pikipek",
          "Pidove",
          "Pidgey",
          "Pidgeotto",
          "Pidgeot",
          "Phantump",
          "Petilil",
          "Persian",
          "Perrserker",
          "Pelipper",
          "Pawniard",
          "Pawmot",
          "Pawmo",
          "Pawmi",
          "Patrat",
          "Parasect",
          "Paras",
          "Pangoro",
          "Pancham",
          "Palpitoad",
          "Paldean Wooper",
          "Paldean Tauros",
          "Pachirisu",
          "Overqwil",
          "Orbeetle",
          "Oranguru",
          "Onix",
          "Omastar",
          "Omanyte",
          "Oinkologne",
          "Octillery",
          "Obstagoon",
          "Nuzleaf",
          "Numel",
          "Nosepass",
          "Noivern",
          "Noibat",
          "Noctowl",
          "Nidorino",
          "Nidorina",
          "Nidoran M",
          "Nidoran F",
          "Nidoqueen",
          "Nidoking",
          "Nickit",
          "Natu",
          "Naclstack",
          "Nacli",
          "Musharna",
          "Murkrow",
          "Munna",
          "Munchlax",
          "Muk",
          "Mudsdale",
          "Mudbray",
          "Mr. Rime",
          "Mr. Mime",
          "Morgrem",
          "Morelull",
          "Minccino",
          "Mime Jr.",
          "Miltank",
          "Milotic",
          "Mightyena",
          "Mienshao",
          "Mienfoo",
          "Meowth",
          "Meowstic Male",
          "Meowstic Female",
          "Mawile",
          "Maushold",
          "Maschiff",
          "Marowak",
          "Marill",
          "Mareanie",
          "Maractus",
          "Mantyke",
          "Mantine",
          "Mankey",
          "Manectric",
          "Mandibuzz",
          "Mamoswine",
          "Malamar",
          "Makuhita",
          "Magnezone",
          "Magneton",
          "Magnemite",
          "Magcargo",
          "Machop",
          "Machoke",
          "Machamp",
          "Mabosstiff",
          "Lycanroc Midnight Form",
          "Lycanroc Midday Form",
          "Luxray",
          "Luxio",
          "Lumineon",
          "Ludicolo",
          "Lucario",
          "Lotad",
          "Lopunny",
          "Lombre",
          "Litwick",
          "Litleo",
          "Linoone",
          "Lillipup",
          "Lilligant",
          "Liepard",
          "Lickitung",
          "Lickilicky",
          "Ledyba",
          "Ledian",
          "Lechonk",
          "Leavanny",
          "Lapras",
          "Lanturn",
          "Lampent",
          "Lairon",
          "Krookodile",
          "Krokorok",
          "Krabby",
          "Kommo-o",
          "Koffing",
          "Klinklang",
          "Klink",
          "Kleavor",
          "Klawf",
          "Klang",
          "Kirlia",
          "Kingler",
          "Kingdra",
          "Kingambit",
          "Kilowattrel",
          "Karrablast",
          "Kangaskhan",
          "Kadabra",
          "Kabutops",
          "Kabuto",
          "Jynx",
          "Jumpluff",
          "Joltik",
          "Jigglypuff",
          "Jellicent",
          "Jangmo-o",
          "Inkay",
          "Indeedee Male",
          "Indeedee Female",
          "Impidimp",
          "Illumise",
          "Igglybuff",
          "Hypno",
          "Houndour",
          "Houndoom",
          "Horsea",
          "Hoppip",
          "Hoothoot",
          "Honchkrow",
          "Hitmontop",
          "Hitmonlee",
          "Hitmonchan",
          "Hisuian Voltorb",
          "Hisuian Sneasel",
          "Hisuian Sliggoo",
          "Hisuian Qwilfish",
          "Hisuian Lilligant",
          "Hisuian Growlithe",
          "Hisuian Goodra",
          "Hisuian Electrode",
          "Hisuian Braviary",
          "Hisuian Basculin",
          "Hisuian Avalugg",
          "Hisuian Arcanine",
          "Herdier",
          "Heracross",
          "Helioptile",
          "Heliolisk",
          "Heatmor",
          "Haxorus",
          "Hawlucha",
          "Hattrem",
          "Hatterene",
          "Hatenna",
          "Hariyama",
          "Happiny",
          "Hakamo-o",
          "Gurdurr",
          "Gumshoos",
          "Gulpin",
          "Grumpig",
          "Growlithe",
          "Grimmsnarl",
          "Grimer",
          "Graveler",
          "Granbull",
          "Grafaiai",
          "Gourgeist Super",
          "Gourgeist Small",
          "Gourgeist Large",
          "Gourgeist Average",
          "Gothorita",
          "Gothitelle",
          "Gothita",
          "Gossifleur",
          "Goomy",
          "Goodra",
          "Golurk",
          "Golett",
          "Golem",
          "Golduck",
          "Goldeen",
          "Gliscor",
          "Gligar",
          "Glameow",
          "Glalie",
          "Girafarig",
          "Gigalith",
          "Geodude",
          "Gastrodon West-Sea Form",
          "Gastrodon East-Sea Form",
          "Garganacl",
          "Gardevoir",
          "Garbodor",
          "Galvantula",
          "Gallade",
          "Galarian Zigzagoon",
          "Galarian Weezing",
          "Galarian Slowpoke",
          "Galarian Slowking",
          "Galarian Slowbro",
          "Galarian Rapidash",
          "Galarian Ponyta",
          "Galarian Mr. Mime",
          "Galarian Meowth",
          "Galarian Linoone",
          "Furret",
          "Frillish",
          "Fraxure",
          "Flittle",
          "Flapple",
          "Flamigo",
          "Finneon",
          "Feebas",
          "Farigiraf",
          "Farfetch'd",
          "Excadrill",
          "Espurr",
          "Espathra",
          "Escavalier",
          "Elgyem",
          "Electrode",
          "Electrike",
          "Eldegoss",
          "Ekans",
          "Eevee",
          "Dwebble",
          "Durant",
          "Duraludon",
          "Duosion",
          "Dunsparce",
          "Dugtrio",
          "Dudunsparce",
          "Ducklett",
          "Dubwool",
          "Druddigon",
          "Drowzee",
          "Drilbur",
          "Drifloon",
          "Drifblim",
          "Dreepy",
          "Drednaw",
          "Drapion",
          "Drampa",
          "Drakloak",
          "Dragapult",
          "Dragalge",
          "Dracozolt",
          "Dracovish",
          "Dottler",
          "Dondozo",
          "Doduo",
          "Dodrio",
          "Diglett",
          "Diggersby",
          "Dewgong",
          "Delibird",
          "Delcatty",
          "Deerling Winter Form",
          "Deerling Summer Form",
          "Deerling Spring Form",
          "Deerling Autumn Form",
          "Dedenne",
          "Cutiefly",
          "Cubone",
          "Cubchoo",
          "Crustle",
          "Croagunk",
          "Crawdaunt",
          "Crabrawler",
          "Crabominable",
          "Cottonee",
          "Corvisquire",
          "Corviknight",
          "Corsola",
          "Corphish",
          "Conkeldurr",
          "Comfey",
          "Coalossal",
          "Cloyster",
          "Clodsire",
          "Cleffa",
          "Clefairy",
          "Clefable",
          "Cinccino",
          "Chinchou",
          "Chewtle",
          "Chatot",
          "Chansey",
          "Chandelure",
          "Cetoddle",
          "Cetitan",
          "Centiskorch",
          "Carracosta",
          "Carkol",
          "Capsakid",
          "Camerupt",
          "Bunnelby",
          "Buneary",
          "Budew",
          "Bruxish",
          "Bronzor",
          "Bronzong",
          "Breloom",
          "Braviary",
          "Bounsweet",
          "Bouffalant",
          "Bonsly",
          "Bombirdier",
          "Boldore",
          "Blitzle",
          "Blissey",
          "Blipbug",
          "Bisharp",
          "Binacle",
          "Bidoof",
          "Bibarel",
          "Bewear",
          "Bergmite",
          "Bellibolt",
          "Beheeyem",
          "Beartic",
          "Basculin Red Stripe",
          "Basculin Blue Stripe",
          "Basculegion Male",
          "Basculegion Felame",
          "Barboach",
          "Barbaracle",
          "Banette",
          "Azurill",
          "Azumarill",
          "Axew",
          "Avalugg",
          "Audino",
          "Aron",
          "Ariados",
          "Arctozolt",
          "Arctovish",
          "Arcanine",
          "Arbok",
          "Applin",
          "Appletun",
          "Annihilape",
          "Ambipom",
          "Alomomola",
          "Alolan Rattata",
          "Alolan Raticate",
          "Alolan Persian",
          "Alolan Muk",
          "Alolan Meowth",
          "Alolan Marowak",
          "Alolan Grimer",
          "Alolan Graveler",
          "Alolan Golem",
          "Alolan Geodude",
          "Alolan Dugtrio",
          "Alolan Diglett",
          "Alakazam",
          "Aipom",
          "Aggron",
          "Aerodactyl",
          "Accelgor",
          "Absol",
          "Abra"
         ],
         "legendgroup": "3",
         "marker": {
          "color": [
           3,
           3,
           3,
           3,
           3,
           3,
           3,
           3,
           3,
           3,
           3,
           3,
           3,
           3,
           3,
           3,
           3,
           3,
           3,
           3,
           3,
           3,
           3,
           3,
           3,
           3,
           3,
           3,
           3,
           3,
           3,
           3,
           3,
           3,
           3,
           3,
           3,
           3,
           3,
           3,
           3,
           3,
           3,
           3,
           3,
           3,
           3,
           3,
           3,
           3,
           3,
           3,
           3,
           3,
           3,
           3,
           3,
           3,
           3,
           3,
           3,
           3,
           3,
           3,
           3,
           3,
           3,
           3,
           3,
           3,
           3,
           3,
           3,
           3,
           3,
           3,
           3,
           3,
           3,
           3,
           3,
           3,
           3,
           3,
           3,
           3,
           3,
           3,
           3,
           3,
           3,
           3,
           3,
           3,
           3,
           3,
           3,
           3,
           3,
           3,
           3,
           3,
           3,
           3,
           3,
           3,
           3,
           3,
           3,
           3,
           3,
           3,
           3,
           3,
           3,
           3,
           3,
           3,
           3,
           3,
           3,
           3,
           3,
           3,
           3,
           3,
           3,
           3,
           3,
           3,
           3,
           3,
           3,
           3,
           3,
           3,
           3,
           3,
           3,
           3,
           3,
           3,
           3,
           3,
           3,
           3,
           3,
           3,
           3,
           3,
           3,
           3,
           3,
           3,
           3,
           3,
           3,
           3,
           3,
           3,
           3,
           3,
           3,
           3,
           3,
           3,
           3,
           3,
           3,
           3,
           3,
           3,
           3,
           3,
           3,
           3,
           3,
           3,
           3,
           3,
           3,
           3,
           3,
           3,
           3,
           3,
           3,
           3,
           3,
           3,
           3,
           3,
           3,
           3,
           3,
           3,
           3,
           3,
           3,
           3,
           3,
           3,
           3,
           3,
           3,
           3,
           3,
           3,
           3,
           3,
           3,
           3,
           3,
           3,
           3,
           3,
           3,
           3,
           3,
           3,
           3,
           3,
           3,
           3,
           3,
           3,
           3,
           3,
           3,
           3,
           3,
           3,
           3,
           3,
           3,
           3,
           3,
           3,
           3,
           3,
           3,
           3,
           3,
           3,
           3,
           3,
           3,
           3,
           3,
           3,
           3,
           3,
           3,
           3,
           3,
           3,
           3,
           3,
           3,
           3,
           3,
           3,
           3,
           3,
           3,
           3,
           3,
           3,
           3,
           3,
           3,
           3,
           3,
           3,
           3,
           3,
           3,
           3,
           3,
           3,
           3,
           3,
           3,
           3,
           3,
           3,
           3,
           3,
           3,
           3,
           3,
           3,
           3,
           3,
           3,
           3,
           3,
           3,
           3,
           3,
           3,
           3,
           3,
           3,
           3,
           3,
           3,
           3,
           3,
           3,
           3,
           3,
           3,
           3,
           3,
           3,
           3,
           3,
           3,
           3,
           3,
           3,
           3,
           3,
           3,
           3,
           3,
           3,
           3,
           3,
           3,
           3,
           3,
           3,
           3,
           3,
           3,
           3,
           3,
           3,
           3,
           3,
           3,
           3,
           3,
           3,
           3,
           3,
           3,
           3,
           3,
           3,
           3,
           3,
           3,
           3,
           3,
           3,
           3,
           3,
           3,
           3,
           3,
           3,
           3,
           3,
           3,
           3,
           3,
           3,
           3,
           3,
           3,
           3,
           3,
           3,
           3,
           3,
           3,
           3,
           3,
           3,
           3,
           3,
           3,
           3,
           3,
           3,
           3,
           3,
           3,
           3,
           3,
           3,
           3,
           3,
           3,
           3,
           3,
           3,
           3,
           3,
           3,
           3,
           3,
           3,
           3,
           3,
           3,
           3,
           3,
           3,
           3,
           3,
           3,
           3,
           3,
           3,
           3,
           3,
           3,
           3,
           3,
           3,
           3,
           3,
           3,
           3,
           3,
           3,
           3,
           3,
           3,
           3,
           3,
           3,
           3,
           3,
           3,
           3,
           3,
           3,
           3,
           3,
           3,
           3,
           3,
           3,
           3,
           3,
           3,
           3,
           3,
           3,
           3,
           3,
           3,
           3,
           3,
           3,
           3,
           3,
           3,
           3,
           3,
           3,
           3,
           3,
           3,
           3,
           3,
           3,
           3,
           3,
           3,
           3,
           3,
           3,
           3,
           3,
           3,
           3,
           3,
           3,
           3,
           3,
           3,
           3,
           3,
           3,
           3,
           3,
           3,
           3,
           3,
           3,
           3,
           3,
           3,
           3,
           3,
           3,
           3,
           3,
           3,
           3,
           3,
           3,
           3,
           3,
           3,
           3,
           3,
           3,
           3,
           3,
           3,
           3,
           3,
           3,
           3,
           3,
           3,
           3,
           3,
           3,
           3,
           3,
           3,
           3,
           3,
           3,
           3,
           3,
           3,
           3,
           3,
           3,
           3,
           3,
           3,
           3,
           3,
           3,
           3,
           3,
           3,
           3,
           3,
           3,
           3,
           3,
           3,
           3,
           3,
           3,
           3,
           3,
           3,
           3,
           3,
           3,
           3,
           3,
           3,
           3,
           3,
           3,
           3,
           3,
           3,
           3,
           3,
           3,
           3,
           3,
           3,
           3,
           3
          ],
          "coloraxis": "coloraxis",
          "size": [
           3,
           3,
           3,
           3,
           3,
           3,
           3,
           3,
           3,
           3,
           3,
           3,
           3,
           3,
           3,
           3,
           3,
           3,
           3,
           3,
           3,
           3,
           3,
           3,
           3,
           3,
           3,
           3,
           3,
           3,
           3,
           3,
           3,
           3,
           3,
           3,
           3,
           3,
           3,
           3,
           3,
           3,
           3,
           3,
           3,
           3,
           3,
           3,
           3,
           3,
           3,
           3,
           3,
           3,
           3,
           3,
           3,
           3,
           3,
           3,
           3,
           3,
           3,
           3,
           3,
           3,
           3,
           3,
           3,
           3,
           3,
           3,
           3,
           3,
           3,
           3,
           3,
           3,
           3,
           3,
           3,
           3,
           3,
           3,
           3,
           3,
           3,
           3,
           3,
           3,
           3,
           3,
           3,
           3,
           3,
           3,
           3,
           3,
           3,
           3,
           3,
           3,
           3,
           3,
           3,
           3,
           3,
           3,
           3,
           3,
           3,
           3,
           3,
           3,
           3,
           3,
           3,
           3,
           3,
           3,
           3,
           3,
           3,
           3,
           3,
           3,
           3,
           3,
           3,
           3,
           3,
           3,
           3,
           3,
           3,
           3,
           3,
           3,
           3,
           3,
           3,
           3,
           3,
           3,
           3,
           3,
           3,
           3,
           3,
           3,
           3,
           3,
           3,
           3,
           3,
           3,
           3,
           3,
           3,
           3,
           3,
           3,
           3,
           3,
           3,
           3,
           3,
           3,
           3,
           3,
           3,
           3,
           3,
           3,
           3,
           3,
           3,
           3,
           3,
           3,
           3,
           3,
           3,
           3,
           3,
           3,
           3,
           3,
           3,
           3,
           3,
           3,
           3,
           3,
           3,
           3,
           3,
           3,
           3,
           3,
           3,
           3,
           3,
           3,
           3,
           3,
           3,
           3,
           3,
           3,
           3,
           3,
           3,
           3,
           3,
           3,
           3,
           3,
           3,
           3,
           3,
           3,
           3,
           3,
           3,
           3,
           3,
           3,
           3,
           3,
           3,
           3,
           3,
           3,
           3,
           3,
           3,
           3,
           3,
           3,
           3,
           3,
           3,
           3,
           3,
           3,
           3,
           3,
           3,
           3,
           3,
           3,
           3,
           3,
           3,
           3,
           3,
           3,
           3,
           3,
           3,
           3,
           3,
           3,
           3,
           3,
           3,
           3,
           3,
           3,
           3,
           3,
           3,
           3,
           3,
           3,
           3,
           3,
           3,
           3,
           3,
           3,
           3,
           3,
           3,
           3,
           3,
           3,
           3,
           3,
           3,
           3,
           3,
           3,
           3,
           3,
           3,
           3,
           3,
           3,
           3,
           3,
           3,
           3,
           3,
           3,
           3,
           3,
           3,
           3,
           3,
           3,
           3,
           3,
           3,
           3,
           3,
           3,
           3,
           3,
           3,
           3,
           3,
           3,
           3,
           3,
           3,
           3,
           3,
           3,
           3,
           3,
           3,
           3,
           3,
           3,
           3,
           3,
           3,
           3,
           3,
           3,
           3,
           3,
           3,
           3,
           3,
           3,
           3,
           3,
           3,
           3,
           3,
           3,
           3,
           3,
           3,
           3,
           3,
           3,
           3,
           3,
           3,
           3,
           3,
           3,
           3,
           3,
           3,
           3,
           3,
           3,
           3,
           3,
           3,
           3,
           3,
           3,
           3,
           3,
           3,
           3,
           3,
           3,
           3,
           3,
           3,
           3,
           3,
           3,
           3,
           3,
           3,
           3,
           3,
           3,
           3,
           3,
           3,
           3,
           3,
           3,
           3,
           3,
           3,
           3,
           3,
           3,
           3,
           3,
           3,
           3,
           3,
           3,
           3,
           3,
           3,
           3,
           3,
           3,
           3,
           3,
           3,
           3,
           3,
           3,
           3,
           3,
           3,
           3,
           3,
           3,
           3,
           3,
           3,
           3,
           3,
           3,
           3,
           3,
           3,
           3,
           3,
           3,
           3,
           3,
           3,
           3,
           3,
           3,
           3,
           3,
           3,
           3,
           3,
           3,
           3,
           3,
           3,
           3,
           3,
           3,
           3,
           3,
           3,
           3,
           3,
           3,
           3,
           3,
           3,
           3,
           3,
           3,
           3,
           3,
           3,
           3,
           3,
           3,
           3,
           3,
           3,
           3,
           3,
           3,
           3,
           3,
           3,
           3,
           3,
           3,
           3,
           3,
           3,
           3,
           3,
           3,
           3,
           3,
           3,
           3,
           3,
           3,
           3,
           3,
           3,
           3,
           3,
           3,
           3,
           3,
           3,
           3,
           3,
           3,
           3,
           3,
           3,
           3,
           3,
           3,
           3,
           3,
           3,
           3,
           3,
           3,
           3,
           3,
           3,
           3,
           3,
           3,
           3,
           3,
           3,
           3,
           3,
           3,
           3,
           3,
           3,
           3,
           3,
           3,
           3,
           3,
           3,
           3,
           3,
           3,
           3,
           3,
           3,
           3,
           3,
           3,
           3,
           3,
           3,
           3,
           3,
           3,
           3,
           3,
           3,
           3,
           3,
           3,
           3,
           3,
           3,
           3,
           3,
           3,
           3,
           3,
           3
          ],
          "sizemode": "area",
          "sizeref": 0.0075,
          "symbol": "square"
         },
         "mode": "markers",
         "name": "3",
         "scene": "scene",
         "showlegend": true,
         "type": "scatter3d",
         "x": [
          "Pickup",
          "Lightning Rod",
          "Stakeout",
          "Speed Boost",
          "Synchronize",
          "Intimidate",
          "Gooey",
          "Damp",
          "Fluffy",
          "Unaware",
          "Keen Eye",
          "Gooey",
          "Cute Charm",
          "Oblivious",
          "Poison Point",
          "Prankster",
          "Levitate",
          "Wind Power",
          "Illuminate",
          "Thick Fat",
          "Water Veil",
          "Water Veil",
          "Big Pecks",
          "Soundproof",
          "Illuminate",
          "Shield Dust",
          "Compound Eyes",
          "Shield Dust",
          "Poison Point",
          "Ice Body",
          "Ice Body",
          "Ice Body",
          "Guts",
          "Guts",
          "Big Pecks",
          "Guts",
          "Swift Swim",
          "Leaf Guard",
          "Keen Eye",
          "Stench",
          "Chlorophyll",
          "Natural Cure",
          "Hyper Cutter",
          "Big Pecks",
          "Punk Rock",
          "Punk Rock",
          "Anticipation",
          "Rattled",
          "Merciless",
          "Keen Eye",
          "White Smoke",
          "Hustle",
          "Hustle",
          "Hustle",
          "Iron Barbs",
          "Solid Rock",
          "Mold Breaker",
          "Mold Breaker",
          "Mold Breaker",
          "Guts",
          "Guts",
          "Run Away",
          "Clear Body",
          "Clear Body",
          "Pickup",
          "IntimidateIntimidate",
          "Chlorophyll",
          "Chlorophyll",
          "Run Away",
          "Own Tempo",
          "Unaware",
          "Oblivious",
          "Keen Eye",
          "Liquid Ooze",
          "Leaf Guard",
          "Chlorophyll",
          "Chlorophyll",
          "Sturdy",
          "Stench",
          "Static",
          "Fluffy",
          "Intimidate",
          "Leaf Guard",
          "Rock Head",
          "Illuminate",
          "Illuminate",
          "Intimidate",
          "Intimidate",
          "Thick Fat",
          "Own Tempo",
          "Swarm",
          "Thick Fat",
          "Overcoat",
          "Intimidate",
          "Inner Focus",
          "Immunity",
          "Pressure",
          "Inner Focus",
          "Oblivious",
          "Own Tempo",
          "Magma Armor",
          "Oblivious",
          "Oblivious",
          "Oblivious",
          "Sap Sipper",
          "Stench",
          "Poison Point",
          "Battle Armor",
          "Cute Charm",
          "Chlorophyll",
          "Keen Eye",
          "Flash Fire",
          "Sand Spit",
          "Wonder Skin",
          "Insomnia",
          "Sturdy",
          "Effect Spore",
          "Unburden",
          "Rivalry",
          "Illuminate",
          "Chlorophyll",
          "Hydration",
          "Sticky Hold",
          "Sticky Hold",
          "Shell Armor",
          "Swarm",
          "Run Away",
          "Swift Swim",
          "Thick Fat",
          "Chlorophyll",
          "Thick Fat",
          "Swift Swim",
          "Poison Point",
          "Swarm",
          "Shed Skin",
          "Shed Skin",
          "Chlorophyll",
          "Poison Point",
          "Swarm",
          "Shield Dust",
          "Chlorophyll",
          "Sturdy",
          "Intimidate",
          "Sand Spit",
          "Keen Eye",
          "Keen Eye",
          "Natural Cure",
          "Natural Cure",
          "Keen Eye",
          "Steam Engine",
          "Sturdy",
          "Keen Eye",
          "Steadfast",
          "Honey Gather",
          "Lightning Rod",
          "Lightning Rod",
          "Lightning Rod",
          "Overcoat",
          "Hustle",
          "Swift Swim",
          "Run Away",
          "Run Away",
          "Run Away",
          "Synchronize",
          "Poison Point",
          "Damp",
          "Rivalry",
          "Thick Fat",
          "Limber",
          "Pickup",
          "Pickup",
          "Pickup",
          "Pickup",
          "Damp",
          "Sturdy",
          "Vital Spirit",
          "Trace",
          "Adaptability",
          "Trace",
          "Run Away",
          "Run Away",
          "Water Absorb",
          "Water Absorb",
          "Water Absorb",
          "Water Absorb",
          "Hyper Cutter",
          "Oblivious",
          "Keen Eye",
          "Big Pecks",
          "Keen Eye",
          "Keen Eye",
          "Keen Eye",
          "Natural Cure",
          "Chlorophyll",
          "Limber",
          "Battle Armor",
          "Keen Eye",
          "Defiant",
          "Volt Absorb",
          "Volt Absorb",
          "Static",
          "Run Away",
          "Effect Spore",
          "Effect Spore",
          "Iron Fist",
          "Iron Fist",
          "Swift Swim",
          "Poison Point",
          "IntimidateIntimidate",
          "Run Away",
          "Poison Point",
          "Swarm",
          "Inner Focus",
          "Rock Head",
          "Swift Swim",
          "Swift Swim",
          "Lingering AromaAroma Veil",
          "Suction Cups",
          "Reckless",
          "Chlorophyll",
          "Oblivious",
          "Sturdy",
          "Frisk",
          "Frisk",
          "Insomnia",
          "Poison Point",
          "Poison Point",
          "Poison Point",
          "Poison Point",
          "Poison Point",
          "Poison Point",
          "Run Away",
          "Synchronize",
          "Purifying Salt",
          "Purifying Salt",
          "Forewarn",
          "Insomnia",
          "Forewarn",
          "Pickup",
          "Stench",
          "Own Tempo",
          "Own Tempo",
          "Tangled Feet",
          "Soundproof",
          "Prankster",
          "Illuminate",
          "Cute Charm",
          "Soundproof",
          "Thick Fat",
          "Marvel Scale",
          "Intimidate",
          "Inner Focus",
          "Inner Focus",
          "Pickup",
          "Keen Eye",
          "Keen Eye",
          "Hyper Cutter",
          "Friend Guard",
          "Intimidate",
          "Rock Head",
          "Thick Fat",
          "Merciless",
          "Water Absorb",
          "Swift Swim",
          "Swift Swim",
          "Vital Spirit",
          "Static",
          "Big Pecks",
          "Oblivious",
          "Contrary",
          "Thick Fat",
          "Magnet Pull",
          "Magnet Pull",
          "Magnet Pull",
          "Magma Armor",
          "Guts",
          "Guts",
          "Guts",
          "Intimidate",
          "Keen Eye",
          "Keen Eye",
          "Rivalry",
          "Rivalry",
          "Swift Swim",
          "Swift Swim",
          "Steadfast",
          "Swift Swim",
          "Cute Charm",
          "Swift Swim",
          "Flash Fire",
          "Rivalry",
          "Pickup",
          "Vital Spirit",
          "Chlorophyll",
          "Limber",
          "Own Tempo",
          "Own Tempo",
          "Swarm",
          "Swarm",
          "Aroma Veil",
          "Swarm",
          "Water Absorb",
          "Volt Absorb",
          "Flash Fire",
          "Sturdy",
          "Intimidate",
          "Intimidate",
          "Hyper Cutter",
          "Bulletproof",
          "Levitate",
          "Plus",
          "Plus",
          "Swarm",
          "Anger Shell",
          "Plus",
          "Synchronize",
          "Hyper Cutter",
          "Swift Swim",
          "Defiant",
          "Wind Power",
          "Swarm",
          "Early Bird",
          "Synchronize",
          "Swift Swim",
          "Swift Swim",
          "Oblivious",
          "Chlorophyll",
          "Compound Eyes",
          "Cute Charm",
          "Water Absorb",
          "Bulletproof",
          "Contrary",
          "Inner Focus",
          "Own Tempo",
          "Prankster",
          "Oblivious",
          "Cute Charm",
          "Insomnia",
          "Early Bird",
          "Early Bird",
          "Swift Swim",
          "Chlorophyll",
          "Insomnia",
          "Insomnia",
          "Intimidate",
          "Limber",
          "Keen Eye",
          "Soundproof",
          "Inner Focus",
          "Sap Sipper",
          "Poison Point",
          "Chlorophyll",
          "Intimidate",
          "Sap Sipper",
          "Soundproof",
          "Keen Eye",
          "Rattled",
          "Strong Jaw",
          "Intimidate",
          "Intimidate",
          "Swarm",
          "Dry Skin",
          "Dry Skin",
          "Gluttony",
          "Rivalry",
          "Limber",
          "Healer",
          "Healer",
          "Healer",
          "Thick Fat",
          "Natural Cure",
          "Bulletproof",
          "Guts",
          "Stakeout",
          "Liquid Ooze",
          "Thick Fat",
          "Intimidate",
          "Prankster",
          "Stench",
          "Rock Head",
          "Intimidate",
          "Unburden",
          "Pickup",
          "Pickup",
          "Pickup",
          "Pickup",
          "Frisk",
          "Frisk",
          "Frisk",
          "Cotton Down",
          "Sap Sipper",
          "Sap Sipper",
          "Iron Fist",
          "Iron Fist",
          "Rock Head",
          "Damp",
          "Swift Swim",
          "Hyper Cutter",
          "Hyper Cutter",
          "Limber",
          "Inner Focus",
          "Inner Focus",
          "Sturdy",
          "Rock Head",
          "Sticky Hold",
          "Sticky Hold",
          "Purifying Salt",
          "Synchronize",
          "Stench",
          "Compound Eyes",
          "Steadfast",
          "Pickup",
          "Levitate",
          "Gluttony",
          "Curious Medicine",
          "Quick Draw",
          "Run Away",
          "Run Away",
          "Vital Spirit",
          "Pickup",
          "Pickup",
          "Run Away",
          "Water Absorb",
          "Rivalry",
          "Anticipation",
          "Ripen",
          "Scrappy",
          "Swift Swim",
          "Swift Swim",
          "Cud Chew",
          "Keen Eye",
          "Sand Rush",
          "Keen Eye",
          "Opportunist",
          "Swarm",
          "Telepathy",
          "Soundproof",
          "Static",
          "Cotton Down",
          "Intimidate",
          "Run Away",
          "Sturdy",
          "Swarm",
          "Light Metal",
          "Overcoat",
          "Serene Grace",
          "Sand Veil",
          "Serene Grace",
          "Keen Eye",
          "Fluffy",
          "Rough Skin",
          "Insomnia",
          "Sand Rush",
          "Aftermath",
          "Aftermath",
          "Clear Body",
          "Strong Jaw",
          "Battle Armor",
          "Berserk",
          "Clear Body",
          "Clear Body",
          "Poison Point",
          "Volt Absorb",
          "Water Absorb",
          "Swarm",
          "Unaware",
          "Run Away",
          "Run Away",
          "Sand Veil",
          "Pickup",
          "Thick Fat",
          "Vital Spirit",
          "Cute Charm",
          "Chlorophyll",
          "Chlorophyll",
          "Chlorophyll",
          "Chlorophyll",
          "Cheek Pouch",
          "Honey Gather",
          "Rock Head",
          "Snow Cloak",
          "Sturdy",
          "Anticipation",
          "Hyper Cutter",
          "Hyper Cutter",
          "Hyper Cutter",
          "Prankster",
          "Keen Eye",
          "Pressure",
          "Hustle",
          "Hyper Cutter",
          "Guts",
          "Flower Veil",
          "Steam Engine",
          "Shell Armor",
          "Poison Point",
          "Cute Charm",
          "Cute Charm",
          "Cute Charm",
          "Cute Charm",
          "Volt Absorb",
          "Strong Jaw",
          "Keen Eye",
          "Natural Cure",
          "Flash Fire",
          "Thick Fat",
          "Thick Fat",
          "Flash Fire",
          "Solid Rock",
          "Steam Engine",
          "Chlorophyll",
          "Magma Armor",
          "Pickup",
          "Run Away",
          "Natural Cure",
          "Dazzling",
          "Levitate",
          "Levitate",
          "Effect Spore",
          "Keen Eye",
          "Leaf Guard",
          "Reckless",
          "Sturdy",
          "Big Pecks",
          "Sturdy",
          "Lightning Rod",
          "Natural Cure",
          "Swarm",
          "Defiant",
          "Tough Claws",
          "Simple",
          "Simple",
          "Fluffy",
          "Own Tempo",
          "Electromorphosis",
          "Telepathy",
          "Snow Cloak",
          "Reckless",
          "Rock Head",
          "Swift Swim",
          "Swift Swim",
          "Oblivious",
          "Tough Claws",
          "Insomnia",
          "Thick Fat",
          "Thick Fat",
          "Rivalry",
          "Own Tempo",
          "Healer",
          "Sturdy",
          "Swarm",
          "Volt Absorb",
          "Water Absorb",
          "Intimidate",
          "Intimidate",
          "Ripen",
          "Ripen",
          "Vital Spirit",
          "Technician",
          "Healer",
          "Gluttony",
          "Gluttony",
          "Fur Coat",
          "Poison Touch",
          "Pickup",
          "Cursed Body",
          "Poison Touch",
          "Magnet Pull",
          "Magnet Pull",
          "Magnet Pull",
          "Sand Veil",
          "Sand Veil",
          "Synchronize",
          "Run Away",
          "Sturdy",
          "Rock Head",
          "Hydration",
          "Pressure",
          "Synchronize"
         ],
         "y": [
          "Gluttony",
          "Motor Drive",
          "Strong Jaw",
          "Compound Eyes",
          "Early Bird",
          "Frisk",
          "Rattled",
          "Water Absorb",
          "Run Away",
          "Klutz",
          "Hydration",
          "Rattled",
          "Competitive",
          "Anticipation",
          "Swarm",
          "Infiltrator",
          "Neutralizing Gas",
          "Volt Absorb",
          "Keen Eye",
          "Ice Body",
          "Oblivious",
          "Oblivious",
          "Overcoat",
          "Static",
          "Swarm",
          "Compound Eyes",
          "Tinted Lens",
          "Tinted Lens",
          "Swarm",
          "Snow Warning",
          "Snow Cloak",
          "Snow Cloak",
          "Quick Feet",
          "Bulletproof",
          "Super Luck",
          "Steadfast",
          "Hydration",
          "Queenly Majesty",
          "Skill Link",
          "Sticky Hold",
          "Solar Power",
          "Frisk",
          "Arena Trap",
          "Super Luck",
          "Minus",
          "Plus",
          "Dry Skin",
          "Static",
          "Limber",
          "Skill Link",
          "Drought",
          "Serene Grace",
          "Serene Grace",
          "Serene Grace",
          "Lightning Rod",
          "Sturdy",
          "Own Tempo",
          "Own Tempo",
          "Own Tempo",
          "Sheer Force",
          "Inner Focus",
          "Unburden",
          "Liquid Ooze",
          "Liquid Ooze",
          "Quick Feet",
          "Anger PointAnger Point",
          "Leaf Guard",
          "Leaf Guard",
          "Pickup",
          "Static",
          "Klutz",
          "Snow Cloak",
          "Big Pecks",
          "Sticky Hold",
          "Chlorophyll",
          "Solar Power",
          "Solar Power",
          "Rock Head",
          "Aftermath",
          "Limber",
          "Klutz",
          "Sand Rush",
          "Oblivious",
          "Sturdy",
          "Natural Cure",
          "Natural Cure",
          "Frisk",
          "Guts",
          "Own Tempo",
          "Tangled Feet",
          "Insomnia",
          "Ice Body",
          "Magic Guard",
          "Run Away",
          "Ice Body",
          "Thick Fat",
          "Unburden",
          "Keen Eye",
          "Forewarn",
          "Technician",
          "Flame Body",
          "Own Tempo",
          "Own Tempo",
          "Own Tempo",
          "Hydration",
          "Aftermath",
          "Poison Touch",
          "Sniper",
          "Normalize",
          "Leaf Guard",
          "Sturdy",
          "White Smoke",
          "Shed Skin",
          "Magic Guard",
          "Frisk",
          "Gluttony",
          "Poison Heal",
          "Pickpocket",
          "Intimidate",
          "Effect Spore",
          "Early Bird",
          "Shell Armor",
          "Storm Drain",
          "Storm Drain",
          "Skill Link",
          "Chlorophyll",
          "Keen Eye",
          "Poison Touch",
          "Hydration",
          "Early Bird",
          "Ice Body",
          "Water Veil",
          "Sniper",
          "Technician",
          "Moxie",
          "Moxie",
          "Insomnia",
          "Swarm",
          "Technician",
          "Compound Eyes",
          "Sap Sipper",
          "Inner Focus",
          "Moxie",
          "Shed Skin",
          "Stall",
          "Sheer Force",
          "Poison Point",
          "Poison Point",
          "Unnerve",
          "Heatproof",
          "Weak Armor",
          "Vital Spirit",
          "Inner Focus",
          "Shield Dust",
          "Solid Rock",
          "Rock Head",
          "Rock Head",
          "Magic Guard",
          "Sniper",
          "Rock Head",
          "Guts",
          "Guts",
          "Flash Fire",
          "Trace",
          "Swift Swim",
          "Water Absorb",
          "Unnerve",
          "Own Tempo",
          "Unburden",
          "Frisk",
          "Frisk",
          "Frisk",
          "Frisk",
          "Cloud Nine",
          "Magnet Pull",
          "Anger Point",
          "Download",
          "Download",
          "Download",
          "Quick Feet",
          "Flash Fire",
          "Damp",
          "Damp",
          "Damp",
          "Damp",
          "Mold Breaker",
          "Snow Cloak",
          "Skill Link",
          "Super Luck",
          "Tangled Feet",
          "Tangled Feet",
          "Tangled Feet",
          "Frisk",
          "Own Tempo",
          "Technician",
          "Tough Claws",
          "Drizzle",
          "Inner Focus",
          "Natural Cure",
          "Natural Cure",
          "Natural Cure",
          "Keen Eye",
          "Dry Skin",
          "Dry Skin",
          "Mold Breaker",
          "Mold Breaker",
          "Hydration",
          "Water Absorb",
          "Anger PointAnger Point",
          "Pickup",
          "Swift Swim",
          "Frisk",
          "Telepathy",
          "Sturdy",
          "Shell Armor",
          "Shell Armor",
          "GluttonyGluttony",
          "Sniper",
          "Guts",
          "Early Bird",
          "Simple",
          "Magnet Pull",
          "Infiltrator",
          "Infiltrator",
          "Keen Eye",
          "Rivalry",
          "Rivalry",
          "Rivalry",
          "Rivalry",
          "Rivalry",
          "Rivalry",
          "Unburden",
          "Early Bird",
          "Sturdy",
          "Sturdy",
          "Synchronize",
          "Super Luck",
          "Synchronize",
          "Thick Fat",
          "Sticky Hold",
          "Stamina",
          "Stamina",
          "Screen Cleaner",
          "Filter",
          "Frisk",
          "Effect Spore",
          "Technician",
          "Filter",
          "Scrappy",
          "Competitive",
          "Quick Feet",
          "Regenerator",
          "Regenerator",
          "Technician",
          "Infiltrator",
          "Infiltrator",
          "Intimidate",
          "Cheek Pouch",
          "Run Away",
          "Lightning Rod",
          "Huge Power",
          "Limber",
          "Chlorophyll",
          "Water Absorb",
          "Water Absorb",
          "Anger Point",
          "Lightning Rod",
          "Overcoat",
          "Snow Cloak",
          "Suction Cups",
          "Guts",
          "Sturdy",
          "Sturdy",
          "Sturdy",
          "Flame Body",
          "No Guard",
          "No Guard",
          "No Guard",
          "Guard Dog",
          "Vital Spirit",
          "Sand Rush",
          "Intimidate",
          "Intimidate",
          "Storm Drain",
          "Rain Dish",
          "Inner Focus",
          "Rain Dish",
          "Klutz",
          "Rain Dish",
          "Flame Body",
          "Unnerve",
          "Gluttony",
          "Pickup",
          "Own Tempo",
          "Unburden",
          "Oblivious",
          "Oblivious",
          "Early Bird",
          "Early Bird",
          "Gluttony",
          "Chlorophyll",
          "Shell Armor",
          "Illuminate",
          "Flame Body",
          "Rock Head",
          "Moxie",
          "Moxie",
          "Shell Armor",
          "Soundproof",
          "Neutralizing Gas",
          "Minus",
          "Minus",
          "Sheer Force",
          "Shell Armor",
          "Minus",
          "Trace",
          "Shell Armor",
          "Sniper",
          "Supreme Overlord",
          "Volt Absorb",
          "Shed Skin",
          "Scrappy",
          "Inner Focus",
          "Battle Armor",
          "Battle Armor",
          "Forewarn",
          "Leaf Guard",
          "Unnerve",
          "Competitive",
          "Cursed Body",
          "Soundproof",
          "Suction Cups",
          "Synchronize",
          "Synchronize",
          "Frisk",
          "Tinted Lens",
          "Competitive",
          "Forewarn",
          "Flash Fire",
          "Flash Fire",
          "Sniper",
          "Leaf Guard",
          "Keen Eye",
          "Super Luck",
          "Technician",
          "Reckless",
          "Iron Fist",
          "Static",
          "Keen Eye",
          "Shell Armor",
          "Swift Swim",
          "Hustle",
          "Flash Fire",
          "Shell Armor",
          "Static",
          "Sheer Force",
          "Adaptability",
          "Ice Body",
          "Flash Fire",
          "Sand Rush",
          "Guts",
          "Sand Veil",
          "Sand Veil",
          "Flash Fire",
          "Mold Breaker",
          "Unburden",
          "Anticipation",
          "Anticipation",
          "Anticipation",
          "Guts",
          "Serene Grace",
          "Soundproof",
          "Sheer Force",
          "Strong Jaw",
          "Sticky Hold",
          "Own Tempo",
          "Flash Fire",
          "Frisk",
          "Sticky Hold",
          "Sturdy",
          "Quick Feet",
          "Poison Touch",
          "Frisk",
          "Frisk",
          "Frisk",
          "Frisk",
          "Competitive",
          "Competitive",
          "Competitive",
          "Regenerator",
          "Hydration",
          "Hydration",
          "Klutz",
          "Klutz",
          "Sturdy",
          "Cloud Nine",
          "Water Veil",
          "Sand Veil",
          "Sand Veil",
          "Own Tempo",
          "Ice Body",
          "Early Bird",
          "Sand Stream",
          "Sturdy",
          "Storm Drain",
          "Storm Drain",
          "Sturdy",
          "Trace",
          "Weak Armor",
          "Unnerve",
          "Sharpness",
          "Gluttony",
          "Neutralizing Gas",
          "Own Tempo",
          "Own Tempo",
          "Own Tempo",
          "Pastel Veil",
          "Pastel Veil",
          "Screen Cleaner",
          "Tough Claws",
          "Gluttony",
          "Keen Eye",
          "Cursed Body",
          "Mold Breaker",
          "Frisk",
          "Gluttony",
          "Tangled Feet",
          "Storm Drain",
          "Oblivious",
          "Armor Tail",
          "Inner Focus",
          "Sand Force",
          "Infiltrator",
          "Frisk",
          "Shell Armor",
          "Synchronize",
          "Static",
          "Lightning Rod",
          "Regenerator",
          "Shed Skin",
          "Adaptability",
          "Shell Armor",
          "Hustle",
          "Heavy Metal",
          "Magic Guard",
          "Run Away",
          "Arena Trap",
          "Run Away",
          "Big Pecks",
          "Steadfast",
          "Sheer Force",
          "Forewarn",
          "Sand Force",
          "Unburden",
          "Unburden",
          "Infiltrator",
          "Shell Armor",
          "Sniper",
          "Sap Sipper",
          "Infiltrator",
          "Infiltrator",
          "Poison Touch",
          "Hustle",
          "Strong Jaw",
          "Compound Eyes",
          "Oblivious",
          "Early Bird",
          "Early Bird",
          "Arena Trap",
          "Cheek Pouch",
          "Hydration",
          "Hustle",
          "Normalize",
          "Sap Sipper",
          "Sap Sipper",
          "Sap Sipper",
          "Sap Sipper",
          "Pickup",
          "Shield Dust",
          "Lightning Rod",
          "Slush Rush",
          "Shell Armor",
          "Dry Skin",
          "Shell Armor",
          "Iron Fist",
          "Iron Fist",
          "Infiltrator",
          "Unnerve",
          "Unnerve",
          "Natural Cure",
          "Shell Armor",
          "Sheer Force",
          "Triage",
          "Flame Body",
          "Skill Link",
          "Water Absorb",
          "Magic Guard",
          "Magic Guard",
          "Magic Guard",
          "Technician",
          "Illuminate",
          "Shell Armor",
          "Tangled Feet",
          "Serene Grace",
          "Flame Body",
          "Snow Cloak",
          "Slush Rush",
          "White Smoke",
          "Sturdy",
          "Flame Body",
          "Insomnia",
          "Solid Rock",
          "Cheek Pouch",
          "Klutz",
          "Poison Point",
          "Strong Jaw",
          "Heatproof",
          "Heatproof",
          "Poison Heal",
          "Sheer Force",
          "Oblivious",
          "Sap Sipper",
          "Rock Head",
          "Keen Eye",
          "Weak Armor",
          "Motor Drive",
          "Serene Grace",
          "Compound Eyes",
          "Inner Focus",
          "Sniper",
          "Unaware",
          "Unaware",
          "Klutz",
          "Ice Body",
          "Static",
          "Synchronize",
          "Slush Rush",
          "Adaptability",
          "Adaptability",
          "Adaptability",
          "Adaptability",
          "Anticipation",
          "Sniper",
          "Frisk",
          "Huge Power",
          "Huge Power",
          "Mold Breaker",
          "Ice Body",
          "Regenerator",
          "Rock Head",
          "Insomnia",
          "Static",
          "Ice Body",
          "Flash Fire",
          "Shed Skin",
          "Gluttony",
          "Gluttony",
          "Inner Focus",
          "Pickup",
          "Hydration",
          "Hustle",
          "Hustle",
          "Technician",
          "Gluttony",
          "Technician",
          "Lightning Rod",
          "Gluttony",
          "Sturdy",
          "Sturdy",
          "Sturdy",
          "Tangling Hair",
          "Tangling Hair",
          "Inner Focus",
          "Pickup",
          "Rock Head",
          "Pressure",
          "Sticky Hold",
          "Super Luck",
          "Inner Focus"
         ],
         "z": [
          "Quick Feet",
          "Sap Sipper",
          "Adaptability",
          "Frisk",
          "Magic Bounce",
          "Sap Sipper",
          "Sand Veil",
          "Unaware",
          "Bulletproof",
          "Simple",
          "Rain Dish",
          "Sand Veil",
          "Frisk",
          "Hydration",
          "Speed Boost",
          "Chlorophyll",
          "Stench",
          "Competitive",
          "Analytic",
          "Oblivious",
          "Pressure",
          "Pressure",
          "Weak Armor",
          "Aftermath",
          "Prankster",
          "Friend Guard",
          "Run Away",
          "Wonder Skin",
          "Speed Boost",
          "Weak Armor",
          "Weak Armor",
          "Weak Armor",
          "Unnerve",
          "Unnerve",
          "Rivalry",
          "Vital Spirit",
          "Water Absorb",
          "Sweet Veil",
          "Pickup",
          "Aftermath",
          "Harvest",
          "Harvest",
          "Sheer Force",
          "Rivalry",
          "Technician",
          "Technician",
          "Poison Touch",
          "Klutz",
          "Regenerator",
          "Sheer Force",
          "Shell Armor",
          "Super Luck",
          "Super Luck",
          "Super Luck",
          "Sturdy",
          "Swift Swim",
          "Pickpocket",
          "Pickpocket",
          "Pickpocket",
          "Iron Fist",
          "Mold Breaker",
          "Stakeout",
          "Rain Dish",
          "Rain Dish",
          "Honey Gather",
          "Cud ChewSheer Force",
          "Regenerator",
          "Regenerator",
          "Own Tempo",
          "Damp",
          "Simple",
          "Thick Fat",
          "Hydration",
          "Gluttony",
          "Overcoat",
          "Early Bird",
          "Early Bird",
          "Rattled",
          "Keen Eye",
          "Sand Veil",
          "Cute Charm",
          "Scrappy",
          "Sweet Veil",
          "Sheer Force",
          "Analytic",
          "Analytic",
          "Sap Sipper",
          "Sheer Force",
          "Gluttony",
          "Contrary",
          "Sniper",
          "Oblivious",
          "Regenerator",
          "Rattled",
          "Moody",
          "Gluttony",
          "Poison Touch",
          "Pickpocket",
          "Hydration",
          "Moody",
          "Weak Armor",
          "Regenerator",
          "Regenerator",
          "Regenerator",
          "Gooey",
          "Keen Eye",
          "Adaptability",
          "Keen Eye",
          "Wonder Skin",
          "Infiltrator",
          "Weak Armor",
          "Flame Body",
          "Sand Veil",
          "Tinted Lens",
          "Cursed Body",
          "Contrary",
          "Quick Feet",
          "Prankster",
          "Guts",
          "Rain Dish",
          "Pickpocket",
          "Overcoat",
          "Sand Force",
          "Sand Force",
          "Overcoat",
          "Overcoat",
          "Frisk",
          "Water Absorb",
          "Ice Body",
          "Pickpocket",
          "Oblivious",
          "Lightning Rod",
          "Damp",
          "Steadfast",
          "Intimidate",
          "Intimidate",
          "Moody",
          "Speed Boost",
          "Light Metal",
          "Friend Guard",
          "Serene Grace",
          "Mold Breaker",
          "Anger Point",
          "Sand Veil",
          "Prankster",
          "Hustle",
          "Technician",
          "Leaf Guard",
          "Big Pecks",
          "Flash Fire",
          "Sand Force",
          "Steadfast",
          "Prankster",
          "Sweet Veil",
          "Reckless",
          "Reckless",
          "Reckless",
          "Regenerator",
          "Moody",
          "Sturdy",
          "Hustle",
          "Hustle",
          "Flame Body",
          "Telepathy",
          "Intimidate",
          "Unaware",
          "Moxie",
          "Defiant",
          "Prankster",
          "Insomnia",
          "Insomnia",
          "Insomnia",
          "Insomnia",
          "Swift Swim",
          "Sand Force",
          "Defiant",
          "Analytic",
          "Analytic",
          "Analytic",
          "Rattled",
          "Flame Body",
          "Swift Swim",
          "Swift Swim",
          "Swift Swim",
          "Drizzle",
          "Moxie",
          "Thick Fat",
          "Pickup",
          "Rivalry",
          "Big Pecks",
          "Big Pecks",
          "Big Pecks",
          "Harvest",
          "Leaf Guard",
          "Unnerve",
          "Steely Spirit",
          "Rain Dish",
          "Pressure",
          "Iron Fist",
          "Iron Fist",
          "Iron Fist",
          "Analytic",
          "Damp",
          "Damp",
          "Scrappy",
          "Scrappy",
          "Water Absorb",
          "Unaware",
          "Cud ChewCud Chew",
          "Volt Absorb",
          "Intimidate",
          "Telepathy",
          "Symbiosis",
          "Weak Armor",
          "Weak Armor",
          "Weak Armor",
          "Thick FatThick Fat",
          "Moody",
          "Defiant",
          "Pickpocket",
          "Own Tempo",
          "Sand Force",
          "Telepathy",
          "Telepathy",
          "Tinted Lens",
          "Hustle",
          "Hustle",
          "Hustle",
          "Hustle",
          "Sheer Force",
          "Sheer Force",
          "Stakeout",
          "Magic Bounce",
          "Clear Body",
          "Clear Body",
          "Telepathy",
          "Prankster",
          "Telepathy",
          "Gluttony",
          "Poison Touch",
          "Inner Focus",
          "Inner Focus",
          "Ice Body",
          "Technician",
          "Pickpocket",
          "Rain Dish",
          "Skill Link",
          "Technician",
          "Sap Sipper",
          "Cute Charm",
          "Moxie",
          "Reckless",
          "Reckless",
          "Unnerve",
          "Prankster",
          "Competitive",
          "Sheer Force",
          "Technician",
          "Stakeout",
          "Battle Armor",
          "Sap Sipper",
          "Regenerator",
          "Storm Drain",
          "Water Veil",
          "Water Veil",
          "Defiant",
          "Minus",
          "Weak Armor",
          "Thick Fat",
          "Infiltrator",
          "Sheer Force",
          "Analytic",
          "Analytic",
          "Analytic",
          "Weak Armor",
          "Steadfast",
          "Steadfast",
          "Steadfast",
          "Stakeout",
          "No Guard",
          "Steadfast",
          "Guts",
          "Guts",
          "Water Veil",
          "Own Tempo",
          "Justified",
          "Own Tempo",
          "Limber",
          "Own Tempo",
          "Infiltrator",
          "Moxie",
          "Quick Feet",
          "Run Away",
          "Leaf Guard",
          "Prankster",
          "Cloud Nine",
          "Cloud Nine",
          "Rattled",
          "Iron Fist",
          "Thick Fat",
          "Overcoat",
          "Hydration",
          "Water Absorb",
          "Infiltrator",
          "Heavy Metal",
          "Anger Point",
          "Anger Point",
          "Sheer Force",
          "Overcoat",
          "Stench",
          "Clear Body",
          "Clear Body",
          "Sharpness",
          "Regenerator",
          "Clear Body",
          "Telepathy",
          "Sheer Force",
          "Damp",
          "Pressure",
          "Competitive",
          "No Guard",
          "Inner Focus",
          "Magic Guard",
          "Weak Armor",
          "Weak Armor",
          "Dry Skin",
          "Infiltrator",
          "Swarm",
          "Friend Guard",
          "Damp",
          "Overcoat",
          "Infiltrator",
          "Psychic Surge",
          "Psychic Surge",
          "Pickpocket",
          "Prankster",
          "Friend Guard",
          "Inner Focus",
          "Unnerve",
          "Unnerve",
          "Damp",
          "Infiltrator",
          "Tinted Lens",
          "Moxie",
          "Steadfast",
          "Unburden",
          "Inner Focus",
          "Aftermath",
          "Pickpocket",
          "Gooey",
          "Intimidate",
          "Leaf Guard",
          "Rock Head",
          "Gooey",
          "Aftermath",
          "Tinted Lens",
          "Mold Breaker",
          "Sturdy",
          "Rock Head",
          "Scrappy",
          "Moxie",
          "Solar Power",
          "Solar Power",
          "White Smoke",
          "Unnerve",
          "Mold Breaker",
          "Magic Bounce",
          "Magic Bounce",
          "Magic Bounce",
          "Sheer Force",
          "Friend Guard",
          "Overcoat",
          "Iron Fist",
          "Adaptability",
          "Gluttony",
          "Gluttony",
          "Justified",
          "Pickpocket",
          "Poison Touch",
          "Sand Veil",
          "Rattled",
          "Prankster",
          "Insomnia",
          "Insomnia",
          "Insomnia",
          "Insomnia",
          "Shadow Tag",
          "Shadow Tag",
          "Shadow Tag",
          "Effect Spore",
          "Gooey",
          "Gooey",
          "No Guard",
          "No Guard",
          "Sand Veil",
          "Swift Swim",
          "Lightning Rod",
          "Poison Heal",
          "Immunity",
          "Keen Eye",
          "Moody",
          "Sap Sipper",
          "Sand Force",
          "Sand Veil",
          "Sand Force",
          "Sand Force",
          "Clear Body",
          "Telepathy",
          "Aftermath",
          "Swarm",
          "Justified",
          "Quick Feet",
          "Misty Surge",
          "Regenerator",
          "Regenerator",
          "Regenerator",
          "Anticipation",
          "Anticipation",
          "Ice Body",
          "Unnerve",
          "Quick Feet",
          "Frisk",
          "Damp",
          "Unnerve",
          "Speed Boost",
          "Hustle",
          "Costar",
          "Water Veil",
          "Adaptability",
          "Sap Sipper",
          "Defiant",
          "Mold Breaker",
          "Own Tempo",
          "Speed Boost",
          "Overcoat",
          "Analytic",
          "Aftermath",
          "Minus",
          "Effect Spore",
          "Unnerve",
          "Anticipation",
          "Weak Armor",
          "Truant",
          "Stalwart",
          "Regenerator",
          "Rattled",
          "Sand Force",
          "Rattled",
          "Hydration",
          "Bulletproof",
          "Mold Breaker",
          "Inner Focus",
          "Mold Breaker",
          "Flare Boost",
          "Flare Boost",
          "Cursed Body",
          "Swift Swim",
          "Keen Eye",
          "Cloud Nine",
          "Cursed Body",
          "Cursed Body",
          "Adaptability",
          "Sand Rush",
          "Sand Rush",
          "Telepathy",
          "Water Veil",
          "Tangled Feet",
          "Tangled Feet",
          "Sand Force",
          "Huge Power",
          "Ice Body",
          "Insomnia",
          "Wonder Skin",
          "Serene Grace",
          "Serene Grace",
          "Serene Grace",
          "Serene Grace",
          "Plus",
          "Sweet Veil",
          "Battle Armor",
          "Rattled",
          "Weak Armor",
          "Poison Touch",
          "Adaptability",
          "Anger Point",
          "Anger Point",
          "Chlorophyll",
          "Big Pecks",
          "Mirror Armor",
          "Regenerator",
          "Adaptability",
          "Iron Fist",
          "Natural Cure",
          "Flash Fire",
          "Overcoat",
          "Unaware",
          "Friend Guard",
          "Friend Guard",
          "Unaware",
          "Skill Link",
          "Water Absorb",
          "Swift Swim",
          "Big Pecks",
          "Healer",
          "Infiltrator",
          "Sheer Force",
          "Sheer Force",
          "Flame Body",
          "Swift Swim",
          "Flash Fire",
          "Klutz",
          "Anger Point",
          "Huge Power",
          "Limber",
          "Leaf Guard",
          "Wonder Skin",
          "Heavy Metal",
          "Heavy Metal",
          "Technician",
          "Defiant",
          "Sweet Veil",
          "Soundproof",
          "Rattled",
          "Rocky Payload",
          "Sand Force",
          "Sap Sipper",
          "Healer",
          "Telepathy",
          "Pressure",
          "Pickpocket",
          "Moody",
          "Moody",
          "Unnerve",
          "Sturdy",
          "Damp",
          "Analytic",
          "Swift Swim",
          "Mold Breaker",
          "Mold Breaker",
          "Mold Breaker",
          "Mold Breaker",
          "Hydration",
          "Pickpocket",
          "Cursed Body",
          "Sap Sipper",
          "Sap Sipper",
          "Unnerve",
          "Sturdy",
          "Klutz",
          "Heavy Metal",
          "Sniper",
          "Slush Rush",
          "Slush Rush",
          "Justified",
          "Unnerve",
          "Bulletproof",
          "Thick Fat",
          "Defiant",
          "Skill Link",
          "Regenerator",
          "Thick Fat",
          "Thick Fat",
          "Rattled",
          "Power of Alchemy",
          "Rattled",
          "Rock Head",
          "Power of Alchemy",
          "Galvanize",
          "Galvanize",
          "Galvanize",
          "Sand Force",
          "Sand Force",
          "Magic Guard",
          "Skill Link",
          "Heavy Metal",
          "Unnerve",
          "Unburden",
          "Justified",
          "Magic Guard"
         ]
        }
       ],
       "layout": {
        "coloraxis": {
         "colorbar": {
          "len": 150,
          "lenmode": "pixels",
          "ticktext": [
           "Ability1",
           "Ability2",
           "Ability_Hidden"
          ],
          "tickvals": [
           1,
           2,
           3
          ],
          "title": {
           "text": "Ability of Pokemon"
          }
         },
         "colorscale": [
          [
           0,
           "#0d0887"
          ],
          [
           0.1111111111111111,
           "#46039f"
          ],
          [
           0.2222222222222222,
           "#7201a8"
          ],
          [
           0.3333333333333333,
           "#9c179e"
          ],
          [
           0.4444444444444444,
           "#bd3786"
          ],
          [
           0.5555555555555556,
           "#d8576b"
          ],
          [
           0.6666666666666666,
           "#ed7953"
          ],
          [
           0.7777777777777778,
           "#fb9f3a"
          ],
          [
           0.8888888888888888,
           "#fdca26"
          ],
          [
           1,
           "#f0f921"
          ]
         ],
         "showscale": false
        },
        "legend": {
         "itemsizing": "constant",
         "title": {
          "text": "Ability_Number"
         },
         "tracegroupgap": 0
        },
        "margin": {
         "t": 60
        },
        "scene": {
         "domain": {
          "x": [
           0,
           1
          ],
          "y": [
           0,
           1
          ]
         },
         "xaxis": {
          "gridcolor": "gray",
          "showticklabels": false,
          "title": {
           "text": "Ability1"
          }
         },
         "yaxis": {
          "gridcolor": "gray",
          "showticklabels": false,
          "title": {
           "text": "Ability2"
          }
         },
         "zaxis": {
          "gridcolor": "gray",
          "showticklabels": false,
          "title": {
           "text": "Ability_Hidden"
          }
         }
        },
        "template": {
         "data": {
          "bar": [
           {
            "error_x": {
             "color": "#2a3f5f"
            },
            "error_y": {
             "color": "#2a3f5f"
            },
            "marker": {
             "line": {
              "color": "#E5ECF6",
              "width": 0.5
             }
            },
            "type": "bar"
           }
          ],
          "barpolar": [
           {
            "marker": {
             "line": {
              "color": "#E5ECF6",
              "width": 0.5
             }
            },
            "type": "barpolar"
           }
          ],
          "carpet": [
           {
            "aaxis": {
             "endlinecolor": "#2a3f5f",
             "gridcolor": "white",
             "linecolor": "white",
             "minorgridcolor": "white",
             "startlinecolor": "#2a3f5f"
            },
            "baxis": {
             "endlinecolor": "#2a3f5f",
             "gridcolor": "white",
             "linecolor": "white",
             "minorgridcolor": "white",
             "startlinecolor": "#2a3f5f"
            },
            "type": "carpet"
           }
          ],
          "choropleth": [
           {
            "colorbar": {
             "outlinewidth": 0,
             "ticks": ""
            },
            "type": "choropleth"
           }
          ],
          "contour": [
           {
            "colorbar": {
             "outlinewidth": 0,
             "ticks": ""
            },
            "colorscale": [
             [
              0,
              "#0d0887"
             ],
             [
              0.1111111111111111,
              "#46039f"
             ],
             [
              0.2222222222222222,
              "#7201a8"
             ],
             [
              0.3333333333333333,
              "#9c179e"
             ],
             [
              0.4444444444444444,
              "#bd3786"
             ],
             [
              0.5555555555555556,
              "#d8576b"
             ],
             [
              0.6666666666666666,
              "#ed7953"
             ],
             [
              0.7777777777777778,
              "#fb9f3a"
             ],
             [
              0.8888888888888888,
              "#fdca26"
             ],
             [
              1,
              "#f0f921"
             ]
            ],
            "type": "contour"
           }
          ],
          "contourcarpet": [
           {
            "colorbar": {
             "outlinewidth": 0,
             "ticks": ""
            },
            "type": "contourcarpet"
           }
          ],
          "heatmap": [
           {
            "colorbar": {
             "outlinewidth": 0,
             "ticks": ""
            },
            "colorscale": [
             [
              0,
              "#0d0887"
             ],
             [
              0.1111111111111111,
              "#46039f"
             ],
             [
              0.2222222222222222,
              "#7201a8"
             ],
             [
              0.3333333333333333,
              "#9c179e"
             ],
             [
              0.4444444444444444,
              "#bd3786"
             ],
             [
              0.5555555555555556,
              "#d8576b"
             ],
             [
              0.6666666666666666,
              "#ed7953"
             ],
             [
              0.7777777777777778,
              "#fb9f3a"
             ],
             [
              0.8888888888888888,
              "#fdca26"
             ],
             [
              1,
              "#f0f921"
             ]
            ],
            "type": "heatmap"
           }
          ],
          "heatmapgl": [
           {
            "colorbar": {
             "outlinewidth": 0,
             "ticks": ""
            },
            "colorscale": [
             [
              0,
              "#0d0887"
             ],
             [
              0.1111111111111111,
              "#46039f"
             ],
             [
              0.2222222222222222,
              "#7201a8"
             ],
             [
              0.3333333333333333,
              "#9c179e"
             ],
             [
              0.4444444444444444,
              "#bd3786"
             ],
             [
              0.5555555555555556,
              "#d8576b"
             ],
             [
              0.6666666666666666,
              "#ed7953"
             ],
             [
              0.7777777777777778,
              "#fb9f3a"
             ],
             [
              0.8888888888888888,
              "#fdca26"
             ],
             [
              1,
              "#f0f921"
             ]
            ],
            "type": "heatmapgl"
           }
          ],
          "histogram": [
           {
            "marker": {
             "colorbar": {
              "outlinewidth": 0,
              "ticks": ""
             }
            },
            "type": "histogram"
           }
          ],
          "histogram2d": [
           {
            "colorbar": {
             "outlinewidth": 0,
             "ticks": ""
            },
            "colorscale": [
             [
              0,
              "#0d0887"
             ],
             [
              0.1111111111111111,
              "#46039f"
             ],
             [
              0.2222222222222222,
              "#7201a8"
             ],
             [
              0.3333333333333333,
              "#9c179e"
             ],
             [
              0.4444444444444444,
              "#bd3786"
             ],
             [
              0.5555555555555556,
              "#d8576b"
             ],
             [
              0.6666666666666666,
              "#ed7953"
             ],
             [
              0.7777777777777778,
              "#fb9f3a"
             ],
             [
              0.8888888888888888,
              "#fdca26"
             ],
             [
              1,
              "#f0f921"
             ]
            ],
            "type": "histogram2d"
           }
          ],
          "histogram2dcontour": [
           {
            "colorbar": {
             "outlinewidth": 0,
             "ticks": ""
            },
            "colorscale": [
             [
              0,
              "#0d0887"
             ],
             [
              0.1111111111111111,
              "#46039f"
             ],
             [
              0.2222222222222222,
              "#7201a8"
             ],
             [
              0.3333333333333333,
              "#9c179e"
             ],
             [
              0.4444444444444444,
              "#bd3786"
             ],
             [
              0.5555555555555556,
              "#d8576b"
             ],
             [
              0.6666666666666666,
              "#ed7953"
             ],
             [
              0.7777777777777778,
              "#fb9f3a"
             ],
             [
              0.8888888888888888,
              "#fdca26"
             ],
             [
              1,
              "#f0f921"
             ]
            ],
            "type": "histogram2dcontour"
           }
          ],
          "mesh3d": [
           {
            "colorbar": {
             "outlinewidth": 0,
             "ticks": ""
            },
            "type": "mesh3d"
           }
          ],
          "parcoords": [
           {
            "line": {
             "colorbar": {
              "outlinewidth": 0,
              "ticks": ""
             }
            },
            "type": "parcoords"
           }
          ],
          "pie": [
           {
            "automargin": true,
            "type": "pie"
           }
          ],
          "scatter": [
           {
            "marker": {
             "colorbar": {
              "outlinewidth": 0,
              "ticks": ""
             }
            },
            "type": "scatter"
           }
          ],
          "scatter3d": [
           {
            "line": {
             "colorbar": {
              "outlinewidth": 0,
              "ticks": ""
             }
            },
            "marker": {
             "colorbar": {
              "outlinewidth": 0,
              "ticks": ""
             }
            },
            "type": "scatter3d"
           }
          ],
          "scattercarpet": [
           {
            "marker": {
             "colorbar": {
              "outlinewidth": 0,
              "ticks": ""
             }
            },
            "type": "scattercarpet"
           }
          ],
          "scattergeo": [
           {
            "marker": {
             "colorbar": {
              "outlinewidth": 0,
              "ticks": ""
             }
            },
            "type": "scattergeo"
           }
          ],
          "scattergl": [
           {
            "marker": {
             "colorbar": {
              "outlinewidth": 0,
              "ticks": ""
             }
            },
            "type": "scattergl"
           }
          ],
          "scattermapbox": [
           {
            "marker": {
             "colorbar": {
              "outlinewidth": 0,
              "ticks": ""
             }
            },
            "type": "scattermapbox"
           }
          ],
          "scatterpolar": [
           {
            "marker": {
             "colorbar": {
              "outlinewidth": 0,
              "ticks": ""
             }
            },
            "type": "scatterpolar"
           }
          ],
          "scatterpolargl": [
           {
            "marker": {
             "colorbar": {
              "outlinewidth": 0,
              "ticks": ""
             }
            },
            "type": "scatterpolargl"
           }
          ],
          "scatterternary": [
           {
            "marker": {
             "colorbar": {
              "outlinewidth": 0,
              "ticks": ""
             }
            },
            "type": "scatterternary"
           }
          ],
          "surface": [
           {
            "colorbar": {
             "outlinewidth": 0,
             "ticks": ""
            },
            "colorscale": [
             [
              0,
              "#0d0887"
             ],
             [
              0.1111111111111111,
              "#46039f"
             ],
             [
              0.2222222222222222,
              "#7201a8"
             ],
             [
              0.3333333333333333,
              "#9c179e"
             ],
             [
              0.4444444444444444,
              "#bd3786"
             ],
             [
              0.5555555555555556,
              "#d8576b"
             ],
             [
              0.6666666666666666,
              "#ed7953"
             ],
             [
              0.7777777777777778,
              "#fb9f3a"
             ],
             [
              0.8888888888888888,
              "#fdca26"
             ],
             [
              1,
              "#f0f921"
             ]
            ],
            "type": "surface"
           }
          ],
          "table": [
           {
            "cells": {
             "fill": {
              "color": "#EBF0F8"
             },
             "line": {
              "color": "white"
             }
            },
            "header": {
             "fill": {
              "color": "#C8D4E3"
             },
             "line": {
              "color": "white"
             }
            },
            "type": "table"
           }
          ]
         },
         "layout": {
          "annotationdefaults": {
           "arrowcolor": "#2a3f5f",
           "arrowhead": 0,
           "arrowwidth": 1
          },
          "autotypenumbers": "strict",
          "coloraxis": {
           "colorbar": {
            "outlinewidth": 0,
            "ticks": ""
           }
          },
          "colorscale": {
           "diverging": [
            [
             0,
             "#8e0152"
            ],
            [
             0.1,
             "#c51b7d"
            ],
            [
             0.2,
             "#de77ae"
            ],
            [
             0.3,
             "#f1b6da"
            ],
            [
             0.4,
             "#fde0ef"
            ],
            [
             0.5,
             "#f7f7f7"
            ],
            [
             0.6,
             "#e6f5d0"
            ],
            [
             0.7,
             "#b8e186"
            ],
            [
             0.8,
             "#7fbc41"
            ],
            [
             0.9,
             "#4d9221"
            ],
            [
             1,
             "#276419"
            ]
           ],
           "sequential": [
            [
             0,
             "#0d0887"
            ],
            [
             0.1111111111111111,
             "#46039f"
            ],
            [
             0.2222222222222222,
             "#7201a8"
            ],
            [
             0.3333333333333333,
             "#9c179e"
            ],
            [
             0.4444444444444444,
             "#bd3786"
            ],
            [
             0.5555555555555556,
             "#d8576b"
            ],
            [
             0.6666666666666666,
             "#ed7953"
            ],
            [
             0.7777777777777778,
             "#fb9f3a"
            ],
            [
             0.8888888888888888,
             "#fdca26"
            ],
            [
             1,
             "#f0f921"
            ]
           ],
           "sequentialminus": [
            [
             0,
             "#0d0887"
            ],
            [
             0.1111111111111111,
             "#46039f"
            ],
            [
             0.2222222222222222,
             "#7201a8"
            ],
            [
             0.3333333333333333,
             "#9c179e"
            ],
            [
             0.4444444444444444,
             "#bd3786"
            ],
            [
             0.5555555555555556,
             "#d8576b"
            ],
            [
             0.6666666666666666,
             "#ed7953"
            ],
            [
             0.7777777777777778,
             "#fb9f3a"
            ],
            [
             0.8888888888888888,
             "#fdca26"
            ],
            [
             1,
             "#f0f921"
            ]
           ]
          },
          "colorway": [
           "#636efa",
           "#EF553B",
           "#00cc96",
           "#ab63fa",
           "#FFA15A",
           "#19d3f3",
           "#FF6692",
           "#B6E880",
           "#FF97FF",
           "#FECB52"
          ],
          "font": {
           "color": "#2a3f5f"
          },
          "geo": {
           "bgcolor": "white",
           "lakecolor": "white",
           "landcolor": "#E5ECF6",
           "showlakes": true,
           "showland": true,
           "subunitcolor": "white"
          },
          "hoverlabel": {
           "align": "left"
          },
          "hovermode": "closest",
          "mapbox": {
           "style": "light"
          },
          "paper_bgcolor": "white",
          "plot_bgcolor": "#E5ECF6",
          "polar": {
           "angularaxis": {
            "gridcolor": "white",
            "linecolor": "white",
            "ticks": ""
           },
           "bgcolor": "#E5ECF6",
           "radialaxis": {
            "gridcolor": "white",
            "linecolor": "white",
            "ticks": ""
           }
          },
          "scene": {
           "xaxis": {
            "backgroundcolor": "#E5ECF6",
            "gridcolor": "white",
            "gridwidth": 2,
            "linecolor": "white",
            "showbackground": true,
            "ticks": "",
            "zerolinecolor": "white"
           },
           "yaxis": {
            "backgroundcolor": "#E5ECF6",
            "gridcolor": "white",
            "gridwidth": 2,
            "linecolor": "white",
            "showbackground": true,
            "ticks": "",
            "zerolinecolor": "white"
           },
           "zaxis": {
            "backgroundcolor": "#E5ECF6",
            "gridcolor": "white",
            "gridwidth": 2,
            "linecolor": "white",
            "showbackground": true,
            "ticks": "",
            "zerolinecolor": "white"
           }
          },
          "shapedefaults": {
           "line": {
            "color": "#2a3f5f"
           }
          },
          "ternary": {
           "aaxis": {
            "gridcolor": "white",
            "linecolor": "white",
            "ticks": ""
           },
           "baxis": {
            "gridcolor": "white",
            "linecolor": "white",
            "ticks": ""
           },
           "bgcolor": "#E5ECF6",
           "caxis": {
            "gridcolor": "white",
            "linecolor": "white",
            "ticks": ""
           }
          },
          "title": {
           "x": 0.05
          },
          "xaxis": {
           "automargin": true,
           "gridcolor": "white",
           "linecolor": "white",
           "ticks": "",
           "title": {
            "standoff": 15
           },
           "zerolinecolor": "white",
           "zerolinewidth": 2
          },
          "yaxis": {
           "automargin": true,
           "gridcolor": "white",
           "linecolor": "white",
           "ticks": "",
           "title": {
            "standoff": 15
           },
           "zerolinecolor": "white",
           "zerolinewidth": 2
          }
         }
        },
        "title": {
         "text": "Pokemon with Different Type of Ability"
        }
       }
      }
     },
     "metadata": {},
     "output_type": "display_data"
    }
   ],
   "source": [
    "pokemon_data1['Ability_Number'] = 1-((pokemon_data1['Ability1']==\"NO INFO\").astype(int)) + 1-((pokemon_data1['Ability2']==\"NO INFO\").astype(int)) + 1-((pokemon_data1['Ability_Hidden']==\"NO INFO\").astype(int))\n",
    "pokemon_data1_temp = pokemon_data1.copy()\n",
    "pokemon_data1_temp[['Ability2','Ability_Hidden']] = pokemon_data1_temp[['Ability2','Ability_Hidden']].fillna(value='NO INFO')\n",
    "pokemon_ability = pokemon_data1_temp.groupby(['Name','Ability_Number'])['Ability1','Ability2','Ability_Hidden'].sum().reset_index().sort_values(by='Name',ascending=False)\n",
    "\n",
    "fig = px.scatter_3d(pokemon_ability, x=\"Ability1\", y=\"Ability2\", z=\"Ability_Hidden\", color=\"Ability_Number\", size=\"Ability_Number\", hover_name=\"Name\",\n",
    "                  symbol=\"Ability_Number\")\n",
    "fig.update_layout(coloraxis_colorbar=dict(\n",
    "    title=\"Ability of Pokemon\",\n",
    "    tickvals=[1,2,3],\n",
    "    ticktext=[\"Ability1\",\"Ability2\",\"Ability_Hidden\"],\n",
    "    lenmode=\"pixels\", len=150,\n",
    "))\n",
    "fig.update_layout(\n",
    "    title='Pokemon with Different Type of Ability',\n",
    "    scene=dict(\n",
    "        xaxis=dict(showticklabels=False, gridcolor='gray'),  # Hide x-axis labels\n",
    "        yaxis=dict(showticklabels=False, gridcolor='gray'),  # Hide y-axis labels\n",
    "        zaxis=dict(showticklabels=False, gridcolor='gray'),  # Hide z-axis labels\n",
    "    )\n",
    ")\n",
    "fig.update_layout(coloraxis_showscale=False)\n",
    "fig.update_layout(\n",
    "    title='Pokemon with Different Type of Ability')\n",
    "fig.show()"
   ]
  },
  {
   "cell_type": "code",
   "execution_count": 204,
   "metadata": {},
   "outputs": [],
   "source": [
    "# stroing the data in a json file to viz it in our website\n",
    "import json\n",
    "import numpy as np\n",
    "\n",
    "# Convert numpy's ndarray to Python list\n",
    "def default(o):\n",
    "    if isinstance(o, np.ndarray):\n",
    "        return o.tolist()\n",
    "    raise TypeError\n",
    "\n",
    "fig_data = fig.to_dict()\n",
    "\n",
    "# Use the default function to replace ndarray\n",
    "with open('data/3dplot.json', 'w') as f:\n",
    "    json.dump(fig_data, f, default=default)\n"
   ]
  },
  {
   "attachments": {},
   "cell_type": "markdown",
   "metadata": {},
   "source": [
    "##### pokemon_data2"
   ]
  },
  {
   "attachments": {},
   "cell_type": "markdown",
   "metadata": {},
   "source": [
    "As we will compute the ***effective power*** of a pokemon, we need the following data:"
   ]
  },
  {
   "cell_type": "code",
   "execution_count": 27,
   "metadata": {},
   "outputs": [
    {
     "data": {
      "text/html": [
       "<div>\n",
       "<style scoped>\n",
       "    .dataframe tbody tr th:only-of-type {\n",
       "        vertical-align: middle;\n",
       "    }\n",
       "\n",
       "    .dataframe tbody tr th {\n",
       "        vertical-align: top;\n",
       "    }\n",
       "\n",
       "    .dataframe thead th {\n",
       "        text-align: right;\n",
       "    }\n",
       "</style>\n",
       "<table border=\"1\" class=\"dataframe\">\n",
       "  <thead>\n",
       "    <tr style=\"text-align: right;\">\n",
       "      <th></th>\n",
       "      <th>HP</th>\n",
       "      <th>Attack</th>\n",
       "      <th>Defense</th>\n",
       "      <th>Special Attack</th>\n",
       "      <th>Special Defense</th>\n",
       "      <th>Speed</th>\n",
       "    </tr>\n",
       "  </thead>\n",
       "  <tbody>\n",
       "    <tr>\n",
       "      <th>count</th>\n",
       "      <td>868.000000</td>\n",
       "      <td>868.000000</td>\n",
       "      <td>868.000000</td>\n",
       "      <td>868.000000</td>\n",
       "      <td>868.000000</td>\n",
       "      <td>868.000000</td>\n",
       "    </tr>\n",
       "    <tr>\n",
       "      <th>mean</th>\n",
       "      <td>69.047235</td>\n",
       "      <td>77.597926</td>\n",
       "      <td>72.746544</td>\n",
       "      <td>71.019585</td>\n",
       "      <td>70.867512</td>\n",
       "      <td>67.084101</td>\n",
       "    </tr>\n",
       "    <tr>\n",
       "      <th>std</th>\n",
       "      <td>26.460370</td>\n",
       "      <td>30.686356</td>\n",
       "      <td>29.958646</td>\n",
       "      <td>31.289154</td>\n",
       "      <td>27.558928</td>\n",
       "      <td>28.485429</td>\n",
       "    </tr>\n",
       "    <tr>\n",
       "      <th>min</th>\n",
       "      <td>1.000000</td>\n",
       "      <td>5.000000</td>\n",
       "      <td>5.000000</td>\n",
       "      <td>10.000000</td>\n",
       "      <td>20.000000</td>\n",
       "      <td>5.000000</td>\n",
       "    </tr>\n",
       "    <tr>\n",
       "      <th>25%</th>\n",
       "      <td>50.000000</td>\n",
       "      <td>55.000000</td>\n",
       "      <td>50.000000</td>\n",
       "      <td>46.000000</td>\n",
       "      <td>50.000000</td>\n",
       "      <td>45.000000</td>\n",
       "    </tr>\n",
       "    <tr>\n",
       "      <th>50%</th>\n",
       "      <td>65.000000</td>\n",
       "      <td>75.000000</td>\n",
       "      <td>70.000000</td>\n",
       "      <td>65.000000</td>\n",
       "      <td>69.000000</td>\n",
       "      <td>65.000000</td>\n",
       "    </tr>\n",
       "    <tr>\n",
       "      <th>75%</th>\n",
       "      <td>80.000000</td>\n",
       "      <td>100.000000</td>\n",
       "      <td>90.000000</td>\n",
       "      <td>92.500000</td>\n",
       "      <td>87.000000</td>\n",
       "      <td>90.000000</td>\n",
       "    </tr>\n",
       "    <tr>\n",
       "      <th>max</th>\n",
       "      <td>255.000000</td>\n",
       "      <td>181.000000</td>\n",
       "      <td>230.000000</td>\n",
       "      <td>180.000000</td>\n",
       "      <td>230.000000</td>\n",
       "      <td>180.000000</td>\n",
       "    </tr>\n",
       "  </tbody>\n",
       "</table>\n",
       "</div>"
      ],
      "text/plain": [
       "               HP      Attack     Defense  Special Attack  Special Defense  \\\n",
       "count  868.000000  868.000000  868.000000      868.000000       868.000000   \n",
       "mean    69.047235   77.597926   72.746544       71.019585        70.867512   \n",
       "std     26.460370   30.686356   29.958646       31.289154        27.558928   \n",
       "min      1.000000    5.000000    5.000000       10.000000        20.000000   \n",
       "25%     50.000000   55.000000   50.000000       46.000000        50.000000   \n",
       "50%     65.000000   75.000000   70.000000       65.000000        69.000000   \n",
       "75%     80.000000  100.000000   90.000000       92.500000        87.000000   \n",
       "max    255.000000  181.000000  230.000000      180.000000       230.000000   \n",
       "\n",
       "            Speed  \n",
       "count  868.000000  \n",
       "mean    67.084101  \n",
       "std     28.485429  \n",
       "min      5.000000  \n",
       "25%     45.000000  \n",
       "50%     65.000000  \n",
       "75%     90.000000  \n",
       "max    180.000000  "
      ]
     },
     "execution_count": 27,
     "metadata": {},
     "output_type": "execute_result"
    }
   ],
   "source": [
    "pokemon_data2_numbers = pokemon_data2[['Name','HP','Attack', 'Defense', 'Special Attack', 'Special Defense', 'Speed']]\n",
    "pokemon_data2_numbers.describe()"
   ]
  },
  {
   "attachments": {},
   "cell_type": "markdown",
   "metadata": {},
   "source": [
    "To examine the frequency of usage of a pokemon by players, we can use the data from the competitive dataset:"
   ]
  },
  {
   "cell_type": "code",
   "execution_count": 28,
   "metadata": {},
   "outputs": [
    {
     "data": {
      "text/plain": [
       "array(['PU', 'LC', 'NU', 'Uber', 'RU', 'NO INFO', 'UUBL', 'UU', 'OU',\n",
       "       'PUBL', 'NUBL', 'RUBL', 'Limbo'], dtype=object)"
      ]
     },
     "execution_count": 28,
     "metadata": {},
     "output_type": "execute_result"
    }
   ],
   "source": [
    "pokemon_data2.Tier.unique()"
   ]
  },
  {
   "attachments": {},
   "cell_type": "markdown",
   "metadata": {},
   "source": [
    "The abilities of a pokemon is also of interest."
   ]
  },
  {
   "cell_type": "code",
   "execution_count": 29,
   "metadata": {},
   "outputs": [
    {
     "data": {
      "text/plain": [
       "295"
      ]
     },
     "execution_count": 29,
     "metadata": {},
     "output_type": "execute_result"
    }
   ],
   "source": [
    "temp = np.append(pokemon_data1.Ability1.unique(),pokemon_data1.Ability2.unique())\n",
    "temp = np.append(temp,pokemon_data1.Ability_Hidden.unique())\n",
    "temp = np.unique(temp)\n",
    "len(temp)"
   ]
  },
  {
   "cell_type": "code",
   "execution_count": 30,
   "metadata": {},
   "outputs": [
    {
     "data": {
      "text/plain": [
       "20                  ['Effect Spore', 'Regenerator']\n",
       "65           ['Defiant', 'Inner Focus', 'Pressure']\n",
       "66                                  ['Beast Boost']\n",
       "104                                 ['Beast Boost']\n",
       "106      ['Healer', 'Natural Cure', 'Serene Grace']\n",
       "128        ['Cute Charm', 'Magic Guard', 'Unaware']\n",
       "228     ['Mold Breaker', 'Sand Force', 'Sand Rush']\n",
       "239                  ['Anticipation', 'Iron Barbs']\n",
       "266                     ['Rough Skin', 'Sand Veil']\n",
       "311           ['Battle Bond', 'Protean', 'Torrent']\n",
       "312                                 ['Battle Bond']\n",
       "332          ['Limber', 'Mold Breaker', 'Unburden']\n",
       "335                                  ['Flash Fire']\n",
       "350                                    ['Magician']\n",
       "369                                ['Serene Grace']\n",
       "381                                 ['Beast Boost']\n",
       "383                                   ['Justified']\n",
       "402                                    ['Teravolt']\n",
       "407                                  ['Intimidate']\n",
       "414                                    ['Levitate']\n",
       "454                                  ['Soul-Heart']\n",
       "460           ['Analytic', 'Magnet Pull', 'Sturdy']\n",
       "463        ['Oblivious', 'Snow Cloak', 'Thick Fat']\n",
       "497                                 ['Synchronize']\n",
       "507                                    ['Disguise']\n",
       "577            ['Drizzle', 'Keen Eye', 'Rain Dish']\n",
       "663                                    ['Levitate']\n",
       "723            ['Keen Eye', 'Sturdy', 'Weak Armor']\n",
       "792    ['Chlorophyll', 'Leaf Guard', 'Regenerator']\n",
       "793                   ['Grassy Surge', 'Telepathy']\n",
       "794                    ['Misty Surge', 'Telepathy']\n",
       "795                 ['Electric Surge', 'Telepathy']\n",
       "796                  ['Psychic Surge', 'Telepathy']\n",
       "815                                 ['Regenerator']\n",
       "820          ['Limber', 'Merciless', 'Regenerator']\n",
       "836                      ['Sand Stream', 'Unnerve']\n",
       "857                                ['Victory Star']\n",
       "866                         ['Flame Body', 'Swarm']\n",
       "906                          ['Pressure', 'Static']\n",
       "915               ['Aura Break', 'Power Construct']\n",
       "Name: Abilities, dtype: object"
      ]
     },
     "execution_count": 30,
     "metadata": {},
     "output_type": "execute_result"
    }
   ],
   "source": [
    "pokemon_data2[pokemon_data2['Tier'] == 'OU'].Abilities"
   ]
  },
  {
   "attachments": {},
   "cell_type": "markdown",
   "metadata": {},
   "source": [
    "##### pokemon_data3"
   ]
  },
  {
   "cell_type": "code",
   "execution_count": 31,
   "metadata": {},
   "outputs": [
    {
     "data": {
      "text/html": [
       "<div>\n",
       "<style scoped>\n",
       "    .dataframe tbody tr th:only-of-type {\n",
       "        vertical-align: middle;\n",
       "    }\n",
       "\n",
       "    .dataframe tbody tr th {\n",
       "        vertical-align: top;\n",
       "    }\n",
       "\n",
       "    .dataframe thead th {\n",
       "        text-align: right;\n",
       "    }\n",
       "</style>\n",
       "<table border=\"1\" class=\"dataframe\">\n",
       "  <thead>\n",
       "    <tr style=\"text-align: right;\">\n",
       "      <th></th>\n",
       "      <th>abilities</th>\n",
       "      <th>against_bug</th>\n",
       "      <th>against_dark</th>\n",
       "      <th>against_dragon</th>\n",
       "      <th>against_electric</th>\n",
       "      <th>against_fairy</th>\n",
       "      <th>against_fight</th>\n",
       "      <th>against_fire</th>\n",
       "      <th>against_flying</th>\n",
       "      <th>against_ghost</th>\n",
       "      <th>...</th>\n",
       "      <th>percentage_male</th>\n",
       "      <th>pokedex_number</th>\n",
       "      <th>sp_attack</th>\n",
       "      <th>sp_defense</th>\n",
       "      <th>speed</th>\n",
       "      <th>type1</th>\n",
       "      <th>type2</th>\n",
       "      <th>weight_kg</th>\n",
       "      <th>generation</th>\n",
       "      <th>is_legendary</th>\n",
       "    </tr>\n",
       "  </thead>\n",
       "  <tbody>\n",
       "    <tr>\n",
       "      <th>0</th>\n",
       "      <td>['Overgrow', 'Chlorophyll']</td>\n",
       "      <td>1.00</td>\n",
       "      <td>1.0</td>\n",
       "      <td>1.0</td>\n",
       "      <td>0.5</td>\n",
       "      <td>0.5</td>\n",
       "      <td>0.5</td>\n",
       "      <td>2.0</td>\n",
       "      <td>2.0</td>\n",
       "      <td>1.0</td>\n",
       "      <td>...</td>\n",
       "      <td>88.1</td>\n",
       "      <td>1</td>\n",
       "      <td>65</td>\n",
       "      <td>65</td>\n",
       "      <td>45</td>\n",
       "      <td>grass</td>\n",
       "      <td>poison</td>\n",
       "      <td>6.9</td>\n",
       "      <td>1</td>\n",
       "      <td>0</td>\n",
       "    </tr>\n",
       "    <tr>\n",
       "      <th>1</th>\n",
       "      <td>['Overgrow', 'Chlorophyll']</td>\n",
       "      <td>1.00</td>\n",
       "      <td>1.0</td>\n",
       "      <td>1.0</td>\n",
       "      <td>0.5</td>\n",
       "      <td>0.5</td>\n",
       "      <td>0.5</td>\n",
       "      <td>2.0</td>\n",
       "      <td>2.0</td>\n",
       "      <td>1.0</td>\n",
       "      <td>...</td>\n",
       "      <td>88.1</td>\n",
       "      <td>2</td>\n",
       "      <td>80</td>\n",
       "      <td>80</td>\n",
       "      <td>60</td>\n",
       "      <td>grass</td>\n",
       "      <td>poison</td>\n",
       "      <td>13.0</td>\n",
       "      <td>1</td>\n",
       "      <td>0</td>\n",
       "    </tr>\n",
       "    <tr>\n",
       "      <th>2</th>\n",
       "      <td>['Overgrow', 'Chlorophyll']</td>\n",
       "      <td>1.00</td>\n",
       "      <td>1.0</td>\n",
       "      <td>1.0</td>\n",
       "      <td>0.5</td>\n",
       "      <td>0.5</td>\n",
       "      <td>0.5</td>\n",
       "      <td>2.0</td>\n",
       "      <td>2.0</td>\n",
       "      <td>1.0</td>\n",
       "      <td>...</td>\n",
       "      <td>88.1</td>\n",
       "      <td>3</td>\n",
       "      <td>122</td>\n",
       "      <td>120</td>\n",
       "      <td>80</td>\n",
       "      <td>grass</td>\n",
       "      <td>poison</td>\n",
       "      <td>100.0</td>\n",
       "      <td>1</td>\n",
       "      <td>0</td>\n",
       "    </tr>\n",
       "    <tr>\n",
       "      <th>3</th>\n",
       "      <td>['Blaze', 'Solar Power']</td>\n",
       "      <td>0.50</td>\n",
       "      <td>1.0</td>\n",
       "      <td>1.0</td>\n",
       "      <td>1.0</td>\n",
       "      <td>0.5</td>\n",
       "      <td>1.0</td>\n",
       "      <td>0.5</td>\n",
       "      <td>1.0</td>\n",
       "      <td>1.0</td>\n",
       "      <td>...</td>\n",
       "      <td>88.1</td>\n",
       "      <td>4</td>\n",
       "      <td>60</td>\n",
       "      <td>50</td>\n",
       "      <td>65</td>\n",
       "      <td>fire</td>\n",
       "      <td>NaN</td>\n",
       "      <td>8.5</td>\n",
       "      <td>1</td>\n",
       "      <td>0</td>\n",
       "    </tr>\n",
       "    <tr>\n",
       "      <th>4</th>\n",
       "      <td>['Blaze', 'Solar Power']</td>\n",
       "      <td>0.50</td>\n",
       "      <td>1.0</td>\n",
       "      <td>1.0</td>\n",
       "      <td>1.0</td>\n",
       "      <td>0.5</td>\n",
       "      <td>1.0</td>\n",
       "      <td>0.5</td>\n",
       "      <td>1.0</td>\n",
       "      <td>1.0</td>\n",
       "      <td>...</td>\n",
       "      <td>88.1</td>\n",
       "      <td>5</td>\n",
       "      <td>80</td>\n",
       "      <td>65</td>\n",
       "      <td>80</td>\n",
       "      <td>fire</td>\n",
       "      <td>NaN</td>\n",
       "      <td>19.0</td>\n",
       "      <td>1</td>\n",
       "      <td>0</td>\n",
       "    </tr>\n",
       "    <tr>\n",
       "      <th>...</th>\n",
       "      <td>...</td>\n",
       "      <td>...</td>\n",
       "      <td>...</td>\n",
       "      <td>...</td>\n",
       "      <td>...</td>\n",
       "      <td>...</td>\n",
       "      <td>...</td>\n",
       "      <td>...</td>\n",
       "      <td>...</td>\n",
       "      <td>...</td>\n",
       "      <td>...</td>\n",
       "      <td>...</td>\n",
       "      <td>...</td>\n",
       "      <td>...</td>\n",
       "      <td>...</td>\n",
       "      <td>...</td>\n",
       "      <td>...</td>\n",
       "      <td>...</td>\n",
       "      <td>...</td>\n",
       "      <td>...</td>\n",
       "      <td>...</td>\n",
       "    </tr>\n",
       "    <tr>\n",
       "      <th>796</th>\n",
       "      <td>['Beast Boost']</td>\n",
       "      <td>0.25</td>\n",
       "      <td>1.0</td>\n",
       "      <td>0.5</td>\n",
       "      <td>2.0</td>\n",
       "      <td>0.5</td>\n",
       "      <td>1.0</td>\n",
       "      <td>2.0</td>\n",
       "      <td>0.5</td>\n",
       "      <td>1.0</td>\n",
       "      <td>...</td>\n",
       "      <td>NaN</td>\n",
       "      <td>797</td>\n",
       "      <td>107</td>\n",
       "      <td>101</td>\n",
       "      <td>61</td>\n",
       "      <td>steel</td>\n",
       "      <td>flying</td>\n",
       "      <td>999.9</td>\n",
       "      <td>7</td>\n",
       "      <td>1</td>\n",
       "    </tr>\n",
       "    <tr>\n",
       "      <th>797</th>\n",
       "      <td>['Beast Boost']</td>\n",
       "      <td>1.00</td>\n",
       "      <td>1.0</td>\n",
       "      <td>0.5</td>\n",
       "      <td>0.5</td>\n",
       "      <td>0.5</td>\n",
       "      <td>2.0</td>\n",
       "      <td>4.0</td>\n",
       "      <td>1.0</td>\n",
       "      <td>1.0</td>\n",
       "      <td>...</td>\n",
       "      <td>NaN</td>\n",
       "      <td>798</td>\n",
       "      <td>59</td>\n",
       "      <td>31</td>\n",
       "      <td>109</td>\n",
       "      <td>grass</td>\n",
       "      <td>steel</td>\n",
       "      <td>0.1</td>\n",
       "      <td>7</td>\n",
       "      <td>1</td>\n",
       "    </tr>\n",
       "    <tr>\n",
       "      <th>798</th>\n",
       "      <td>['Beast Boost']</td>\n",
       "      <td>2.00</td>\n",
       "      <td>0.5</td>\n",
       "      <td>2.0</td>\n",
       "      <td>0.5</td>\n",
       "      <td>4.0</td>\n",
       "      <td>2.0</td>\n",
       "      <td>0.5</td>\n",
       "      <td>1.0</td>\n",
       "      <td>0.5</td>\n",
       "      <td>...</td>\n",
       "      <td>NaN</td>\n",
       "      <td>799</td>\n",
       "      <td>97</td>\n",
       "      <td>53</td>\n",
       "      <td>43</td>\n",
       "      <td>dark</td>\n",
       "      <td>dragon</td>\n",
       "      <td>888.0</td>\n",
       "      <td>7</td>\n",
       "      <td>1</td>\n",
       "    </tr>\n",
       "    <tr>\n",
       "      <th>799</th>\n",
       "      <td>['Prism Armor']</td>\n",
       "      <td>2.00</td>\n",
       "      <td>2.0</td>\n",
       "      <td>1.0</td>\n",
       "      <td>1.0</td>\n",
       "      <td>1.0</td>\n",
       "      <td>0.5</td>\n",
       "      <td>1.0</td>\n",
       "      <td>1.0</td>\n",
       "      <td>2.0</td>\n",
       "      <td>...</td>\n",
       "      <td>NaN</td>\n",
       "      <td>800</td>\n",
       "      <td>127</td>\n",
       "      <td>89</td>\n",
       "      <td>79</td>\n",
       "      <td>psychic</td>\n",
       "      <td>NaN</td>\n",
       "      <td>230.0</td>\n",
       "      <td>7</td>\n",
       "      <td>1</td>\n",
       "    </tr>\n",
       "    <tr>\n",
       "      <th>800</th>\n",
       "      <td>['Soul-Heart']</td>\n",
       "      <td>0.25</td>\n",
       "      <td>0.5</td>\n",
       "      <td>0.0</td>\n",
       "      <td>1.0</td>\n",
       "      <td>0.5</td>\n",
       "      <td>1.0</td>\n",
       "      <td>2.0</td>\n",
       "      <td>0.5</td>\n",
       "      <td>1.0</td>\n",
       "      <td>...</td>\n",
       "      <td>NaN</td>\n",
       "      <td>801</td>\n",
       "      <td>130</td>\n",
       "      <td>115</td>\n",
       "      <td>65</td>\n",
       "      <td>steel</td>\n",
       "      <td>fairy</td>\n",
       "      <td>80.5</td>\n",
       "      <td>7</td>\n",
       "      <td>1</td>\n",
       "    </tr>\n",
       "  </tbody>\n",
       "</table>\n",
       "<p>799 rows × 41 columns</p>\n",
       "</div>"
      ],
      "text/plain": [
       "                       abilities  against_bug  against_dark  against_dragon  \\\n",
       "0    ['Overgrow', 'Chlorophyll']         1.00           1.0             1.0   \n",
       "1    ['Overgrow', 'Chlorophyll']         1.00           1.0             1.0   \n",
       "2    ['Overgrow', 'Chlorophyll']         1.00           1.0             1.0   \n",
       "3       ['Blaze', 'Solar Power']         0.50           1.0             1.0   \n",
       "4       ['Blaze', 'Solar Power']         0.50           1.0             1.0   \n",
       "..                           ...          ...           ...             ...   \n",
       "796              ['Beast Boost']         0.25           1.0             0.5   \n",
       "797              ['Beast Boost']         1.00           1.0             0.5   \n",
       "798              ['Beast Boost']         2.00           0.5             2.0   \n",
       "799              ['Prism Armor']         2.00           2.0             1.0   \n",
       "800               ['Soul-Heart']         0.25           0.5             0.0   \n",
       "\n",
       "     against_electric  against_fairy  against_fight  against_fire  \\\n",
       "0                 0.5            0.5            0.5           2.0   \n",
       "1                 0.5            0.5            0.5           2.0   \n",
       "2                 0.5            0.5            0.5           2.0   \n",
       "3                 1.0            0.5            1.0           0.5   \n",
       "4                 1.0            0.5            1.0           0.5   \n",
       "..                ...            ...            ...           ...   \n",
       "796               2.0            0.5            1.0           2.0   \n",
       "797               0.5            0.5            2.0           4.0   \n",
       "798               0.5            4.0            2.0           0.5   \n",
       "799               1.0            1.0            0.5           1.0   \n",
       "800               1.0            0.5            1.0           2.0   \n",
       "\n",
       "     against_flying  against_ghost  ...  percentage_male  pokedex_number  \\\n",
       "0               2.0            1.0  ...             88.1               1   \n",
       "1               2.0            1.0  ...             88.1               2   \n",
       "2               2.0            1.0  ...             88.1               3   \n",
       "3               1.0            1.0  ...             88.1               4   \n",
       "4               1.0            1.0  ...             88.1               5   \n",
       "..              ...            ...  ...              ...             ...   \n",
       "796             0.5            1.0  ...              NaN             797   \n",
       "797             1.0            1.0  ...              NaN             798   \n",
       "798             1.0            0.5  ...              NaN             799   \n",
       "799             1.0            2.0  ...              NaN             800   \n",
       "800             0.5            1.0  ...              NaN             801   \n",
       "\n",
       "     sp_attack  sp_defense  speed    type1   type2  weight_kg  generation  \\\n",
       "0           65          65     45    grass  poison        6.9           1   \n",
       "1           80          80     60    grass  poison       13.0           1   \n",
       "2          122         120     80    grass  poison      100.0           1   \n",
       "3           60          50     65     fire     NaN        8.5           1   \n",
       "4           80          65     80     fire     NaN       19.0           1   \n",
       "..         ...         ...    ...      ...     ...        ...         ...   \n",
       "796        107         101     61    steel  flying      999.9           7   \n",
       "797         59          31    109    grass   steel        0.1           7   \n",
       "798         97          53     43     dark  dragon      888.0           7   \n",
       "799        127          89     79  psychic     NaN      230.0           7   \n",
       "800        130         115     65    steel   fairy       80.5           7   \n",
       "\n",
       "     is_legendary  \n",
       "0               0  \n",
       "1               0  \n",
       "2               0  \n",
       "3               0  \n",
       "4               0  \n",
       "..            ...  \n",
       "796             1  \n",
       "797             1  \n",
       "798             1  \n",
       "799             1  \n",
       "800             1  \n",
       "\n",
       "[799 rows x 41 columns]"
      ]
     },
     "execution_count": 31,
     "metadata": {},
     "output_type": "execute_result"
    }
   ],
   "source": [
    "pokemon_data3"
   ]
  },
  {
   "attachments": {},
   "cell_type": "markdown",
   "metadata": {},
   "source": [
    "#### Data Analysis"
   ]
  },
  {
   "attachments": {},
   "cell_type": "markdown",
   "metadata": {},
   "source": [
    "##### Milestone 2 & 3: Haolong: Good ability recommendation"
   ]
  },
  {
   "cell_type": "code",
   "execution_count": 32,
   "metadata": {},
   "outputs": [],
   "source": [
    "# Loading the data\n",
    "comp_df = pd.read_csv(data_folder + \"pokemon_data2_clean.csv\")"
   ]
  },
  {
   "cell_type": "code",
   "execution_count": 33,
   "metadata": {},
   "outputs": [
    {
     "data": {
      "text/html": [
       "<div>\n",
       "<style scoped>\n",
       "    .dataframe tbody tr th:only-of-type {\n",
       "        vertical-align: middle;\n",
       "    }\n",
       "\n",
       "    .dataframe tbody tr th {\n",
       "        vertical-align: top;\n",
       "    }\n",
       "\n",
       "    .dataframe thead th {\n",
       "        text-align: right;\n",
       "    }\n",
       "</style>\n",
       "<table border=\"1\" class=\"dataframe\">\n",
       "  <thead>\n",
       "    <tr style=\"text-align: right;\">\n",
       "      <th></th>\n",
       "      <th>Name</th>\n",
       "      <th>Types</th>\n",
       "      <th>Abilities</th>\n",
       "      <th>Tier</th>\n",
       "      <th>HP</th>\n",
       "      <th>Attack</th>\n",
       "      <th>Defense</th>\n",
       "      <th>Special Attack</th>\n",
       "      <th>Special Defense</th>\n",
       "      <th>Speed</th>\n",
       "      <th>Next Evolution(s)</th>\n",
       "      <th>Moves</th>\n",
       "    </tr>\n",
       "  </thead>\n",
       "  <tbody>\n",
       "    <tr>\n",
       "      <th>14</th>\n",
       "      <td>Amoonguss</td>\n",
       "      <td>['Grass', 'Poison']</td>\n",
       "      <td>['Effect Spore', 'Regenerator']</td>\n",
       "      <td>OU</td>\n",
       "      <td>114</td>\n",
       "      <td>85</td>\n",
       "      <td>70</td>\n",
       "      <td>85</td>\n",
       "      <td>80</td>\n",
       "      <td>30</td>\n",
       "      <td>[]</td>\n",
       "      <td>['Absorb', 'Growth', 'Astonish', 'Bide', 'Grow...</td>\n",
       "    </tr>\n",
       "    <tr>\n",
       "      <th>55</th>\n",
       "      <td>Bisharp</td>\n",
       "      <td>['Dark', 'Steel']</td>\n",
       "      <td>['Defiant', 'Inner Focus', 'Pressure']</td>\n",
       "      <td>OU</td>\n",
       "      <td>65</td>\n",
       "      <td>125</td>\n",
       "      <td>100</td>\n",
       "      <td>60</td>\n",
       "      <td>70</td>\n",
       "      <td>70</td>\n",
       "      <td>[]</td>\n",
       "      <td>['Guillotine', 'Iron Head', 'Metal Burst', 'Sc...</td>\n",
       "    </tr>\n",
       "    <tr>\n",
       "      <th>56</th>\n",
       "      <td>Blacephalon</td>\n",
       "      <td>['Fire', 'Ghost']</td>\n",
       "      <td>['Beast Boost']</td>\n",
       "      <td>OU</td>\n",
       "      <td>53</td>\n",
       "      <td>127</td>\n",
       "      <td>53</td>\n",
       "      <td>151</td>\n",
       "      <td>79</td>\n",
       "      <td>107</td>\n",
       "      <td>[]</td>\n",
       "      <td>['Ember', 'Astonish', 'Magic Coat', 'Stored Po...</td>\n",
       "    </tr>\n",
       "    <tr>\n",
       "      <th>91</th>\n",
       "      <td>Celesteela</td>\n",
       "      <td>['Steel', 'Flying']</td>\n",
       "      <td>['Beast Boost']</td>\n",
       "      <td>OU</td>\n",
       "      <td>97</td>\n",
       "      <td>101</td>\n",
       "      <td>103</td>\n",
       "      <td>107</td>\n",
       "      <td>101</td>\n",
       "      <td>61</td>\n",
       "      <td>[]</td>\n",
       "      <td>['Wide Guard', 'Air Slash', 'Ingrain', 'Absorb...</td>\n",
       "    </tr>\n",
       "    <tr>\n",
       "      <th>93</th>\n",
       "      <td>Chansey</td>\n",
       "      <td>['Normal']</td>\n",
       "      <td>['Healer', 'Natural Cure', 'Serene Grace']</td>\n",
       "      <td>OU</td>\n",
       "      <td>250</td>\n",
       "      <td>5</td>\n",
       "      <td>5</td>\n",
       "      <td>35</td>\n",
       "      <td>105</td>\n",
       "      <td>50</td>\n",
       "      <td>['Blissey']</td>\n",
       "      <td>[\"Double'Edge\", 'Defense Curl', 'Pound', 'Grow...</td>\n",
       "    </tr>\n",
       "  </tbody>\n",
       "</table>\n",
       "</div>"
      ],
      "text/plain": [
       "           Name                Types  \\\n",
       "14    Amoonguss  ['Grass', 'Poison']   \n",
       "55      Bisharp    ['Dark', 'Steel']   \n",
       "56  Blacephalon    ['Fire', 'Ghost']   \n",
       "91   Celesteela  ['Steel', 'Flying']   \n",
       "93      Chansey           ['Normal']   \n",
       "\n",
       "                                     Abilities Tier   HP  Attack  Defense  \\\n",
       "14             ['Effect Spore', 'Regenerator']   OU  114      85       70   \n",
       "55      ['Defiant', 'Inner Focus', 'Pressure']   OU   65     125      100   \n",
       "56                             ['Beast Boost']   OU   53     127       53   \n",
       "91                             ['Beast Boost']   OU   97     101      103   \n",
       "93  ['Healer', 'Natural Cure', 'Serene Grace']   OU  250       5        5   \n",
       "\n",
       "    Special Attack  Special Defense  Speed Next Evolution(s)  \\\n",
       "14              85               80     30                []   \n",
       "55              60               70     70                []   \n",
       "56             151               79    107                []   \n",
       "91             107              101     61                []   \n",
       "93              35              105     50       ['Blissey']   \n",
       "\n",
       "                                                Moves  \n",
       "14  ['Absorb', 'Growth', 'Astonish', 'Bide', 'Grow...  \n",
       "55  ['Guillotine', 'Iron Head', 'Metal Burst', 'Sc...  \n",
       "56  ['Ember', 'Astonish', 'Magic Coat', 'Stored Po...  \n",
       "91  ['Wide Guard', 'Air Slash', 'Ingrain', 'Absorb...  \n",
       "93  [\"Double'Edge\", 'Defense Curl', 'Pound', 'Grow...  "
      ]
     },
     "execution_count": 33,
     "metadata": {},
     "output_type": "execute_result"
    }
   ],
   "source": [
    "comp_df_OU = comp_df[comp_df['Tier'] == 'OU']\n",
    "comp_df_OU.head()"
   ]
  },
  {
   "cell_type": "code",
   "execution_count": 34,
   "metadata": {},
   "outputs": [],
   "source": [
    "comp_df_OU['Abilities'] = comp_df_OU['Abilities'].apply(lambda x: x.replace(\"[\",\"\"))\n",
    "comp_df_OU['Abilities'] = comp_df_OU['Abilities'].apply(lambda x: x.replace(\"]\",\"\"))"
   ]
  },
  {
   "cell_type": "code",
   "execution_count": 35,
   "metadata": {},
   "outputs": [],
   "source": [
    "from collections import Counter\n",
    "def count_abilities(df, column_name):\n",
    "    all_abilities = []\n",
    "    for abilities in df[column_name]:\n",
    "        split_abilities = abilities.split(', ')\n",
    "        all_abilities.extend(split_abilities)\n",
    "    return Counter(all_abilities)"
   ]
  },
  {
   "cell_type": "code",
   "execution_count": 185,
   "metadata": {},
   "outputs": [],
   "source": [
    "counter_abli = count_abilities(comp_df_OU, 'Abilities')\n",
    "\n",
    "\n",
    "\n",
    "abi_df = pd.DataFrame(counter_abli.items(), columns=['Ability', 'Count'])\n",
    "\n",
    "abi_df.sort_values(by='Count', ascending=False, inplace=True)\n",
    "\n",
    "abi_df['Ability'] = abi_df.Ability.apply(lambda x: x.replace(\"'\",\"\"))"
   ]
  },
  {
   "cell_type": "code",
   "execution_count": 187,
   "metadata": {},
   "outputs": [],
   "source": [
    "abi_df.to_csv(data_folder + \"top_abilities.csv\", index=False)"
   ]
  },
  {
   "cell_type": "code",
   "execution_count": 96,
   "metadata": {},
   "outputs": [],
   "source": [
    "filtered_abi = abi_df[:10].Ability.apply(lambda x: str(x[1:-1])).to_list()"
   ]
  },
  {
   "cell_type": "code",
   "execution_count": 93,
   "metadata": {},
   "outputs": [],
   "source": [
    "pokemons = pd.read_csv(data_folder + \"pokemon_data1_clean.csv\")\n",
    "pokemons['Ability_Number'] = 1-((pokemon_data1['Ability1']==\"NO INFO\").astype(int)) + 1-((pokemon_data1['Ability2']==\"NO INFO\").astype(int)) + 1-((pokemon_data1['Ability_Hidden']==\"NO INFO\").astype(int))\n",
    "pokemon_ability = pokemons.groupby(['Name','Ability_Number'])['Ability1','Ability2','Ability_Hidden'].sum().reset_index().sort_values(by='Name',ascending=False)\n",
    "filtered_df = pokemon_ability[(pokemon_ability['Ability1'].isin(filtered_abi)) | (pokemon_ability['Ability2'].isin(filtered_abi)) | (pokemon_ability['Ability_Hidden'].isin(filtered_abi))]"
   ]
  },
  {
   "cell_type": "code",
   "execution_count": 97,
   "metadata": {},
   "outputs": [
    {
     "data": {
      "text/html": [
       "<div>\n",
       "<style scoped>\n",
       "    .dataframe tbody tr th:only-of-type {\n",
       "        vertical-align: middle;\n",
       "    }\n",
       "\n",
       "    .dataframe tbody tr th {\n",
       "        vertical-align: top;\n",
       "    }\n",
       "\n",
       "    .dataframe thead th {\n",
       "        text-align: right;\n",
       "    }\n",
       "</style>\n",
       "<table border=\"1\" class=\"dataframe\">\n",
       "  <thead>\n",
       "    <tr style=\"text-align: right;\">\n",
       "      <th></th>\n",
       "      <th>Name</th>\n",
       "      <th>Ability_Number</th>\n",
       "      <th>Ability1</th>\n",
       "      <th>Ability2</th>\n",
       "      <th>Ability_Hidden</th>\n",
       "    </tr>\n",
       "  </thead>\n",
       "  <tbody>\n",
       "    <tr>\n",
       "      <th>1089</th>\n",
       "      <td>Zygarde Complete Form</td>\n",
       "      <td>1.0</td>\n",
       "      <td>Power Construct</td>\n",
       "      <td>NO INFO</td>\n",
       "      <td>NO INFO</td>\n",
       "    </tr>\n",
       "    <tr>\n",
       "      <th>1088</th>\n",
       "      <td>Zygarde 50% Form</td>\n",
       "      <td>1.0</td>\n",
       "      <td>Aura Break</td>\n",
       "      <td>NO INFO</td>\n",
       "      <td>NO INFO</td>\n",
       "    </tr>\n",
       "    <tr>\n",
       "      <th>1087</th>\n",
       "      <td>Zygarde 10% Form</td>\n",
       "      <td>1.0</td>\n",
       "      <td>Aura Break</td>\n",
       "      <td>NO INFO</td>\n",
       "      <td>NO INFO</td>\n",
       "    </tr>\n",
       "    <tr>\n",
       "      <th>1086</th>\n",
       "      <td>Zweilous</td>\n",
       "      <td>2.0</td>\n",
       "      <td>Hustle</td>\n",
       "      <td>NO INFO</td>\n",
       "      <td>NO INFO</td>\n",
       "    </tr>\n",
       "    <tr>\n",
       "      <th>1085</th>\n",
       "      <td>Zubat</td>\n",
       "      <td>2.0</td>\n",
       "      <td>Inner Focus</td>\n",
       "      <td>NO INFO</td>\n",
       "      <td>Infiltrator</td>\n",
       "    </tr>\n",
       "    <tr>\n",
       "      <th>...</th>\n",
       "      <td>...</td>\n",
       "      <td>...</td>\n",
       "      <td>...</td>\n",
       "      <td>...</td>\n",
       "      <td>...</td>\n",
       "    </tr>\n",
       "    <tr>\n",
       "      <th>4</th>\n",
       "      <td>Aegislash Blade Form</td>\n",
       "      <td>1.0</td>\n",
       "      <td>Stance Change</td>\n",
       "      <td>NO INFO</td>\n",
       "      <td>NO INFO</td>\n",
       "    </tr>\n",
       "    <tr>\n",
       "      <th>3</th>\n",
       "      <td>Accelgor</td>\n",
       "      <td>1.0</td>\n",
       "      <td>Hydration</td>\n",
       "      <td>Sticky Hold</td>\n",
       "      <td>Unburden</td>\n",
       "    </tr>\n",
       "    <tr>\n",
       "      <th>2</th>\n",
       "      <td>Absol</td>\n",
       "      <td>1.0</td>\n",
       "      <td>Pressure</td>\n",
       "      <td>Super Luck</td>\n",
       "      <td>Justified</td>\n",
       "    </tr>\n",
       "    <tr>\n",
       "      <th>1</th>\n",
       "      <td>Abra</td>\n",
       "      <td>3.0</td>\n",
       "      <td>Synchronize</td>\n",
       "      <td>Inner Focus</td>\n",
       "      <td>Magic Guard</td>\n",
       "    </tr>\n",
       "    <tr>\n",
       "      <th>0</th>\n",
       "      <td>Abomasnow</td>\n",
       "      <td>1.0</td>\n",
       "      <td>Snow Warning</td>\n",
       "      <td>NO INFO</td>\n",
       "      <td>Soundproof</td>\n",
       "    </tr>\n",
       "  </tbody>\n",
       "</table>\n",
       "<p>1090 rows × 5 columns</p>\n",
       "</div>"
      ],
      "text/plain": [
       "                       Name  Ability_Number         Ability1     Ability2  \\\n",
       "1089  Zygarde Complete Form             1.0  Power Construct      NO INFO   \n",
       "1088       Zygarde 50% Form             1.0       Aura Break      NO INFO   \n",
       "1087       Zygarde 10% Form             1.0       Aura Break      NO INFO   \n",
       "1086               Zweilous             2.0           Hustle      NO INFO   \n",
       "1085                  Zubat             2.0      Inner Focus      NO INFO   \n",
       "...                     ...             ...              ...          ...   \n",
       "4      Aegislash Blade Form             1.0    Stance Change      NO INFO   \n",
       "3                  Accelgor             1.0        Hydration  Sticky Hold   \n",
       "2                     Absol             1.0         Pressure   Super Luck   \n",
       "1                      Abra             3.0      Synchronize  Inner Focus   \n",
       "0                 Abomasnow             1.0     Snow Warning      NO INFO   \n",
       "\n",
       "     Ability_Hidden  \n",
       "1089        NO INFO  \n",
       "1088        NO INFO  \n",
       "1087        NO INFO  \n",
       "1086        NO INFO  \n",
       "1085    Infiltrator  \n",
       "...             ...  \n",
       "4           NO INFO  \n",
       "3          Unburden  \n",
       "2         Justified  \n",
       "1       Magic Guard  \n",
       "0        Soundproof  \n",
       "\n",
       "[1090 rows x 5 columns]"
      ]
     },
     "execution_count": 97,
     "metadata": {},
     "output_type": "execute_result"
    }
   ],
   "source": [
    "pokemon_ability"
   ]
  },
  {
   "cell_type": "code",
   "execution_count": 113,
   "metadata": {},
   "outputs": [],
   "source": [
    "abi1_df = pokemon_ability['Ability1'].reset_index().groupby('Ability1').count().sort_index()"
   ]
  },
  {
   "cell_type": "code",
   "execution_count": 114,
   "metadata": {},
   "outputs": [],
   "source": [
    "abi2_df = pokemon_ability['Ability2'].reset_index().groupby('Ability2').count().sort_index()"
   ]
  },
  {
   "cell_type": "code",
   "execution_count": 115,
   "metadata": {},
   "outputs": [],
   "source": [
    "abi3_df = pokemon_ability['Ability_Hidden'].reset_index().groupby('Ability_Hidden').count().sort_index()"
   ]
  },
  {
   "cell_type": "code",
   "execution_count": 137,
   "metadata": {},
   "outputs": [
    {
     "data": {
      "text/html": [
       "<div>\n",
       "<style scoped>\n",
       "    .dataframe tbody tr th:only-of-type {\n",
       "        vertical-align: middle;\n",
       "    }\n",
       "\n",
       "    .dataframe tbody tr th {\n",
       "        vertical-align: top;\n",
       "    }\n",
       "\n",
       "    .dataframe thead th {\n",
       "        text-align: right;\n",
       "    }\n",
       "</style>\n",
       "<table border=\"1\" class=\"dataframe\">\n",
       "  <thead>\n",
       "    <tr style=\"text-align: right;\">\n",
       "      <th></th>\n",
       "      <th>Count</th>\n",
       "    </tr>\n",
       "  </thead>\n",
       "  <tbody>\n",
       "    <tr>\n",
       "      <th>Adaptability</th>\n",
       "      <td>13</td>\n",
       "    </tr>\n",
       "    <tr>\n",
       "      <th>Aftermath</th>\n",
       "      <td>9</td>\n",
       "    </tr>\n",
       "    <tr>\n",
       "      <th>Air Lock</th>\n",
       "      <td>1</td>\n",
       "    </tr>\n",
       "    <tr>\n",
       "      <th>Analytic</th>\n",
       "      <td>12</td>\n",
       "    </tr>\n",
       "    <tr>\n",
       "      <th>Anger Point</th>\n",
       "      <td>8</td>\n",
       "    </tr>\n",
       "    <tr>\n",
       "      <th>...</th>\n",
       "      <td>...</td>\n",
       "    </tr>\n",
       "    <tr>\n",
       "      <th>Wind Rider</th>\n",
       "      <td>2</td>\n",
       "    </tr>\n",
       "    <tr>\n",
       "      <th>Wonder Guard</th>\n",
       "      <td>1</td>\n",
       "    </tr>\n",
       "    <tr>\n",
       "      <th>Wonder Skin</th>\n",
       "      <td>5</td>\n",
       "    </tr>\n",
       "    <tr>\n",
       "      <th>Zen Mode</th>\n",
       "      <td>4</td>\n",
       "    </tr>\n",
       "    <tr>\n",
       "      <th>Zero to Hero</th>\n",
       "      <td>2</td>\n",
       "    </tr>\n",
       "  </tbody>\n",
       "</table>\n",
       "<p>300 rows × 1 columns</p>\n",
       "</div>"
      ],
      "text/plain": [
       "              Count\n",
       "Adaptability     13\n",
       "Aftermath         9\n",
       "Air Lock          1\n",
       "Analytic         12\n",
       "Anger Point       8\n",
       "...             ...\n",
       "Wind Rider        2\n",
       "Wonder Guard      1\n",
       "Wonder Skin       5\n",
       "Zen Mode          4\n",
       "Zero to Hero      2\n",
       "\n",
       "[300 rows x 1 columns]"
      ]
     },
     "execution_count": 137,
     "metadata": {},
     "output_type": "execute_result"
    }
   ],
   "source": [
    "import pandas as pd\n",
    "\n",
    "# 首先，将你的三个DataFrame重命名，使它们在合并时具有相同的列名称\n",
    "abi1_df.columns = ['Count']\n",
    "abi2_df.columns = ['Count']\n",
    "abi3_df.columns = ['Count']\n",
    "\n",
    "# 将三个DataFrame合并成一个DataFrame\n",
    "merged_df = pd.concat([abi1_df, abi2_df, abi3_df], axis=0)\n",
    "\n",
    "# 对合并后的DataFrame按ability进行分组，并计算每个ability的计数总和\n",
    "result = merged_df.groupby(merged_df.index).sum()\n",
    "\n",
    "result\n"
   ]
  },
  {
   "cell_type": "code",
   "execution_count": 138,
   "metadata": {},
   "outputs": [],
   "source": [
    "result = result.drop(\"NO INFO\")\n",
    "result = result.reset_index(names = ['Ability'])"
   ]
  },
  {
   "cell_type": "code",
   "execution_count": 164,
   "metadata": {},
   "outputs": [],
   "source": [
    "result = result.sort_values(by='Count', ascending=False)\n",
    "result.to_csv(data_folder + \"ability_count.csv\", index=False)"
   ]
  },
  {
   "cell_type": "code",
   "execution_count": 152,
   "metadata": {},
   "outputs": [
    {
     "data": {
      "text/plain": [
       "<Figure size 1500x1000 with 0 Axes>"
      ]
     },
     "metadata": {},
     "output_type": "display_data"
    },
    {
     "data": {
      "image/png": "[encoded data removed]",
      "text/plain": [
       "<Figure size 640x480 with 1 Axes>"
      ]
     },
     "metadata": {},
     "output_type": "display_data"
    }
   ],
   "source": [
    "import matplotlib.pyplot as plt\n",
    "\n",
    "# 根据 count 绘制条形图\n",
    "plt.figure(figsize=(15, 10)) # 你可以根据需要调整画布的大小\n",
    "result.plot(kind='bar', legend=False)\n",
    "plt.xlabel('Ability')\n",
    "plt.ylabel('Count')\n",
    "plt.title('Ability count')\n",
    "plt.show()\n"
   ]
  },
  {
   "cell_type": "code",
   "execution_count": 190,
   "metadata": {},
   "outputs": [],
   "source": [
    "df = pd.read_csv(data_folder + \"tempdata.csv\")\n",
    "dff = pd.read_csv(data_folder + \"ability_description.csv\")"
   ]
  },
  {
   "cell_type": "code",
   "execution_count": 189,
   "metadata": {},
   "outputs": [
    {
     "data": {
      "text/html": [
       "<div>\n",
       "<style scoped>\n",
       "    .dataframe tbody tr th:only-of-type {\n",
       "        vertical-align: middle;\n",
       "    }\n",
       "\n",
       "    .dataframe tbody tr th {\n",
       "        vertical-align: top;\n",
       "    }\n",
       "\n",
       "    .dataframe thead th {\n",
       "        text-align: right;\n",
       "    }\n",
       "</style>\n",
       "<table border=\"1\" class=\"dataframe\">\n",
       "  <thead>\n",
       "    <tr style=\"text-align: right;\">\n",
       "      <th></th>\n",
       "      <th>Ability</th>\n",
       "      <th>description</th>\n",
       "    </tr>\n",
       "  </thead>\n",
       "  <tbody>\n",
       "    <tr>\n",
       "      <th>0</th>\n",
       "      <td>Telepathy</td>\n",
       "      <td>This Pokemon does not take damage from attacks...</td>\n",
       "    </tr>\n",
       "    <tr>\n",
       "      <th>1</th>\n",
       "      <td>Regenerator</td>\n",
       "      <td>This Pokemon restores 1/3 of its maximum HP, r...</td>\n",
       "    </tr>\n",
       "    <tr>\n",
       "      <th>2</th>\n",
       "      <td>Beast Boost</td>\n",
       "      <td>This Pokemon's highest stat is raised by 1 sta...</td>\n",
       "    </tr>\n",
       "    <tr>\n",
       "      <th>3</th>\n",
       "      <td>Levitate</td>\n",
       "      <td>This Pokemon is immune to Ground-type attacks ...</td>\n",
       "    </tr>\n",
       "    <tr>\n",
       "      <th>4</th>\n",
       "      <td>Keen Eye</td>\n",
       "      <td>Prevents other Pokemon from lowering this Poke...</td>\n",
       "    </tr>\n",
       "    <tr>\n",
       "      <th>5</th>\n",
       "      <td>Sturdy</td>\n",
       "      <td>If this Pokemon is at full HP, it survives one...</td>\n",
       "    </tr>\n",
       "    <tr>\n",
       "      <th>6</th>\n",
       "      <td>Limber</td>\n",
       "      <td>This Pokemon cannot be paralyzed. Gaining this...</td>\n",
       "    </tr>\n",
       "    <tr>\n",
       "      <th>7</th>\n",
       "      <td>Mold Breaker</td>\n",
       "      <td>This Pokemon's moves and their effects ignore ...</td>\n",
       "    </tr>\n",
       "    <tr>\n",
       "      <th>8</th>\n",
       "      <td>Battle Bond</td>\n",
       "      <td>If this Pokemon is a Greninja, its Attack, Spe...</td>\n",
       "    </tr>\n",
       "    <tr>\n",
       "      <th>9</th>\n",
       "      <td>Serene Grace</td>\n",
       "      <td>This Pokemon's moves have their secondary effe...</td>\n",
       "    </tr>\n",
       "    <tr>\n",
       "      <th>10</th>\n",
       "      <td>Pressure</td>\n",
       "      <td>If this Pokemon is the target of an opposing P...</td>\n",
       "    </tr>\n",
       "    <tr>\n",
       "      <th>11</th>\n",
       "      <td>Disguise</td>\n",
       "      <td>If this Pokemon is a Mimikyu, the first hit it...</td>\n",
       "    </tr>\n",
       "    <tr>\n",
       "      <th>12</th>\n",
       "      <td>Leaf Guard</td>\n",
       "      <td>If Sunny Day is active, this Pokemon cannot be...</td>\n",
       "    </tr>\n",
       "    <tr>\n",
       "      <th>13</th>\n",
       "      <td>Synchronize</td>\n",
       "      <td>If another Pokemon burns, paralyzes, poisons, ...</td>\n",
       "    </tr>\n",
       "    <tr>\n",
       "      <th>14</th>\n",
       "      <td>Rain Dish</td>\n",
       "      <td>If Rain Dance is active, this Pokemon restores...</td>\n",
       "    </tr>\n",
       "    <tr>\n",
       "      <th>15</th>\n",
       "      <td>Weak Armor</td>\n",
       "      <td>If a physical attack hits this Pokemon, its De...</td>\n",
       "    </tr>\n",
       "    <tr>\n",
       "      <th>16</th>\n",
       "      <td>Thick Fat</td>\n",
       "      <td>If a Pokemon uses a Fire- or Ice-type attack a...</td>\n",
       "    </tr>\n",
       "    <tr>\n",
       "      <th>17</th>\n",
       "      <td>Snow Cloak</td>\n",
       "      <td>If Snow is active, the accuracy of moves used ...</td>\n",
       "    </tr>\n",
       "    <tr>\n",
       "      <th>18</th>\n",
       "      <td>Chlorophyll</td>\n",
       "      <td>If Sunny Day is active, this Pokemon's Speed i...</td>\n",
       "    </tr>\n",
       "    <tr>\n",
       "      <th>19</th>\n",
       "      <td>Drizzle</td>\n",
       "      <td>On switch-in, this Pokemon summons Rain Dance.</td>\n",
       "    </tr>\n",
       "    <tr>\n",
       "      <th>20</th>\n",
       "      <td>Misty Surge</td>\n",
       "      <td>On switch-in, this Pokemon summons Misty Terrain.</td>\n",
       "    </tr>\n",
       "    <tr>\n",
       "      <th>21</th>\n",
       "      <td>Grassy Surge</td>\n",
       "      <td>On switch-in, this Pokemon summons Grassy Terr...</td>\n",
       "    </tr>\n",
       "    <tr>\n",
       "      <th>22</th>\n",
       "      <td>Electric Surge</td>\n",
       "      <td>On switch-in, this Pokemon summons Electric Te...</td>\n",
       "    </tr>\n",
       "    <tr>\n",
       "      <th>23</th>\n",
       "      <td>Psychic Surge</td>\n",
       "      <td>On switch-in, this Pokemon summons Psychic Ter...</td>\n",
       "    </tr>\n",
       "    <tr>\n",
       "      <th>24</th>\n",
       "      <td>Merciless</td>\n",
       "      <td>This Pokemon's attacks are critical hits if th...</td>\n",
       "    </tr>\n",
       "    <tr>\n",
       "      <th>25</th>\n",
       "      <td>Sand Stream</td>\n",
       "      <td>On switch-in, this Pokemon summons Sandstorm.</td>\n",
       "    </tr>\n",
       "    <tr>\n",
       "      <th>26</th>\n",
       "      <td>Unnerve</td>\n",
       "      <td>While this Pokemon is active, it prevents oppo...</td>\n",
       "    </tr>\n",
       "    <tr>\n",
       "      <th>27</th>\n",
       "      <td>Victory Star</td>\n",
       "      <td>This Pokemon and its allies' moves have their ...</td>\n",
       "    </tr>\n",
       "    <tr>\n",
       "      <th>28</th>\n",
       "      <td>Flame Body</td>\n",
       "      <td>30% chance a Pokemon making contact with this ...</td>\n",
       "    </tr>\n",
       "    <tr>\n",
       "      <th>29</th>\n",
       "      <td>Swarm</td>\n",
       "      <td>When this Pokemon has 1/3 or less of its maxim...</td>\n",
       "    </tr>\n",
       "    <tr>\n",
       "      <th>30</th>\n",
       "      <td>Static</td>\n",
       "      <td>30% chance a Pokemon making contact with this ...</td>\n",
       "    </tr>\n",
       "    <tr>\n",
       "      <th>31</th>\n",
       "      <td>Aura Break</td>\n",
       "      <td>While this Pokemon is active, the effects of t...</td>\n",
       "    </tr>\n",
       "    <tr>\n",
       "      <th>32</th>\n",
       "      <td>Oblivious</td>\n",
       "      <td>This Pokemon cannot be infatuated or taunted. ...</td>\n",
       "    </tr>\n",
       "    <tr>\n",
       "      <th>33</th>\n",
       "      <td>Effect Spore</td>\n",
       "      <td>30% chance a Pokemon making contact with this ...</td>\n",
       "    </tr>\n",
       "    <tr>\n",
       "      <th>34</th>\n",
       "      <td>Magnet Pull</td>\n",
       "      <td>Prevents opposing Steel-type Pokemon from choo...</td>\n",
       "    </tr>\n",
       "    <tr>\n",
       "      <th>35</th>\n",
       "      <td>Iron Barbs</td>\n",
       "      <td>Pokemon making contact with this Pokemon lose ...</td>\n",
       "    </tr>\n",
       "    <tr>\n",
       "      <th>36</th>\n",
       "      <td>Defiant</td>\n",
       "      <td>This Pokemon's Attack is raised by 2 stages fo...</td>\n",
       "    </tr>\n",
       "    <tr>\n",
       "      <th>37</th>\n",
       "      <td>Inner Focus</td>\n",
       "      <td>This Pokemon cannot be made to flinch. This Po...</td>\n",
       "    </tr>\n",
       "    <tr>\n",
       "      <th>38</th>\n",
       "      <td>Healer</td>\n",
       "      <td>30% chance this Pokemon's ally has its non-vol...</td>\n",
       "    </tr>\n",
       "    <tr>\n",
       "      <th>39</th>\n",
       "      <td>Natural Cure</td>\n",
       "      <td>This Pokemon has its non-volatile status condi...</td>\n",
       "    </tr>\n",
       "    <tr>\n",
       "      <th>40</th>\n",
       "      <td>Cute Charm</td>\n",
       "      <td>There is a 30% chance a Pokemon making contact...</td>\n",
       "    </tr>\n",
       "    <tr>\n",
       "      <th>41</th>\n",
       "      <td>Magic Guard</td>\n",
       "      <td>This Pokemon can only be damaged by direct att...</td>\n",
       "    </tr>\n",
       "    <tr>\n",
       "      <th>42</th>\n",
       "      <td>Unaware</td>\n",
       "      <td>This Pokemon ignores other Pokemon's Attack, S...</td>\n",
       "    </tr>\n",
       "    <tr>\n",
       "      <th>43</th>\n",
       "      <td>Sand Force</td>\n",
       "      <td>If Sandstorm is active, this Pokemon's Ground-...</td>\n",
       "    </tr>\n",
       "    <tr>\n",
       "      <th>44</th>\n",
       "      <td>Sand Rush</td>\n",
       "      <td>If Sandstorm is active, this Pokemon's Speed i...</td>\n",
       "    </tr>\n",
       "    <tr>\n",
       "      <th>45</th>\n",
       "      <td>Anticipation</td>\n",
       "      <td>On switch-in, this Pokemon is alerted if any o...</td>\n",
       "    </tr>\n",
       "    <tr>\n",
       "      <th>46</th>\n",
       "      <td>Rough Skin</td>\n",
       "      <td>Pokemon making contact with this Pokemon lose ...</td>\n",
       "    </tr>\n",
       "    <tr>\n",
       "      <th>47</th>\n",
       "      <td>Analytic</td>\n",
       "      <td>The power of this Pokemon's move is multiplied...</td>\n",
       "    </tr>\n",
       "    <tr>\n",
       "      <th>48</th>\n",
       "      <td>Sand Veil</td>\n",
       "      <td>If Sandstorm is active, the accuracy of moves ...</td>\n",
       "    </tr>\n",
       "    <tr>\n",
       "      <th>49</th>\n",
       "      <td>Protean</td>\n",
       "      <td>This Pokemon's type changes to match the type ...</td>\n",
       "    </tr>\n",
       "    <tr>\n",
       "      <th>50</th>\n",
       "      <td>Torrent</td>\n",
       "      <td>When this Pokemon has 1/3 or less of its maxim...</td>\n",
       "    </tr>\n",
       "    <tr>\n",
       "      <th>51</th>\n",
       "      <td>Unburden</td>\n",
       "      <td>If this Pokemon loses its held item for any re...</td>\n",
       "    </tr>\n",
       "    <tr>\n",
       "      <th>52</th>\n",
       "      <td>Flash Fire</td>\n",
       "      <td>This Pokemon is immune to Fire-type moves. The...</td>\n",
       "    </tr>\n",
       "    <tr>\n",
       "      <th>53</th>\n",
       "      <td>Magician</td>\n",
       "      <td>If this Pokemon has no item, it steals the ite...</td>\n",
       "    </tr>\n",
       "    <tr>\n",
       "      <th>54</th>\n",
       "      <td>Justified</td>\n",
       "      <td>This Pokemon's Attack is raised by 1 stage aft...</td>\n",
       "    </tr>\n",
       "    <tr>\n",
       "      <th>55</th>\n",
       "      <td>Teravolt</td>\n",
       "      <td>This Pokemon's moves and their effects ignore ...</td>\n",
       "    </tr>\n",
       "    <tr>\n",
       "      <th>56</th>\n",
       "      <td>Intimidate</td>\n",
       "      <td>On switch-in, this Pokemon lowers the Attack o...</td>\n",
       "    </tr>\n",
       "    <tr>\n",
       "      <th>57</th>\n",
       "      <td>Soul-Heart</td>\n",
       "      <td>This Pokemon's Special Attack is raised by 1 s...</td>\n",
       "    </tr>\n",
       "    <tr>\n",
       "      <th>58</th>\n",
       "      <td>Power Construct</td>\n",
       "      <td>If this Pokemon is a Zygarde in its 10% or 50%...</td>\n",
       "    </tr>\n",
       "  </tbody>\n",
       "</table>\n",
       "</div>"
      ],
      "text/plain": [
       "            Ability                                        description\n",
       "0         Telepathy  This Pokemon does not take damage from attacks...\n",
       "1       Regenerator  This Pokemon restores 1/3 of its maximum HP, r...\n",
       "2       Beast Boost  This Pokemon's highest stat is raised by 1 sta...\n",
       "3          Levitate  This Pokemon is immune to Ground-type attacks ...\n",
       "4          Keen Eye  Prevents other Pokemon from lowering this Poke...\n",
       "5            Sturdy  If this Pokemon is at full HP, it survives one...\n",
       "6            Limber  This Pokemon cannot be paralyzed. Gaining this...\n",
       "7      Mold Breaker  This Pokemon's moves and their effects ignore ...\n",
       "8       Battle Bond  If this Pokemon is a Greninja, its Attack, Spe...\n",
       "9      Serene Grace  This Pokemon's moves have their secondary effe...\n",
       "10         Pressure  If this Pokemon is the target of an opposing P...\n",
       "11         Disguise  If this Pokemon is a Mimikyu, the first hit it...\n",
       "12       Leaf Guard  If Sunny Day is active, this Pokemon cannot be...\n",
       "13      Synchronize  If another Pokemon burns, paralyzes, poisons, ...\n",
       "14        Rain Dish  If Rain Dance is active, this Pokemon restores...\n",
       "15       Weak Armor  If a physical attack hits this Pokemon, its De...\n",
       "16        Thick Fat  If a Pokemon uses a Fire- or Ice-type attack a...\n",
       "17       Snow Cloak  If Snow is active, the accuracy of moves used ...\n",
       "18      Chlorophyll  If Sunny Day is active, this Pokemon's Speed i...\n",
       "19          Drizzle     On switch-in, this Pokemon summons Rain Dance.\n",
       "20      Misty Surge  On switch-in, this Pokemon summons Misty Terrain.\n",
       "21     Grassy Surge  On switch-in, this Pokemon summons Grassy Terr...\n",
       "22   Electric Surge  On switch-in, this Pokemon summons Electric Te...\n",
       "23    Psychic Surge  On switch-in, this Pokemon summons Psychic Ter...\n",
       "24        Merciless  This Pokemon's attacks are critical hits if th...\n",
       "25      Sand Stream      On switch-in, this Pokemon summons Sandstorm.\n",
       "26          Unnerve  While this Pokemon is active, it prevents oppo...\n",
       "27     Victory Star  This Pokemon and its allies' moves have their ...\n",
       "28       Flame Body  30% chance a Pokemon making contact with this ...\n",
       "29            Swarm  When this Pokemon has 1/3 or less of its maxim...\n",
       "30           Static  30% chance a Pokemon making contact with this ...\n",
       "31       Aura Break  While this Pokemon is active, the effects of t...\n",
       "32        Oblivious  This Pokemon cannot be infatuated or taunted. ...\n",
       "33     Effect Spore  30% chance a Pokemon making contact with this ...\n",
       "34      Magnet Pull  Prevents opposing Steel-type Pokemon from choo...\n",
       "35       Iron Barbs  Pokemon making contact with this Pokemon lose ...\n",
       "36          Defiant  This Pokemon's Attack is raised by 2 stages fo...\n",
       "37      Inner Focus  This Pokemon cannot be made to flinch. This Po...\n",
       "38           Healer  30% chance this Pokemon's ally has its non-vol...\n",
       "39     Natural Cure  This Pokemon has its non-volatile status condi...\n",
       "40       Cute Charm  There is a 30% chance a Pokemon making contact...\n",
       "41      Magic Guard  This Pokemon can only be damaged by direct att...\n",
       "42          Unaware  This Pokemon ignores other Pokemon's Attack, S...\n",
       "43       Sand Force  If Sandstorm is active, this Pokemon's Ground-...\n",
       "44        Sand Rush  If Sandstorm is active, this Pokemon's Speed i...\n",
       "45     Anticipation  On switch-in, this Pokemon is alerted if any o...\n",
       "46       Rough Skin  Pokemon making contact with this Pokemon lose ...\n",
       "47         Analytic  The power of this Pokemon's move is multiplied...\n",
       "48        Sand Veil  If Sandstorm is active, the accuracy of moves ...\n",
       "49          Protean  This Pokemon's type changes to match the type ...\n",
       "50          Torrent  When this Pokemon has 1/3 or less of its maxim...\n",
       "51         Unburden  If this Pokemon loses its held item for any re...\n",
       "52       Flash Fire  This Pokemon is immune to Fire-type moves. The...\n",
       "53         Magician  If this Pokemon has no item, it steals the ite...\n",
       "54        Justified  This Pokemon's Attack is raised by 1 stage aft...\n",
       "55         Teravolt  This Pokemon's moves and their effects ignore ...\n",
       "56       Intimidate  On switch-in, this Pokemon lowers the Attack o...\n",
       "57       Soul-Heart  This Pokemon's Special Attack is raised by 1 s...\n",
       "58  Power Construct  If this Pokemon is a Zygarde in its 10% or 50%..."
      ]
     },
     "execution_count": 189,
     "metadata": {},
     "output_type": "execute_result"
    }
   ],
   "source": [
    "df['description'] = df.description.apply(lambda x: )"
   ]
  },
  {
   "cell_type": "code",
   "execution_count": null,
   "metadata": {},
   "outputs": [],
   "source": []
  }
 ],
 "metadata": {
  "kernelspec": {
   "display_name": "adaexam",
   "language": "python",
   "name": "adaexam"
  },
  "language_info": {
   "codemirror_mode": {
    "name": "ipython",
    "version": 3
   },
   "file_extension": ".py",
   "mimetype": "text/x-python",
   "name": "python",
   "nbconvert_exporter": "python",
   "pygments_lexer": "ipython3",
   "version": "3.9.7"
  }
 },
 "nbformat": 4,
 "nbformat_minor": 1
}
